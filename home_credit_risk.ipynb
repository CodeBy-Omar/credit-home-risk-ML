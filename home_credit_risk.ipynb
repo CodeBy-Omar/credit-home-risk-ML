{
  "cells": [
    {
      "cell_type": "markdown",
      "metadata": {
        "id": "view-in-github",
        "colab_type": "text"
      },
      "source": [
        "<a href=\"https://colab.research.google.com/github/CodeBy-Omar/credit-home-risk-ML/blob/main/home_credit_risk.ipynb\" target=\"_parent\"><img src=\"https://colab.research.google.com/assets/colab-badge.svg\" alt=\"Open In Colab\"/></a>"
      ]
    },
    {
      "cell_type": "code",
      "execution_count": 17,
      "metadata": {
        "id": "RfTA8i9nkCVN",
        "colab": {
          "base_uri": "https://localhost:8080/"
        },
        "outputId": "9eb7d6dc-d087-47ed-c289-2b87a3395c85"
      },
      "outputs": [
        {
          "output_type": "stream",
          "name": "stdout",
          "text": [
            "Requirement already satisfied: lightgbm in /usr/local/lib/python3.11/dist-packages (4.5.0)\n",
            "Requirement already satisfied: xgboost in /usr/local/lib/python3.11/dist-packages (2.1.4)\n",
            "Requirement already satisfied: catboost in /usr/local/lib/python3.11/dist-packages (1.2.8)\n",
            "Requirement already satisfied: numpy>=1.17.0 in /usr/local/lib/python3.11/dist-packages (from lightgbm) (2.0.2)\n",
            "Requirement already satisfied: scipy in /usr/local/lib/python3.11/dist-packages (from lightgbm) (1.15.3)\n",
            "Requirement already satisfied: nvidia-nccl-cu12 in /usr/local/lib/python3.11/dist-packages (from xgboost) (2.21.5)\n",
            "Requirement already satisfied: graphviz in /usr/local/lib/python3.11/dist-packages (from catboost) (0.21)\n",
            "Requirement already satisfied: matplotlib in /usr/local/lib/python3.11/dist-packages (from catboost) (3.10.0)\n",
            "Requirement already satisfied: pandas>=0.24 in /usr/local/lib/python3.11/dist-packages (from catboost) (2.2.2)\n",
            "Requirement already satisfied: plotly in /usr/local/lib/python3.11/dist-packages (from catboost) (5.24.1)\n",
            "Requirement already satisfied: six in /usr/local/lib/python3.11/dist-packages (from catboost) (1.17.0)\n",
            "Requirement already satisfied: python-dateutil>=2.8.2 in /usr/local/lib/python3.11/dist-packages (from pandas>=0.24->catboost) (2.9.0.post0)\n",
            "Requirement already satisfied: pytz>=2020.1 in /usr/local/lib/python3.11/dist-packages (from pandas>=0.24->catboost) (2025.2)\n",
            "Requirement already satisfied: tzdata>=2022.7 in /usr/local/lib/python3.11/dist-packages (from pandas>=0.24->catboost) (2025.2)\n",
            "Requirement already satisfied: contourpy>=1.0.1 in /usr/local/lib/python3.11/dist-packages (from matplotlib->catboost) (1.3.2)\n",
            "Requirement already satisfied: cycler>=0.10 in /usr/local/lib/python3.11/dist-packages (from matplotlib->catboost) (0.12.1)\n",
            "Requirement already satisfied: fonttools>=4.22.0 in /usr/local/lib/python3.11/dist-packages (from matplotlib->catboost) (4.58.4)\n",
            "Requirement already satisfied: kiwisolver>=1.3.1 in /usr/local/lib/python3.11/dist-packages (from matplotlib->catboost) (1.4.8)\n",
            "Requirement already satisfied: packaging>=20.0 in /usr/local/lib/python3.11/dist-packages (from matplotlib->catboost) (24.2)\n",
            "Requirement already satisfied: pillow>=8 in /usr/local/lib/python3.11/dist-packages (from matplotlib->catboost) (11.2.1)\n",
            "Requirement already satisfied: pyparsing>=2.3.1 in /usr/local/lib/python3.11/dist-packages (from matplotlib->catboost) (3.2.3)\n",
            "Requirement already satisfied: tenacity>=6.2.0 in /usr/local/lib/python3.11/dist-packages (from plotly->catboost) (8.5.0)\n"
          ]
        }
      ],
      "source": [
        "pip install lightgbm xgboost catboost\n"
      ]
    },
    {
      "cell_type": "code",
      "execution_count": 18,
      "metadata": {
        "id": "3_da_XCEXPKc"
      },
      "outputs": [],
      "source": [
        "import pandas as pd\n",
        "import numpy as np\n",
        "import matplotlib.pyplot as plt\n",
        "import seaborn as sns\n",
        "from google.colab import drive\n",
        "import os\n",
        "import glob\n",
        "import lightgbm as lgb\n",
        "from sklearn.model_selection import GridSearchCV, cross_val_score\n",
        "from sklearn.metrics import make_scorer, precision_score, recall_score, f1_score\n",
        "import xgboost as xgb\n",
        "from catboost import CatBoostClassifier\n",
        "from sklearn.model_selection import train_test_split\n",
        "from sklearn.metrics import classification_report, roc_auc_score, confusion_matrix\n",
        "from imblearn.over_sampling import RandomOverSampler\n",
        "\n",
        "\n",
        "\n",
        "\n"
      ]
    },
    {
      "cell_type": "markdown",
      "metadata": {
        "id": "w-LBMI0HXUJu"
      },
      "source": [
        "# Start by reading files form the drive."
      ]
    },
    {
      "cell_type": "code",
      "execution_count": 19,
      "metadata": {
        "id": "dCNk0kitj5yd",
        "colab": {
          "base_uri": "https://localhost:8080/",
          "height": 310
        },
        "outputId": "f107881d-1a4a-431a-b3af-f53765ce900a"
      },
      "outputs": [
        {
          "output_type": "stream",
          "name": "stdout",
          "text": [
            "Drive already mounted at /content/drive; to attempt to forcibly remount, call drive.mount(\"/content/drive\", force_remount=True).\n",
            "Train shape: (307511, 122)\n",
            "Test shape: (48744, 121)\n"
          ]
        },
        {
          "output_type": "execute_result",
          "data": {
            "text/plain": [
              "   SK_ID_CURR  TARGET NAME_CONTRACT_TYPE CODE_GENDER FLAG_OWN_CAR  \\\n",
              "0      100002       1         Cash loans           M            N   \n",
              "1      100003       0         Cash loans           F            N   \n",
              "2      100004       0    Revolving loans           M            Y   \n",
              "3      100006       0         Cash loans           F            N   \n",
              "4      100007       0         Cash loans           M            N   \n",
              "\n",
              "  FLAG_OWN_REALTY  CNT_CHILDREN  AMT_INCOME_TOTAL  AMT_CREDIT  AMT_ANNUITY  \\\n",
              "0               Y             0          202500.0    406597.5      24700.5   \n",
              "1               N             0          270000.0   1293502.5      35698.5   \n",
              "2               Y             0           67500.0    135000.0       6750.0   \n",
              "3               Y             0          135000.0    312682.5      29686.5   \n",
              "4               Y             0          121500.0    513000.0      21865.5   \n",
              "\n",
              "   ...  FLAG_DOCUMENT_18 FLAG_DOCUMENT_19 FLAG_DOCUMENT_20 FLAG_DOCUMENT_21  \\\n",
              "0  ...                 0                0                0                0   \n",
              "1  ...                 0                0                0                0   \n",
              "2  ...                 0                0                0                0   \n",
              "3  ...                 0                0                0                0   \n",
              "4  ...                 0                0                0                0   \n",
              "\n",
              "  AMT_REQ_CREDIT_BUREAU_HOUR AMT_REQ_CREDIT_BUREAU_DAY  \\\n",
              "0                        0.0                       0.0   \n",
              "1                        0.0                       0.0   \n",
              "2                        0.0                       0.0   \n",
              "3                        NaN                       NaN   \n",
              "4                        0.0                       0.0   \n",
              "\n",
              "   AMT_REQ_CREDIT_BUREAU_WEEK  AMT_REQ_CREDIT_BUREAU_MON  \\\n",
              "0                         0.0                        0.0   \n",
              "1                         0.0                        0.0   \n",
              "2                         0.0                        0.0   \n",
              "3                         NaN                        NaN   \n",
              "4                         0.0                        0.0   \n",
              "\n",
              "   AMT_REQ_CREDIT_BUREAU_QRT  AMT_REQ_CREDIT_BUREAU_YEAR  \n",
              "0                        0.0                         1.0  \n",
              "1                        0.0                         0.0  \n",
              "2                        0.0                         0.0  \n",
              "3                        NaN                         NaN  \n",
              "4                        0.0                         0.0  \n",
              "\n",
              "[5 rows x 122 columns]"
            ],
            "text/html": [
              "\n",
              "  <div id=\"df-7bdc2537-a28c-4fef-969c-e723c48ec381\" class=\"colab-df-container\">\n",
              "    <div>\n",
              "<style scoped>\n",
              "    .dataframe tbody tr th:only-of-type {\n",
              "        vertical-align: middle;\n",
              "    }\n",
              "\n",
              "    .dataframe tbody tr th {\n",
              "        vertical-align: top;\n",
              "    }\n",
              "\n",
              "    .dataframe thead th {\n",
              "        text-align: right;\n",
              "    }\n",
              "</style>\n",
              "<table border=\"1\" class=\"dataframe\">\n",
              "  <thead>\n",
              "    <tr style=\"text-align: right;\">\n",
              "      <th></th>\n",
              "      <th>SK_ID_CURR</th>\n",
              "      <th>TARGET</th>\n",
              "      <th>NAME_CONTRACT_TYPE</th>\n",
              "      <th>CODE_GENDER</th>\n",
              "      <th>FLAG_OWN_CAR</th>\n",
              "      <th>FLAG_OWN_REALTY</th>\n",
              "      <th>CNT_CHILDREN</th>\n",
              "      <th>AMT_INCOME_TOTAL</th>\n",
              "      <th>AMT_CREDIT</th>\n",
              "      <th>AMT_ANNUITY</th>\n",
              "      <th>...</th>\n",
              "      <th>FLAG_DOCUMENT_18</th>\n",
              "      <th>FLAG_DOCUMENT_19</th>\n",
              "      <th>FLAG_DOCUMENT_20</th>\n",
              "      <th>FLAG_DOCUMENT_21</th>\n",
              "      <th>AMT_REQ_CREDIT_BUREAU_HOUR</th>\n",
              "      <th>AMT_REQ_CREDIT_BUREAU_DAY</th>\n",
              "      <th>AMT_REQ_CREDIT_BUREAU_WEEK</th>\n",
              "      <th>AMT_REQ_CREDIT_BUREAU_MON</th>\n",
              "      <th>AMT_REQ_CREDIT_BUREAU_QRT</th>\n",
              "      <th>AMT_REQ_CREDIT_BUREAU_YEAR</th>\n",
              "    </tr>\n",
              "  </thead>\n",
              "  <tbody>\n",
              "    <tr>\n",
              "      <th>0</th>\n",
              "      <td>100002</td>\n",
              "      <td>1</td>\n",
              "      <td>Cash loans</td>\n",
              "      <td>M</td>\n",
              "      <td>N</td>\n",
              "      <td>Y</td>\n",
              "      <td>0</td>\n",
              "      <td>202500.0</td>\n",
              "      <td>406597.5</td>\n",
              "      <td>24700.5</td>\n",
              "      <td>...</td>\n",
              "      <td>0</td>\n",
              "      <td>0</td>\n",
              "      <td>0</td>\n",
              "      <td>0</td>\n",
              "      <td>0.0</td>\n",
              "      <td>0.0</td>\n",
              "      <td>0.0</td>\n",
              "      <td>0.0</td>\n",
              "      <td>0.0</td>\n",
              "      <td>1.0</td>\n",
              "    </tr>\n",
              "    <tr>\n",
              "      <th>1</th>\n",
              "      <td>100003</td>\n",
              "      <td>0</td>\n",
              "      <td>Cash loans</td>\n",
              "      <td>F</td>\n",
              "      <td>N</td>\n",
              "      <td>N</td>\n",
              "      <td>0</td>\n",
              "      <td>270000.0</td>\n",
              "      <td>1293502.5</td>\n",
              "      <td>35698.5</td>\n",
              "      <td>...</td>\n",
              "      <td>0</td>\n",
              "      <td>0</td>\n",
              "      <td>0</td>\n",
              "      <td>0</td>\n",
              "      <td>0.0</td>\n",
              "      <td>0.0</td>\n",
              "      <td>0.0</td>\n",
              "      <td>0.0</td>\n",
              "      <td>0.0</td>\n",
              "      <td>0.0</td>\n",
              "    </tr>\n",
              "    <tr>\n",
              "      <th>2</th>\n",
              "      <td>100004</td>\n",
              "      <td>0</td>\n",
              "      <td>Revolving loans</td>\n",
              "      <td>M</td>\n",
              "      <td>Y</td>\n",
              "      <td>Y</td>\n",
              "      <td>0</td>\n",
              "      <td>67500.0</td>\n",
              "      <td>135000.0</td>\n",
              "      <td>6750.0</td>\n",
              "      <td>...</td>\n",
              "      <td>0</td>\n",
              "      <td>0</td>\n",
              "      <td>0</td>\n",
              "      <td>0</td>\n",
              "      <td>0.0</td>\n",
              "      <td>0.0</td>\n",
              "      <td>0.0</td>\n",
              "      <td>0.0</td>\n",
              "      <td>0.0</td>\n",
              "      <td>0.0</td>\n",
              "    </tr>\n",
              "    <tr>\n",
              "      <th>3</th>\n",
              "      <td>100006</td>\n",
              "      <td>0</td>\n",
              "      <td>Cash loans</td>\n",
              "      <td>F</td>\n",
              "      <td>N</td>\n",
              "      <td>Y</td>\n",
              "      <td>0</td>\n",
              "      <td>135000.0</td>\n",
              "      <td>312682.5</td>\n",
              "      <td>29686.5</td>\n",
              "      <td>...</td>\n",
              "      <td>0</td>\n",
              "      <td>0</td>\n",
              "      <td>0</td>\n",
              "      <td>0</td>\n",
              "      <td>NaN</td>\n",
              "      <td>NaN</td>\n",
              "      <td>NaN</td>\n",
              "      <td>NaN</td>\n",
              "      <td>NaN</td>\n",
              "      <td>NaN</td>\n",
              "    </tr>\n",
              "    <tr>\n",
              "      <th>4</th>\n",
              "      <td>100007</td>\n",
              "      <td>0</td>\n",
              "      <td>Cash loans</td>\n",
              "      <td>M</td>\n",
              "      <td>N</td>\n",
              "      <td>Y</td>\n",
              "      <td>0</td>\n",
              "      <td>121500.0</td>\n",
              "      <td>513000.0</td>\n",
              "      <td>21865.5</td>\n",
              "      <td>...</td>\n",
              "      <td>0</td>\n",
              "      <td>0</td>\n",
              "      <td>0</td>\n",
              "      <td>0</td>\n",
              "      <td>0.0</td>\n",
              "      <td>0.0</td>\n",
              "      <td>0.0</td>\n",
              "      <td>0.0</td>\n",
              "      <td>0.0</td>\n",
              "      <td>0.0</td>\n",
              "    </tr>\n",
              "  </tbody>\n",
              "</table>\n",
              "<p>5 rows × 122 columns</p>\n",
              "</div>\n",
              "    <div class=\"colab-df-buttons\">\n",
              "      \n",
              "  <div class=\"colab-df-container\">\n",
              "    <button class=\"colab-df-convert\" onclick=\"convertToInteractive('df-7bdc2537-a28c-4fef-969c-e723c48ec381')\"\n",
              "            title=\"Convert this dataframe to an interactive table.\"\n",
              "            style=\"display:none;\">\n",
              "      \n",
              "  <svg xmlns=\"http://www.w3.org/2000/svg\" height=\"24px\" viewBox=\"0 -960 960 960\">\n",
              "    <path d=\"M120-120v-720h720v720H120Zm60-500h600v-160H180v160Zm220 220h160v-160H400v160Zm0 220h160v-160H400v160ZM180-400h160v-160H180v160Zm440 0h160v-160H620v160ZM180-180h160v-160H180v160Zm440 0h160v-160H620v160Z\"/>\n",
              "  </svg>\n",
              "    </button>\n",
              "    \n",
              "  <style>\n",
              "    .colab-df-container {\n",
              "      display:flex;\n",
              "      gap: 12px;\n",
              "    }\n",
              "\n",
              "    .colab-df-convert {\n",
              "      background-color: #E8F0FE;\n",
              "      border: none;\n",
              "      border-radius: 50%;\n",
              "      cursor: pointer;\n",
              "      display: none;\n",
              "      fill: #1967D2;\n",
              "      height: 32px;\n",
              "      padding: 0 0 0 0;\n",
              "      width: 32px;\n",
              "    }\n",
              "\n",
              "    .colab-df-convert:hover {\n",
              "      background-color: #E2EBFA;\n",
              "      box-shadow: 0px 1px 2px rgba(60, 64, 67, 0.3), 0px 1px 3px 1px rgba(60, 64, 67, 0.15);\n",
              "      fill: #174EA6;\n",
              "    }\n",
              "\n",
              "    .colab-df-buttons div {\n",
              "      margin-bottom: 4px;\n",
              "    }\n",
              "\n",
              "    [theme=dark] .colab-df-convert {\n",
              "      background-color: #3B4455;\n",
              "      fill: #D2E3FC;\n",
              "    }\n",
              "\n",
              "    [theme=dark] .colab-df-convert:hover {\n",
              "      background-color: #434B5C;\n",
              "      box-shadow: 0px 1px 3px 1px rgba(0, 0, 0, 0.15);\n",
              "      filter: drop-shadow(0px 1px 2px rgba(0, 0, 0, 0.3));\n",
              "      fill: #FFFFFF;\n",
              "    }\n",
              "  </style>\n",
              "\n",
              "    <script>\n",
              "      const buttonEl =\n",
              "        document.querySelector('#df-7bdc2537-a28c-4fef-969c-e723c48ec381 button.colab-df-convert');\n",
              "      buttonEl.style.display =\n",
              "        google.colab.kernel.accessAllowed ? 'block' : 'none';\n",
              "\n",
              "      async function convertToInteractive(key) {\n",
              "        const element = document.querySelector('#df-7bdc2537-a28c-4fef-969c-e723c48ec381');\n",
              "        const dataTable =\n",
              "          await google.colab.kernel.invokeFunction('convertToInteractive',\n",
              "                                                    [key], {});\n",
              "        if (!dataTable) return;\n",
              "\n",
              "        const docLinkHtml = 'Like what you see? Visit the ' +\n",
              "          '<a target=\"_blank\" href=https://colab.research.google.com/notebooks/data_table.ipynb>data table notebook</a>'\n",
              "          + ' to learn more about interactive tables.';\n",
              "        element.innerHTML = '';\n",
              "        dataTable['output_type'] = 'display_data';\n",
              "        await google.colab.output.renderOutput(dataTable, element);\n",
              "        const docLink = document.createElement('div');\n",
              "        docLink.innerHTML = docLinkHtml;\n",
              "        element.appendChild(docLink);\n",
              "      }\n",
              "    </script>\n",
              "  </div>\n",
              "  \n",
              "    </div>\n",
              "  </div>\n",
              "  "
            ],
            "application/vnd.google.colaboratory.intrinsic+json": {
              "type": "dataframe",
              "variable_name": "df_train"
            }
          },
          "metadata": {},
          "execution_count": 19
        }
      ],
      "source": [
        "drive.mount('/content/drive')\n",
        "folder = '/content/drive/MyDrive/aman task/home-credit-default-risk'\n",
        "df_train = pd.read_csv(f'{folder}/application_train.csv')\n",
        "df_test  = pd.read_csv(f'{folder}/application_test.csv')\n",
        "\n",
        "print(\"Train shape:\", df_train.shape)\n",
        "print(\"Test shape:\", df_test.shape)\n",
        "df_train.head()\n"
      ]
    },
    {
      "cell_type": "markdown",
      "metadata": {
        "id": "fTnohGjrlSyA"
      },
      "source": [
        "insights:\n",
        "- The proportion of the test set to the train set is good enough.\n",
        "- The number of columns is the same, with the train set having one additional column (the target), which is expected."
      ]
    },
    {
      "cell_type": "markdown",
      "metadata": {
        "id": "RS8nEZcOlr7J"
      },
      "source": [
        "Important Notes:\n",
        "- 0 indicates the loan was repaid, while 1 means the loan was not repaid ---> this is very important, as the choice of evaluation metric will depend on this.\n",
        "- This analysis currently uses only the application CSV file. Other files can be added later to enhance the model."
      ]
    },
    {
      "cell_type": "markdown",
      "metadata": {
        "id": "ARxfznWYnHdE"
      },
      "source": [
        "# EDA & Feature Engineering"
      ]
    },
    {
      "cell_type": "markdown",
      "metadata": {
        "id": "FlsYqqW5pKtR"
      },
      "source": [
        "save this as csv file to be bale to see all columns."
      ]
    },
    {
      "cell_type": "code",
      "execution_count": 20,
      "metadata": {
        "id": "yhhC-UIEmtH0"
      },
      "outputs": [],
      "source": [
        "# Total rows in the dataset\n",
        "total_rows = len(df_train)\n",
        "\n",
        "# Get % missing per column and filter > 0\n",
        "missing_percent = (df_train.isna().sum() / total_rows) * 100\n",
        "missing_percent = missing_percent[missing_percent > 0].sort_values(ascending=False)\n",
        "\n",
        "# Save to CSV\n",
        "missing_percent.to_csv('missing_values_summary.csv')\n",
        "\n",
        "\n"
      ]
    },
    {
      "cell_type": "code",
      "execution_count": 21,
      "metadata": {
        "id": "KMJ-k5J8txLX",
        "colab": {
          "base_uri": "https://localhost:8080/",
          "height": 1000
        },
        "outputId": "28527a63-7fcf-47d3-836c-fadf0e1007b1"
      },
      "outputs": [
        {
          "output_type": "execute_result",
          "data": {
            "text/plain": [
              "COMMONAREA_MEDI                 69.872297\n",
              "COMMONAREA_MODE                 69.872297\n",
              "COMMONAREA_AVG                  69.872297\n",
              "NONLIVINGAPARTMENTS_MODE        69.432963\n",
              "NONLIVINGAPARTMENTS_MEDI        69.432963\n",
              "NONLIVINGAPARTMENTS_AVG         69.432963\n",
              "FONDKAPREMONT_MODE              68.386172\n",
              "LIVINGAPARTMENTS_AVG            68.354953\n",
              "LIVINGAPARTMENTS_MEDI           68.354953\n",
              "LIVINGAPARTMENTS_MODE           68.354953\n",
              "FLOORSMIN_MEDI                  67.848630\n",
              "FLOORSMIN_MODE                  67.848630\n",
              "FLOORSMIN_AVG                   67.848630\n",
              "YEARS_BUILD_MODE                66.497784\n",
              "YEARS_BUILD_MEDI                66.497784\n",
              "YEARS_BUILD_AVG                 66.497784\n",
              "OWN_CAR_AGE                     65.990810\n",
              "LANDAREA_AVG                    59.376738\n",
              "LANDAREA_MEDI                   59.376738\n",
              "LANDAREA_MODE                   59.376738\n",
              "BASEMENTAREA_MODE               58.515956\n",
              "BASEMENTAREA_MEDI               58.515956\n",
              "BASEMENTAREA_AVG                58.515956\n",
              "EXT_SOURCE_1                    56.381073\n",
              "NONLIVINGAREA_MEDI              55.179164\n",
              "NONLIVINGAREA_AVG               55.179164\n",
              "NONLIVINGAREA_MODE              55.179164\n",
              "ELEVATORS_MEDI                  53.295980\n",
              "ELEVATORS_MODE                  53.295980\n",
              "ELEVATORS_AVG                   53.295980\n",
              "WALLSMATERIAL_MODE              50.840783\n",
              "APARTMENTS_AVG                  50.749729\n",
              "APARTMENTS_MEDI                 50.749729\n",
              "APARTMENTS_MODE                 50.749729\n",
              "ENTRANCES_MODE                  50.348768\n",
              "ENTRANCES_MEDI                  50.348768\n",
              "ENTRANCES_AVG                   50.348768\n",
              "LIVINGAREA_AVG                  50.193326\n",
              "LIVINGAREA_MODE                 50.193326\n",
              "LIVINGAREA_MEDI                 50.193326\n",
              "HOUSETYPE_MODE                  50.176091\n",
              "FLOORSMAX_AVG                   49.760822\n",
              "FLOORSMAX_MEDI                  49.760822\n",
              "FLOORSMAX_MODE                  49.760822\n",
              "YEARS_BEGINEXPLUATATION_MODE    48.781019\n",
              "YEARS_BEGINEXPLUATATION_MEDI    48.781019\n",
              "YEARS_BEGINEXPLUATATION_AVG     48.781019\n",
              "TOTALAREA_MODE                  48.268517\n",
              "EMERGENCYSTATE_MODE             47.398304\n",
              "OCCUPATION_TYPE                 31.345545\n",
              "EXT_SOURCE_3                    19.825307\n",
              "AMT_REQ_CREDIT_BUREAU_WEEK      13.501631\n",
              "AMT_REQ_CREDIT_BUREAU_MON       13.501631\n",
              "AMT_REQ_CREDIT_BUREAU_HOUR      13.501631\n",
              "AMT_REQ_CREDIT_BUREAU_YEAR      13.501631\n",
              "AMT_REQ_CREDIT_BUREAU_QRT       13.501631\n",
              "AMT_REQ_CREDIT_BUREAU_DAY       13.501631\n",
              "NAME_TYPE_SUITE                  0.420148\n",
              "DEF_30_CNT_SOCIAL_CIRCLE         0.332021\n",
              "DEF_60_CNT_SOCIAL_CIRCLE         0.332021\n",
              "dtype: float64"
            ],
            "text/html": [
              "<div>\n",
              "<style scoped>\n",
              "    .dataframe tbody tr th:only-of-type {\n",
              "        vertical-align: middle;\n",
              "    }\n",
              "\n",
              "    .dataframe tbody tr th {\n",
              "        vertical-align: top;\n",
              "    }\n",
              "\n",
              "    .dataframe thead th {\n",
              "        text-align: right;\n",
              "    }\n",
              "</style>\n",
              "<table border=\"1\" class=\"dataframe\">\n",
              "  <thead>\n",
              "    <tr style=\"text-align: right;\">\n",
              "      <th></th>\n",
              "      <th>0</th>\n",
              "    </tr>\n",
              "  </thead>\n",
              "  <tbody>\n",
              "    <tr>\n",
              "      <th>COMMONAREA_MEDI</th>\n",
              "      <td>69.872297</td>\n",
              "    </tr>\n",
              "    <tr>\n",
              "      <th>COMMONAREA_MODE</th>\n",
              "      <td>69.872297</td>\n",
              "    </tr>\n",
              "    <tr>\n",
              "      <th>COMMONAREA_AVG</th>\n",
              "      <td>69.872297</td>\n",
              "    </tr>\n",
              "    <tr>\n",
              "      <th>NONLIVINGAPARTMENTS_MODE</th>\n",
              "      <td>69.432963</td>\n",
              "    </tr>\n",
              "    <tr>\n",
              "      <th>NONLIVINGAPARTMENTS_MEDI</th>\n",
              "      <td>69.432963</td>\n",
              "    </tr>\n",
              "    <tr>\n",
              "      <th>NONLIVINGAPARTMENTS_AVG</th>\n",
              "      <td>69.432963</td>\n",
              "    </tr>\n",
              "    <tr>\n",
              "      <th>FONDKAPREMONT_MODE</th>\n",
              "      <td>68.386172</td>\n",
              "    </tr>\n",
              "    <tr>\n",
              "      <th>LIVINGAPARTMENTS_AVG</th>\n",
              "      <td>68.354953</td>\n",
              "    </tr>\n",
              "    <tr>\n",
              "      <th>LIVINGAPARTMENTS_MEDI</th>\n",
              "      <td>68.354953</td>\n",
              "    </tr>\n",
              "    <tr>\n",
              "      <th>LIVINGAPARTMENTS_MODE</th>\n",
              "      <td>68.354953</td>\n",
              "    </tr>\n",
              "    <tr>\n",
              "      <th>FLOORSMIN_MEDI</th>\n",
              "      <td>67.848630</td>\n",
              "    </tr>\n",
              "    <tr>\n",
              "      <th>FLOORSMIN_MODE</th>\n",
              "      <td>67.848630</td>\n",
              "    </tr>\n",
              "    <tr>\n",
              "      <th>FLOORSMIN_AVG</th>\n",
              "      <td>67.848630</td>\n",
              "    </tr>\n",
              "    <tr>\n",
              "      <th>YEARS_BUILD_MODE</th>\n",
              "      <td>66.497784</td>\n",
              "    </tr>\n",
              "    <tr>\n",
              "      <th>YEARS_BUILD_MEDI</th>\n",
              "      <td>66.497784</td>\n",
              "    </tr>\n",
              "    <tr>\n",
              "      <th>YEARS_BUILD_AVG</th>\n",
              "      <td>66.497784</td>\n",
              "    </tr>\n",
              "    <tr>\n",
              "      <th>OWN_CAR_AGE</th>\n",
              "      <td>65.990810</td>\n",
              "    </tr>\n",
              "    <tr>\n",
              "      <th>LANDAREA_AVG</th>\n",
              "      <td>59.376738</td>\n",
              "    </tr>\n",
              "    <tr>\n",
              "      <th>LANDAREA_MEDI</th>\n",
              "      <td>59.376738</td>\n",
              "    </tr>\n",
              "    <tr>\n",
              "      <th>LANDAREA_MODE</th>\n",
              "      <td>59.376738</td>\n",
              "    </tr>\n",
              "    <tr>\n",
              "      <th>BASEMENTAREA_MODE</th>\n",
              "      <td>58.515956</td>\n",
              "    </tr>\n",
              "    <tr>\n",
              "      <th>BASEMENTAREA_MEDI</th>\n",
              "      <td>58.515956</td>\n",
              "    </tr>\n",
              "    <tr>\n",
              "      <th>BASEMENTAREA_AVG</th>\n",
              "      <td>58.515956</td>\n",
              "    </tr>\n",
              "    <tr>\n",
              "      <th>EXT_SOURCE_1</th>\n",
              "      <td>56.381073</td>\n",
              "    </tr>\n",
              "    <tr>\n",
              "      <th>NONLIVINGAREA_MEDI</th>\n",
              "      <td>55.179164</td>\n",
              "    </tr>\n",
              "    <tr>\n",
              "      <th>NONLIVINGAREA_AVG</th>\n",
              "      <td>55.179164</td>\n",
              "    </tr>\n",
              "    <tr>\n",
              "      <th>NONLIVINGAREA_MODE</th>\n",
              "      <td>55.179164</td>\n",
              "    </tr>\n",
              "    <tr>\n",
              "      <th>ELEVATORS_MEDI</th>\n",
              "      <td>53.295980</td>\n",
              "    </tr>\n",
              "    <tr>\n",
              "      <th>ELEVATORS_MODE</th>\n",
              "      <td>53.295980</td>\n",
              "    </tr>\n",
              "    <tr>\n",
              "      <th>ELEVATORS_AVG</th>\n",
              "      <td>53.295980</td>\n",
              "    </tr>\n",
              "    <tr>\n",
              "      <th>WALLSMATERIAL_MODE</th>\n",
              "      <td>50.840783</td>\n",
              "    </tr>\n",
              "    <tr>\n",
              "      <th>APARTMENTS_AVG</th>\n",
              "      <td>50.749729</td>\n",
              "    </tr>\n",
              "    <tr>\n",
              "      <th>APARTMENTS_MEDI</th>\n",
              "      <td>50.749729</td>\n",
              "    </tr>\n",
              "    <tr>\n",
              "      <th>APARTMENTS_MODE</th>\n",
              "      <td>50.749729</td>\n",
              "    </tr>\n",
              "    <tr>\n",
              "      <th>ENTRANCES_MODE</th>\n",
              "      <td>50.348768</td>\n",
              "    </tr>\n",
              "    <tr>\n",
              "      <th>ENTRANCES_MEDI</th>\n",
              "      <td>50.348768</td>\n",
              "    </tr>\n",
              "    <tr>\n",
              "      <th>ENTRANCES_AVG</th>\n",
              "      <td>50.348768</td>\n",
              "    </tr>\n",
              "    <tr>\n",
              "      <th>LIVINGAREA_AVG</th>\n",
              "      <td>50.193326</td>\n",
              "    </tr>\n",
              "    <tr>\n",
              "      <th>LIVINGAREA_MODE</th>\n",
              "      <td>50.193326</td>\n",
              "    </tr>\n",
              "    <tr>\n",
              "      <th>LIVINGAREA_MEDI</th>\n",
              "      <td>50.193326</td>\n",
              "    </tr>\n",
              "    <tr>\n",
              "      <th>HOUSETYPE_MODE</th>\n",
              "      <td>50.176091</td>\n",
              "    </tr>\n",
              "    <tr>\n",
              "      <th>FLOORSMAX_AVG</th>\n",
              "      <td>49.760822</td>\n",
              "    </tr>\n",
              "    <tr>\n",
              "      <th>FLOORSMAX_MEDI</th>\n",
              "      <td>49.760822</td>\n",
              "    </tr>\n",
              "    <tr>\n",
              "      <th>FLOORSMAX_MODE</th>\n",
              "      <td>49.760822</td>\n",
              "    </tr>\n",
              "    <tr>\n",
              "      <th>YEARS_BEGINEXPLUATATION_MODE</th>\n",
              "      <td>48.781019</td>\n",
              "    </tr>\n",
              "    <tr>\n",
              "      <th>YEARS_BEGINEXPLUATATION_MEDI</th>\n",
              "      <td>48.781019</td>\n",
              "    </tr>\n",
              "    <tr>\n",
              "      <th>YEARS_BEGINEXPLUATATION_AVG</th>\n",
              "      <td>48.781019</td>\n",
              "    </tr>\n",
              "    <tr>\n",
              "      <th>TOTALAREA_MODE</th>\n",
              "      <td>48.268517</td>\n",
              "    </tr>\n",
              "    <tr>\n",
              "      <th>EMERGENCYSTATE_MODE</th>\n",
              "      <td>47.398304</td>\n",
              "    </tr>\n",
              "    <tr>\n",
              "      <th>OCCUPATION_TYPE</th>\n",
              "      <td>31.345545</td>\n",
              "    </tr>\n",
              "    <tr>\n",
              "      <th>EXT_SOURCE_3</th>\n",
              "      <td>19.825307</td>\n",
              "    </tr>\n",
              "    <tr>\n",
              "      <th>AMT_REQ_CREDIT_BUREAU_WEEK</th>\n",
              "      <td>13.501631</td>\n",
              "    </tr>\n",
              "    <tr>\n",
              "      <th>AMT_REQ_CREDIT_BUREAU_MON</th>\n",
              "      <td>13.501631</td>\n",
              "    </tr>\n",
              "    <tr>\n",
              "      <th>AMT_REQ_CREDIT_BUREAU_HOUR</th>\n",
              "      <td>13.501631</td>\n",
              "    </tr>\n",
              "    <tr>\n",
              "      <th>AMT_REQ_CREDIT_BUREAU_YEAR</th>\n",
              "      <td>13.501631</td>\n",
              "    </tr>\n",
              "    <tr>\n",
              "      <th>AMT_REQ_CREDIT_BUREAU_QRT</th>\n",
              "      <td>13.501631</td>\n",
              "    </tr>\n",
              "    <tr>\n",
              "      <th>AMT_REQ_CREDIT_BUREAU_DAY</th>\n",
              "      <td>13.501631</td>\n",
              "    </tr>\n",
              "    <tr>\n",
              "      <th>NAME_TYPE_SUITE</th>\n",
              "      <td>0.420148</td>\n",
              "    </tr>\n",
              "    <tr>\n",
              "      <th>DEF_30_CNT_SOCIAL_CIRCLE</th>\n",
              "      <td>0.332021</td>\n",
              "    </tr>\n",
              "    <tr>\n",
              "      <th>DEF_60_CNT_SOCIAL_CIRCLE</th>\n",
              "      <td>0.332021</td>\n",
              "    </tr>\n",
              "  </tbody>\n",
              "</table>\n",
              "</div><br><label><b>dtype:</b> float64</label>"
            ]
          },
          "metadata": {},
          "execution_count": 21
        }
      ],
      "source": [
        "missing_percent.head(60)"
      ]
    },
    {
      "cell_type": "markdown",
      "metadata": {
        "id": "Af_hIYx0uNo9"
      },
      "source": [
        "many columns have more than 50% of null values , it is very hard to impute or fill or even do new category because we are just introducing noise. hence they are worth removing except the EXT_SOURCE columns/ These are external risk scores from third-party credit agencies or proprietary scoring models used by Home Credit.\n",
        "however before removing any , lets investigate the REQ_CREDIT_BUREAU columns."
      ]
    },
    {
      "cell_type": "code",
      "execution_count": 22,
      "metadata": {
        "id": "rhZaUtqv5aDi",
        "colab": {
          "base_uri": "https://localhost:8080/"
        },
        "outputId": "c050e354-5099-42b1-8b5a-0f3d3c3e9ab8"
      },
      "outputs": [
        {
          "output_type": "stream",
          "name": "stdout",
          "text": [
            "\n",
            "AMT_REQ_CREDIT_BUREAU_HOUR value counts:\n",
            "AMT_REQ_CREDIT_BUREAU_HOUR\n",
            "0.0    264366\n",
            "1.0      1560\n",
            "2.0        56\n",
            "3.0         9\n",
            "4.0         1\n",
            "NaN     41519\n",
            "Name: count, dtype: int64\n",
            "\n",
            "AMT_REQ_CREDIT_BUREAU_DAY value counts:\n",
            "AMT_REQ_CREDIT_BUREAU_DAY\n",
            "0.0    264503\n",
            "1.0      1292\n",
            "2.0       106\n",
            "3.0        45\n",
            "4.0        26\n",
            "5.0         9\n",
            "6.0         8\n",
            "8.0         1\n",
            "9.0         2\n",
            "NaN     41519\n",
            "Name: count, dtype: int64\n",
            "\n",
            "AMT_REQ_CREDIT_BUREAU_WEEK value counts:\n",
            "AMT_REQ_CREDIT_BUREAU_WEEK\n",
            "0.0    257456\n",
            "1.0      8208\n",
            "2.0       199\n",
            "3.0        58\n",
            "4.0        34\n",
            "5.0        10\n",
            "6.0        20\n",
            "7.0         2\n",
            "8.0         5\n",
            "NaN     41519\n",
            "Name: count, dtype: int64\n",
            "\n",
            "AMT_REQ_CREDIT_BUREAU_MON value counts:\n",
            "AMT_REQ_CREDIT_BUREAU_MON\n",
            "0.0     222233\n",
            "1.0      33147\n",
            "2.0       5386\n",
            "3.0       1991\n",
            "4.0       1076\n",
            "5.0        602\n",
            "6.0        343\n",
            "7.0        298\n",
            "8.0        185\n",
            "9.0        206\n",
            "10.0       132\n",
            "11.0       119\n",
            "12.0        77\n",
            "13.0        72\n",
            "14.0        40\n",
            "15.0        35\n",
            "16.0        23\n",
            "17.0        14\n",
            "18.0         6\n",
            "19.0         3\n",
            "22.0         1\n",
            "23.0         1\n",
            "24.0         1\n",
            "27.0         1\n",
            "NaN      41519\n",
            "Name: count, dtype: int64\n",
            "\n",
            "AMT_REQ_CREDIT_BUREAU_QRT value counts:\n",
            "AMT_REQ_CREDIT_BUREAU_QRT\n",
            "0.0      215417\n",
            "1.0       33862\n",
            "2.0       14412\n",
            "3.0        1717\n",
            "4.0         476\n",
            "5.0          64\n",
            "6.0          28\n",
            "7.0           7\n",
            "8.0           7\n",
            "19.0          1\n",
            "261.0         1\n",
            "NaN       41519\n",
            "Name: count, dtype: int64\n",
            "\n",
            "AMT_REQ_CREDIT_BUREAU_YEAR value counts:\n",
            "AMT_REQ_CREDIT_BUREAU_YEAR\n",
            "0.0     71801\n",
            "1.0     63405\n",
            "2.0     50192\n",
            "3.0     33628\n",
            "4.0     20714\n",
            "5.0     12052\n",
            "6.0      6967\n",
            "7.0      3869\n",
            "8.0      2127\n",
            "9.0      1096\n",
            "10.0       22\n",
            "11.0       31\n",
            "12.0       30\n",
            "13.0       19\n",
            "14.0       10\n",
            "15.0        6\n",
            "16.0        3\n",
            "17.0        7\n",
            "18.0        4\n",
            "19.0        4\n",
            "20.0        1\n",
            "21.0        1\n",
            "22.0        1\n",
            "23.0        1\n",
            "25.0        1\n",
            "NaN     41519\n",
            "Name: count, dtype: int64\n"
          ]
        }
      ],
      "source": [
        "bureau_cols = [\n",
        "    'AMT_REQ_CREDIT_BUREAU_HOUR',\n",
        "    'AMT_REQ_CREDIT_BUREAU_DAY',\n",
        "    'AMT_REQ_CREDIT_BUREAU_WEEK',\n",
        "    'AMT_REQ_CREDIT_BUREAU_MON',\n",
        "    'AMT_REQ_CREDIT_BUREAU_QRT',\n",
        "    'AMT_REQ_CREDIT_BUREAU_YEAR'\n",
        "]\n",
        "for col in bureau_cols:\n",
        "    print(f\"\\n{col} value counts:\")\n",
        "    print(df_train[col].value_counts(dropna=False).sort_index())\n"
      ]
    },
    {
      "cell_type": "markdown",
      "metadata": {
        "id": "-5QtoQ387fYl"
      },
      "source": [
        "These features all have a large number of zero values, and since this data is typically extracted from external credit sources, it is reasonable to assume that missing values indicate no inquiries were made. Additionally, all six columns share exactly the same missing rows, which further supports the idea that these clients likely had no prior inquiries recorded. Therefore, imputing the missing values with 0 is a safe and justifiable approach."
      ]
    },
    {
      "cell_type": "code",
      "execution_count": 23,
      "metadata": {
        "id": "v4zqLXQe70Zl"
      },
      "outputs": [],
      "source": [
        "\n",
        "df_train[bureau_cols] = df_train[bureau_cols].fillna(0)\n",
        "df_test[bureau_cols] = df_test[bureau_cols].fillna(0)\n"
      ]
    },
    {
      "cell_type": "markdown",
      "metadata": {
        "id": "-7qYHLeu8J3j"
      },
      "source": [
        "Another noticeable pattern in the missing columns CSV file is that most of the columns with high missing values (over 50–60%) have suffixes like _AVG, _MODE, or _MEDI, such as COMMONAREA_MODE and NONLIVINGAPARTMENTS_AVG. These features are primarily normalized building-related indicators, and due to the extremely high proportion of missing values, imputing them would not be meaningful or reliable. Therefore, they can be safely dropped from the dataset to reduce noise and simplify preprocessing.the picture clearly shows all columns we excluded in only this step![Screenshot 2025-07-07 021120.png](data:image/png;base64,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)"
      ]
    },
    {
      "cell_type": "code",
      "execution_count": 24,
      "metadata": {
        "id": "Q0VialPpAA1G"
      },
      "outputs": [],
      "source": [
        "columns_to_drop = [\n",
        "    \"COMMONAREA_MEDI\", \"COMMONAREA_MODE\", \"COMMONAREA_AVG\",\n",
        "    \"NONLIVINGAPARTMENTS_MODE\", \"NONLIVINGAPARTMENTS_MEDI\", \"NONLIVINGAPARTMENTS_AVG\",\n",
        "    \"FONDKAPREMONT_MODE\",\n",
        "    \"LIVINGAPARTMENTS_AVG\", \"LIVINGAPARTMENTS_MEDI\", \"LIVINGAPARTMENTS_MODE\",\n",
        "    \"FLOORSMIN_MEDI\", \"FLOORSMIN_MODE\", \"FLOORSMIN_AVG\",\n",
        "    \"YEARS_BUILD_MODE\", \"YEARS_BUILD_MEDI\", \"YEARS_BUILD_AVG\",\n",
        "    \"LANDAREA_AVG\", \"LANDAREA_MEDI\", \"LANDAREA_MODE\",\n",
        "    \"BASEMENTAREA_MODE\", \"BASEMENTAREA_MEDI\", \"BASEMENTAREA_AVG\",\n",
        "    \"NONLIVINGAREA_MEDI\", \"NONLIVINGAREA_AVG\", \"NONLIVINGAREA_MODE\",\n",
        "    \"ELEVATORS_MEDI\", \"ELEVATORS_MODE\", \"ELEVATORS_AVG\",\n",
        "    \"WALLSMATERIAL_MODE\",\n",
        "    \"APARTMENTS_AVG\", \"APARTMENTS_MEDI\", \"APARTMENTS_MODE\",\n",
        "    \"ENTRANCES_MODE\", \"ENTRANCES_MEDI\", \"ENTRANCES_AVG\",\n",
        "    \"LIVINGAREA_AVG\", \"LIVINGAREA_MODE\", \"LIVINGAREA_MEDI\",\n",
        "    \"HOUSETYPE_MODE\",\n",
        "    \"FLOORSMAX_AVG\", \"FLOORSMAX_MEDI\", \"FLOORSMAX_MODE\",\n",
        "    \"YEARS_BEGINEXPLUATATION_MODE\", \"YEARS_BEGINEXPLUATATION_MEDI\", \"YEARS_BEGINEXPLUATATION_AVG\",\n",
        "    \"TOTALAREA_MODE\",\n",
        "    \"EMERGENCYSTATE_MODE\",\"OCCUPATION_TYPE\"\n",
        "]\n"
      ]
    },
    {
      "cell_type": "code",
      "execution_count": 25,
      "metadata": {
        "id": "3HrxFyb-ACiv"
      },
      "outputs": [],
      "source": [
        "df_train.drop(columns=columns_to_drop, inplace=True)\n",
        "df_test.drop(columns=columns_to_drop, inplace=True)\n",
        "\n"
      ]
    },
    {
      "cell_type": "markdown",
      "metadata": {
        "id": "wAovIeebA3Zx"
      },
      "source": [
        "i didnt include\n",
        "\n",
        "EXT_SOURCE_1\n",
        "\n",
        "OWN_CAR_AGE\n",
        "\n",
        "because it might have good predictive power for our model,  so lets investigate it"
      ]
    },
    {
      "cell_type": "code",
      "execution_count": 26,
      "metadata": {
        "id": "HGInNjfwBX0x",
        "colab": {
          "base_uri": "https://localhost:8080/",
          "height": 564
        },
        "outputId": "2607bc01-e8fc-4cf9-c19b-76cfbeaf6f54"
      },
      "outputs": [
        {
          "output_type": "display_data",
          "data": {
            "text/plain": [
              "<Figure size 1000x600 with 1 Axes>"
            ],
            "image/png": "[encoded data removed]"
          },
          "metadata": {}
        }
      ],
      "source": [
        "plt.figure(figsize=(10, 6))\n",
        "sns.histplot(df_train['OWN_CAR_AGE'], bins=30, kde=True, color='skyblue')\n",
        "plt.title('Distribution of OWN_CAR_AGE')\n",
        "plt.xlabel('Car Age (Years)')\n",
        "plt.ylabel('Count')\n",
        "plt.grid(True)\n",
        "plt.show()"
      ]
    },
    {
      "cell_type": "code",
      "execution_count": 27,
      "metadata": {
        "id": "eyOQsgRNB89S",
        "colab": {
          "base_uri": "https://localhost:8080/",
          "height": 423
        },
        "outputId": "b683f903-44af-416f-d85f-a0937ecdb39d"
      },
      "outputs": [
        {
          "output_type": "execute_result",
          "data": {
            "text/plain": [
              "    OWN_CAR_AGE  count\n",
              "54         91.0      2\n",
              "58         69.0      1\n",
              "26         65.0    891\n",
              "17         64.0   2443\n",
              "53         63.0      2\n",
              "..          ...    ...\n",
              "5           4.0   5557\n",
              "2           3.0   6370\n",
              "4           2.0   5852\n",
              "6           1.0   5280\n",
              "19          0.0   2134\n",
              "\n",
              "[62 rows x 2 columns]"
            ],
            "text/html": [
              "\n",
              "  <div id=\"df-8cf2e504-edbd-4e95-98d6-6c21eccebb3f\" class=\"colab-df-container\">\n",
              "    <div>\n",
              "<style scoped>\n",
              "    .dataframe tbody tr th:only-of-type {\n",
              "        vertical-align: middle;\n",
              "    }\n",
              "\n",
              "    .dataframe tbody tr th {\n",
              "        vertical-align: top;\n",
              "    }\n",
              "\n",
              "    .dataframe thead th {\n",
              "        text-align: right;\n",
              "    }\n",
              "</style>\n",
              "<table border=\"1\" class=\"dataframe\">\n",
              "  <thead>\n",
              "    <tr style=\"text-align: right;\">\n",
              "      <th></th>\n",
              "      <th>OWN_CAR_AGE</th>\n",
              "      <th>count</th>\n",
              "    </tr>\n",
              "  </thead>\n",
              "  <tbody>\n",
              "    <tr>\n",
              "      <th>54</th>\n",
              "      <td>91.0</td>\n",
              "      <td>2</td>\n",
              "    </tr>\n",
              "    <tr>\n",
              "      <th>58</th>\n",
              "      <td>69.0</td>\n",
              "      <td>1</td>\n",
              "    </tr>\n",
              "    <tr>\n",
              "      <th>26</th>\n",
              "      <td>65.0</td>\n",
              "      <td>891</td>\n",
              "    </tr>\n",
              "    <tr>\n",
              "      <th>17</th>\n",
              "      <td>64.0</td>\n",
              "      <td>2443</td>\n",
              "    </tr>\n",
              "    <tr>\n",
              "      <th>53</th>\n",
              "      <td>63.0</td>\n",
              "      <td>2</td>\n",
              "    </tr>\n",
              "    <tr>\n",
              "      <th>...</th>\n",
              "      <td>...</td>\n",
              "      <td>...</td>\n",
              "    </tr>\n",
              "    <tr>\n",
              "      <th>5</th>\n",
              "      <td>4.0</td>\n",
              "      <td>5557</td>\n",
              "    </tr>\n",
              "    <tr>\n",
              "      <th>2</th>\n",
              "      <td>3.0</td>\n",
              "      <td>6370</td>\n",
              "    </tr>\n",
              "    <tr>\n",
              "      <th>4</th>\n",
              "      <td>2.0</td>\n",
              "      <td>5852</td>\n",
              "    </tr>\n",
              "    <tr>\n",
              "      <th>6</th>\n",
              "      <td>1.0</td>\n",
              "      <td>5280</td>\n",
              "    </tr>\n",
              "    <tr>\n",
              "      <th>19</th>\n",
              "      <td>0.0</td>\n",
              "      <td>2134</td>\n",
              "    </tr>\n",
              "  </tbody>\n",
              "</table>\n",
              "<p>62 rows × 2 columns</p>\n",
              "</div>\n",
              "    <div class=\"colab-df-buttons\">\n",
              "      \n",
              "  <div class=\"colab-df-container\">\n",
              "    <button class=\"colab-df-convert\" onclick=\"convertToInteractive('df-8cf2e504-edbd-4e95-98d6-6c21eccebb3f')\"\n",
              "            title=\"Convert this dataframe to an interactive table.\"\n",
              "            style=\"display:none;\">\n",
              "      \n",
              "  <svg xmlns=\"http://www.w3.org/2000/svg\" height=\"24px\" viewBox=\"0 -960 960 960\">\n",
              "    <path d=\"M120-120v-720h720v720H120Zm60-500h600v-160H180v160Zm220 220h160v-160H400v160Zm0 220h160v-160H400v160ZM180-400h160v-160H180v160Zm440 0h160v-160H620v160ZM180-180h160v-160H180v160Zm440 0h160v-160H620v160Z\"/>\n",
              "  </svg>\n",
              "    </button>\n",
              "    \n",
              "  <style>\n",
              "    .colab-df-container {\n",
              "      display:flex;\n",
              "      gap: 12px;\n",
              "    }\n",
              "\n",
              "    .colab-df-convert {\n",
              "      background-color: #E8F0FE;\n",
              "      border: none;\n",
              "      border-radius: 50%;\n",
              "      cursor: pointer;\n",
              "      display: none;\n",
              "      fill: #1967D2;\n",
              "      height: 32px;\n",
              "      padding: 0 0 0 0;\n",
              "      width: 32px;\n",
              "    }\n",
              "\n",
              "    .colab-df-convert:hover {\n",
              "      background-color: #E2EBFA;\n",
              "      box-shadow: 0px 1px 2px rgba(60, 64, 67, 0.3), 0px 1px 3px 1px rgba(60, 64, 67, 0.15);\n",
              "      fill: #174EA6;\n",
              "    }\n",
              "\n",
              "    .colab-df-buttons div {\n",
              "      margin-bottom: 4px;\n",
              "    }\n",
              "\n",
              "    [theme=dark] .colab-df-convert {\n",
              "      background-color: #3B4455;\n",
              "      fill: #D2E3FC;\n",
              "    }\n",
              "\n",
              "    [theme=dark] .colab-df-convert:hover {\n",
              "      background-color: #434B5C;\n",
              "      box-shadow: 0px 1px 3px 1px rgba(0, 0, 0, 0.15);\n",
              "      filter: drop-shadow(0px 1px 2px rgba(0, 0, 0, 0.3));\n",
              "      fill: #FFFFFF;\n",
              "    }\n",
              "  </style>\n",
              "\n",
              "    <script>\n",
              "      const buttonEl =\n",
              "        document.querySelector('#df-8cf2e504-edbd-4e95-98d6-6c21eccebb3f button.colab-df-convert');\n",
              "      buttonEl.style.display =\n",
              "        google.colab.kernel.accessAllowed ? 'block' : 'none';\n",
              "\n",
              "      async function convertToInteractive(key) {\n",
              "        const element = document.querySelector('#df-8cf2e504-edbd-4e95-98d6-6c21eccebb3f');\n",
              "        const dataTable =\n",
              "          await google.colab.kernel.invokeFunction('convertToInteractive',\n",
              "                                                    [key], {});\n",
              "        if (!dataTable) return;\n",
              "\n",
              "        const docLinkHtml = 'Like what you see? Visit the ' +\n",
              "          '<a target=\"_blank\" href=https://colab.research.google.com/notebooks/data_table.ipynb>data table notebook</a>'\n",
              "          + ' to learn more about interactive tables.';\n",
              "        element.innerHTML = '';\n",
              "        dataTable['output_type'] = 'display_data';\n",
              "        await google.colab.output.renderOutput(dataTable, element);\n",
              "        const docLink = document.createElement('div');\n",
              "        docLink.innerHTML = docLinkHtml;\n",
              "        element.appendChild(docLink);\n",
              "      }\n",
              "    </script>\n",
              "  </div>\n",
              "  \n",
              "    </div>\n",
              "  </div>\n",
              "  "
            ],
            "application/vnd.google.colaboratory.intrinsic+json": {
              "type": "dataframe",
              "summary": "{\n  \"name\": \"df_train['OWN_CAR_AGE']\",\n  \"rows\": 62,\n  \"fields\": [\n    {\n      \"column\": \"OWN_CAR_AGE\",\n      \"properties\": {\n        \"dtype\": \"number\",\n        \"std\": 20.012899066158756,\n        \"min\": 0.0,\n        \"max\": 91.0,\n        \"num_unique_values\": 62,\n        \"samples\": [\n          11.0,\n          5.0,\n          91.0\n        ],\n        \"semantic_type\": \"\",\n        \"description\": \"\"\n      }\n    },\n    {\n      \"column\": \"count\",\n      \"properties\": {\n        \"dtype\": \"number\",\n        \"std\": 2180,\n        \"min\": 1,\n        \"max\": 7424,\n        \"num_unique_values\": 55,\n        \"samples\": [\n          1067,\n          12,\n          1250\n        ],\n        \"semantic_type\": \"\",\n        \"description\": \"\"\n      }\n    }\n  ]\n}"
            }
          },
          "metadata": {},
          "execution_count": 27
        }
      ],
      "source": [
        "df_train['OWN_CAR_AGE'].value_counts().reset_index().sort_values(by='OWN_CAR_AGE' , ascending=False)"
      ]
    },
    {
      "cell_type": "markdown",
      "metadata": {
        "id": "xzS3DxJ_EqHo"
      },
      "source": [
        " dropped the OWN_CAR_AGE column and replaced it with a binary column called HAS_CAR.\n",
        "\n",
        "The reason is:\n",
        "\n",
        "Over 66% of applicants had no car age recorded, meaning most likely don't own a car.\n",
        "\n",
        "This makes sense because many people who apply for loans can’t afford a car or don’t need one — especially in lower-income brackets.\n",
        "\n",
        "Keeping the detailed car age would create unreliable imputations, while a simple yes/no flag gives clearer, cleaner insight.\n",
        "\n",
        "By creating a HAS_CAR feature:\n",
        "\n",
        "We capture whether car ownership exists at all, which is still useful for modeling.\n",
        "\n",
        "We reduce noise and improve model robustness by avoiding high-missing-value columns."
      ]
    },
    {
      "cell_type": "code",
      "execution_count": 28,
      "metadata": {
        "id": "CJstrKzVEWoi"
      },
      "outputs": [],
      "source": [
        "df_train['HAS_CAR'] = df_train['OWN_CAR_AGE'].notna().astype(int)\n",
        "df_test['HAS_CAR'] = df_test['OWN_CAR_AGE'].notna().astype(int)\n",
        "\n",
        "df_train.drop(columns=['OWN_CAR_AGE'], inplace=True)\n",
        "df_test.drop(columns=['OWN_CAR_AGE'], inplace=True)\n",
        "\n"
      ]
    },
    {
      "cell_type": "markdown",
      "source": [
        "next lets make sure emoty values inEXT_SOURCE_1 are replaced with nan and tree models will handle them"
      ],
      "metadata": {
        "id": "Oo3PF7vjy98G"
      }
    },
    {
      "cell_type": "code",
      "source": [
        "# Ensure EXT_SOURCE_1 missing values are NaN (if not already)\n",
        "df_train['EXT_SOURCE_1'] = df_train['EXT_SOURCE_1'].where(pd.notnull(df_train['EXT_SOURCE_1']), np.nan)\n",
        "df_test['EXT_SOURCE_1'] = df_test['EXT_SOURCE_1'].where(pd.notnull(df_test['EXT_SOURCE_1']), np.nan)\n"
      ],
      "metadata": {
        "id": "x_F8Xbx4zEJ7"
      },
      "execution_count": 29,
      "outputs": []
    },
    {
      "cell_type": "markdown",
      "metadata": {
        "id": "2CNSmqr0L6Cv"
      },
      "source": [
        "now we have EXT_SOURCE_3 in which i will investigate now and some columns with less than 1% null which i can just remove them."
      ]
    },
    {
      "cell_type": "code",
      "execution_count": 30,
      "metadata": {
        "id": "LYyz2S9xMIeq",
        "colab": {
          "base_uri": "https://localhost:8080/",
          "height": 487
        },
        "outputId": "6e59db4b-16ce-4ce5-f4eb-da3d3ef83f68"
      },
      "outputs": [
        {
          "output_type": "display_data",
          "data": {
            "text/plain": [
              "<Figure size 1000x500 with 1 Axes>"
            ],
            "image/png": "[encoded data removed]"
          },
          "metadata": {}
        }
      ],
      "source": [
        "\n",
        "# Plot histogram for EXT_SOURCE_3 (including missing values dropped)\n",
        "plt.figure(figsize=(10, 5))\n",
        "df_train['EXT_SOURCE_3'].dropna().hist(bins=50, color='lightgreen', edgecolor='black')\n",
        "\n",
        "plt.title('Distribution of EXT_SOURCE_3')\n",
        "plt.xlabel('EXT_SOURCE_3 Value')\n",
        "plt.ylabel('Number of Applicants')\n",
        "plt.grid(True)\n",
        "plt.show()\n"
      ]
    },
    {
      "cell_type": "code",
      "execution_count": 31,
      "metadata": {
        "id": "x-v1QTuHMhra",
        "colab": {
          "base_uri": "https://localhost:8080/",
          "height": 335
        },
        "outputId": "18608255-19c7-4d9a-b997-2c285b636b83"
      },
      "outputs": [
        {
          "output_type": "execute_result",
          "data": {
            "text/plain": [
              "count    246546.000000\n",
              "mean          0.510853\n",
              "std           0.194844\n",
              "min           0.000527\n",
              "25%           0.370650\n",
              "50%           0.535276\n",
              "75%           0.669057\n",
              "max           0.896010\n",
              "Name: EXT_SOURCE_3, dtype: float64"
            ],
            "text/html": [
              "<div>\n",
              "<style scoped>\n",
              "    .dataframe tbody tr th:only-of-type {\n",
              "        vertical-align: middle;\n",
              "    }\n",
              "\n",
              "    .dataframe tbody tr th {\n",
              "        vertical-align: top;\n",
              "    }\n",
              "\n",
              "    .dataframe thead th {\n",
              "        text-align: right;\n",
              "    }\n",
              "</style>\n",
              "<table border=\"1\" class=\"dataframe\">\n",
              "  <thead>\n",
              "    <tr style=\"text-align: right;\">\n",
              "      <th></th>\n",
              "      <th>EXT_SOURCE_3</th>\n",
              "    </tr>\n",
              "  </thead>\n",
              "  <tbody>\n",
              "    <tr>\n",
              "      <th>count</th>\n",
              "      <td>246546.000000</td>\n",
              "    </tr>\n",
              "    <tr>\n",
              "      <th>mean</th>\n",
              "      <td>0.510853</td>\n",
              "    </tr>\n",
              "    <tr>\n",
              "      <th>std</th>\n",
              "      <td>0.194844</td>\n",
              "    </tr>\n",
              "    <tr>\n",
              "      <th>min</th>\n",
              "      <td>0.000527</td>\n",
              "    </tr>\n",
              "    <tr>\n",
              "      <th>25%</th>\n",
              "      <td>0.370650</td>\n",
              "    </tr>\n",
              "    <tr>\n",
              "      <th>50%</th>\n",
              "      <td>0.535276</td>\n",
              "    </tr>\n",
              "    <tr>\n",
              "      <th>75%</th>\n",
              "      <td>0.669057</td>\n",
              "    </tr>\n",
              "    <tr>\n",
              "      <th>max</th>\n",
              "      <td>0.896010</td>\n",
              "    </tr>\n",
              "  </tbody>\n",
              "</table>\n",
              "</div><br><label><b>dtype:</b> float64</label>"
            ]
          },
          "metadata": {},
          "execution_count": 31
        }
      ],
      "source": [
        "df_train['EXT_SOURCE_3'].describe()"
      ]
    },
    {
      "cell_type": "markdown",
      "metadata": {
        "id": "FtPi6k8uPiyB"
      },
      "source": [
        "I chose to fill the missing values in EXT_SOURCE_3 with the median because this column represents a score (between 0 and 1) from an external source that helps measure how risky a person might be\n",
        "\n",
        "If i use 0, it would look like the person is extremely risky, which may not be true , they might just be missing data\n",
        "\n",
        "If i use the mean, it could be pulled up or down by unusual values (outliers).\n",
        "\n",
        "The median is safer because it's the middle value, not affected by outliers, and it keeps things fair and neutral\n",
        "\n",
        "So, using the median helps  avoid giving wrong signals to the model and keeps the data more realistic"
      ]
    },
    {
      "cell_type": "code",
      "execution_count": 32,
      "metadata": {
        "id": "SdgfpYzoPZKg",
        "colab": {
          "base_uri": "https://localhost:8080/"
        },
        "outputId": "916e4a14-8a2a-42ad-8978-ae69727e6b7f"
      },
      "outputs": [
        {
          "output_type": "stream",
          "name": "stderr",
          "text": [
            "/tmp/ipython-input-32-1701392442.py:2: FutureWarning: A value is trying to be set on a copy of a DataFrame or Series through chained assignment using an inplace method.\n",
            "The behavior will change in pandas 3.0. This inplace method will never work because the intermediate object on which we are setting values always behaves as a copy.\n",
            "\n",
            "For example, when doing 'df[col].method(value, inplace=True)', try using 'df.method({col: value}, inplace=True)' or df[col] = df[col].method(value) instead, to perform the operation inplace on the original object.\n",
            "\n",
            "\n",
            "  df_train['EXT_SOURCE_3'].fillna(median_score3, inplace=True)\n",
            "/tmp/ipython-input-32-1701392442.py:3: FutureWarning: A value is trying to be set on a copy of a DataFrame or Series through chained assignment using an inplace method.\n",
            "The behavior will change in pandas 3.0. This inplace method will never work because the intermediate object on which we are setting values always behaves as a copy.\n",
            "\n",
            "For example, when doing 'df[col].method(value, inplace=True)', try using 'df.method({col: value}, inplace=True)' or df[col] = df[col].method(value) instead, to perform the operation inplace on the original object.\n",
            "\n",
            "\n",
            "  df_test['EXT_SOURCE_3'].fillna(median_score3, inplace=True)\n"
          ]
        }
      ],
      "source": [
        "median_score3 = df_train['EXT_SOURCE_3'].median()\n",
        "df_train['EXT_SOURCE_3'].fillna(median_score3, inplace=True)\n",
        "df_test['EXT_SOURCE_3'].fillna(median_score3, inplace=True)\n"
      ]
    },
    {
      "cell_type": "markdown",
      "metadata": {
        "id": "PVTaCSMNRsSI"
      },
      "source": [
        "i chose to drop rows with missing values in these columns because:\n",
        "\n",
        "The percentage of missing data is low to moderate.\n",
        "\n",
        "Dropping them won't significantly reduce the dataset size.\n",
        "\n",
        "It helps  avoid incorrect imputation that could affect model accuracy.\n",
        "\n",
        "Especially for things like family count or phone change days, guessing could be misleading.\n",
        "\n",
        "This way i keep only clean, complete records for modeling."
      ]
    },
    {
      "cell_type": "code",
      "execution_count": 33,
      "metadata": {
        "id": "5H1VMBIhRrnd"
      },
      "outputs": [],
      "source": [
        "cols_to_clean = [\n",
        "    'NAME_TYPE_SUITE',\n",
        "    'DEF_30_CNT_SOCIAL_CIRCLE', 'DEF_60_CNT_SOCIAL_CIRCLE',\n",
        "    'OBS_30_CNT_SOCIAL_CIRCLE', 'OBS_60_CNT_SOCIAL_CIRCLE',\n",
        "    'EXT_SOURCE_2', 'AMT_GOODS_PRICE', 'AMT_ANNUITY',\n",
        "    'CNT_FAM_MEMBERS', 'DAYS_LAST_PHONE_CHANGE'\n",
        "]\n",
        "\n",
        "df_train.dropna(subset=cols_to_clean, inplace=True)\n",
        "df_test.dropna(subset=cols_to_clean, inplace=True)\n"
      ]
    },
    {
      "cell_type": "code",
      "execution_count": 34,
      "metadata": {
        "id": "-WhyrV1ZTYDl",
        "colab": {
          "base_uri": "https://localhost:8080/"
        },
        "outputId": "f35cc1d1-f0be-459d-f36c-ea13c07562bb"
      },
      "outputs": [
        {
          "output_type": "stream",
          "name": "stdout",
          "text": [
            "(304531, 74)\n",
            "(47772, 73)\n"
          ]
        }
      ],
      "source": [
        "print(df_train.shape)\n",
        "print(df_test.shape)"
      ]
    },
    {
      "cell_type": "markdown",
      "metadata": {
        "id": "ZAPznTzQUdtr"
      },
      "source": [
        "check if there are duplicates row or ID"
      ]
    },
    {
      "cell_type": "code",
      "execution_count": 35,
      "metadata": {
        "id": "DYuDEm9BTcNS",
        "colab": {
          "base_uri": "https://localhost:8080/"
        },
        "outputId": "4b0c8461-dcfe-4480-87df-67e520c3df6f"
      },
      "outputs": [
        {
          "output_type": "execute_result",
          "data": {
            "text/plain": [
              "np.int64(0)"
            ]
          },
          "metadata": {},
          "execution_count": 35
        }
      ],
      "source": [
        "df_train.duplicated().sum()"
      ]
    },
    {
      "cell_type": "code",
      "execution_count": 36,
      "metadata": {
        "id": "7c_CWbjiUYl3",
        "colab": {
          "base_uri": "https://localhost:8080/",
          "height": 320
        },
        "outputId": "c15b1267-b1c5-430e-fa95-bdb8d75baa51"
      },
      "outputs": [
        {
          "output_type": "execute_result",
          "data": {
            "text/plain": [
              "          SK_ID_CURR         TARGET   CNT_CHILDREN  AMT_INCOME_TOTAL  \\\n",
              "count  304531.000000  304531.000000  304531.000000      3.045310e+05   \n",
              "mean   278171.558800       0.081000       0.417140      1.686634e+05   \n",
              "std    102782.532925       0.272836       0.722308      2.378910e+05   \n",
              "min    100002.000000       0.000000       0.000000      2.565000e+04   \n",
              "25%    189138.500000       0.000000       0.000000      1.125000e+05   \n",
              "50%    278193.000000       0.000000       0.000000      1.476000e+05   \n",
              "75%    367136.000000       0.000000       1.000000      2.025000e+05   \n",
              "max    456255.000000       1.000000      19.000000      1.170000e+08   \n",
              "\n",
              "         AMT_CREDIT    AMT_ANNUITY  AMT_GOODS_PRICE  \\\n",
              "count  3.045310e+05  304531.000000     3.045310e+05   \n",
              "mean   5.995592e+05   27146.369655     5.384949e+05   \n",
              "std    4.021453e+05   14480.104699     3.690524e+05   \n",
              "min    4.500000e+04    1615.500000     4.050000e+04   \n",
              "25%    2.700000e+05   16573.500000     2.385000e+05   \n",
              "50%    5.172660e+05   24939.000000     4.500000e+05   \n",
              "75%    8.086500e+05   34641.000000     6.795000e+05   \n",
              "max    4.050000e+06  258025.500000     4.050000e+06   \n",
              "\n",
              "       REGION_POPULATION_RELATIVE     DAYS_BIRTH  DAYS_EMPLOYED  \\\n",
              "count               304531.000000  304531.000000  304531.000000   \n",
              "mean                     0.020842  -16040.509915   63831.232423   \n",
              "std                      0.013808    4361.978717  141291.148422   \n",
              "min                      0.000290  -25229.000000  -17912.000000   \n",
              "25%                      0.010006  -19682.000000   -2762.000000   \n",
              "50%                      0.018850  -15755.000000   -1215.000000   \n",
              "75%                      0.028663  -12418.000000    -290.000000   \n",
              "max                      0.072508   -7489.000000  365243.000000   \n",
              "\n",
              "       DAYS_REGISTRATION  DAYS_ID_PUBLISH  FLAG_MOBIL  FLAG_EMP_PHONE  \\\n",
              "count      304531.000000    304531.000000    304531.0   304531.000000   \n",
              "mean        -4986.687785     -2994.732070         1.0        0.819841   \n",
              "std          3521.601095      1509.373915         0.0        0.384320   \n",
              "min        -24672.000000     -7197.000000         1.0        0.000000   \n",
              "25%         -7478.000000     -4299.000000         1.0        1.000000   \n",
              "50%         -4505.000000     -3255.000000         1.0        1.000000   \n",
              "75%         -2012.000000     -1721.000000         1.0        1.000000   \n",
              "max             0.000000         0.000000         1.0        1.000000   \n",
              "\n",
              "       FLAG_WORK_PHONE  FLAG_CONT_MOBILE     FLAG_PHONE     FLAG_EMAIL  \\\n",
              "count    304531.000000     304531.000000  304531.000000  304531.000000   \n",
              "mean          0.199730          0.998141       0.281278       0.056881   \n",
              "std           0.399798          0.043071       0.449624       0.231615   \n",
              "min           0.000000          0.000000       0.000000       0.000000   \n",
              "25%           0.000000          1.000000       0.000000       0.000000   \n",
              "50%           0.000000          1.000000       0.000000       0.000000   \n",
              "75%           0.000000          1.000000       1.000000       0.000000   \n",
              "max           1.000000          1.000000       1.000000       1.000000   \n",
              "\n",
              "       CNT_FAM_MEMBERS  REGION_RATING_CLIENT  REGION_RATING_CLIENT_W_CITY  \\\n",
              "count    304531.000000         304531.000000                304531.000000   \n",
              "mean          2.153163              2.053328                     2.032302   \n",
              "std           0.910638              0.508890                     0.502616   \n",
              "min           1.000000              1.000000                     1.000000   \n",
              "25%           2.000000              2.000000                     2.000000   \n",
              "50%           2.000000              2.000000                     2.000000   \n",
              "75%           3.000000              2.000000                     2.000000   \n",
              "max          20.000000              3.000000                     3.000000   \n",
              "\n",
              "       HOUR_APPR_PROCESS_START  REG_REGION_NOT_LIVE_REGION  \\\n",
              "count            304531.000000               304531.000000   \n",
              "mean                 12.060079                    0.015154   \n",
              "std                   3.265884                    0.122167   \n",
              "min                   0.000000                    0.000000   \n",
              "25%                  10.000000                    0.000000   \n",
              "50%                  12.000000                    0.000000   \n",
              "75%                  14.000000                    0.000000   \n",
              "max                  23.000000                    1.000000   \n",
              "\n",
              "       REG_REGION_NOT_WORK_REGION  LIVE_REGION_NOT_WORK_REGION  \\\n",
              "count               304531.000000                304531.000000   \n",
              "mean                     0.050675                     0.040518   \n",
              "std                      0.219333                     0.197171   \n",
              "min                      0.000000                     0.000000   \n",
              "25%                      0.000000                     0.000000   \n",
              "50%                      0.000000                     0.000000   \n",
              "75%                      0.000000                     0.000000   \n",
              "max                      1.000000                     1.000000   \n",
              "\n",
              "       REG_CITY_NOT_LIVE_CITY  REG_CITY_NOT_WORK_CITY  \\\n",
              "count           304531.000000           304531.000000   \n",
              "mean                 0.078212                0.230630   \n",
              "std                  0.268505                0.421237   \n",
              "min                  0.000000                0.000000   \n",
              "25%                  0.000000                0.000000   \n",
              "50%                  0.000000                0.000000   \n",
              "75%                  0.000000                0.000000   \n",
              "max                  1.000000                1.000000   \n",
              "\n",
              "       LIVE_CITY_NOT_WORK_CITY   EXT_SOURCE_1  EXT_SOURCE_2   EXT_SOURCE_3  \\\n",
              "count            304531.000000  132879.000000  3.045310e+05  304531.000000   \n",
              "mean                  0.179709       0.501986  5.142203e-01       0.515614   \n",
              "std                   0.383946       0.211049  1.911246e-01       0.174780   \n",
              "min                   0.000000       0.014568  8.173617e-08       0.000527   \n",
              "25%                   0.000000       0.333967  3.921081e-01       0.417100   \n",
              "50%                   0.000000       0.505819  5.658110e-01       0.535276   \n",
              "75%                   0.000000       0.674901  6.635463e-01       0.636376   \n",
              "max                   1.000000       0.962693  8.549997e-01       0.896010   \n",
              "\n",
              "       OBS_30_CNT_SOCIAL_CIRCLE  DEF_30_CNT_SOCIAL_CIRCLE  \\\n",
              "count             304531.000000             304531.000000   \n",
              "mean                   1.422052                  0.143421   \n",
              "std                    2.401424                  0.446721   \n",
              "min                    0.000000                  0.000000   \n",
              "25%                    0.000000                  0.000000   \n",
              "50%                    0.000000                  0.000000   \n",
              "75%                    2.000000                  0.000000   \n",
              "max                  348.000000                 34.000000   \n",
              "\n",
              "       OBS_60_CNT_SOCIAL_CIRCLE  DEF_60_CNT_SOCIAL_CIRCLE  \\\n",
              "count             304531.000000             304531.000000   \n",
              "mean                   1.405131                  0.100069   \n",
              "std                    2.380308                  0.362388   \n",
              "min                    0.000000                  0.000000   \n",
              "25%                    0.000000                  0.000000   \n",
              "50%                    0.000000                  0.000000   \n",
              "75%                    2.000000                  0.000000   \n",
              "max                  344.000000                 24.000000   \n",
              "\n",
              "       DAYS_LAST_PHONE_CHANGE  FLAG_DOCUMENT_2  FLAG_DOCUMENT_3  \\\n",
              "count           304531.000000    304531.000000    304531.000000   \n",
              "mean              -965.330085         0.000043         0.712860   \n",
              "std                826.943447         0.006534         0.452428   \n",
              "min              -4292.000000         0.000000         0.000000   \n",
              "25%              -1572.000000         0.000000         0.000000   \n",
              "50%               -761.000000         0.000000         1.000000   \n",
              "75%               -276.000000         0.000000         1.000000   \n",
              "max                  0.000000         1.000000         1.000000   \n",
              "\n",
              "       FLAG_DOCUMENT_4  FLAG_DOCUMENT_5  FLAG_DOCUMENT_6  FLAG_DOCUMENT_7  \\\n",
              "count    304531.000000    304531.000000    304531.000000    304531.000000   \n",
              "mean          0.000082         0.014708         0.088067         0.000138   \n",
              "std           0.009060         0.120381         0.283392         0.011743   \n",
              "min           0.000000         0.000000         0.000000         0.000000   \n",
              "25%           0.000000         0.000000         0.000000         0.000000   \n",
              "50%           0.000000         0.000000         0.000000         0.000000   \n",
              "75%           0.000000         0.000000         0.000000         0.000000   \n",
              "max           1.000000         1.000000         1.000000         1.000000   \n",
              "\n",
              "       FLAG_DOCUMENT_8  FLAG_DOCUMENT_9  FLAG_DOCUMENT_10  FLAG_DOCUMENT_11  \\\n",
              "count    304531.000000    304531.000000     304531.000000     304531.000000   \n",
              "mean          0.081670         0.003852          0.000020          0.003845   \n",
              "std           0.273862         0.061944          0.004439          0.061891   \n",
              "min           0.000000         0.000000          0.000000          0.000000   \n",
              "25%           0.000000         0.000000          0.000000          0.000000   \n",
              "50%           0.000000         0.000000          0.000000          0.000000   \n",
              "75%           0.000000         0.000000          0.000000          0.000000   \n",
              "max           1.000000         1.000000          1.000000          1.000000   \n",
              "\n",
              "       FLAG_DOCUMENT_12  FLAG_DOCUMENT_13  FLAG_DOCUMENT_14  FLAG_DOCUMENT_15  \\\n",
              "count     304531.000000     304531.000000     304531.000000     304531.000000   \n",
              "mean           0.000007          0.003425          0.002821          0.001133   \n",
              "std            0.002563          0.058423          0.053036          0.033639   \n",
              "min            0.000000          0.000000          0.000000          0.000000   \n",
              "25%            0.000000          0.000000          0.000000          0.000000   \n",
              "50%            0.000000          0.000000          0.000000          0.000000   \n",
              "75%            0.000000          0.000000          0.000000          0.000000   \n",
              "max            1.000000          1.000000          1.000000          1.000000   \n",
              "\n",
              "       FLAG_DOCUMENT_16  FLAG_DOCUMENT_17  FLAG_DOCUMENT_18  FLAG_DOCUMENT_19  \\\n",
              "count     304531.000000     304531.000000     304531.000000     304531.000000   \n",
              "mean           0.009447          0.000263          0.007851          0.000575   \n",
              "std            0.096737          0.016206          0.088260          0.023965   \n",
              "min            0.000000          0.000000          0.000000          0.000000   \n",
              "25%            0.000000          0.000000          0.000000          0.000000   \n",
              "50%            0.000000          0.000000          0.000000          0.000000   \n",
              "75%            0.000000          0.000000          0.000000          0.000000   \n",
              "max            1.000000          1.000000          1.000000          1.000000   \n",
              "\n",
              "       FLAG_DOCUMENT_20  FLAG_DOCUMENT_21  AMT_REQ_CREDIT_BUREAU_HOUR  \\\n",
              "count     304531.000000     304531.000000               304531.000000   \n",
              "mean           0.000496          0.000328                    0.005523   \n",
              "std            0.022262          0.018118                    0.077957   \n",
              "min            0.000000          0.000000                    0.000000   \n",
              "25%            0.000000          0.000000                    0.000000   \n",
              "50%            0.000000          0.000000                    0.000000   \n",
              "75%            0.000000          0.000000                    0.000000   \n",
              "max            1.000000          1.000000                    4.000000   \n",
              "\n",
              "       AMT_REQ_CREDIT_BUREAU_DAY  AMT_REQ_CREDIT_BUREAU_WEEK  \\\n",
              "count              304531.000000               304531.000000   \n",
              "mean                    0.006039                    0.029829   \n",
              "std                     0.102667                    0.190669   \n",
              "min                     0.000000                    0.000000   \n",
              "25%                     0.000000                    0.000000   \n",
              "50%                     0.000000                    0.000000   \n",
              "75%                     0.000000                    0.000000   \n",
              "max                     9.000000                    8.000000   \n",
              "\n",
              "       AMT_REQ_CREDIT_BUREAU_MON  AMT_REQ_CREDIT_BUREAU_QRT  \\\n",
              "count              304531.000000              304531.000000   \n",
              "mean                    0.231635                   0.230203   \n",
              "std                     0.856216                   0.745648   \n",
              "min                     0.000000                   0.000000   \n",
              "25%                     0.000000                   0.000000   \n",
              "50%                     0.000000                   0.000000   \n",
              "75%                     0.000000                   0.000000   \n",
              "max                    27.000000                 261.000000   \n",
              "\n",
              "       AMT_REQ_CREDIT_BUREAU_YEAR        HAS_CAR  \n",
              "count               304531.000000  304531.000000  \n",
              "mean                     1.648630       0.340258  \n",
              "std                      1.856842       0.473796  \n",
              "min                      0.000000       0.000000  \n",
              "25%                      0.000000       0.000000  \n",
              "50%                      1.000000       0.000000  \n",
              "75%                      3.000000       1.000000  \n",
              "max                     25.000000       1.000000  "
            ],
            "text/html": [
              "\n",
              "  <div id=\"df-df8e5fe3-8888-4f10-9b69-24dec4e85763\" class=\"colab-df-container\">\n",
              "    <div>\n",
              "<style scoped>\n",
              "    .dataframe tbody tr th:only-of-type {\n",
              "        vertical-align: middle;\n",
              "    }\n",
              "\n",
              "    .dataframe tbody tr th {\n",
              "        vertical-align: top;\n",
              "    }\n",
              "\n",
              "    .dataframe thead th {\n",
              "        text-align: right;\n",
              "    }\n",
              "</style>\n",
              "<table border=\"1\" class=\"dataframe\">\n",
              "  <thead>\n",
              "    <tr style=\"text-align: right;\">\n",
              "      <th></th>\n",
              "      <th>SK_ID_CURR</th>\n",
              "      <th>TARGET</th>\n",
              "      <th>CNT_CHILDREN</th>\n",
              "      <th>AMT_INCOME_TOTAL</th>\n",
              "      <th>AMT_CREDIT</th>\n",
              "      <th>AMT_ANNUITY</th>\n",
              "      <th>AMT_GOODS_PRICE</th>\n",
              "      <th>REGION_POPULATION_RELATIVE</th>\n",
              "      <th>DAYS_BIRTH</th>\n",
              "      <th>DAYS_EMPLOYED</th>\n",
              "      <th>DAYS_REGISTRATION</th>\n",
              "      <th>DAYS_ID_PUBLISH</th>\n",
              "      <th>FLAG_MOBIL</th>\n",
              "      <th>FLAG_EMP_PHONE</th>\n",
              "      <th>FLAG_WORK_PHONE</th>\n",
              "      <th>FLAG_CONT_MOBILE</th>\n",
              "      <th>FLAG_PHONE</th>\n",
              "      <th>FLAG_EMAIL</th>\n",
              "      <th>CNT_FAM_MEMBERS</th>\n",
              "      <th>REGION_RATING_CLIENT</th>\n",
              "      <th>REGION_RATING_CLIENT_W_CITY</th>\n",
              "      <th>HOUR_APPR_PROCESS_START</th>\n",
              "      <th>REG_REGION_NOT_LIVE_REGION</th>\n",
              "      <th>REG_REGION_NOT_WORK_REGION</th>\n",
              "      <th>LIVE_REGION_NOT_WORK_REGION</th>\n",
              "      <th>REG_CITY_NOT_LIVE_CITY</th>\n",
              "      <th>REG_CITY_NOT_WORK_CITY</th>\n",
              "      <th>LIVE_CITY_NOT_WORK_CITY</th>\n",
              "      <th>EXT_SOURCE_1</th>\n",
              "      <th>EXT_SOURCE_2</th>\n",
              "      <th>EXT_SOURCE_3</th>\n",
              "      <th>OBS_30_CNT_SOCIAL_CIRCLE</th>\n",
              "      <th>DEF_30_CNT_SOCIAL_CIRCLE</th>\n",
              "      <th>OBS_60_CNT_SOCIAL_CIRCLE</th>\n",
              "      <th>DEF_60_CNT_SOCIAL_CIRCLE</th>\n",
              "      <th>DAYS_LAST_PHONE_CHANGE</th>\n",
              "      <th>FLAG_DOCUMENT_2</th>\n",
              "      <th>FLAG_DOCUMENT_3</th>\n",
              "      <th>FLAG_DOCUMENT_4</th>\n",
              "      <th>FLAG_DOCUMENT_5</th>\n",
              "      <th>FLAG_DOCUMENT_6</th>\n",
              "      <th>FLAG_DOCUMENT_7</th>\n",
              "      <th>FLAG_DOCUMENT_8</th>\n",
              "      <th>FLAG_DOCUMENT_9</th>\n",
              "      <th>FLAG_DOCUMENT_10</th>\n",
              "      <th>FLAG_DOCUMENT_11</th>\n",
              "      <th>FLAG_DOCUMENT_12</th>\n",
              "      <th>FLAG_DOCUMENT_13</th>\n",
              "      <th>FLAG_DOCUMENT_14</th>\n",
              "      <th>FLAG_DOCUMENT_15</th>\n",
              "      <th>FLAG_DOCUMENT_16</th>\n",
              "      <th>FLAG_DOCUMENT_17</th>\n",
              "      <th>FLAG_DOCUMENT_18</th>\n",
              "      <th>FLAG_DOCUMENT_19</th>\n",
              "      <th>FLAG_DOCUMENT_20</th>\n",
              "      <th>FLAG_DOCUMENT_21</th>\n",
              "      <th>AMT_REQ_CREDIT_BUREAU_HOUR</th>\n",
              "      <th>AMT_REQ_CREDIT_BUREAU_DAY</th>\n",
              "      <th>AMT_REQ_CREDIT_BUREAU_WEEK</th>\n",
              "      <th>AMT_REQ_CREDIT_BUREAU_MON</th>\n",
              "      <th>AMT_REQ_CREDIT_BUREAU_QRT</th>\n",
              "      <th>AMT_REQ_CREDIT_BUREAU_YEAR</th>\n",
              "      <th>HAS_CAR</th>\n",
              "    </tr>\n",
              "  </thead>\n",
              "  <tbody>\n",
              "    <tr>\n",
              "      <th>count</th>\n",
              "      <td>304531.000000</td>\n",
              "      <td>304531.000000</td>\n",
              "      <td>304531.000000</td>\n",
              "      <td>3.045310e+05</td>\n",
              "      <td>3.045310e+05</td>\n",
              "      <td>304531.000000</td>\n",
              "      <td>3.045310e+05</td>\n",
              "      <td>304531.000000</td>\n",
              "      <td>304531.000000</td>\n",
              "      <td>304531.000000</td>\n",
              "      <td>304531.000000</td>\n",
              "      <td>304531.000000</td>\n",
              "      <td>304531.0</td>\n",
              "      <td>304531.000000</td>\n",
              "      <td>304531.000000</td>\n",
              "      <td>304531.000000</td>\n",
              "      <td>304531.000000</td>\n",
              "      <td>304531.000000</td>\n",
              "      <td>304531.000000</td>\n",
              "      <td>304531.000000</td>\n",
              "      <td>304531.000000</td>\n",
              "      <td>304531.000000</td>\n",
              "      <td>304531.000000</td>\n",
              "      <td>304531.000000</td>\n",
              "      <td>304531.000000</td>\n",
              "      <td>304531.000000</td>\n",
              "      <td>304531.000000</td>\n",
              "      <td>304531.000000</td>\n",
              "      <td>132879.000000</td>\n",
              "      <td>3.045310e+05</td>\n",
              "      <td>304531.000000</td>\n",
              "      <td>304531.000000</td>\n",
              "      <td>304531.000000</td>\n",
              "      <td>304531.000000</td>\n",
              "      <td>304531.000000</td>\n",
              "      <td>304531.000000</td>\n",
              "      <td>304531.000000</td>\n",
              "      <td>304531.000000</td>\n",
              "      <td>304531.000000</td>\n",
              "      <td>304531.000000</td>\n",
              "      <td>304531.000000</td>\n",
              "      <td>304531.000000</td>\n",
              "      <td>304531.000000</td>\n",
              "      <td>304531.000000</td>\n",
              "      <td>304531.000000</td>\n",
              "      <td>304531.000000</td>\n",
              "      <td>304531.000000</td>\n",
              "      <td>304531.000000</td>\n",
              "      <td>304531.000000</td>\n",
              "      <td>304531.000000</td>\n",
              "      <td>304531.000000</td>\n",
              "      <td>304531.000000</td>\n",
              "      <td>304531.000000</td>\n",
              "      <td>304531.000000</td>\n",
              "      <td>304531.000000</td>\n",
              "      <td>304531.000000</td>\n",
              "      <td>304531.000000</td>\n",
              "      <td>304531.000000</td>\n",
              "      <td>304531.000000</td>\n",
              "      <td>304531.000000</td>\n",
              "      <td>304531.000000</td>\n",
              "      <td>304531.000000</td>\n",
              "      <td>304531.000000</td>\n",
              "    </tr>\n",
              "    <tr>\n",
              "      <th>mean</th>\n",
              "      <td>278171.558800</td>\n",
              "      <td>0.081000</td>\n",
              "      <td>0.417140</td>\n",
              "      <td>1.686634e+05</td>\n",
              "      <td>5.995592e+05</td>\n",
              "      <td>27146.369655</td>\n",
              "      <td>5.384949e+05</td>\n",
              "      <td>0.020842</td>\n",
              "      <td>-16040.509915</td>\n",
              "      <td>63831.232423</td>\n",
              "      <td>-4986.687785</td>\n",
              "      <td>-2994.732070</td>\n",
              "      <td>1.0</td>\n",
              "      <td>0.819841</td>\n",
              "      <td>0.199730</td>\n",
              "      <td>0.998141</td>\n",
              "      <td>0.281278</td>\n",
              "      <td>0.056881</td>\n",
              "      <td>2.153163</td>\n",
              "      <td>2.053328</td>\n",
              "      <td>2.032302</td>\n",
              "      <td>12.060079</td>\n",
              "      <td>0.015154</td>\n",
              "      <td>0.050675</td>\n",
              "      <td>0.040518</td>\n",
              "      <td>0.078212</td>\n",
              "      <td>0.230630</td>\n",
              "      <td>0.179709</td>\n",
              "      <td>0.501986</td>\n",
              "      <td>5.142203e-01</td>\n",
              "      <td>0.515614</td>\n",
              "      <td>1.422052</td>\n",
              "      <td>0.143421</td>\n",
              "      <td>1.405131</td>\n",
              "      <td>0.100069</td>\n",
              "      <td>-965.330085</td>\n",
              "      <td>0.000043</td>\n",
              "      <td>0.712860</td>\n",
              "      <td>0.000082</td>\n",
              "      <td>0.014708</td>\n",
              "      <td>0.088067</td>\n",
              "      <td>0.000138</td>\n",
              "      <td>0.081670</td>\n",
              "      <td>0.003852</td>\n",
              "      <td>0.000020</td>\n",
              "      <td>0.003845</td>\n",
              "      <td>0.000007</td>\n",
              "      <td>0.003425</td>\n",
              "      <td>0.002821</td>\n",
              "      <td>0.001133</td>\n",
              "      <td>0.009447</td>\n",
              "      <td>0.000263</td>\n",
              "      <td>0.007851</td>\n",
              "      <td>0.000575</td>\n",
              "      <td>0.000496</td>\n",
              "      <td>0.000328</td>\n",
              "      <td>0.005523</td>\n",
              "      <td>0.006039</td>\n",
              "      <td>0.029829</td>\n",
              "      <td>0.231635</td>\n",
              "      <td>0.230203</td>\n",
              "      <td>1.648630</td>\n",
              "      <td>0.340258</td>\n",
              "    </tr>\n",
              "    <tr>\n",
              "      <th>std</th>\n",
              "      <td>102782.532925</td>\n",
              "      <td>0.272836</td>\n",
              "      <td>0.722308</td>\n",
              "      <td>2.378910e+05</td>\n",
              "      <td>4.021453e+05</td>\n",
              "      <td>14480.104699</td>\n",
              "      <td>3.690524e+05</td>\n",
              "      <td>0.013808</td>\n",
              "      <td>4361.978717</td>\n",
              "      <td>141291.148422</td>\n",
              "      <td>3521.601095</td>\n",
              "      <td>1509.373915</td>\n",
              "      <td>0.0</td>\n",
              "      <td>0.384320</td>\n",
              "      <td>0.399798</td>\n",
              "      <td>0.043071</td>\n",
              "      <td>0.449624</td>\n",
              "      <td>0.231615</td>\n",
              "      <td>0.910638</td>\n",
              "      <td>0.508890</td>\n",
              "      <td>0.502616</td>\n",
              "      <td>3.265884</td>\n",
              "      <td>0.122167</td>\n",
              "      <td>0.219333</td>\n",
              "      <td>0.197171</td>\n",
              "      <td>0.268505</td>\n",
              "      <td>0.421237</td>\n",
              "      <td>0.383946</td>\n",
              "      <td>0.211049</td>\n",
              "      <td>1.911246e-01</td>\n",
              "      <td>0.174780</td>\n",
              "      <td>2.401424</td>\n",
              "      <td>0.446721</td>\n",
              "      <td>2.380308</td>\n",
              "      <td>0.362388</td>\n",
              "      <td>826.943447</td>\n",
              "      <td>0.006534</td>\n",
              "      <td>0.452428</td>\n",
              "      <td>0.009060</td>\n",
              "      <td>0.120381</td>\n",
              "      <td>0.283392</td>\n",
              "      <td>0.011743</td>\n",
              "      <td>0.273862</td>\n",
              "      <td>0.061944</td>\n",
              "      <td>0.004439</td>\n",
              "      <td>0.061891</td>\n",
              "      <td>0.002563</td>\n",
              "      <td>0.058423</td>\n",
              "      <td>0.053036</td>\n",
              "      <td>0.033639</td>\n",
              "      <td>0.096737</td>\n",
              "      <td>0.016206</td>\n",
              "      <td>0.088260</td>\n",
              "      <td>0.023965</td>\n",
              "      <td>0.022262</td>\n",
              "      <td>0.018118</td>\n",
              "      <td>0.077957</td>\n",
              "      <td>0.102667</td>\n",
              "      <td>0.190669</td>\n",
              "      <td>0.856216</td>\n",
              "      <td>0.745648</td>\n",
              "      <td>1.856842</td>\n",
              "      <td>0.473796</td>\n",
              "    </tr>\n",
              "    <tr>\n",
              "      <th>min</th>\n",
              "      <td>100002.000000</td>\n",
              "      <td>0.000000</td>\n",
              "      <td>0.000000</td>\n",
              "      <td>2.565000e+04</td>\n",
              "      <td>4.500000e+04</td>\n",
              "      <td>1615.500000</td>\n",
              "      <td>4.050000e+04</td>\n",
              "      <td>0.000290</td>\n",
              "      <td>-25229.000000</td>\n",
              "      <td>-17912.000000</td>\n",
              "      <td>-24672.000000</td>\n",
              "      <td>-7197.000000</td>\n",
              "      <td>1.0</td>\n",
              "      <td>0.000000</td>\n",
              "      <td>0.000000</td>\n",
              "      <td>0.000000</td>\n",
              "      <td>0.000000</td>\n",
              "      <td>0.000000</td>\n",
              "      <td>1.000000</td>\n",
              "      <td>1.000000</td>\n",
              "      <td>1.000000</td>\n",
              "      <td>0.000000</td>\n",
              "      <td>0.000000</td>\n",
              "      <td>0.000000</td>\n",
              "      <td>0.000000</td>\n",
              "      <td>0.000000</td>\n",
              "      <td>0.000000</td>\n",
              "      <td>0.000000</td>\n",
              "      <td>0.014568</td>\n",
              "      <td>8.173617e-08</td>\n",
              "      <td>0.000527</td>\n",
              "      <td>0.000000</td>\n",
              "      <td>0.000000</td>\n",
              "      <td>0.000000</td>\n",
              "      <td>0.000000</td>\n",
              "      <td>-4292.000000</td>\n",
              "      <td>0.000000</td>\n",
              "      <td>0.000000</td>\n",
              "      <td>0.000000</td>\n",
              "      <td>0.000000</td>\n",
              "      <td>0.000000</td>\n",
              "      <td>0.000000</td>\n",
              "      <td>0.000000</td>\n",
              "      <td>0.000000</td>\n",
              "      <td>0.000000</td>\n",
              "      <td>0.000000</td>\n",
              "      <td>0.000000</td>\n",
              "      <td>0.000000</td>\n",
              "      <td>0.000000</td>\n",
              "      <td>0.000000</td>\n",
              "      <td>0.000000</td>\n",
              "      <td>0.000000</td>\n",
              "      <td>0.000000</td>\n",
              "      <td>0.000000</td>\n",
              "      <td>0.000000</td>\n",
              "      <td>0.000000</td>\n",
              "      <td>0.000000</td>\n",
              "      <td>0.000000</td>\n",
              "      <td>0.000000</td>\n",
              "      <td>0.000000</td>\n",
              "      <td>0.000000</td>\n",
              "      <td>0.000000</td>\n",
              "      <td>0.000000</td>\n",
              "    </tr>\n",
              "    <tr>\n",
              "      <th>25%</th>\n",
              "      <td>189138.500000</td>\n",
              "      <td>0.000000</td>\n",
              "      <td>0.000000</td>\n",
              "      <td>1.125000e+05</td>\n",
              "      <td>2.700000e+05</td>\n",
              "      <td>16573.500000</td>\n",
              "      <td>2.385000e+05</td>\n",
              "      <td>0.010006</td>\n",
              "      <td>-19682.000000</td>\n",
              "      <td>-2762.000000</td>\n",
              "      <td>-7478.000000</td>\n",
              "      <td>-4299.000000</td>\n",
              "      <td>1.0</td>\n",
              "      <td>1.000000</td>\n",
              "      <td>0.000000</td>\n",
              "      <td>1.000000</td>\n",
              "      <td>0.000000</td>\n",
              "      <td>0.000000</td>\n",
              "      <td>2.000000</td>\n",
              "      <td>2.000000</td>\n",
              "      <td>2.000000</td>\n",
              "      <td>10.000000</td>\n",
              "      <td>0.000000</td>\n",
              "      <td>0.000000</td>\n",
              "      <td>0.000000</td>\n",
              "      <td>0.000000</td>\n",
              "      <td>0.000000</td>\n",
              "      <td>0.000000</td>\n",
              "      <td>0.333967</td>\n",
              "      <td>3.921081e-01</td>\n",
              "      <td>0.417100</td>\n",
              "      <td>0.000000</td>\n",
              "      <td>0.000000</td>\n",
              "      <td>0.000000</td>\n",
              "      <td>0.000000</td>\n",
              "      <td>-1572.000000</td>\n",
              "      <td>0.000000</td>\n",
              "      <td>0.000000</td>\n",
              "      <td>0.000000</td>\n",
              "      <td>0.000000</td>\n",
              "      <td>0.000000</td>\n",
              "      <td>0.000000</td>\n",
              "      <td>0.000000</td>\n",
              "      <td>0.000000</td>\n",
              "      <td>0.000000</td>\n",
              "      <td>0.000000</td>\n",
              "      <td>0.000000</td>\n",
              "      <td>0.000000</td>\n",
              "      <td>0.000000</td>\n",
              "      <td>0.000000</td>\n",
              "      <td>0.000000</td>\n",
              "      <td>0.000000</td>\n",
              "      <td>0.000000</td>\n",
              "      <td>0.000000</td>\n",
              "      <td>0.000000</td>\n",
              "      <td>0.000000</td>\n",
              "      <td>0.000000</td>\n",
              "      <td>0.000000</td>\n",
              "      <td>0.000000</td>\n",
              "      <td>0.000000</td>\n",
              "      <td>0.000000</td>\n",
              "      <td>0.000000</td>\n",
              "      <td>0.000000</td>\n",
              "    </tr>\n",
              "    <tr>\n",
              "      <th>50%</th>\n",
              "      <td>278193.000000</td>\n",
              "      <td>0.000000</td>\n",
              "      <td>0.000000</td>\n",
              "      <td>1.476000e+05</td>\n",
              "      <td>5.172660e+05</td>\n",
              "      <td>24939.000000</td>\n",
              "      <td>4.500000e+05</td>\n",
              "      <td>0.018850</td>\n",
              "      <td>-15755.000000</td>\n",
              "      <td>-1215.000000</td>\n",
              "      <td>-4505.000000</td>\n",
              "      <td>-3255.000000</td>\n",
              "      <td>1.0</td>\n",
              "      <td>1.000000</td>\n",
              "      <td>0.000000</td>\n",
              "      <td>1.000000</td>\n",
              "      <td>0.000000</td>\n",
              "      <td>0.000000</td>\n",
              "      <td>2.000000</td>\n",
              "      <td>2.000000</td>\n",
              "      <td>2.000000</td>\n",
              "      <td>12.000000</td>\n",
              "      <td>0.000000</td>\n",
              "      <td>0.000000</td>\n",
              "      <td>0.000000</td>\n",
              "      <td>0.000000</td>\n",
              "      <td>0.000000</td>\n",
              "      <td>0.000000</td>\n",
              "      <td>0.505819</td>\n",
              "      <td>5.658110e-01</td>\n",
              "      <td>0.535276</td>\n",
              "      <td>0.000000</td>\n",
              "      <td>0.000000</td>\n",
              "      <td>0.000000</td>\n",
              "      <td>0.000000</td>\n",
              "      <td>-761.000000</td>\n",
              "      <td>0.000000</td>\n",
              "      <td>1.000000</td>\n",
              "      <td>0.000000</td>\n",
              "      <td>0.000000</td>\n",
              "      <td>0.000000</td>\n",
              "      <td>0.000000</td>\n",
              "      <td>0.000000</td>\n",
              "      <td>0.000000</td>\n",
              "      <td>0.000000</td>\n",
              "      <td>0.000000</td>\n",
              "      <td>0.000000</td>\n",
              "      <td>0.000000</td>\n",
              "      <td>0.000000</td>\n",
              "      <td>0.000000</td>\n",
              "      <td>0.000000</td>\n",
              "      <td>0.000000</td>\n",
              "      <td>0.000000</td>\n",
              "      <td>0.000000</td>\n",
              "      <td>0.000000</td>\n",
              "      <td>0.000000</td>\n",
              "      <td>0.000000</td>\n",
              "      <td>0.000000</td>\n",
              "      <td>0.000000</td>\n",
              "      <td>0.000000</td>\n",
              "      <td>0.000000</td>\n",
              "      <td>1.000000</td>\n",
              "      <td>0.000000</td>\n",
              "    </tr>\n",
              "    <tr>\n",
              "      <th>75%</th>\n",
              "      <td>367136.000000</td>\n",
              "      <td>0.000000</td>\n",
              "      <td>1.000000</td>\n",
              "      <td>2.025000e+05</td>\n",
              "      <td>8.086500e+05</td>\n",
              "      <td>34641.000000</td>\n",
              "      <td>6.795000e+05</td>\n",
              "      <td>0.028663</td>\n",
              "      <td>-12418.000000</td>\n",
              "      <td>-290.000000</td>\n",
              "      <td>-2012.000000</td>\n",
              "      <td>-1721.000000</td>\n",
              "      <td>1.0</td>\n",
              "      <td>1.000000</td>\n",
              "      <td>0.000000</td>\n",
              "      <td>1.000000</td>\n",
              "      <td>1.000000</td>\n",
              "      <td>0.000000</td>\n",
              "      <td>3.000000</td>\n",
              "      <td>2.000000</td>\n",
              "      <td>2.000000</td>\n",
              "      <td>14.000000</td>\n",
              "      <td>0.000000</td>\n",
              "      <td>0.000000</td>\n",
              "      <td>0.000000</td>\n",
              "      <td>0.000000</td>\n",
              "      <td>0.000000</td>\n",
              "      <td>0.000000</td>\n",
              "      <td>0.674901</td>\n",
              "      <td>6.635463e-01</td>\n",
              "      <td>0.636376</td>\n",
              "      <td>2.000000</td>\n",
              "      <td>0.000000</td>\n",
              "      <td>2.000000</td>\n",
              "      <td>0.000000</td>\n",
              "      <td>-276.000000</td>\n",
              "      <td>0.000000</td>\n",
              "      <td>1.000000</td>\n",
              "      <td>0.000000</td>\n",
              "      <td>0.000000</td>\n",
              "      <td>0.000000</td>\n",
              "      <td>0.000000</td>\n",
              "      <td>0.000000</td>\n",
              "      <td>0.000000</td>\n",
              "      <td>0.000000</td>\n",
              "      <td>0.000000</td>\n",
              "      <td>0.000000</td>\n",
              "      <td>0.000000</td>\n",
              "      <td>0.000000</td>\n",
              "      <td>0.000000</td>\n",
              "      <td>0.000000</td>\n",
              "      <td>0.000000</td>\n",
              "      <td>0.000000</td>\n",
              "      <td>0.000000</td>\n",
              "      <td>0.000000</td>\n",
              "      <td>0.000000</td>\n",
              "      <td>0.000000</td>\n",
              "      <td>0.000000</td>\n",
              "      <td>0.000000</td>\n",
              "      <td>0.000000</td>\n",
              "      <td>0.000000</td>\n",
              "      <td>3.000000</td>\n",
              "      <td>1.000000</td>\n",
              "    </tr>\n",
              "    <tr>\n",
              "      <th>max</th>\n",
              "      <td>456255.000000</td>\n",
              "      <td>1.000000</td>\n",
              "      <td>19.000000</td>\n",
              "      <td>1.170000e+08</td>\n",
              "      <td>4.050000e+06</td>\n",
              "      <td>258025.500000</td>\n",
              "      <td>4.050000e+06</td>\n",
              "      <td>0.072508</td>\n",
              "      <td>-7489.000000</td>\n",
              "      <td>365243.000000</td>\n",
              "      <td>0.000000</td>\n",
              "      <td>0.000000</td>\n",
              "      <td>1.0</td>\n",
              "      <td>1.000000</td>\n",
              "      <td>1.000000</td>\n",
              "      <td>1.000000</td>\n",
              "      <td>1.000000</td>\n",
              "      <td>1.000000</td>\n",
              "      <td>20.000000</td>\n",
              "      <td>3.000000</td>\n",
              "      <td>3.000000</td>\n",
              "      <td>23.000000</td>\n",
              "      <td>1.000000</td>\n",
              "      <td>1.000000</td>\n",
              "      <td>1.000000</td>\n",
              "      <td>1.000000</td>\n",
              "      <td>1.000000</td>\n",
              "      <td>1.000000</td>\n",
              "      <td>0.962693</td>\n",
              "      <td>8.549997e-01</td>\n",
              "      <td>0.896010</td>\n",
              "      <td>348.000000</td>\n",
              "      <td>34.000000</td>\n",
              "      <td>344.000000</td>\n",
              "      <td>24.000000</td>\n",
              "      <td>0.000000</td>\n",
              "      <td>1.000000</td>\n",
              "      <td>1.000000</td>\n",
              "      <td>1.000000</td>\n",
              "      <td>1.000000</td>\n",
              "      <td>1.000000</td>\n",
              "      <td>1.000000</td>\n",
              "      <td>1.000000</td>\n",
              "      <td>1.000000</td>\n",
              "      <td>1.000000</td>\n",
              "      <td>1.000000</td>\n",
              "      <td>1.000000</td>\n",
              "      <td>1.000000</td>\n",
              "      <td>1.000000</td>\n",
              "      <td>1.000000</td>\n",
              "      <td>1.000000</td>\n",
              "      <td>1.000000</td>\n",
              "      <td>1.000000</td>\n",
              "      <td>1.000000</td>\n",
              "      <td>1.000000</td>\n",
              "      <td>1.000000</td>\n",
              "      <td>4.000000</td>\n",
              "      <td>9.000000</td>\n",
              "      <td>8.000000</td>\n",
              "      <td>27.000000</td>\n",
              "      <td>261.000000</td>\n",
              "      <td>25.000000</td>\n",
              "      <td>1.000000</td>\n",
              "    </tr>\n",
              "  </tbody>\n",
              "</table>\n",
              "</div>\n",
              "    <div class=\"colab-df-buttons\">\n",
              "      \n",
              "  <div class=\"colab-df-container\">\n",
              "    <button class=\"colab-df-convert\" onclick=\"convertToInteractive('df-df8e5fe3-8888-4f10-9b69-24dec4e85763')\"\n",
              "            title=\"Convert this dataframe to an interactive table.\"\n",
              "            style=\"display:none;\">\n",
              "      \n",
              "  <svg xmlns=\"http://www.w3.org/2000/svg\" height=\"24px\" viewBox=\"0 -960 960 960\">\n",
              "    <path d=\"M120-120v-720h720v720H120Zm60-500h600v-160H180v160Zm220 220h160v-160H400v160Zm0 220h160v-160H400v160ZM180-400h160v-160H180v160Zm440 0h160v-160H620v160ZM180-180h160v-160H180v160Zm440 0h160v-160H620v160Z\"/>\n",
              "  </svg>\n",
              "    </button>\n",
              "    \n",
              "  <style>\n",
              "    .colab-df-container {\n",
              "      display:flex;\n",
              "      gap: 12px;\n",
              "    }\n",
              "\n",
              "    .colab-df-convert {\n",
              "      background-color: #E8F0FE;\n",
              "      border: none;\n",
              "      border-radius: 50%;\n",
              "      cursor: pointer;\n",
              "      display: none;\n",
              "      fill: #1967D2;\n",
              "      height: 32px;\n",
              "      padding: 0 0 0 0;\n",
              "      width: 32px;\n",
              "    }\n",
              "\n",
              "    .colab-df-convert:hover {\n",
              "      background-color: #E2EBFA;\n",
              "      box-shadow: 0px 1px 2px rgba(60, 64, 67, 0.3), 0px 1px 3px 1px rgba(60, 64, 67, 0.15);\n",
              "      fill: #174EA6;\n",
              "    }\n",
              "\n",
              "    .colab-df-buttons div {\n",
              "      margin-bottom: 4px;\n",
              "    }\n",
              "\n",
              "    [theme=dark] .colab-df-convert {\n",
              "      background-color: #3B4455;\n",
              "      fill: #D2E3FC;\n",
              "    }\n",
              "\n",
              "    [theme=dark] .colab-df-convert:hover {\n",
              "      background-color: #434B5C;\n",
              "      box-shadow: 0px 1px 3px 1px rgba(0, 0, 0, 0.15);\n",
              "      filter: drop-shadow(0px 1px 2px rgba(0, 0, 0, 0.3));\n",
              "      fill: #FFFFFF;\n",
              "    }\n",
              "  </style>\n",
              "\n",
              "    <script>\n",
              "      const buttonEl =\n",
              "        document.querySelector('#df-df8e5fe3-8888-4f10-9b69-24dec4e85763 button.colab-df-convert');\n",
              "      buttonEl.style.display =\n",
              "        google.colab.kernel.accessAllowed ? 'block' : 'none';\n",
              "\n",
              "      async function convertToInteractive(key) {\n",
              "        const element = document.querySelector('#df-df8e5fe3-8888-4f10-9b69-24dec4e85763');\n",
              "        const dataTable =\n",
              "          await google.colab.kernel.invokeFunction('convertToInteractive',\n",
              "                                                    [key], {});\n",
              "        if (!dataTable) return;\n",
              "\n",
              "        const docLinkHtml = 'Like what you see? Visit the ' +\n",
              "          '<a target=\"_blank\" href=https://colab.research.google.com/notebooks/data_table.ipynb>data table notebook</a>'\n",
              "          + ' to learn more about interactive tables.';\n",
              "        element.innerHTML = '';\n",
              "        dataTable['output_type'] = 'display_data';\n",
              "        await google.colab.output.renderOutput(dataTable, element);\n",
              "        const docLink = document.createElement('div');\n",
              "        docLink.innerHTML = docLinkHtml;\n",
              "        element.appendChild(docLink);\n",
              "      }\n",
              "    </script>\n",
              "  </div>\n",
              "  \n",
              "    </div>\n",
              "  </div>\n",
              "  "
            ],
            "application/vnd.google.colaboratory.intrinsic+json": {
              "type": "dataframe"
            }
          },
          "metadata": {},
          "execution_count": 36
        }
      ],
      "source": [
        "pd.set_option('display.max_columns', None)\n",
        "\n",
        "df_train.describe()\n"
      ]
    },
    {
      "cell_type": "markdown",
      "metadata": {
        "id": "a2cz3o2KW-9w"
      },
      "source": [
        "- the ID columns will be removed not needed for modelling\n",
        "- cnt_childer could be investigated\n",
        "- days_birth needs investigation\n",
        "- days_employed needs investigation\n",
        "- dayes_registeration , id publish as well needs investigation\n",
        "- also mobile flags columns needs extra investigations\n",
        "-   'OBS_30_CNT_SOCIAL_CIRCLE',\n",
        "    'DEF_30_CNT_SOCIAL_CIRCLE',\n",
        "    'OBS_60_CNT_SOCIAL_CIRCLE',\n",
        "    'DEF_60_CNT_SOCIAL_CIRCLE' these as well need extra considerations\n"
      ]
    },
    {
      "cell_type": "code",
      "execution_count": 37,
      "metadata": {
        "id": "5h69AWMslL8q",
        "colab": {
          "base_uri": "https://localhost:8080/"
        },
        "outputId": "42288983-5573-4dc7-a674-5a6448d6b08a"
      },
      "outputs": [
        {
          "output_type": "stream",
          "name": "stdout",
          "text": [
            "DAYS_EMPLOYED\n",
            "-17912         1\n",
            "-17583         1\n",
            "-17546         1\n",
            "-17531         1\n",
            "-17522         1\n",
            "           ...  \n",
            "-3             3\n",
            "-2             2\n",
            "-1             1\n",
            " 0             2\n",
            " 365243    54852\n",
            "Name: count, Length: 12556, dtype: int64\n"
          ]
        }
      ],
      "source": [
        "\n",
        "print(df_train['DAYS_EMPLOYED'].value_counts().sort_index())"
      ]
    },
    {
      "cell_type": "markdown",
      "metadata": {
        "id": "lmOV6_-Tmw1r"
      },
      "source": [
        "looks like the number 365243 indicates that this value is missing and it is not by luck."
      ]
    },
    {
      "cell_type": "code",
      "execution_count": 38,
      "metadata": {
        "id": "OxHd-6A8oeKk"
      },
      "outputs": [],
      "source": [
        "## Create a binary feature to capture this placeholder\n",
        "df_train['DAYS_EMPLOYED_FLAG'] = (df_train['DAYS_EMPLOYED'] == 365243).astype(int)\n",
        "df_test['DAYS_EMPLOYED_FLAG'] = (df_test['DAYS_EMPLOYED'] == 365243).astype(int)\n",
        "# Replace placeholder value with NaN so it doesn’t affect modell\n",
        "df_train['DAYS_EMPLOYED'] = df_train['DAYS_EMPLOYED'].replace(365243, np.nan)\n",
        "df_test['DAYS_EMPLOYED'] = df_test['DAYS_EMPLOYED'].replace(365243, np.nan)\n"
      ]
    },
    {
      "cell_type": "markdown",
      "metadata": {
        "id": "PFU9N8Dsone5"
      },
      "source": [
        "In this case, it is smart to replace the positive value 365243 with NaN because we intend to use a tree-based model, which can natively handle missing values. Unlike other columns where missing data may be ambiguous or due to random omission, the value 365243 is not random — it is a deliberate placeholder that likely indicates the applicant is unemployed or not currently working.\n",
        "\n",
        "By converting it to NaN, we preserve the true semantic meaning of the data and allow the model to treat it as a distinct and informative missing signal, rather than misleading it with an artificially large number. This strategy improves the model's ability to learn correct patterns from the data."
      ]
    },
    {
      "cell_type": "code",
      "source": [
        "df_train.info()"
      ],
      "metadata": {
        "colab": {
          "base_uri": "https://localhost:8080/"
        },
        "id": "rmc2BWW4ypkS",
        "outputId": "c2a93a47-ad7f-4893-f116-b24f72a56a37"
      },
      "execution_count": 39,
      "outputs": [
        {
          "output_type": "stream",
          "name": "stdout",
          "text": [
            "<class 'pandas.core.frame.DataFrame'>\n",
            "Index: 304531 entries, 0 to 307510\n",
            "Data columns (total 75 columns):\n",
            " #   Column                       Non-Null Count   Dtype  \n",
            "---  ------                       --------------   -----  \n",
            " 0   SK_ID_CURR                   304531 non-null  int64  \n",
            " 1   TARGET                       304531 non-null  int64  \n",
            " 2   NAME_CONTRACT_TYPE           304531 non-null  object \n",
            " 3   CODE_GENDER                  304531 non-null  object \n",
            " 4   FLAG_OWN_CAR                 304531 non-null  object \n",
            " 5   FLAG_OWN_REALTY              304531 non-null  object \n",
            " 6   CNT_CHILDREN                 304531 non-null  int64  \n",
            " 7   AMT_INCOME_TOTAL             304531 non-null  float64\n",
            " 8   AMT_CREDIT                   304531 non-null  float64\n",
            " 9   AMT_ANNUITY                  304531 non-null  float64\n",
            " 10  AMT_GOODS_PRICE              304531 non-null  float64\n",
            " 11  NAME_TYPE_SUITE              304531 non-null  object \n",
            " 12  NAME_INCOME_TYPE             304531 non-null  object \n",
            " 13  NAME_EDUCATION_TYPE          304531 non-null  object \n",
            " 14  NAME_FAMILY_STATUS           304531 non-null  object \n",
            " 15  NAME_HOUSING_TYPE            304531 non-null  object \n",
            " 16  REGION_POPULATION_RELATIVE   304531 non-null  float64\n",
            " 17  DAYS_BIRTH                   304531 non-null  int64  \n",
            " 18  DAYS_EMPLOYED                249679 non-null  float64\n",
            " 19  DAYS_REGISTRATION            304531 non-null  float64\n",
            " 20  DAYS_ID_PUBLISH              304531 non-null  int64  \n",
            " 21  FLAG_MOBIL                   304531 non-null  int64  \n",
            " 22  FLAG_EMP_PHONE               304531 non-null  int64  \n",
            " 23  FLAG_WORK_PHONE              304531 non-null  int64  \n",
            " 24  FLAG_CONT_MOBILE             304531 non-null  int64  \n",
            " 25  FLAG_PHONE                   304531 non-null  int64  \n",
            " 26  FLAG_EMAIL                   304531 non-null  int64  \n",
            " 27  CNT_FAM_MEMBERS              304531 non-null  float64\n",
            " 28  REGION_RATING_CLIENT         304531 non-null  int64  \n",
            " 29  REGION_RATING_CLIENT_W_CITY  304531 non-null  int64  \n",
            " 30  WEEKDAY_APPR_PROCESS_START   304531 non-null  object \n",
            " 31  HOUR_APPR_PROCESS_START      304531 non-null  int64  \n",
            " 32  REG_REGION_NOT_LIVE_REGION   304531 non-null  int64  \n",
            " 33  REG_REGION_NOT_WORK_REGION   304531 non-null  int64  \n",
            " 34  LIVE_REGION_NOT_WORK_REGION  304531 non-null  int64  \n",
            " 35  REG_CITY_NOT_LIVE_CITY       304531 non-null  int64  \n",
            " 36  REG_CITY_NOT_WORK_CITY       304531 non-null  int64  \n",
            " 37  LIVE_CITY_NOT_WORK_CITY      304531 non-null  int64  \n",
            " 38  ORGANIZATION_TYPE            304531 non-null  object \n",
            " 39  EXT_SOURCE_1                 132879 non-null  float64\n",
            " 40  EXT_SOURCE_2                 304531 non-null  float64\n",
            " 41  EXT_SOURCE_3                 304531 non-null  float64\n",
            " 42  OBS_30_CNT_SOCIAL_CIRCLE     304531 non-null  float64\n",
            " 43  DEF_30_CNT_SOCIAL_CIRCLE     304531 non-null  float64\n",
            " 44  OBS_60_CNT_SOCIAL_CIRCLE     304531 non-null  float64\n",
            " 45  DEF_60_CNT_SOCIAL_CIRCLE     304531 non-null  float64\n",
            " 46  DAYS_LAST_PHONE_CHANGE       304531 non-null  float64\n",
            " 47  FLAG_DOCUMENT_2              304531 non-null  int64  \n",
            " 48  FLAG_DOCUMENT_3              304531 non-null  int64  \n",
            " 49  FLAG_DOCUMENT_4              304531 non-null  int64  \n",
            " 50  FLAG_DOCUMENT_5              304531 non-null  int64  \n",
            " 51  FLAG_DOCUMENT_6              304531 non-null  int64  \n",
            " 52  FLAG_DOCUMENT_7              304531 non-null  int64  \n",
            " 53  FLAG_DOCUMENT_8              304531 non-null  int64  \n",
            " 54  FLAG_DOCUMENT_9              304531 non-null  int64  \n",
            " 55  FLAG_DOCUMENT_10             304531 non-null  int64  \n",
            " 56  FLAG_DOCUMENT_11             304531 non-null  int64  \n",
            " 57  FLAG_DOCUMENT_12             304531 non-null  int64  \n",
            " 58  FLAG_DOCUMENT_13             304531 non-null  int64  \n",
            " 59  FLAG_DOCUMENT_14             304531 non-null  int64  \n",
            " 60  FLAG_DOCUMENT_15             304531 non-null  int64  \n",
            " 61  FLAG_DOCUMENT_16             304531 non-null  int64  \n",
            " 62  FLAG_DOCUMENT_17             304531 non-null  int64  \n",
            " 63  FLAG_DOCUMENT_18             304531 non-null  int64  \n",
            " 64  FLAG_DOCUMENT_19             304531 non-null  int64  \n",
            " 65  FLAG_DOCUMENT_20             304531 non-null  int64  \n",
            " 66  FLAG_DOCUMENT_21             304531 non-null  int64  \n",
            " 67  AMT_REQ_CREDIT_BUREAU_HOUR   304531 non-null  float64\n",
            " 68  AMT_REQ_CREDIT_BUREAU_DAY    304531 non-null  float64\n",
            " 69  AMT_REQ_CREDIT_BUREAU_WEEK   304531 non-null  float64\n",
            " 70  AMT_REQ_CREDIT_BUREAU_MON    304531 non-null  float64\n",
            " 71  AMT_REQ_CREDIT_BUREAU_QRT    304531 non-null  float64\n",
            " 72  AMT_REQ_CREDIT_BUREAU_YEAR   304531 non-null  float64\n",
            " 73  HAS_CAR                      304531 non-null  int64  \n",
            " 74  DAYS_EMPLOYED_FLAG           304531 non-null  int64  \n",
            "dtypes: float64(22), int64(42), object(11)\n",
            "memory usage: 176.6+ MB\n"
          ]
        }
      ]
    },
    {
      "cell_type": "markdown",
      "metadata": {
        "id": "fiD3NIFKgd3L"
      },
      "source": [
        "lets now see cnt_children"
      ]
    },
    {
      "cell_type": "code",
      "execution_count": 40,
      "metadata": {
        "id": "Hwj0qklggVlq",
        "colab": {
          "base_uri": "https://localhost:8080/",
          "height": 585
        },
        "outputId": "6fa7d5f6-2335-4f37-8015-58e8f7de5193"
      },
      "outputs": [
        {
          "output_type": "execute_result",
          "data": {
            "text/plain": [
              "CNT_CHILDREN\n",
              "0     213277\n",
              "1      60520\n",
              "2      26502\n",
              "3       3680\n",
              "4        426\n",
              "5         84\n",
              "6         21\n",
              "7          7\n",
              "8          2\n",
              "9          2\n",
              "10         2\n",
              "11         1\n",
              "12         2\n",
              "14         3\n",
              "19         2\n",
              "Name: count, dtype: int64"
            ],
            "text/html": [
              "<div>\n",
              "<style scoped>\n",
              "    .dataframe tbody tr th:only-of-type {\n",
              "        vertical-align: middle;\n",
              "    }\n",
              "\n",
              "    .dataframe tbody tr th {\n",
              "        vertical-align: top;\n",
              "    }\n",
              "\n",
              "    .dataframe thead th {\n",
              "        text-align: right;\n",
              "    }\n",
              "</style>\n",
              "<table border=\"1\" class=\"dataframe\">\n",
              "  <thead>\n",
              "    <tr style=\"text-align: right;\">\n",
              "      <th></th>\n",
              "      <th>count</th>\n",
              "    </tr>\n",
              "    <tr>\n",
              "      <th>CNT_CHILDREN</th>\n",
              "      <th></th>\n",
              "    </tr>\n",
              "  </thead>\n",
              "  <tbody>\n",
              "    <tr>\n",
              "      <th>0</th>\n",
              "      <td>213277</td>\n",
              "    </tr>\n",
              "    <tr>\n",
              "      <th>1</th>\n",
              "      <td>60520</td>\n",
              "    </tr>\n",
              "    <tr>\n",
              "      <th>2</th>\n",
              "      <td>26502</td>\n",
              "    </tr>\n",
              "    <tr>\n",
              "      <th>3</th>\n",
              "      <td>3680</td>\n",
              "    </tr>\n",
              "    <tr>\n",
              "      <th>4</th>\n",
              "      <td>426</td>\n",
              "    </tr>\n",
              "    <tr>\n",
              "      <th>5</th>\n",
              "      <td>84</td>\n",
              "    </tr>\n",
              "    <tr>\n",
              "      <th>6</th>\n",
              "      <td>21</td>\n",
              "    </tr>\n",
              "    <tr>\n",
              "      <th>7</th>\n",
              "      <td>7</td>\n",
              "    </tr>\n",
              "    <tr>\n",
              "      <th>8</th>\n",
              "      <td>2</td>\n",
              "    </tr>\n",
              "    <tr>\n",
              "      <th>9</th>\n",
              "      <td>2</td>\n",
              "    </tr>\n",
              "    <tr>\n",
              "      <th>10</th>\n",
              "      <td>2</td>\n",
              "    </tr>\n",
              "    <tr>\n",
              "      <th>11</th>\n",
              "      <td>1</td>\n",
              "    </tr>\n",
              "    <tr>\n",
              "      <th>12</th>\n",
              "      <td>2</td>\n",
              "    </tr>\n",
              "    <tr>\n",
              "      <th>14</th>\n",
              "      <td>3</td>\n",
              "    </tr>\n",
              "    <tr>\n",
              "      <th>19</th>\n",
              "      <td>2</td>\n",
              "    </tr>\n",
              "  </tbody>\n",
              "</table>\n",
              "</div><br><label><b>dtype:</b> int64</label>"
            ]
          },
          "metadata": {},
          "execution_count": 40
        }
      ],
      "source": [
        "df_train['CNT_CHILDREN'].value_counts().sort_index()\n"
      ]
    },
    {
      "cell_type": "markdown",
      "metadata": {
        "id": "toQ7acXLidR8"
      },
      "source": [
        "best approach is to group them"
      ]
    },
    {
      "cell_type": "code",
      "execution_count": 41,
      "metadata": {
        "id": "qOp8RCMEiZJx"
      },
      "outputs": [],
      "source": [
        "def categorize_children(x):\n",
        "    if x <= 2:\n",
        "        return 'Low'\n",
        "    elif x <= 5:\n",
        "        return 'Medium'\n",
        "    elif x <= 7:\n",
        "        return 'High'\n",
        "    else:\n",
        "        return 'Very_High'\n",
        "\n",
        "# Apply categorization\n",
        "df_train['CNT_CHILDREN_GROUP'] = df_train['CNT_CHILDREN'].apply(categorize_children)\n",
        "df_test['CNT_CHILDREN_GROUP'] = df_test['CNT_CHILDREN'].apply(categorize_children)\n",
        "\n",
        "# Drop the original column\n",
        "df_train.drop(columns=['CNT_CHILDREN'], inplace=True)\n",
        "df_test.drop(columns=['CNT_CHILDREN'], inplace=True)\n",
        "\n",
        "\n"
      ]
    },
    {
      "cell_type": "markdown",
      "metadata": {
        "id": "OoLyvhhFjZFV"
      },
      "source": [
        "lets investigate the DAYS_BIRTH columns"
      ]
    },
    {
      "cell_type": "code",
      "execution_count": 42,
      "metadata": {
        "id": "Q3kIEFiyihXO"
      },
      "outputs": [],
      "source": [
        "df_train['AGE_YEARS'] = (-df_train['DAYS_BIRTH'] / 365).round(1)\n",
        "df_train.drop('DAYS_BIRTH', axis=1, inplace=True)\n",
        "\n",
        "df_test['AGE_YEARS'] = (-df_test['DAYS_BIRTH'] / 365).round(1)\n",
        "df_test.drop('DAYS_BIRTH', axis=1, inplace=True)\n",
        "\n"
      ]
    },
    {
      "cell_type": "code",
      "execution_count": 43,
      "metadata": {
        "id": "Ug6qxww3jj6Y",
        "colab": {
          "base_uri": "https://localhost:8080/",
          "height": 472
        },
        "outputId": "f946e24b-94d7-4067-9a69-2a6531557fc5"
      },
      "outputs": [
        {
          "output_type": "display_data",
          "data": {
            "text/plain": [
              "<Figure size 640x480 with 1 Axes>"
            ],
            "image/png": "[encoded data removed]"
          },
          "metadata": {}
        }
      ],
      "source": [
        "plt.hist(df_train['AGE_YEARS'], bins=50, color='skyblue', edgecolor='black')\n",
        "plt.title('Age Distribution of Clients')\n",
        "plt.xlabel('Age (years)')\n",
        "plt.ylabel('Number of Applicants')\n",
        "plt.grid(True)\n",
        "plt.show()\n"
      ]
    },
    {
      "cell_type": "markdown",
      "metadata": {
        "id": "Ji6M4QNFkTbu"
      },
      "source": [
        "distribution looks fine and nothing extra to change"
      ]
    },
    {
      "cell_type": "markdown",
      "metadata": {
        "id": "Tc6Nn-8Iqi2T"
      },
      "source": [
        "Since DAYS_BIRTH is negative (e.g., -12000), it means the person was born 12,000 days before application.\n",
        "\n",
        "That means:\n",
        "\n",
        "All other date values (like ID publish, registration) should be:\n",
        "\n",
        "Greater than or equal to DAYS_BIRTH (i.e., closer to today)\n",
        "\n",
        "And less than or equal to 0 (since all are \"days before application\")"
      ]
    },
    {
      "cell_type": "code",
      "execution_count": 44,
      "metadata": {
        "id": "3WjYcAB8qkWG"
      },
      "outputs": [],
      "source": [
        "# For training set\n",
        "df_train = df_train[\n",
        "    (df_train['DAYS_ID_PUBLISH'] >= -df_train['AGE_YEARS'] * 365) &\n",
        "    (df_train['DAYS_REGISTRATION'] >= -df_train['AGE_YEARS'] * 365)\n",
        "]\n",
        "\n",
        "# For test set\n",
        "df_test = df_test[\n",
        "    (df_test['DAYS_ID_PUBLISH'] >= -df_test['AGE_YEARS'] * 365) &\n",
        "    (df_test['DAYS_REGISTRATION'] >= -df_test['AGE_YEARS'] * 365)\n",
        "]\n",
        "\n"
      ]
    },
    {
      "cell_type": "code",
      "execution_count": 45,
      "metadata": {
        "id": "80zcOoBJW9IK",
        "colab": {
          "base_uri": "https://localhost:8080/"
        },
        "outputId": "8b597833-554c-4a28-8fd2-08d5511f3d69"
      },
      "outputs": [
        {
          "output_type": "stream",
          "name": "stdout",
          "text": [
            "\n",
            "--- FLAG_MOBIL ---\n",
            "FLAG_MOBIL\n",
            "1    303897\n",
            "Name: count, dtype: int64\n",
            "FLAG_MOBIL\n",
            "1    100.0%\n",
            "Name: proportion, dtype: object\n",
            "\n",
            "--- FLAG_CONT_MOBILE ---\n",
            "FLAG_CONT_MOBILE\n",
            "1    303332\n",
            "0       565\n",
            "Name: count, dtype: int64\n",
            "FLAG_CONT_MOBILE\n",
            "1    99.81%\n",
            "0     0.19%\n",
            "Name: proportion, dtype: object\n",
            "\n",
            "--- FLAG_EMP_PHONE ---\n",
            "FLAG_EMP_PHONE\n",
            "1    249042\n",
            "0     54855\n",
            "Name: count, dtype: int64\n",
            "FLAG_EMP_PHONE\n",
            "1    81.95%\n",
            "0    18.05%\n",
            "Name: proportion, dtype: object\n",
            "\n",
            "--- FLAG_WORK_PHONE ---\n",
            "FLAG_WORK_PHONE\n",
            "0    243233\n",
            "1     60664\n",
            "Name: count, dtype: int64\n",
            "FLAG_WORK_PHONE\n",
            "0    80.04%\n",
            "1    19.96%\n",
            "Name: proportion, dtype: object\n",
            "\n",
            "--- FLAG_PHONE ---\n",
            "FLAG_PHONE\n",
            "0    218405\n",
            "1     85492\n",
            "Name: count, dtype: int64\n",
            "FLAG_PHONE\n",
            "0    71.87%\n",
            "1    28.13%\n",
            "Name: proportion, dtype: object\n",
            "\n",
            "--- FLAG_EMAIL ---\n",
            "FLAG_EMAIL\n",
            "0    286638\n",
            "1     17259\n",
            "Name: count, dtype: int64\n",
            "FLAG_EMAIL\n",
            "0    94.32%\n",
            "1     5.68%\n",
            "Name: proportion, dtype: object\n",
            " Number of applicants with FLAG_MOBIL = 0 but other contact info = 1: 0\n"
          ]
        }
      ],
      "source": [
        "contact_cols = [\n",
        "    'FLAG_MOBIL', 'FLAG_CONT_MOBILE', 'FLAG_EMP_PHONE',\n",
        "    'FLAG_WORK_PHONE', 'FLAG_PHONE', 'FLAG_EMAIL'\n",
        "]\n",
        "\n",
        "# Show unique value counts and percentages\n",
        "for col in contact_cols:\n",
        "    print(f\"\\n--- {col} ---\")\n",
        "    print(df_train[col].value_counts(dropna=False))\n",
        "    print((df_train[col].value_counts(normalize=True, dropna=False) * 100).round(2).astype(str) + '%')\n",
        "\n",
        "# Check logical mismatch: No mobile phone, but other contacts present\n",
        "mask = (df_train['FLAG_MOBIL'] == 0) & (\n",
        "    (df_train['FLAG_EMP_PHONE'] == 1) |\n",
        "    (df_train['FLAG_WORK_PHONE'] == 1) |\n",
        "    (df_train['FLAG_PHONE'] == 1) |\n",
        "    (df_train['FLAG_CONT_MOBILE'] == 1) |\n",
        "    (df_train['FLAG_EMAIL'] == 1)\n",
        ")\n",
        "\n",
        "print(f\" Number of applicants with FLAG_MOBIL = 0 but other contact info = 1: {mask.sum()}\")\n"
      ]
    },
    {
      "cell_type": "markdown",
      "metadata": {
        "id": "qw9LgCLLsBOn"
      },
      "source": [
        "FLAG_MOBIL is not useful for modeling because it has no variance (100% are 1). So you can safely drop it."
      ]
    },
    {
      "cell_type": "code",
      "execution_count": 46,
      "metadata": {
        "id": "QKrKq69RsCZk"
      },
      "outputs": [],
      "source": [
        "df_train.drop(columns=['FLAG_MOBIL'], inplace=True)\n",
        "df_test.drop(columns=['FLAG_MOBIL'], inplace=True)\n"
      ]
    },
    {
      "cell_type": "markdown",
      "metadata": {
        "id": "Q_TRPPgAsl77"
      },
      "source": [
        "last thing to examine is ---> OBS_30_CNT_SOCIAL_CIRCLE\tDEF_30_CNT_SOCIAL_CIRCLE\tOBS_60_CNT_SOCIAL_CIRCLE\tDEF_60_CNT_SOCIAL_CIRCLE"
      ]
    },
    {
      "cell_type": "code",
      "execution_count": 47,
      "metadata": {
        "id": "Dl1hMHoztVpS",
        "colab": {
          "base_uri": "https://localhost:8080/",
          "height": 1000
        },
        "outputId": "d7ed6e13-d0f5-4784-9546-8af5105bc82a"
      },
      "outputs": [
        {
          "output_type": "stream",
          "name": "stdout",
          "text": [
            "\n",
            "--- OBS_30_CNT_SOCIAL_CIRCLE ---\n",
            "OBS_30_CNT_SOCIAL_CIRCLE\n",
            "0.0      162540\n",
            "1.0       48378\n",
            "2.0       29557\n",
            "3.0       20136\n",
            "4.0       14008\n",
            "5.0        9482\n",
            "6.0        6405\n",
            "7.0        4350\n",
            "8.0        2930\n",
            "9.0        1988\n",
            "10.0       1364\n",
            "11.0        845\n",
            "12.0        644\n",
            "13.0        406\n",
            "14.0        258\n",
            "15.0        164\n",
            "16.0        133\n",
            "17.0         87\n",
            "18.0         46\n",
            "19.0         44\n",
            "20.0         30\n",
            "21.0         29\n",
            "22.0         22\n",
            "23.0         15\n",
            "24.0         11\n",
            "25.0         11\n",
            "26.0          3\n",
            "27.0          5\n",
            "28.0          1\n",
            "29.0          1\n",
            "30.0          2\n",
            "47.0          1\n",
            "348.0         1\n",
            "Name: count, dtype: int64\n",
            "\n",
            "% Distribution:\n",
            "OBS_30_CNT_SOCIAL_CIRCLE\n",
            "0.0      53.485227\n",
            "1.0      15.919209\n",
            "2.0       9.725993\n",
            "3.0       6.625929\n",
            "4.0       4.609456\n",
            "5.0       3.120136\n",
            "6.0       2.107622\n",
            "7.0       1.431406\n",
            "8.0       0.964142\n",
            "9.0       0.654169\n",
            "10.0      0.448836\n",
            "11.0      0.278055\n",
            "12.0      0.211914\n",
            "13.0      0.133598\n",
            "14.0      0.084897\n",
            "15.0      0.053966\n",
            "16.0      0.043765\n",
            "17.0      0.028628\n",
            "18.0      0.015137\n",
            "19.0      0.014479\n",
            "20.0      0.009872\n",
            "21.0      0.009543\n",
            "22.0      0.007239\n",
            "23.0      0.004936\n",
            "24.0      0.003620\n",
            "25.0      0.003620\n",
            "26.0      0.000987\n",
            "27.0      0.001645\n",
            "28.0      0.000329\n",
            "29.0      0.000329\n",
            "30.0      0.000658\n",
            "47.0      0.000329\n",
            "348.0     0.000329\n",
            "Name: proportion, dtype: float64\n",
            "\n",
            "--- DEF_30_CNT_SOCIAL_CIRCLE ---\n",
            "DEF_30_CNT_SOCIAL_CIRCLE\n",
            "0.0     269027\n",
            "1.0      28082\n",
            "2.0       5285\n",
            "3.0       1183\n",
            "4.0        250\n",
            "5.0         56\n",
            "6.0         11\n",
            "7.0          1\n",
            "8.0          1\n",
            "34.0         1\n",
            "Name: count, dtype: int64\n",
            "\n",
            "% Distribution:\n",
            "DEF_30_CNT_SOCIAL_CIRCLE\n",
            "0.0     88.525718\n",
            "1.0      9.240631\n",
            "2.0      1.739076\n",
            "3.0      0.389277\n",
            "4.0      0.082265\n",
            "5.0      0.018427\n",
            "6.0      0.003620\n",
            "7.0      0.000329\n",
            "8.0      0.000329\n",
            "34.0     0.000329\n",
            "Name: proportion, dtype: float64\n",
            "\n",
            "--- OBS_60_CNT_SOCIAL_CIRCLE ---\n",
            "OBS_60_CNT_SOCIAL_CIRCLE\n",
            "0.0      163289\n",
            "1.0       48467\n",
            "2.0       29513\n",
            "3.0       20028\n",
            "4.0       13814\n",
            "5.0        9392\n",
            "6.0        6304\n",
            "7.0        4303\n",
            "8.0        2851\n",
            "9.0        1943\n",
            "10.0       1322\n",
            "11.0        830\n",
            "12.0        615\n",
            "13.0        396\n",
            "14.0        238\n",
            "15.0        164\n",
            "16.0        137\n",
            "17.0         72\n",
            "18.0         49\n",
            "19.0         44\n",
            "20.0         30\n",
            "21.0         28\n",
            "22.0         20\n",
            "23.0         13\n",
            "24.0         12\n",
            "25.0         11\n",
            "26.0          1\n",
            "27.0          5\n",
            "28.0          1\n",
            "29.0          2\n",
            "30.0          1\n",
            "47.0          1\n",
            "344.0         1\n",
            "Name: count, dtype: int64\n",
            "\n",
            "% Distribution:\n",
            "OBS_60_CNT_SOCIAL_CIRCLE\n",
            "0.0      53.731692\n",
            "1.0      15.948496\n",
            "2.0       9.711514\n",
            "3.0       6.590391\n",
            "4.0       4.545619\n",
            "5.0       3.090521\n",
            "6.0       2.074387\n",
            "7.0       1.415940\n",
            "8.0       0.938147\n",
            "9.0       0.639361\n",
            "10.0      0.435016\n",
            "11.0      0.273119\n",
            "12.0      0.202371\n",
            "13.0      0.130307\n",
            "14.0      0.078316\n",
            "15.0      0.053966\n",
            "16.0      0.045081\n",
            "17.0      0.023692\n",
            "18.0      0.016124\n",
            "19.0      0.014479\n",
            "20.0      0.009872\n",
            "21.0      0.009214\n",
            "22.0      0.006581\n",
            "23.0      0.004278\n",
            "24.0      0.003949\n",
            "25.0      0.003620\n",
            "26.0      0.000329\n",
            "27.0      0.001645\n",
            "28.0      0.000329\n",
            "29.0      0.000658\n",
            "30.0      0.000329\n",
            "47.0      0.000329\n",
            "344.0     0.000329\n",
            "Name: proportion, dtype: float64\n",
            "\n",
            "--- DEF_60_CNT_SOCIAL_CIRCLE ---\n",
            "DEF_60_CNT_SOCIAL_CIRCLE\n",
            "0.0     278338\n",
            "1.0      21662\n",
            "2.0       3142\n",
            "3.0        595\n",
            "4.0        135\n",
            "5.0         20\n",
            "6.0          3\n",
            "7.0          1\n",
            "24.0         1\n",
            "Name: count, dtype: int64\n",
            "\n",
            "% Distribution:\n",
            "DEF_60_CNT_SOCIAL_CIRCLE\n",
            "0.0     91.589585\n",
            "1.0      7.128073\n",
            "2.0      1.033903\n",
            "3.0      0.195790\n",
            "4.0      0.044423\n",
            "5.0      0.006581\n",
            "6.0      0.000987\n",
            "7.0      0.000329\n",
            "24.0     0.000329\n",
            "Name: proportion, dtype: float64\n"
          ]
        },
        {
          "output_type": "display_data",
          "data": {
            "text/plain": [
              "<Figure size 1400x800 with 4 Axes>"
            ],
            "image/png": "[encoded data removed]"
          },
          "metadata": {}
        }
      ],
      "source": [
        "cols = [\n",
        "    'OBS_30_CNT_SOCIAL_CIRCLE',\n",
        "    'DEF_30_CNT_SOCIAL_CIRCLE',\n",
        "    'OBS_60_CNT_SOCIAL_CIRCLE',\n",
        "    'DEF_60_CNT_SOCIAL_CIRCLE'\n",
        "]\n",
        "\n",
        "\n",
        "for col in cols:\n",
        "    print(f\"\\n--- {col} ---\")\n",
        "    print(df_train[col].value_counts().sort_index())\n",
        "    print(\"\\n% Distribution:\")\n",
        "    print(df_train[col].value_counts(normalize=True).sort_index() * 100)\n",
        "\n",
        "plt.figure(figsize=(14, 8))\n",
        "for i, col in enumerate(cols, 1):\n",
        "    plt.subplot(2, 2, i)\n",
        "    df_train[col].hist(bins=50, edgecolor='black')\n",
        "    plt.title(col)\n",
        "    plt.xlabel('Count')\n",
        "    plt.ylabel('Frequency')\n",
        "    plt.grid(True)\n",
        "\n",
        "plt.tight_layout()\n",
        "plt.show()\n"
      ]
    },
    {
      "cell_type": "code",
      "execution_count": 48,
      "metadata": {
        "id": "Z-XFgM27vvVj"
      },
      "outputs": [],
      "source": [
        "def bin_social_circle(value):\n",
        "    if pd.isna(value):\n",
        "        return np.nan\n",
        "    elif value <= 5:\n",
        "        return '0–5'\n",
        "    elif value <= 10:\n",
        "        return '6–10'\n",
        "    else:\n",
        "        return '11+'\n",
        "\n",
        "columns_to_bin = [\n",
        "    'OBS_30_CNT_SOCIAL_CIRCLE',\n",
        "    'DEF_30_CNT_SOCIAL_CIRCLE',\n",
        "    'OBS_60_CNT_SOCIAL_CIRCLE',\n",
        "    'DEF_60_CNT_SOCIAL_CIRCLE'\n",
        "]\n",
        "\n",
        "# Apply binning and drop original columns\n",
        "for col in columns_to_bin:\n",
        "    bin_col_name = col + '_BIN'\n",
        "    df_train[bin_col_name] = df_train[col].apply(bin_social_circle)\n",
        "    df_test[bin_col_name] = df_test[col].apply(bin_social_circle)\n",
        "\n",
        "    # Drop original columns\n",
        "    df_train.drop(columns=[col], inplace=True)\n",
        "    df_test.drop(columns=[col], inplace=True)\n",
        "\n"
      ]
    },
    {
      "cell_type": "code",
      "execution_count": 49,
      "metadata": {
        "id": "hzyTgcFsvzxD",
        "colab": {
          "base_uri": "https://localhost:8080/"
        },
        "outputId": "20c0cd8a-9639-4d61-8658-09363935249d"
      },
      "outputs": [
        {
          "output_type": "stream",
          "name": "stdout",
          "text": [
            "(303897, 74)\n",
            "(47693, 73)\n"
          ]
        }
      ],
      "source": [
        "print(df_train.shape)\n",
        "print(df_test.shape)"
      ]
    },
    {
      "cell_type": "code",
      "execution_count": 50,
      "metadata": {
        "id": "jK8mTDD_eFZ7",
        "colab": {
          "base_uri": "https://localhost:8080/"
        },
        "outputId": "88b5e200-a1ff-4d16-9378-0e70f19c5da9"
      },
      "outputs": [
        {
          "output_type": "stream",
          "name": "stdout",
          "text": [
            "<class 'pandas.core.frame.DataFrame'>\n",
            "Index: 303897 entries, 0 to 307510\n",
            "Data columns (total 74 columns):\n",
            " #   Column                        Non-Null Count   Dtype  \n",
            "---  ------                        --------------   -----  \n",
            " 0   SK_ID_CURR                    303897 non-null  int64  \n",
            " 1   TARGET                        303897 non-null  int64  \n",
            " 2   NAME_CONTRACT_TYPE            303897 non-null  object \n",
            " 3   CODE_GENDER                   303897 non-null  object \n",
            " 4   FLAG_OWN_CAR                  303897 non-null  object \n",
            " 5   FLAG_OWN_REALTY               303897 non-null  object \n",
            " 6   AMT_INCOME_TOTAL              303897 non-null  float64\n",
            " 7   AMT_CREDIT                    303897 non-null  float64\n",
            " 8   AMT_ANNUITY                   303897 non-null  float64\n",
            " 9   AMT_GOODS_PRICE               303897 non-null  float64\n",
            " 10  NAME_TYPE_SUITE               303897 non-null  object \n",
            " 11  NAME_INCOME_TYPE              303897 non-null  object \n",
            " 12  NAME_EDUCATION_TYPE           303897 non-null  object \n",
            " 13  NAME_FAMILY_STATUS            303897 non-null  object \n",
            " 14  NAME_HOUSING_TYPE             303897 non-null  object \n",
            " 15  REGION_POPULATION_RELATIVE    303897 non-null  float64\n",
            " 16  DAYS_EMPLOYED                 249054 non-null  float64\n",
            " 17  DAYS_REGISTRATION             303897 non-null  float64\n",
            " 18  DAYS_ID_PUBLISH               303897 non-null  int64  \n",
            " 19  FLAG_EMP_PHONE                303897 non-null  int64  \n",
            " 20  FLAG_WORK_PHONE               303897 non-null  int64  \n",
            " 21  FLAG_CONT_MOBILE              303897 non-null  int64  \n",
            " 22  FLAG_PHONE                    303897 non-null  int64  \n",
            " 23  FLAG_EMAIL                    303897 non-null  int64  \n",
            " 24  CNT_FAM_MEMBERS               303897 non-null  float64\n",
            " 25  REGION_RATING_CLIENT          303897 non-null  int64  \n",
            " 26  REGION_RATING_CLIENT_W_CITY   303897 non-null  int64  \n",
            " 27  WEEKDAY_APPR_PROCESS_START    303897 non-null  object \n",
            " 28  HOUR_APPR_PROCESS_START       303897 non-null  int64  \n",
            " 29  REG_REGION_NOT_LIVE_REGION    303897 non-null  int64  \n",
            " 30  REG_REGION_NOT_WORK_REGION    303897 non-null  int64  \n",
            " 31  LIVE_REGION_NOT_WORK_REGION   303897 non-null  int64  \n",
            " 32  REG_CITY_NOT_LIVE_CITY        303897 non-null  int64  \n",
            " 33  REG_CITY_NOT_WORK_CITY        303897 non-null  int64  \n",
            " 34  LIVE_CITY_NOT_WORK_CITY       303897 non-null  int64  \n",
            " 35  ORGANIZATION_TYPE             303897 non-null  object \n",
            " 36  EXT_SOURCE_1                  132529 non-null  float64\n",
            " 37  EXT_SOURCE_2                  303897 non-null  float64\n",
            " 38  EXT_SOURCE_3                  303897 non-null  float64\n",
            " 39  DAYS_LAST_PHONE_CHANGE        303897 non-null  float64\n",
            " 40  FLAG_DOCUMENT_2               303897 non-null  int64  \n",
            " 41  FLAG_DOCUMENT_3               303897 non-null  int64  \n",
            " 42  FLAG_DOCUMENT_4               303897 non-null  int64  \n",
            " 43  FLAG_DOCUMENT_5               303897 non-null  int64  \n",
            " 44  FLAG_DOCUMENT_6               303897 non-null  int64  \n",
            " 45  FLAG_DOCUMENT_7               303897 non-null  int64  \n",
            " 46  FLAG_DOCUMENT_8               303897 non-null  int64  \n",
            " 47  FLAG_DOCUMENT_9               303897 non-null  int64  \n",
            " 48  FLAG_DOCUMENT_10              303897 non-null  int64  \n",
            " 49  FLAG_DOCUMENT_11              303897 non-null  int64  \n",
            " 50  FLAG_DOCUMENT_12              303897 non-null  int64  \n",
            " 51  FLAG_DOCUMENT_13              303897 non-null  int64  \n",
            " 52  FLAG_DOCUMENT_14              303897 non-null  int64  \n",
            " 53  FLAG_DOCUMENT_15              303897 non-null  int64  \n",
            " 54  FLAG_DOCUMENT_16              303897 non-null  int64  \n",
            " 55  FLAG_DOCUMENT_17              303897 non-null  int64  \n",
            " 56  FLAG_DOCUMENT_18              303897 non-null  int64  \n",
            " 57  FLAG_DOCUMENT_19              303897 non-null  int64  \n",
            " 58  FLAG_DOCUMENT_20              303897 non-null  int64  \n",
            " 59  FLAG_DOCUMENT_21              303897 non-null  int64  \n",
            " 60  AMT_REQ_CREDIT_BUREAU_HOUR    303897 non-null  float64\n",
            " 61  AMT_REQ_CREDIT_BUREAU_DAY     303897 non-null  float64\n",
            " 62  AMT_REQ_CREDIT_BUREAU_WEEK    303897 non-null  float64\n",
            " 63  AMT_REQ_CREDIT_BUREAU_MON     303897 non-null  float64\n",
            " 64  AMT_REQ_CREDIT_BUREAU_QRT     303897 non-null  float64\n",
            " 65  AMT_REQ_CREDIT_BUREAU_YEAR    303897 non-null  float64\n",
            " 66  HAS_CAR                       303897 non-null  int64  \n",
            " 67  DAYS_EMPLOYED_FLAG            303897 non-null  int64  \n",
            " 68  CNT_CHILDREN_GROUP            303897 non-null  object \n",
            " 69  AGE_YEARS                     303897 non-null  float64\n",
            " 70  OBS_30_CNT_SOCIAL_CIRCLE_BIN  303897 non-null  object \n",
            " 71  DEF_30_CNT_SOCIAL_CIRCLE_BIN  303897 non-null  object \n",
            " 72  OBS_60_CNT_SOCIAL_CIRCLE_BIN  303897 non-null  object \n",
            " 73  DEF_60_CNT_SOCIAL_CIRCLE_BIN  303897 non-null  object \n",
            "dtypes: float64(19), int64(39), object(16)\n",
            "memory usage: 173.9+ MB\n"
          ]
        }
      ],
      "source": [
        "df_train.info()"
      ]
    },
    {
      "cell_type": "markdown",
      "source": [
        "After evaluating my model on the validation set, I observed that certain feature, particularly EXT_SOURCE_1, EXT_SOURCE_2, and EXT_SOURCE_3 had the highest impact on performance based on the feature importance analysis. Based on these findings, I decided to revisit and enhance my feature engineering process.\n",
        "\n",
        "Specifically, I introduced interaction terms between these three key features to capture potential non-linear relationships. Additionally, I added other engineered features, such as financial ratios, which were inspired by patterns observed during validation analysis. This iterative approach—training, validating, analyzing, and refining helped improve the model’s ability to generalize.\n",
        "![Screenshot 2025-07-08 055658.png](data:image/png;base64,iVBORw0KGgoAAAANSUhEUgAABO4AAAD7CAYAAADdLNuIAAAAAXNSR0IArs4c6QAAAARnQU1BAACxjwv8YQUAAAAJcEhZcwAADsMAAA7DAcdvqGQAAP+lSURBVHhe7N13eFRl/vfx9/T0HkJCAiH0GkoC0kFAegQBkWLBgmuXxbo/dbEgunaxi1gpggoIKoJgKEFKCAHSOyGk92SSTD3PH0vmYRJU1nU12f2+rutces25z5lT5s4wn3MXlaIoCkIIIYQQQgghhBBCiD/EiBEjWr50SeqWLwghhBBCCCGEEEIIIf58EtwJIYQQQgghhBBCCNEGSXAnhBBCCCGEEEIIIUQbJMGdEEIIIYQQQgghhBBtkAR3QgghhBBCCCGEEEK0QRLcCSGEEEIIIYQQQgjRBklwJ4QQQgghhBBCCCFEGyTBnRBCCCGEEEIIIYQQbZBKURSl5YtCCCGEEEL8nk6dOkVeXl7Ll3+Wh4cHkZGR+Pj4oNVqW67+j7Hb7ZhMJoqLiykvL6e2thaTyYRKpcLd3Z3g4GA6duyIp6dny01RFAWr1Upubi7FxcXU19ejUqnw8vIiIiICf39/9Hp9y80uqbS0lNTUVGpqavi5f6736tWL8PBwXFxcWq763ZnNZgoLC1Gr1fj6+l7y/Nu60tJSMjIysFgsDBkyBG9v75ZF/qvYbDYaGhooKirC19cXLy8vDAZDy2JCCCH+JCNGjGj50iVJcCeEEEIIIf7jVqxYwUcffeT0mtlsxmQyYbfbW4UoERERvPzyywwaNOgPDYlMJhP5+fls3bqVI0eOkJOTQ3V1NWq1mg4dOjBp0iSmTZvGkCFDcHV1bbVtQUEB77//PgcOHKCgoACNRkNYWBg33XQTV155JZ07d0at/vVOL9999x1PPPEEiYmJuLu7o9FoWhZhxYoV3HLLLQQFBbVc9bsrKyvjk08+Qa/XM378eAYMGNCySJv3/fff88wzz1BdXc3HH3/MkCFDWhb5r9LQ0EBmZiYbNmxg7NixDB06lI4dO7YsJoQQ4k8iwZ0QQgghhGgz9u/fT1JSktNrCQkJHDp0iIaGBh5++GFUKpVjnY+PD+PHjycwMPCyW6n9HioqKti2bRtvvvkmrq6uREZG0qVLF2w2G7GxsWRkZNCvXz/uuecepkyZ4jhmRVHIyclh+fLlnD59moEDBzJo0CDMZjPffvst9fX13H333Vx//fUEBga2fNtWvvvuO5566iny8/O58cYb6dSpU8siREdH079/f9zc3Fqu+t1lZWVxww034Obmxr333ktMTEzLIm3e/1pwV1lZyYEDB7jtttu46667uO666+jdu3fLYkIIIf4klxvcaVauXLmy5YtCCCGEEEL8nnx8fOjWrRu9e/d2LHV1dWRlZaFSqXj66afp06ePY1337t3x8/NDr9c7BXr/aXa7HYvFQnR0NDNmzGDChAkMHjyY/v37ExUVRUVFBampqdTX1zNjxgxH67mSkhJiY2P54IMPmDlzJosWLWLSpEmOAO/YsWNUV1fj7+9/WeFJVlYWhw4dwmazcddddzFmzBina9e7d286deqEq6vrZbXg+3dVVFSwceNGVCoVV1xxBX369GlZ5HejKAo2mw273f67nlt2djYHDhygqamJOXPmEBwc3LLIfwW73e7oJpubm8vmzZuJiopi4MCBlxUaCyGE+GN88MEHLV+6JGlxJ4QQQggh/hSbNm3ivffeo7q6mvj4eEdIY7fbqa6u5vjx42RnZzu6qgYEBNC7d28iIyNbdZ9977330Ol0dO3aFb1ez4kTJ6itrcXNzY0ePXowZMgQQkJCnLa5FKvVSlVVFa6urri4uDiNr2ez2Xjvvff48MMP0Wq1/PDDD7i6uqJSqTh58iTvv/8+n332GWvXrmXSpEn4+flht9tpamrivvvu49SpU0ybNo0nnnjikl1fL/bdd9+xatUqqqur2bBhAwMHDmxZxEFRFOx2OydPniQtLY2ioiJMJhMuLi50796dQYMGteqiW1BQQHp6Orm5uVRWVmIymXB1dSU0NJT+/fvTr18/R2CanJzMZ599xkcffYROp3MEdzqdjpCQEGbOnElNTQ3x8fFUVlZy++23O123pqYm0tPTiY2NZeDAgQwfPtzRSnDTpk3U1dXRuXNngoKCOHbsGBUVFYSHhzNkyBB69uyJyWQiISGB9PR0SktLsVgseHh40Lt3bwYMGEBISMhlhbs/1+KutLSUd999lx49etClSxcaGhpISkqitrYWPz8/hgwZQt++fdHr9aSmppKYmEhpaSlarZbw8HAmTJiAt7e345yrq6v5+uuvMRqN9OvXD1dXV+Lj46moqMDFxYUePXowYMAAIiIinI7ParVSWVnJ0aNHycvLo7a2Fq1WS4cOHRg4cCC9evXCw8MDLnwW6+rq2Lx5Mx4eHoSHh9PU1ERSUhLV1dV069YNm83Gjh072LZtG8OHD3cEdx4eHkyYMIHevXtjsVjIyckhLS2NkpISGhoa0Gq1BAQE0LNnT4YNG4bBYHBc37q6OmJjY8nKymLIkCF06NCBY8eOcf78edRqNZ06dWLgwIEMHDiw1T1pbGzkzJkzpKWlUVxcjNlsxtXVlYCAAKKioujSpYvj/LgQtCYnJ5OTk0NdXR1arZZOnToxaNAgunfv7tTStDmkPHnyJMXFxTQ1NaHVavH29qZLly6MHTsWNze33zUIFkKIf5e0uBNCCCGEEG1aUlISJ06coKmpiWXLljl+6BcVFfHjjz/y0UcfcfjwYZKSkkhJSSE5OZmzZ8/i6+uLr6+v0xhzd955J8eOHaOsrIyMjAwOHjxIYmIiJ06cIC8vD7VaTbdu3dDpdL/4412tVuPu7o5er29VTq1Wk5OTQ3JyMrW1tdx4442OFoGnT59m27ZtqFQqbr/9dsLDw1GpVKhUKnQ6HefOneP06dPodDomTpz4qxNKZGVlcfDgQRobG7n66qsJCAjAZrM5luZn7yqVCqPRyPHjx9myZQv79u3j5MmTpKamkpKSQkZGBoqi4Ofnh7+/v2P/Bw8e5Ouvv+bw4cOcOXOGlJQUzpw5Q0ZGBjU1NXTu3Bl3d3e0Wi1nzpxhw4YN5OTkYDKZqK2tJT8/n7Nnz9LU1MSwYcPIyMjgk08+Yc+ePdx2221OwV1dXR0HDx7khRdewMvLi8GDBztCl7///e/s2bOH8+fPU1hYyP79+0lMTESlUhEWFoaPjw8HDx7kiy++YP/+/Zw6dYqUlBSSkpLIzc1Fq9Xi7+/faozES/m5Fnd5eXnccMMNlJeXU1JSQnJyMocPHyYhIYFjx45RU1ODXq/HZDLx5ZdfEhcXx/Hjx4mPjyctLQ1/f39CQkIc51RcXMyzzz7Lvn37qKysJD8/33Ff4uPjycvLQ1EUwsLC8PDwQKVSYbfbKSgo4Pvvv+eTTz7h2LFjJCcnk5ycTFJSEsXFxfj7++Pj44OLiws2m43y8nL+9re/kZiYSHl5OadPn+ann34iMTERg8FATU0Ne/bsoaqqCrPZTGlpKTk5ORQXF9OjRw9CQ0PJz8/nhx9+YNeuXY5r2/y+586dw8/PDz8/P8fntbKykvfee4/169dTX19PdXU1u3fvJiEhwXE9zGYz3bp1w9PT01GnKysriY+PZ/369ezdu9cRxGZlZZGZmYmPjw8dO3bEx8cHs9lMbm4u27Zt47vvvuPIkSOkpKSQmppKcnIyNTU1eHh4EBISglqtRlEUR/3bunUrSUlJpKWlkZGRQUZGBiUlJQwfPvxnx4oUQog/y+W2uJPgTgghhBBC/CkuFdyZzWb27dvHc889x8mTJxk9ejSTJ0+mV69eVFVV8fXXX1NVVUXnzp3p0qWLIxhYu3Yt+fn5lJWVUVNTw9VXX010dDQWi4UTJ05w4sQJoqOjCQgI+M1j5tlsNuLi4oiPj8fNzY2bb74ZjUbjaHG3c+dOunXrxowZMwgICHDatqysjBMnTqAoCiNGjMDf379Vi6SLZWVlceDAAWpraxk6dCiKolBeXu5YTCaTI4TMysrikUceIT4+nq5du3LVVVcxZswYAgIC+OmnnxyB4bBhwxzBxd69e0lPT6dPnz6MHz+e4cOH4+3t7Qi3XF1d6dmzp2MmUnd3dxISEvDz82P27NksWrSIMWPGMHz4cLp160Z+fj4nTpygqqqKZcuWtWpxl5GRwf79+xk4cCDDhg1zhFybN28mNzeX8+fPU1RUxOTJkxk3bhyDBw8mKCiIoqIili9fTnZ2Nn369GHKlCmMGDECV1dXDhw4QHZ2Nu7u7kRGRrYKWlv6ueCurKyM999/H7PZTHFxMW5ubkybNo2hQ4eSkZHBsWPHyMzMpL6+niNHjjBq1CiioqJQqVQcOXKEtLQ0Ro0aRVBQECqViurqanbu3ElxcTFZWVk0NTUxduxYJk6ciKIoJCQkkJGRgZ+fH/369UOj0dDQ0MDu3bsd4xqOHz+eyZMnExERQVFREdu2bXOEfZ06dcJut1NXV8eWLVvIzs6mvLwcq9XKrFmzGDFiBGPHjqV79+6o1WqOHz/OxIkTueaaa5g5cyajR49mwIAB+Pv7c+bMGU6fPo3BYGDcuHGMGTOG8PBwqqqq2L9/P1lZWURFRTnOrb6+ntjYWDIzM8nLy8NoNDJgwACmTJmCj48PqampZGVl4efnx4ABA9BoNFitVo4fP86LL77It99+S9euXbnyyiuZMGECPXr0wGQy4e3tTWhoKIGBgVRUVLB27VrWr1+PWq1m/PjxTJkyhV69epGZmUlcXBzV1dWMGDECd3d3TCYT69at49NPP8XFxYW5c+cyfvx4Bg4ciJubG0ajkREjRuDl5fWHzlAthBC/5nKDOxQhhBBCCCH+BBs3blQmTJigDB48WLHZbIqiKEpycrLy17/+VQkNDVUefvhhJS0tTamvr1fq6uqUxMREJSYmRgkODlaee+45pby83LGvYcOGKWq1Wpk5c6Zy+PBhpa6uTqmvr1dyc3OVp556SunYsaOyZMkSJTs7+6Ij+NecP39eue2225S+ffsqDz74oGK1Wh3rPvnkEyU0NFS54YYbLvkeBw8eVGbMmKFMmTJF+emnnxS73d6yiJNvv/1WiYqKUnQ6neLr66sEBgY6LQsXLlT279+v5ObmKi+//LLi7u6uvPjii0pqaqpSX1+vGI1Gpba2Vvnkk0+UcePGKXPmzFHOnDnjeN/q6mqlpKREqampUYxGo2I0GpWamhrlyy+/VMaMGaMMGDBAOXnypKIoimK1WpWkpCRl4MCByogRI5RNmzYpjY2NSmNjo2IymRS73a588803ytVXX630799faWpqcjqXyspK5ZNPPlG6d++u/P3vf1fKysoc66655hrF29tbmTBhgvLtt986jqepqUk5deqU8vDDDyt+fn7KBx98oJw9e9ZxbjU1NcqLL76oDBs2TFmyZIlSUlLyq9d0165dyujRo5X+/fsrJ06ccLyelJSkuLq6Ki4uLsqjjz6qZGVlKfX19Up9fb2yfv16ZezYsYqXl5dy5ZVXKunp6Up1dbVSX1+vHDx4ULn++usVNzc35csvv1Rqa2sVRVGU3Nxc5aqrrlJ8fX2V6dOnK1u2bFFqa2sVo9GolJWVKU888YTSu3dvZfLkyUptba1it9uVw4cPK7fccovSqVMn5dVXX3UcQ01NjRIfH6+MGjVK6dKli/L6668rjY2NitlsVvLy8pRhw4Yprq6uynXXXadkZWUpdXV1itFoVEwmk1JcXKxs2LBBcXFxUR588EElISFBaWxsVJqamhSr1arY7Xalrq5OKSsrc5yT0WhU6urqlJ9++km54447FC8vL+Wrr75S6urqFEVRlMLCQmXZsmVKx44dlUmTJimfffaZ49xqamqUp59+WhkyZIiyaNEipaGhQVEURcnJyVGeeuopJSgoSLnpppuU+Ph4xzb19fVKVVWVUldXp5jNZsVoNCoHDx5UgoODlRtvvFHZs2ePU9mEhARl8eLFyrBhw5QPP/xQMZlMSk5OjrJ06VJlxIgRypYtW5Tq6mqloaHBcUxVVVWKxWL51c+HEEL80a644orLWn75sZQQQgghhBB/oKysLDIyMvDy8mLRokWOLpseHh507tyZhQsX4ubmRmZmJjk5OU7bdujQgX79+jFgwAA8PDxwd3d3jLkVERHBwYMHqampcXQzvVyKomAymfjggw+Ij4+nd+/ezJ8/36mFl81mw2KxOI0HdjGDwYBGo8Fms2EymS7rGJq7gS5ZsoT777/faZk9ezadO3emsLCQ+Ph4OnToQJ8+ffDz88Nms2G1WlEUxTGuWXFxMSkpKY739fT0JCAgAC8vL8fYXyqVisDAQLp3705ubi7V1dVYLBY0Go2j63Bz118XFxdcXFx+l8lDPDw86NGjB1dccQWenp64ublhMBgoLS3lxIkT9OjRg65du+Lu7u44N8DRaqyoqIj09PTLuqa/JCIigr59+xIWFoa7uzvu7u707duXwMBAfHx8GDBgAKGhoXh5eeHu7k5ISAh9+vTBarVSWlpKfX19y10yaNAgRo4c6Tgvf39/oqOj6dWrF+fOnSMrK4vGxkays7PJycmhY8eOzJgxg9DQUNzd3fH09KRLly7MmTMHrVZLTk4O586dc3qP8PBwxziGHh4euLm5odfr0Wq16HQ6VCoVGo0Gg8GAi4uL47OoUqlwd3fHz88Pb29vR9dolUqFv78//fv3x2KxcPbsWaqqqpzeU1EUBgwY4HRuXl5eRERE4O/vT0FBAXa7HS60dDxz5gwuLi7ceOON9OjRw7GNu7s7Pj4+eHh4oNPpKCsrc3RPHjp0KF27dkVRFKxWKzabjeDgYEJDQ7FarZw6dQqbzeZoeVpTU0NeXh4qlQqDweA4Jh8fH8d5CSFEeyTBnRBCCCGEaDNKS0upqqrC39+fnj17Oo0F5+bmRnR0NO7u7pSWllJaWuq0bWBgIJ06dXIa4F6n09GhQwfCwsIoKiqipqYGi8XitN0vURSFyspKPv/8c7755hs6duzIzJkznSZv4MJYcyqV6mfDI7vdjqIojnKXEyKo1Wq8vLyYNm0aCxcudFrGjRtHUFAQ1dXVZGRkYDQa+fzzz/nHP/7BU0895VjWrl1Leno6RqORoqIix/HV1NRw/Phx3n//fZ5++mmefPJJnnrqKdatW0dycjINDQ0YjcZ/6Vr9Vt7e3nTs2BFfX1+n61JVVUVaWhrl5eV88sknrF692uncNm3aRE5ODkajkeLi4p+99pcrJCSkVVdqPz8/3N3d8fLyomvXro4gDMDFxcXRJbq2tpampibHdoAj3AsKCnK8plKpCA0NpXPnzhiNRs6ePYvJZHJ08Q4JCaFTp04YDAZHeVdXV4YOHYq7uztlZWWtPvdBQUGEhYWh0+mcXr8cTU1NZGZmsmnTJp577jmeeuopnnzySV577TX27NmDxWKhurqahoYGp+00Gg3BwcGtJnxpDjWrq6sd96OkpITS0lJHGHhx/WyppqaGrKwsbDYb+/btY82aNU73/MUXX+TIkSNUVVVRWFiIoij4+PjQp08fPD092b59O6tXr+a9997ju+++IyMjA5PJ1PJthBCiXZHgTgghhBBCtBmNjY1YrVbcL0wQcXGQ0zzbpU6no7GxsVWY0NyCpyWDwYC3tzcWi8Wx/8tVUVHBoUOHePvttwGYNm0akydPdozR1qy5FZrRaHS0NLpYY2MjFosFnU53yWO8FNWF1m2dOnWia9euTktQUBCurq6YTCaqq6sxmUycOXOGn376yWlJSEjA09PT0TqNC8dy5MgRPvvsMz755BO++eYbYmNjOXz4MKdPn3YEfGazGZvN1vKwLunXwshfCtXcL7SobMlkMlFVVUVtba1j4oWLl/T0dPz9/enXr1+rWYZ/Cw8PD0dg1kyn0zlaHDZPJNGs+XXVhbEZW14rNzc3XF1dW02I0Nyaz263U1NTg9VqpbGxEZvNhre3d6vrqNFo8Pf3R6vV0tTUdMnP/aWu369RFIW0tDS+/PJL1q1bx7Zt2/jhhx84dOgQ8fHxZGRkYLfbL3luWq0Wg8FwyeulVqudwrKGhgZMJhMeHh64urr+4liEzZ9nRVHIzMzk+PHjre67xWKhZ8+ehIeHo1ar8fDwYOzYsUyZMgWNRsOuXbvYuHEjH330ERs2bCA2Npa6urpL1kshhGgPfv6vphBCCCGEEH+w5i58zS3ULtbcZU5RFNRqdasAwG63twoYml+3Wq2ObVoGIz+nsbGRo0eP8u6775KRkcGCBQuYOXMmoaGhLYvi4uKCl5cXpaWll2ylVllZSWNjI66urvj5+bVc/ZupLnQLDA0N5f777+f555+/5LJ8+XLGjRuHWq2mqKiIjRs3sn37djp27Midd97JypUrefbZZ/nrX//KhAkTUKvVl7wHP+fi4K5lQNIcAv7cvjQazSUnDVCpVLi5uTFgwABWrFjR6pyal7vvvpshQ4a0+jz8q37ts/FL+1cUpdX52e32S15Dm83muEbNXTib3/tSn18Ai8Xi+Ny3DAK1Wu0lr9+vsVgs7Nixg3Xr1lFTU8OiRYt49NFHWbVqFStXrnTMmnypc/u1a3Wx5nrXfN4t93Wx5msBcPPNN/Pss8+2ut/PP/88f//737nxxhsdrQyjo6NZsWIFL7/8Mrfddhs9evQgOzubd999l8cee4zMzMxWLSKFEKK9+PlvHyGEEEIIIf5gzbOYVlRUYDQanYIMs9lMXl6eYxZKHx8fp20rKyuprKx0eg2gvr6ekpISR8u7lq2Efs6PP/7IunXrSElJ4f7772fOnDl07ty5ZTG4qLtneno6DQ0NrcKJ7Oxs6urq8PHxITg4+LJDj1/j5uZGQEAAtbW19OzZk2HDhl1yGThwICEhIahUKhITE8nPz2fIkCE888wzzJs3j/HjxzNixAh69Ojxs7PuXhzOteTi4oKrqys2m436+nqn+2a1WikuLsZsNjtt82vc3d0JDAyksbGR3r17tzqn5qVfv34EBAT87LH9Waqrq6mtrW0V5FZVVVFeXo5WqyU4OBi9Xo+Xlxc6nY7CwsJW4Z3FYiE/Px+TyYSnp2erz/3P+aX7BXD+/Hlyc3MJCAjg3nvv5aabbmLKlCmMGjWKfv364efn94vbXy4fHx/c3d0pLy+ntra21fldzM3NjY4dO6JSqQgICKBPnz6t7vewYcOIioqiZ8+eTiFmc8vSm266iZdeeom1a9dyww03kJ+fz7Zt2ygrK3N6LyGEaC8kuBNCCCGEEG1G165dCQ8Pp6Kigh07dlBdXe1YV11dzZdffklVVZWjy+jFioqKSEtLcxq8v76+nqysLNLT0xkyZAheXl6/2HKq2b59+1i/fj0FBQXMmTOHxYsXExwc3Kq1U7Pg4GAGDx5MRUUFJ06coLi4GC60rqqtreXYsWPodDp69uz5s8HYbxEcHMyQIUOoqKjgyJEjFBUVodfrnZbm1nPNgUlzyyedToeXlxeurq6OMPPcuXP89NNPrVrNqVQqXFxcMJlMrYIoLgSXPj4+NDU1cebMGYxGI1x4r4qKCvbs2eN0Ly9Hx44dGThwIBkZGSQlJVFdXd3q3BRF+cUg6M9ktVo5c+YMiYmJjtdsNhtnzpwhOTnZMY6jq6sr4eHhhIaGcv78eQ4dOkRNTQ1caMlXXV3N9u3bqa2tpUuXLj8bHrekVqsd97WpqanVfWv+TKjVatzd3XFzc3NMOFJcXMyPP/74L3Ur/zkRERH06tWL6upqNm7cSElJScsijqA7MDCQ6OhodDod+/btIysrq9U9b64/TU1NKIpCU1OTo0WnTqfDzc0Nb29vIiIiCA8Px2azUVdX97ucixBC/Bk0K1euXNnyRSGEEEIIIf7TkpKSOHHiBE1NTSxbtgzVhW6flZWVJCYmkpmZiUajoba2lqysLPbt28fnn39OQEAAMTExjh/4AGvXrqWiogKNRuMIiM6dO0dsbCzffvstxcXF3HzzzURHR//ieGDNg/W/++67HD16lMDAQK688kr8/f2pqKigpKSEkpISqqqqHOOXqdVqR1fFgwcPUlVVhcViwWQykZOTw9dff82ePXuIjIxk5syZrQLHS8nKyuLgwYM0NTUxd+5cpwkOLtY8plh8fDxFRUVUV1dTX19PZWUl586dIykpib1795KTk0NQUBAeHh7U1taSkJBAfn4+Wq0WRVE4e/YsBw4c4IcffiAtLY3a2lquvfZaunXrhsFgoK6ujqNHj5KXl+eYsKG2tpb6+npH8FdQUMDhw4epqalBp9M57uP3339PYmIiFRUVjBo1imHDhjnGCNy8eTN1dXX069ePESNGOJ1bc7fpw4cPU15eTk1NDfX19ZSXl3P27FlOnTrF7t27OXfuHN27d//VyRmys7M5cOAATU1NzJkzh+DgYADKysp4//336dGjB8OHDyc8PNyxTX19Pfv27aOkpIRhw4YRGRnpCH6NRiNZWVns3LmTsWPH0r9/f/z9/amurmbnzp2O7tENDQ3Y7XbKy8s5cOAA27dvp7y8nEmTJjFjxgz0ej06nY6qqiqOHTvmmHShpqaGtLQ0du/ezVdffUXPnj2ZOXMmkZGRANTV1bFlyxY8PDyIioqiR48ejuNuVlNTw5YtWxwhrVqtprq62tE9+eTJk6SkpGCxWHB3d6ekpIQTJ06wb98+jh49SlFREaNGjWLgwIF06NCB+vp6YmNjyc7OZsSIEQwfPtzp/bKzszlx4gRlZWUsW7YMvV7vGPsxOTmZ1NRUzGaz4z7m5ORw5MgRKioqMBgM+Pr6otPpyMvLIzMzk4qKCurr66mpqaG4uJj09HQOHjxIYmIiVquVkJAQ8vPz2bdvH3FxcVRUVFBRUUFBQQEnTpxg//795OfnM2fOHAYOHPiLdV8IIf5oH3zwQcuXLkmCOyGEEEII8ae4VHDn7u7uCN8SExMpLCwkKyuLhIQEjh8/TmNjI/PmzWPixImO4IULwZ1Op8PPz4+SkhLOnj3LyZMniY2NpbS0lGHDhrFs2TICAwN/cTyw2tpaYmNj+fjjjykrK8PPzw+tVktiYqLTcvbsWTp37oynpydarRYXFxfc3d2pq6sjNTWV/Px8cnJySExMZN++fQQFBXHNNdcwduxYp5lyf87lBncuLi74+PhgtVrJysoiOzub7Oxs0tPTOX36NPHx8cTHx2O32xk6dCg+Pj64uLhQVFREVlYWycnJFBUVOVqGVVVV4evrS15eHvPnz3cEd81dYNPS0igtLSU/P5+srCxKS0uJiIggMDCQpqYmcnNziY+Pp6ysjMzMTM6cOUNeXh7BwcEUFBQ4ujpeTnDn5uaGv78/dXV1ZGRkOJ1bYmIi8fHxJCQkoNfrGTVq1K92gf6jg7umpiY8PT2x2Wykp6eTnJzM7t27KS0tZfDgwSxevJguXbqgvjB7sEajobS0lJMnT1JUVOSYnOHYsWMYDAYWLlzImDFj8Pf3x263/2pwp9FoHC38CgsLKSsrIy8vj5ycHEeX7bq6Os6ePUtSUhLFxcWkpqZy8uRJSktL8fHxISMjg5EjR/5bwZ2rqysuLi5YrVZSU1PJzc11tII9ffo0x44dw9XVldDQUMekKz4+Ppw7d47MzEzS0tLIzs4mKSmJhIQEjh49Snl5OeHh4XTv3p2CggK+/fZb9uzZQ25uLqmpqZw+fZrDhw9TUFBAv379WLRoESEhIb8a7gohxB9JgjshhBBCCNGm5eTkkJOTg06nY9GiRY4xuYKCgujfvz9qtZqzZ8+Snp5OeXk5nTp1YtGiRY7A42Jr167F19eXyZMnExUVxf79+8nIyMBgMDB58mRuu+02evXq9YuhHReCmuPHj5OdnY3VaqW2tpa0tLRWS0VFBSNGjKBDhw7oL8ws6u7uzhVXXIHNZuPs2bMkJydTWlpKjx49uPPOOxk/fvxlT0xx/vx5kpOT0ev1zJw5k8DAwJZF4EIXVnd3d0aOHImPjw+1tbVkZGSQmppKYWEhAJGRkUycOJH+/fuj1+txd3cnKCgIFxcXcnJyOHPmDFVVVfTr148rr7yS8PBw0tLSmD17NuHh4Y7uid27d6e6upr8/HxOnz5NRkYGDQ0NjB49moCAAHx8fOjSpQsFBQVkZWVRWFhIUFAQ06dPZ/DgweTl5TFo0CAGDx6Mq6srXOiSDDBgwACGDBnidG5qtRpPT0/GjBmDu7s7lZWVpKenk5qaSmlpKXq9nujoaCZNmkT37t1/tQt0YWEhycnJ6HQ6ZsyYQYcOHeBCF+xvvvmGvn37EhUVRVhYmGObxsZGEhISaGpqIjo6mj59+jjep7GxkcLCQo4fP87YsWPp27cvPj4+juDObDYzb948oqOjOXr0KCdPnkSlUjFhwgQWLlzIqFGjHPtSq9UEBQURGRnpGMsxIyODmpoaIiIiuPnmm5k1axadOnWCC91cGxsb2b9/PwEBAQwZMqRVS07VhVmJO3fuTFlZGenp6Zw6dYqCggJ69epFeHg4PXr0ICAggMLCQpKSkjh//jz+/v5MmjSJSZMmceTIEUaMGEG/fv3w9/ensbGRU6dOUVlZyYgRIxg0aJDTe54/f56cnBxMJhOLFy92dGv19/dn4MCBeHl5UV5e7giZa2pqCA4OZvz48fTo0QM3Nzf0er3j+BRFIS8vj+TkZHJzc2lsbCQ8PJyxY8cyatQovL290Wq1jhmIs7KySElJ4fz58xgMBsaOHcutt97KwIEDfzXYFUKIP9rlBncqpeXIuUIIIYQQQvwBTCYTjY2NKIqCr6+v0zqbzUZjYyMWiwWbzYZKpUKj0Ti63rUMaYYPH46rqyu33HIL8+bNo7GxEbvdjlqtdmzza6EdFwKRpqYmx/Y/R6PR4OHhgU6ncxrAX1EUGhsbMZlMTsft6urq6NZ6Ocxms2OSi+ZWfb+meayv5hlIuWjG1ubwrflYrVYrZrOZpqYm7HY7KpUKvV7v6DprNBrx8vJy2sZut9PQ0IDZbHaaFdXDwwOtVov9wuy9DQ0NWK1WVCqV471VKhUNDQ24uLg43b/a2lrsdjsGg8ER5rV08ThmzbMKqy7MPqrT6Rzn9mt+7pparVbH+HnN96mZ3W7HaDRitVodLccuXtfc7dPNzQ2DwYBGoyEvL4/bb7+d0tJS7r//fq699lqampocnwe9Xo/BYGh1zMqF8fqaP/fN90Wj0TjGnrv489M8dptKpcLV1bXV/riwT4vFQmNjI1ar1VEn3N3dHeWbPwfN90yj0TjOpba21tEVuvkeG41GLBYLrq6ure7Zxfvy9fV1qht2ux2TyeSoG833sbnFasv60dzdvPlvABcCzua/A3q9Ho1G47gPzftt/mxqNBp0Oh0Gg0Fa2gkh2qSWLc1/jgR3QgghhBCi3WsO7pYtW8aiRYtarhbiD3NxcPfXv/6V66+/vmURIYQQ4rKDu8t75CeEEEIIIYQQQgghhPhDSXAnhBBCCCGEEEIIIUQbJMGdEEIIIYRo94KCgggKCnLMVirEn0Wr1RIYGEjHjh1xd3dvuVoIIYT4l8gYd0IIIYQQot2rqqpyDNIvs0eKP5PNZqO+vh673d5qQgshhBCi2eWOcSfBnRBCCCGEEEIIIYQQf6DLDe6kq6wQQgghhBBCCCGEEG2QtLgTQgjRZthsNsxmMxqNBpVKhUqlallECCGEEEIIIQBojrSsVit6vR6NRtOySJt1uS3uJLgTQgjRJtjtdmpqasjIyMDV1RW1Wi3BnRBCCCGEEOIX2e12GhsbiYiIwNfXt92EdxLcCSGEaFeMRiOxsbHccMMNEtgJIYQQQgghLpuiKLz55pvMmDEDT0/PlqvbJAnuhBBCtCtNTU38+OOPXH311Tz55JN069YNnU7XsphoI2w2G2fPnkWlUtG5c+d282Tzf5GiKNTV1ZGWlkbv3r3x9PSUcLwNs9ls5OfnY7fbCQ8Pl7rVhimKgtFoJC0tje7du+Pt7S11qw2z2WwUFBRgsVjo2rWr1K02TFEUGhsbSUtLo2vXrnh7e6NWy/D8bZXdbuf8+fM0NjbSrVu3P7xu2Ww2iouLeeyxx3jnnXe4+uqrcXV1bVmsTZLgTgghRLtiNpuJjY0lJiaGXbt2MXToUPR6fctioo2wWq2cOXMGtVpNv3790Gq1LYuINsJut1NVVcVPP/3EiBEj8PX1lR9AbZjVaiU5ORm73c6AAQOkbrVhiqJQXV3NTz/9RFRUFAEBAVK32jCbzUZqaipNTU0MGjRI6lYb1vzA6fDhwwwaNIgOHTpI3WrDbDYb6enp1NfXM2TIkD+8blmtVnJycpg0aRJvvPEGMTExGAyGlsXaJAnuhBBCtCsXB3d79+4lKiqq3Xzp/i+yWq2cPn0atVpN//79//B/pInLZ7fbqaysJC4ujlGjRuHn5yc/gNowq9VKUlISNpuNyMhIqVttWPPYrHFxcURHRxMYGCh1qw2zWq2O4G7w4MFSt9owu91OXV0dcXFxDB48mKCgIKlbbZjVaiU9PZ26ujqioqL+8LpltVrJzs5m3LhxrFmz5r8yuJNPvxBCCCGEEEIIIYQQbZAEd0IIIYQQQgghhBBCtEES3AkhhBBCCCGEEEII0QZJcCeEEEIIIYQQQgghRBskwZ0QQgghhBBCCCGEEG2QBHdCCCGEEEIIIYQQQrRBEtwJIYQQQgghhBBCCNEGSXAnhBBCCCGEEEIIIUQbJMGdEEIIIYQQQgghhBBtkAR3QgghhBBCCCGEEEK0QRLcCSGEEEIIIYQQQgjRBklwJ4QQQgghhBBCCCFEGyTBnRBCCCGEEEIIIYQQbZAEd0IIIYQQQgghhBBCtEES3AkhhBBCCCGEEEII0QZJcCeEEEIIIYQQQgghRBskwZ0QQgghhBBCCCGEEG2QBHdCCCGEEEIIIYQQQrRBKkVRlJYvCiGEEH80s9lMbGwsMTEx7N27l6ioKAwGQ8tioo2wWq2cPn0atVpN//790Wq1LYuINsJut1NZWUlcXByjRo3Cz88PtVqe3bZVVquVpKQkbDYbkZGRUrfaMLvdTk1NDXFxcURHRxMYGCh1qw2zWq2kpqbS1NTE4MGDpW61YXa7nbq6OuLi4hg8eDBBQUFSty6wWq0UFhaSmJhIXl4eVVVVqNVqZsyYQc+ePfHw8HAqX11dTVJSEqdPn6akpAS73Y6Pjw/Dhg1jyJAhuLu7A/Ddd99x6tQpqqurnbYPDQ0lKiqKK664AoDMzEwOHz5Mamqqo0zzvzPMZjM9e/bktttuIyAgAI1GQ2VlJadPn+b06dNUVVWh0WgIDQ1l6NCh9O7dG51OB0BeXh7ffvst58+fx2azOfbdLDQ0lNGjRzNo0KCWq7BarWRnZzNu3DhWrFhBly5dyMvLo66uDoPBQGhoKIMHD6Z3795Ovy1KSkpISkoiISGB2tpaPDw86NevH4MGDSI0NNRRLjk5mcOHD5Odne14DcDd3Z0ePXoQExODm5ub07rLNWLEiJYvXZJ8+oUQQgghhBBCCCHaOKvVSn5+PocPH+bAgQPs2LGDNWvWkJSUhNFodJRTFAWj0UhsbCw7duzgwIEDnDp1yhFUnT17lqamJkf52NhYPv/8c77//ntSU1MdS3M42MxoNFJQUOBUJjU1lWPHjvHNN9+wZcsWjEYjiqJQWVnJsWPHWL9+PYcOHeLUqVOcOHGCPXv2sHnzZs6ePYvJZAKgsbGRvLw80tLSHPtMTk7m6NGjvPrqq45Q79f8+OOPfP311/z0008kJyeTkJDA9u3b2blzJykpKY5ytbW1HD58mM8//5wff/yRxMRE9u/fz1dffcWePXuoq6ujuY1bRkYGW7duZePGjZw6dcpxfBkZGZw/fx673X7REfxnSIs7IcTvqvmPtNFoxGKxtFyNTqfDzc0Nb29vSkpKMBgMeHp64uLi4ihjsVioqamhqakJX19fysvLsVqtTvtpSaVS4eXlhZeXF3q9vuXqVkwmE0ajEaPR6Ni3Wq1Gr9c7jq+ZoihYrVbq6upoaGhwnJdGo8FgMODl5YXBYHA8CVQUhaqqKiwWC25ubnh6ejr2xYUvXKPRSGVlJSEhIej1eiwWC/X19U5fjGq1Go1Gg4uLC97e3uj1elQqlWO93W6noaEBo9FIU1MTNpsNtVqNVqvF1dUVNzc3XF1dAaiqqqKuru6S90Sj0eDh4YGvry8ajabl6laaj7+hoQGz2YzNZkOj0eDq6oqHhweurq5Ox3m5pMVd+yIt7toPaXHXvkiLu/ZDWty1L9Lirv2QFnc/z2QyceLECVJSUnB1dSUzM5O33nqLF198kSlTphAUFAQX/l2dnJzMypUr0ev1zJw5k2HDhuHm5kZhYSHe3t6EhYU5fqc8/PDDZGdnM2bMGBYtWuR4P51Oh4uLi+O3mtlspqmpyRG4ceG324cffsj27dvp168fr7zyCj4+Phw6dIjPPvuMuLg4/va3vzFw4EAaGhrYvXs369ev55577iEmJoZOnTphsVgcv8uaI6qGhgaSk5NZunQpt956K4sXL6Zv376O9212cYu7iooKZs+ezU033UT//v2pqKjg7bffJjs7m/Hjx/PEE08AEB8fz1tvvUVqaip33HEHUVFRJCYmsnHjRpqamnj22WeJjIxEr9ezdetWNm/ejEql4qmnnnL8Tmz+7ejh4fGbfvsgLe6EEH8Wk8nEmjVriImJITo6utUSExPDyy+/TH5+PosWLeKZZ54hMTHRaR/nzp3j5Zdf5vrrr2f//v3MmDGj1X5aLiNHjuSFF14gKyvLaV8/JyUlhTfeeIOFCxcyfvx4xo4dS0xMDPfddx+bN292Kmuz2Th79ixvvfUW119/PRMnTmTs2LHMmTOHxx9/nISEBOrr6x3lLRYLb7zxBo888ghff/2107640Cx706ZNjBkzhuTkZKxWKzk5ObzxxhuO8xk2bBhjxoxh3rx5PPHEE6SkpNDY2OjYh6IoNDY2smvXLh599FFiYmIYNWoUkydP5oYbbuCVV14hISHB8cW3bt065syZ0+q6RUdHM23aNF588UXKy8svOspLUxSFsrIyNm7cyF133cX06dMZPXo0s2bN4oknnuDgwYOXbN4uhBBCCCGE+Pfo9XqGDRvGkiVLmDdvHv37929ZBIC6ujo+/PBDPDw8mD9/Ptdddx09e/YkLCyM6OhoevXq1apbrVarxcPDA39/f8fi7e3t9CBdr9fj6enpVMZgMFBVVYWiKEycONFRPiMjg6KiImbPns2UKVPo3bs3gwcPZtq0aYwdO5bt27c7WtHpdDq8vb3x8/Nz7Ndms5GYmIharWbIkCFEREQ4juPn+Pr6MmLECCZPnkxYWBgDBw5k6tSp+Pv7k5+f7yh34MABampqmDRpEgsWLKBXr17MnTuXqVOnolar2bFjh1OLRLVajcFgwNfX13F8fn5+/1Zo96+Q4E4I8btqDpQCAgJYuHAh7777rtPy7LPPcu211xIYGMicOXPIzMzk+++/d4RGZrOZrVu3kpqayrBhw4iKiuL55593bP/8888zb948DAYDS5cudbz+5ptvct1119GpU6eWh+TEZrORkpLC+++/z8mTJ5k8eTLPPPMMq1evZtmyZfTu3ZuGhgan8rGxsTzzzDN89913jBw5kr/97W8888wzzJ8/n7KyMv7+97+zbds2SkpK4KJrYDQanZ5GNbPb7ZhMJqqqqrDZbCiKgt1ux2w2A7By5Urefvttnn32WWbMmEFSUhKvvPIKp0+fhgvHVFVVxdNPP827776L0Whk4cKFrF69mpUrVxITE0NlZSVffPEFRqMRu91OU1MTfn5+zJ49u9U9+cc//sGCBQucWhn+HEVRKCwspKKigu7du3PXXXfxwgsvcPPNN1NWVsb69evZuXNny82EEEIIIYQQ/yaVSoVWq8XFxQWDwfCzvWWampqIi4tDp9Nx8uRJHnjgARYtWsTdd9/Ntm3bKCoqahU45eTksHbtWhYsWMBtt93GK6+8wokTJ1r1fFKpVKjVasfSPN5ehw4dGD16tKP3k9lsxmq14uHhgV6vR6PROHoGGQwGkpOTqaqqcnQ1bbnfkpISDhw4QHR0NGFhYZfVE6e+vp7c3Fzy8vLgQtfe5ORkFEWhW7dujnLZ2dloNBr69OnjuI4Gg4Hw8HCCgoJITk526qlUW1tLXFwcN998MzfeeCP/93//x9atW6mvr3c0lPhPkq6yQojfVWNjIytXriQrK4urrrqKJUuWOK1v/rLRarXk5OTw8ssvU1FRwaxZs1iwYAGxsbG89957+Pr6snTpUq644goaGxsdfxBLSkrYuXMnr7/+Ok8++SSzZ8927Fun06HVan+xKb3ZbGbz5s1s2rSJbt26ceuttzrCvvr6ekpLSwGIioqCC4ORfvzxx+zbt4+YmBimTp1K586d0el0lJeXk5CQwGuvvUaXLl1YvHgxMTExmEwmVq5cSXZ2NlOnTuXmm292OoZz586xdetWHn30UWJjY4mMjCQrK4uNGzeydu1adu3aRffu3TGZTKSlpbF27VoOHTrE008/zdy5c6mqqmLXrl288sorREZGMm3aNAYNGoS/vz8qlYrKykoyMjIwGo3MnDkTg8HA6tWrSUhIYMSIEdxxxx1Ox9N8T3Q6Xasv8JYUReH8+fOcPXsWjUZDp06d8PDwoLq6mo0bN3L06FG6d+/OSy+91HLTX9XcVXbGzFnc/vzHhHTvi1r7692exZ9DhZ1gawkKKoq1HVDkWWCbpULBxd5IuPUcZ7VhNKpdUfjlui7+PCrsdLSWokKhSBskdasNU6FgUJoIt5zjnDaEBrW71K02TIWdDtYytNgo1AahcOnAQ/z5VCjoFRNdLAUUaoMwqj2kbgG9OnoyZ7BzI4WtW7dy++23O3WVtVqtZGZmMnHiRDp27EivXr3o2LEjer2eiooK6urqmDRpEjExMY6ute+++y7JycmOYXqax7KLiIhg2rRpTJw40el9L7Z69Wp2795Nv379ePHFFzEYDKhUKrZs2cLnn3+OTqfjiSeeoGvXrphMJg4ePMgLL7zAsWPH+PTTT5k5c6bTsEkANTU17Nixg5UrV3LXXXcxb948wsLCnMo0u7irbK9evejUqRPu7u74+/vT0NBAQUEBAwYMYNasWY7feAsWLADg1ltvZfLkyY59xcXFsWHDBk6ePMm2bdvo0KEDBw8eZPfu3ZSXl+Pj44PFYqG4uBiAUaNGsWTJklZDI12uy+0qK8GdEOJ31Rzc5eTkMGPGDG666aaWRZxs27aNr776isbGRu666y7WrVtHQ0MDs2bNYuHCha3GqysuLmb79u28+OKLPPfcc8ydO9dp/a8xmUy88cYb7Nu3jzFjxnDPPfc4ZlO6lA8//JCNGzei1Wp55513CA4Odsx+xIXzfeKJJ9i3bx9Tp07lkUceQa/X/+bg7oMPPiA2NpaePXtis9nIysrivffe45NPPmH16tUsWbKErKwsHn74Yc6fP88jjzxyyZmMrFYrNpsNrVaLRqNh1apVJCYmMmbMGO69916nsr+Xr7/+mi1btmC321m/fn3L1U6aWxlePJir2WzmwIEDzIi5ms5LVqPt0B27Wsafaav0aoX5Xe1YFdiap8Zsl39Qt1UalUIXD4W7+9l5M1lNXr0KmyL3q63SqxVmh9vRq2FzjtSttkyjUujk9s+6tS5dTWat1K22TK9WmNnZjpcONmSrsdhVyA/htkmjUujgqnB3Xzsbs9WkVauwSt1iSr8g3lw0xOm1bdu2cfvtt/PCCy8wdepUOnTogMlkIikpiWnTpmEwGJg7dy5z586lY8eOZGRk8PrrrxMcHMwNN9zAlVdeCUBiYiKNjY34+Pjg4uJCcXExX3zxBWfOnGHAgAE8/fTTrcaxbh7n86677qKoqIg5c+Zw5513OsaPPHXqFNu2beOHH35gypQpdOnSBavVSlpaGj/88APJycmsW7eOmJiYVt12k5OT2bBhA19++SWffPIJ/fv3b/V7p1lzcDd+/HhGjRqFRqOhuLgYDw8PGhsbUavVTJ48mWuuuYZevXoBcPXVV+Pi4sJdd93F2LFjHfs6fvw4n332Gfv37+f7778nKCiIc+fOcf78efR6PX5+fo6JLfbs2cP58+dZu3YtPXr0uKwWgS1JcCeE+FM0B3dpaWmMHj2aefPmOa03XJjMofmPc319PR999BEffPABwcHBnDp1ivvuu4+FCxde8qnKvxvcWSwWvvjiCz7++GNCQkK46aabCA8PR6/XYzAYHE23m7+UHnzwQQ4dOsT48eNZvXp1y91htVrZu3cvq1atIiwsjMcff5yuXbv+5uDuvffeY+PGjXTt2pXGxkZOnTrFq6++Sn5+Pi+++CLz5s3j6NGjzJkzhxkzZnDPPfcQHR3ttP9LWbVqFceOHWPQoEGtwlSdToePjw9ubm6/2Frxl1itVtavX8/3339PYGAgr732WssiThoaGqioqKCystLxmsViIT4+nrvuuZfIW1bj2rEbigR3bZZOrXBVqILNDnsLVVgkXGiz1CqFEDeFxd0VNmSpON+gwi4/gNosnVphYoiCVg3fF0jdasvUKoUOLv+sW1/lqciXULxN06oVxgcreGjhm3NSt9oytUrBz/DPuvVNvorcOqlbACO7+/P4DOfJGXbu3Ml9993HM888w6RJkwgMDMRkMpGSksLcuXMZMGAAt99+O9OnT3ds88ILL3DmzBmioqJ+8YF+amoqr732GkVFRbz66qt07tzZqWtu80QZK1eupEOHDixdupRx48ah0WhQqVRYrVaSk5P56KOP2L9/P42Njbi5uREeHk5ERAQbNmzg9ddfZ9q0aU6hnKIo7Nixgy1btmCxWHj77bfx9fV1rG/JarWSm5vL9OnTUalUTJ06lauvvprevXtTVVXFp59+SkFBAaNHj+bBBx9Eo9FwzTXXoNPpuOOOOxg/frxjX0ePHmX9+vXExcXx3Xff0aFDB6f3alZTU8PWrVt56KGHePXVV5k8eTKBgYEti/0qCe6EEH+K5uBu27ZtlJaWtnoyEhUVxZIlS5g/fz5c+MOckJDAxx9/zLp165g+fTrLly9n+PDhlwyR/t3gTlEUamtree211/jiiy8oLi4mJCSEfv36MWTIEMaMGcPgwYMdreqWLl1KSkoKixcvvuQXm91uJyUlhQcffBCtVssDDzzAFVdc8ZuCu88++4znn3+egIAAtFotFouFxsZGrFYrV199NcuXL2fAgAHs3buXefPmcd9993HTTTddcnalllatWsX69espLCxs1cIwIiKC5cuXM2nSJLy8vJzWXY7m7rP/93//R2VlJUuXLuWaa65pWcxJfHw8H330EZ999pnT61arFbPZzN+fXkV41wg0MuNbm6UCdBeqqMWOtFpow1QXFoMGTLZ/3iu5X22X1K324+K6ZbaDXZH71ZapAK36n/+VutW2Ndctveaf90rq1j/p1Gpc9c5dvA8fPsyaNWu45ZZbGDp0KL6+vtjtdoqKinj44YcZNGgQU6dOdZrEYteuXSQmJhIcHMyNN97otL+LNTY2smHDBlJTU1m6dCk9e/Z06nlUX1/Pli1bHA02pk6dilardTSAUBQFm82GyWSiqakJo9GIVquloaGB+Ph4R+g4dOhQp999ZrOZr776iuPHjzNhwgQmTZrUqivtxaxWK0VFRTzyyCP06NGDe++9l2uvvRaNRoOiKJw+fZrXXnuNiooKPvzwQ/z9/Vm6dClNTU0sWbKEWbNmOfYVGxvLxo0byc7OZuPGjT8bximKwq5du7jrrru4++67mTdvHp07d25Z7FdJcCeE+FM0B3fx8fF0796dcePGOa0PCAige/fujlmBFEVh+/btvPLKK8THxzNgwACeeeYZrrzyyv9IcMeFsC0/P5+srCyys7M5e/YsZWVl5OXlodfrGTNmDMuXL0ev17N06VJSU1NZsmQJ99xzT8tdYbfbSU9PZ8WKFajValasWMHIkSN/U3C3YcMG3nzzTR577DE6dOhAYWEhiYmJJCUl8fzzzzNixAgMBgN79uzh2muvZfny5dx444306dPHaf+XsmrVKn788Uc6derElClTnNZ5enoyYMAAOnXq5PRlfDksFgvl5eU8++yznDt3jvHjx7NkyRICAgJaFnVSVVXF2bNnOXfunOM1i8VCUlISTz79DKP/8iweId1AWty1WVoVjOmoYFPgcIkKq/xros1SqyDIRWFWF4UdZ1WUNKmwy/1qs7QqGBmkoFHBwWKpW22ZWgX+BoWYLgrfF6gobJC61ZZpVTCsg4KbFvYXqrDIvWqz1Crw0SvM6qwQW6SiwKjCJveLIZ19uWtCd6fXvvvuOx544AH+/ve/M2HCBAIDA1EUhZKSEu688078/f1ZsGABkyZNcmyzZs0azpw5Q2RkJHfddZfT/i6Wl5fHmjVryM3N5ZlnnqFnz56ObrA2m42CggJuueUWBgwYwIgRI4iMjKRbt26OFncXaw7xVCoVp06d4vXXX8dqtfLAAw8QGRnpVP7EiROsW7eO6upqnn32WUJDQ392Eg4uBHd5eXnMmTOHHj16cP/993Pttdc61qempvLCCy9w/vx5PvnkEwIDA1m5ciXJycmMGTOG+++/31F2/fr1bNmyhU6dOrFq1Sp8fHwc6y7W0NDA9u3bWb58OU8//TQzZ84kODi4ZbFfJcGdEOJP0RzcNQ+IumjRIqf1Wq0Wg8HgGLsuOTmZ9evXc+DAAa644gp++OEHrr32WubNm0fPnj2dtuV3Cu6aNc/sWlJSQllZGWlpaezdu5fa2lpWr17NgAEDeOihhzh+/DjTp0/niSeeaLkLbDYbP/30E0888QT+/v787W9/o2/fvjz77LMkJSUxZcoUli1b5rRNXl4eX3zxBU8++SQHDx6kf//+ZGRkOCan2LFjBxEREVRXV5OYmMjGjRuZMGECU6dOJSwsjNjYWObOncuiRYv4y1/+wqBBg5z2fymrVq3ixIkTDB8+vNXxNA9CezmTU1zMbDaTnZ3N+vXrOXXqFOPHj2f69OmXFSQ2f3lfPMadyWTiwIEDzJo9hy5LVqMN6oZd9a8FieKPo1crzLswxt02GeOuTWse4+6ufnbeSlGTJ12O2rTmMe50atgiY9y1aRqVQoj7P8fhWpehJqtG6lZbpmse404PG7PV/2x1J/erTWo1xl2NCqv8LeSqfkG8sXAwFouFmpoaLBYLu3bt4uGHH+bxxx9n/PjxBAcH4+bmhsVi4a233uLHH39k5MiRzJ8/n4CAAM6ePcuLL76Iu7s71157LVOnTqW6upqsrCwMBgMdOnRwTMK3Y8cO9u7dS0hICC+88AK+vr6OhhUVFRUcPHiQe+65h+XLl9O/f3+8vb0ZMmSIo9Wd0WikoqKCqqoqOnbsiNVqJScnhx9++IHvvvuOm2++mVmzZjkmCmz21ltvsXv3brp27crq1audhjHiwoy5hw8fpqqqit69e9OzZ09ycnIYP348er2eJUuWsGjRIoKDgzEajXz77bfs2LGDwMBA3nrrLdzc3Ni5cyeff/45ZrOZ+++/n65du5Kfn8+nn35KRkYGy5YtY8aMGWi1WrKysigvLyc8PBw3Nzfq6+s5efIkO3bs4PDhw6xdu5bIyMhW4/RdDgnuhBB/isudnEJRFIxGIx988AGHDh0iLCyMO++8k2eeeYa6ujqmT5/OggULWv0B/D2Du5Zqa2tZs2YNmzZtYsWKFcyZM4f333+fnTt30rlzZ9asWYOnp6dTS0CTycT777/Pp59+SnR0NI899hh+fn689dZb/PDDD0yYMIHly5c7bZOcnOyYiOLHH3+kV69epKamtpqcAqCwsJDNmzezd+9ebrnlFq666ipSUlK49dZbCQgI4IEHHmDixImtWsrZ7XYURUGtVqNSqX73ySnMZjPp6ens2rWLbdu2MX36dObOnUuvXr3+pfDvYs2zyk6fOYu5j79HQHhvVBoJ7toqDQq9DZUoqEgz+WKX2d7aLBXgrTER7VLK8aYO1NgM0uWoDVOj0MtQhQaFVJMfNqlbbZYK8FSbiXYtJbEpgEqbQWa+bMPUKPTQV2NQ2Ug2+WGTGZvbLBXgrrYQ5VJKssmPCpuL/DsDiAzz4eaRXSguLmbfvn0UFRWRlJTEV199xYwZM+jVqxcREREMGDCAAQMGkJyczBtvvEF9fT09e/bE39+f8+fPk5aWxoQJE1iwYAFBQUEUFhayZcsWqqurCQgIQKPRUF1dTUJCAh4eHkyZMoXFixc7HUtqairvv/8+u3fv5h//+AchISE0NTURFRXlaJVXXl5OYmIiBw8exN/fH4vFQn5+PkVFRfj6+vLwww8TGhrqaNDR/Pvwvvvuo6qqijlz5nD99dc7vS9AdXU1L7/8Mjk5OVx99dXMmTPHMaush4cHkZGR9O3bl44dO9LY2Eh8fDwajYYrr7ySW265BYDz58+zYcMGYmNj6datG126dKGgoID8/HzCw8NZsWIFQUFBWCwWvvnmGw4dOkRoaCguLi40NjaSkZFBSUkJvXv35qGHHsLPz+83/QaS4E4I8ae4OLibNm3aJcdNUKlU2O124uPjWb16NT4+Ptx9990MHjyYn376ieeffx5/f3/uvfdehgwZ4vRH8N8N7prHuLNarY7WfxqNBrvdTkNDA++88w5btmzh/vvv5+qrr+b48eOsXbuWrKwsVq9ezaBBg/Dy8kKlUmE2mykpKXF8uSxevJg77rgDm83GN998w9tvv02fPn14+OGHHU+ommdO/fzzz8nJyeGTTz4hPDyclJSUSwZ3ZrOZgoICrr32WmbMmMHixYvR6/W8/fbbbN68mWXLljF//nzHbLfNx1VTU4PJZCI0NBStVsuzzz7LyZMnGT169CW7/KpUqkt2Tb4Um81Gbm4umzZt4ttvv+WKK65g+fLlBAcHO+7VLzVn/znNwV1MTAx79+4lKirqN83OJP4YVquV06dPo1ar6d+/v+MfaaLtsdvtVFZWEhcXx6hRo/Dz87vs+i7+eFarlaSkJGw2G5GRkVK32rDmGRXj4uKIjo4mMDBQ6lYbZrVaSU1NpampicGDB0vdasPsdjt1dXXExcUxePBggoKCpG5dYDabSUpKYtWqVZw+fbrlavr27cvcuXO54YYbADh06BBff/01hw8fpr6+npCQEK655homTpxI165dsdlslJeX8+677xIXF0dpaSk2m42AgACioqKYPn06V1xxRasx5o4fP87LL79MUFAQt9xyC2q1mrq6OqfgrrKykgMHDvDee+9RWFgIQFhYGOPHj2f+/Pl06tTJ6TeD1Wrl/Pnz/O1vf6NTp04sXbr0kj15ampqeP3118nLy2PmzJnMmjXLEdzNnz8frVbLyZMnqaysxN3dnT59+jBr1iwmTJjg1PU1MzOT77//nq1bt1JaWoq/vz9XXXUVMTExjjEBLRYL27dvZ9OmTeTn51NfX4+3tzc9evRg/PjxzJ49Gx8fn9/8+ZTgTgjxp2gO7jIyMhxPci6mVqvR6/WoVCr+8pe/UFdXx9y5c1myZAlarRar1crrr7/Onj176NatG6+++qrTOAn/bnBnNpv56KOPKCoqIjQ0lIEDBxIYGEh9fT179uxh27Zt2Gw23n//fSIiIrDb7Y6x52w2G3fffTfDhg3D1dWVtLQ0NmzYwIEDB1i2bBlLliyhe/fuKIpCVVUVDzzwACkpKUyaNIn58+fj7u5OVlYWX3zxBSdPnuSWW25h4cKF+Pr6/mxwx4Vr+vDDD3P+/HlmzZrFokWLOH/+PLfffjv5+fmMGDGCa665hp49e6LRaMjKyuL777+nsrKS119/HU9PT1avXk18fDzR0dGOJ03Nmu+Jh4fHrwZuiqJQXl7O6tWrOXz4MAMHDuThhx92mpFWr9f/4sxPP0eCu/ZFgrv2Q4K79kWCu/ZDgrv2RYK79kOCu19ms9lobGzEZrO1XIVGo0Gv1ztasVmtViwWC1ar1dEbR6fTodPpHNfUbrdjMpkcZbjwUF+r1aLT6S45Zp3VasVkMjnKZWZmtgruFEVxlGseHketVqPVatHr9Ze8p3a7ncbGRsfvk0v9NlEUBZPJhM1mc5xHc3D3yiuvMG3aNMfEFFy4Js3nfPF52Gw2rBcmxlMUBZVK5Sh38fuazWbMZrOjR5NKpUKj0TjOo+W1+VdIcCeE+FM0B3ffffcdTU1NBAUFOa339PSkW7duDBgwgHfffZdFixYxb948unTp4iiTmZnJRx99RFxcHMuWLWPmzJmO2U7/3eDOarXy448/8uOPP5Kenk5tbS1ms9kx7l5ERARjx45l+vTpuLi4oFKpKCws5MiRI3zzzTeUlpbS0NCA3W7HYDDg4+PDmDFjmDBhAt26dXM8jbLZbBw9epQffviBkydP0tTUhNlsRq/XExQUxJAhQ5g3bx4dOnRAq9X+YnBntVr54YcfeP311+natSsPPvggwcHBJCQksGfPHs6cOUNVVRUmkwl3d3e8vLzo1KkTw4YNY968eY4Wd1u2bKGuro6QkJCLrsg/70lkZCT3339/q/vVks1m48CBAzz33HP89NNPeHl5ER4eDhe+4AEGDBjAW2+91WLLXyfBXfsiwV37IcFd+yLBXfshwV37IsFd+yHBXftitVpJT09vFdz9UaxWqyO4W7NmDTExMe3mN4QEd0KIP4XVaiUuLo709HRqamparsbV1ZWAgABCQ0PJyMjgiiuuoEePHk5jtFksFk6dOkVqaio9e/Zk4MCBuLq6AmA0GsnKyuL48eOMHTv2khNY/BK73U5JSQlZWVmcO3eO6upqTCYTer0eb29vIiIi6NGjh9PU33a7nerqapKSksjLy6OmpgabzYa7uzvBwcFERkbSoUOHVl8QRqORnJwcUlNTqaiowGKx4OrqSmhoKD179qRbt26OshUVFaSmpnLmzBmuu+46pxZriqJQVlbGgQMHcHFxYcSIEfj7+2M2m8nKyiIrK4uioiKMRiMGgwEvLy/CwsLo3r07oaGhABw5coSkpCSqqqoc+23m4uJCaGgoEydOdASkP8dut5Odnc3x48c5f/58y9UAhIaGsnDhwpYv/yoJ7toXCe7aDwnu2hcJ7toPCe7aFwnu2g8J7toXCe5+OwnuhBBCtCsS3LUvEty1HxLctS8S3LUfEty1LxLctR8S3LUvEtz9dpcb3MmnXwjxX0FRFCoqKjh79izZ2dmXXPLy8igrK7vkeBD/6xRFoaamhnPnzrW6bs1Lbm4uhYWFWK3WlpsLIYQQQgghhPgPkOBOCPFfwWw28+6777JgwQJGjx59yeXqq6/mpZdeoqKiouXm//OsVitbt27lpptuanXdmpepU6eyYsUKiouLW24uhBBCCCGEEOI/QLrKCiH+K9hsNpKSkhzTdF9K8/hy/fv3bzWl+f+65rHrsrKyqK6ubrkaAJ1OR0BAANHR0bi7u7dc/W+TrrLti3SVbT+kq2z7Il1l2w/pKtu+SFfZ9kO6yrYv0lX2t5OuskKI/ylqtZqePXsybtw4pk2bdsllwoQJ9O3b1zE9uvj/1Go1nTt3ZvTo0a2uW/MyefJkoqKiHBOFCCGEEEIIIYT4z5LgTgjxX0GlUuHq6oqXlxc+Pj6XXLy9vXFzc5Mndj/DYDDg6enZ6rpdfP08PDzk+gkhhBBCCCHEH0R+fQkhhBBCCCGEEEII0QZJcCeEEEIIIYQQQgghRBskwZ0QQgghhBBCCCGEEG2QBHdCCCGEEEIIIYQQQrRBEtwJIYQQQgghhBBCCNEGSXAnhBBCCCGEEEIIIUQbJMGdEEIIIYQQQgghhBBtkAR3QgghhBBCCCGEEEK0QSpFUZSWLwohhBB/NLPZTGxsLDExMezdu5eoqCgMBkPLYqKNsFqtnD59GrVaTf/+/dFqtS2LiDbCbrdTWVlJXFwco0aNws/PD7Vant22VVarlaSkJGw2G5GRkVK32jC73U5NTQ1xcXFER0cTGBgodasNs1qtpKam0tTUxODBg6VutWF2u526ujri4uIYPHgwQUFBf0rdqqysJDMzk1OnTlFaWkpdXR2RkZGMHj2azp07O8qdPn2auLg4srOznbb38PCgV69ezJkzBxcXF8frFouF3Nxcjh8/Tm5uLkajERcXFzp16sS0adPo1KkTXPjM5ufnc/ToUXJzc2loaMDNzY2+ffsyYsQIOnTogEqlQlEUbDYbBw8eJCMjg/LycoxGIxEREUydOpXQ0NCLjgr2799PfHw8RUVFTq8DGAwGwsLCuOGGG3Bzc2u5GoCsrCyOHDlCYmIiXPTvDLPZTMeOHdHr9SxdupRevXpRW1tLeno6x48fp7y8nKamJnQ6HYGBgQwdOpS+ffvi7e3d8i0AKCwsJDY2ljNnzjBkyBCGDx/udN2bWa1WsrOzGTduHGvWrCEmJqbd/IYYMWJEy5cu6Y//9AshhBBCCCGEEEK0YdXV1aSkpHDgwAHi4+P58MMP+e677yguLnYql5GRwddff82XX35JRkYGOTk55OTkkJ+fT1lZGXa73VG2sbGRzMxMNm/ezL59+zh9+jSZmZmkpaVx+vRpamtr4UK4V1hYyKZNm9i1axcnT54kPT2dhIQEtmzZwqFDh5yOw2q1kpCQwIEDB9i7dy+bNm1i27ZtlJaWOso0q6mp4fz5847jzMnJITs7m++++46PP/6Yw4cPYzabW27m0NjYSGlpqWPb3NxcCgoKOH36NB999BFbt26lpKQEgIaGBvLy8jh16hSpqalkZmaSnJzM/v37+eSTTzh9+jT19fUt34La2lpOnTrFhg0beOedd9i3b98lg8b/FdLiTgjxu1IUhfLycurq6rBYLC1Xo9Pp8PDwwMfHh8LCQlxcXPD29sbV1dVRxmKxUFVVRWNjI/7+/pSUlGC1Wp3205JKpcLHxwdvb+/LesLS1NREfX099fX1juPUaDTo9Xrc3d3x9fV1lFUUBYvFQm1tLUajEYvFgqIoaDQaXF1d8fb2xsXFxfEksPkaWCwW3N3dWz1Fslqt1NXVUV5eTlhYGAaDwbH/iooKRzm1Wo1Wq8XFxQVfX1/0er3T00a73e44h6amJqxWK2q1Gp1Oh6urKx4eHo4nZRUVFdTW1l7yS1ir1eLp6Ymfn99lP32uqqpy3GObzYZarcZgMODp6YmnpycajablJr9KWty1L9Lirv2QFnfti7S4az+kxV37Ii3u2o+20uIuLy+P06dPU1BQQEREBI8//ji9e/fmnnvuYdiwYY5yX3zxBV9++SU6nY4nn3wST09PuPBv+ebfPiqVCoCcnBy2bNnCxo0bmTdvHhMmTCAkJASTyUR+fj6DBw8mMDCQiooK9u/fz3333cc111xDTEwMYWFh5OXl8eqrr+Lt7c3ixYuZMWMGXPhts3nzZoxGIw0NDcTGxqLVanniiScYMmSI41i5ELw1NTVhs9kcrxmNRl5//XXi4uK49dZbWbRo0c+2uLNYLDQ1NWEymeBC3UpPT+fbb7/lm2++YfTo0dx777307duXqqoq0tPTMRqNdOjQAU9PTyorKzl48CDPPfcct99+OwsXLqRXr16O/dtsNuLj4/nuu+84dOgQWVlZxMTEsHjxYoYPH37RkfyTtLgTQoh/kclkcvzBjIqKarXExMTw0ksvkZ+fz6JFi3jmmWcczaybnTt3jpdeeoklS5YQGxvL9OnTW+2n5TJixAj+8Y9/kJWV5bSvn5OSksIbb7zBddddx7hx4xg7diyzZs3ivvvuY/PmzU5lbTYbZ8+e5c0332TJkiVMmDCBMWPGMHv2bB577DESEhKoq6tzlDebzbzxxhs88sgjfP311077AigpKWHTpk2MHj2a5ORkrFYrOTk5vPHGG47ziY6OZsyYMcydO5cnnniClJQUmpqaHPtQFIXGxkZ27drFI488wqxZsxg5ciSTJk3i+uuv55VXXiEhIYHmZzPr1q1j9uzZra5bVFQUU6ZM4YUXXqC8vPyio/xl69ev56abbmLKlCmMHDmSyZMnc+edd/Lll19SXV3dsrgQQgghhBDtSufOnZk+fTq33norkyZNws/Pr2URh+aH2H5+fvj7++Pv74+vr69TaGe320lPT2fTpk1cf/31LF68mCuuuIIuXbrQs2dPrrzySgICAuDC74WffvqJ0NBQ5s6dy7hx4+jevTsjR47kjjvuID8/n1OnTmEymVCpVLi6urJo0SJuvfVWxo4di6+vr+N9W3JxccHHx8dxnP7+/hQVFXH+/Hl8fHyYNGnSLwZfzWHkxdtrNBoqKiooLy/nqquuIigoCAAfHx+io6MZN24c/fr1o3PnzkRGRjJv3jz69OlDSUlJqxaMNTU17N69m9TUVB566CG8vb1/9lz+V0hwJ4T4XSmKgslkIjg4mKVLl/LJJ584Lc2BXFBQENdddx3Z2dl8//33lJWVwYXQ68svvyQ9PZ3Ro0dzxRVX8Prrrzu2f/3111myZAmenp7ccccdjtfXrVvH9ddfT1hYWMtDcmKz2UhOTubdd9/l5MmTzJgxg5deeolXXnmFe+65hwEDBjgFZDabjX379vHkk0+ya9cuxo8fz1NPPcVLL73E9ddfT2VlJY8//rhTk3AunEdTU9MlWx3a7XYsFgv19fXY7XYURcFut2O1WtHr9Tz//PN8/PHHvPzyy1xzzTWkpKTw0ksvcerUKbhwTFVVVaxcuZJ3330Xk8nETTfdxKuvvsrzzz/P/PnzqampYcuWLRiNRux2O2azmaCgIBYsWNDqnqxZs4brr78eHx+flof6s0JCQpgxYwaPP/44b7/9No8//jgdOnRg586drF27tmVxIYQQQggh2pXm3i96vR6tVvuL4VF1dTX79+9n8eLFLFq0iIcffpitW7dSX1/veJBeXl5OdnY2JSUl6PV63nzzTW644QZuvPFGVq1aRUZGhuN3iM1mw2QyYTAYMBgMaLVax/F4enpisVgcYVsznU6HXq9Ho9H84rGqVKpWy9GjRzEajfTr14/g4OBfbeHYcvvCwkIKCgoICwtj0KBBjh5HKpUKjUbjOH61Wk1dXR1JSUmcO3eOoKAgOnTo4Nivoihs3LiR8vJyJk+eTPfu3aV1rHSVFUL83hobG1m5ciVZWVlcddVVLFmyxGm9Wq12/PHOzc3llVdeoaysjBkzZnDdddexb98+1q5di7+/PzfffDPDhg2jqanJMTZESUkJO3fu5PXXX+fJJ59k9uzZcOFLQavVOr4Ufo7ZbObzzz9n8+bNdO/enVtvvZWQkBAA6uvrKS8vR1EUR5PyM2fO8PHHHxMbG8ucOXOYMmUKYWFh6HQ6ysvLSUxM5JVXXiE0NJTFixcze/ZsTCYTK1euJDs7m6lTp3LzzTc7HcO5c+fYunUrjz76KLGxsURGRpKVlcXGjRtZu3Ytu3btonv37phMJtLT0/nggw84cOAATz31FPPmzaOyspJvv/2W1157jSFDhjB9+nQGDhzo6P5WWVlJVlYWRqORadOmYTAYWL16NQkJCYwYMYI77rjD6Xiar51Op/vFL/mL5eXlYTKZ8PX1xcXFhYaGBvbs2cPWrVux2+18+eWX/3J32eausjNmzuLW5z6kY7d+aLS6lsVEG6FS7HSyl6KgolAdiKL6+Xon/mSKgpvSRDd7AdnqUBpULnCZdV388VSKnRB7GSoUzqs7SN1qyxQFV0xE2Ao4qw6mXuUmdasNUyl2Otor0GHlnDpI6lZbpigYMNPNVsA5dRD1KneUP6huebvquXV0V1z1rf8dO3XqVAIDA1t1ld2/fz979+6lsrISX19fTCaTI1AbNWoUN954I+7u7mRkZPDpp5/yyiuvMHnyZEJDQ/Hw8KChoYHCwkL8/f1ZtmwZAwYMoKCggC+//JL333+fhx56iOnTpzuGEPrggw/45JNPGDVqFPfeey/R0dEXHSWcOHGC1157jbq6Oh5//PFWXWUvZrfbMRqN3H333dTV1TF//nwWLlzYstgvMplMvPHGG3zxxRdER0fz9NNPOw0V1NywY/369aSnp9PQ0EBFRQUajYYbb7yRYcOG4e3tjclk4ujRo6xfv55u3boxd+5c3NzcmDVrFqNGjWLRokX/s11lJbgTQvyumoO7nJwcZsyYwU033dSyiJPt27fz1VdfYTQaueOOO/jwww8xmUzMmjWL6667Dr1e71S+uLiY7du38+KLL/Lcc88xd+5cp/W/pvmLZd++fYwZM4a7774bDw+PlsUc1q1bx6ZNm9DpdLzzzjt07NgRne7/h0mNjY38/e9/Z+/evUyZMoVHH30UvV7/m4O7Dz74gNjYWHr27InNZiMrK4t3332XTz/9lNWrV7NkyRKysrJ46KGHKCoq4pFHHiEmJsZpjEAuPKWzWq3odDrUajWrVq0iMTGRMWPGcO+99zqV/T1YLBb27t3LZ599RnV1Ndu3b0etVv9sENjcyvDiwXrNZjMHDhxgRszVdF6yGm2H7tjV8oStLVIBOrXC/K52rApszVNjtl/6Xos/n0al0MVD4e5+dt5MUZNXp8KmyP1qq/RqhdnhdvRq2JyjxmJXIf9Yb5s0KoVObv+sW+vS1WTVqrBK3Wqz9GqFmZ3teOlgQ7bUrbZMo1Lo4Kpwd187G7PVpFX/cXUr1NeVbXeOwset9cPjadOmERgYyN133+0U3OXn51NUVITBYMDX15fa2loOHz7Mnj17KCkp4f3336dr166kp6fz8ccf8+677zJy5EiWLl3KwIEDqampYe/evaxbt47HHnuMWbNm4eLiQkJCAk899RTh4eEMGDCAgIAAqqurOX78OHv37mXs2LHcddddjB492uk4ExISeO2116ivr+f//u//fjG4M5vNnDp1ioceeoh+/fpxzz33OI03dzkKCgp44YUXSEhI4MEHH+Sqq65ymkVXURSampp46aWXOHHiBEajkaamJvr168f1119PZGQker2egoICXn31VQwGA9OnT2f8+PEUFxcTExPDyJEjWbhw4S8Gd+PHj+eNN96Q4E4IIX5Nc3CXmprKqFGjuOaaa5zWN09G4eXlBRdauX388cd88MEHBAUFcebMGe6//34WLFhwyW6v/25wZ7FY+PLLL/n444/p2LEj119/PeHh4RgMBlxcXHBzc8PFxcUROD344IMcOnSI8ePHs3r16pa7w2q1snfvXlatWkVYWBiPPfYYERERvzm4e++99/jss88IDw+nsbGR06dPs2bNGs6dO8cLL7zAvHnzOHr0KHPmzGHGjBncc889rZ6yXcqqVas4evQokZGR3HDDDU7rdDod/v7+uLu7/2JrxZYaGxuprq6mrq6Ouro6tm/fTkpKCv369ePJJ59sWdyJ0WikvLzcaVw9i8XCiRMnuPf+5Qy+dTWuHbuhSHDXZunUCpM7KdgU2FeowiLBXZulVimEuCks7KawKVvF+QYV9j/oB5D41+nUCleGKGhVsPu81K22TK1S6ODyz7q1NU/FOaOE4m2ZVqUwLljBXQffnVNhsXPhUZRoa9QqBT/DP+vWd+dU5P6BD5w6eBl4dcEgvFxaB3dz587F39+f22+/naFDh7Zc7aSmpoatW7fy3HPP8dxzzzFmzBiKi4vZsGEDmzZt4qGHHmLWrFmEhIRgt9vJz89n4cKFXHnllcyfP59BgwZhNBrZuXMnX3zxBVlZWdhsNnx9fZk9ezabNm1iwIABLFu2zClEBEhMTOSdd96hvr6eBx98kMjISKf1F6utrXX0+JkzZw633Xbbv9w1dc+ePXz88ccAvPLKK/j7+7f6TWG32ykvL6e2tpbS0lJOnDjBRx99xOLFi4mJicHf358jR47w2GOPOcJId3d3ysvLueuuuxg8eDAzZ85k2LBhTpMIcuH3WG5uLjNmzODNN9+U4E4IIX5Nc3DXPObbxU9bAKKjo7n++utZsGABXHgCc/LkST7++GPef/99Zs2axfLlyxk2bFirP/j8DsGdoijU1dXx2muvsXnzZgoLCwkJCaFfv34MHTqUcePGMXjwYEeruqVLl5KSksLixYsv2VLNbreTmprKgw8+iEaj4YEHHuCKK674TcHdZ599xvPPP4+vry8ajcYxY5Pdbueaa67h/vvvp3///vzwww/Mnz+f+++/n5tuuok+ffo47f9SVq1axWeffcb58+dbtc7r1q0bK1asYPLkyY5A9XL89NNPrFu3ju3bt9PU1ERoaCiLFi3i9ttvJzAwsGVxJ8ePH2fdunV8+umnTq/bbDZsNhsrn15F14gItJp/7R8O4g+kAq0KFMCm8M//EW2WSgU6NVjsIP/ya+NUoFH9M06wSt1q85zqFnK/2jSpW+1Kc92y2sHOH3e/VCoVLrrWv0EA/v73v+Pl5cWsWbPo2bNny9WtHDt2jLVr1zJz5kxGjRqFxWLhxx9/5Ntvv+Xuu++mX79+jp4/VVVVvPzyywQHBzN27Fj69+8PF0Ips9lMQ0MDFosFvV5PfX09b775JuHh4cyePdsx7E+z7Oxstm/fTmNjI9dddx3dunVzWn+xqqoqnn/+efz9/bnyyit/NZC8lPXr15OZmUmfPn249tprf7HHTfNSW1vL559/TlVVFaNHj6Znz57ExsY6ht1pHlPQbrfT2NiIRqPBy8uLESNGsGzZMqf92mw2ioqKePTRR3nvvfckuBNCiF/THNydOHGCHj16MH78eKf1AQEBRERE0LVrV7jwB3zbtm2OWVD79+/P008/zcSJE/8jwR0XwraCggKys7PJyckhNzeXkpIScnNz0Wq1jB07lhUrVqDX61m6dCmpqaksWbKEe+65p+WusF+YHWrFihWo1WpWrFjByJEjf1Nwt2HDBt566y2eeOIJOnTowPnz50lMTOTMmTP84x//4IorrkCv17Nnzx6uvfZali9fzo033njZwV1sbCyhoaFMnTrVaZ2npyf9+vUjJCTEqRvwrykrKyMzM5O8vDzKyso4cuQIZrOZCRMmcNddd/3slzYXBvA9d+4cBQUFjtcsFgtnzpzhiZVPMvL2Z/EI6QbS4q7N0qphbMd/triLK1b980eQaJPUKghyVbi6i8L2sypKGlXY5X61WVoVjOr4zxZ3+4tVWP//iAKijVGrwN+gMDtcYde55tasLUuJtkKrguEdFNy1sK9I6lZbplaBj/6f31s/FqrIN/5xdSvAw8DKmH54GFr/G/S6667D39+fW2655Re7n3Khd8nOnTt59tlnefTRR5k4cSJubm6O1/76178yZcoUOnbsiKIonD9/nhtuuIExY8ZwzTXXtGolZ7PZUBSFhoYGtm7dypYtW5g2bRq33HJLq4YSp0+f5r333sNoNLJ8+XIGDhzotL5ZTU0Nx48fZ/ny5dxxxx3ExMQQGhrastjPstlslJeXs2LFCpqampg3bx7z5s371ckxuPBb4KWXXiInJ4fZs2czffp0zp8/T3Z2NjabzVGupqaGNWvW0L17d0aNGsXIkSNbXRur1UpeXh5z5syRFndCCHE5moO7zMxMJk2axKJFi5zWN8/M1Dx2XVJSEp999hmHDh1i1KhRfP/998ybN4/58+dfcnyF3yO4a2YymaiurqakpITy8nLS09P54YcfqK6uZtWqVURGRvLwww9z7Ngxpk+fzhNPPNFyF9hsNg4fPszf//53AgICePTRR+nbty+rV6/mzJkzTJkypdVToby8PLZs2cJTTz3FwYMH6d+/PxkZGY7JKXbu3ElERATV1dUkJiayYcMGxo0bx/Tp0wkLC2P//v1cc801LFy4kL/85S8MHjzYaf+XsmrVKk6cOMHw4cO5/fbbndap1WpcXFz+pckpuPAlaTKZMJvNGI1GTp48yddff01JSQlr1qz5xSBQURRsNtslx7ibefVsuixZjTaoO3ZV6380ibZBr1aYd2GMu20yxl2b1jzG3V397LwlY9y1ec1j3OnUsCVH6lZbplEphLj/cxyudRlqsmqkbrVluuYx7vSwMVuN2YZ0lW2j1CqFoAtj3G3IVpNWo8L2B/0t7OTryrY7R+LjpsdqtdLY2EhtbS0A119/PX5+fixdupTBgwfj4uKCi4sLOTk5VFZWEh4ejru7O3V1dcTHx7Nz505OnjzJ+++/T79+/XBxceHAgQOsXr0ab29vbrzxRgYOHEhdXR379+/nlVdeYcWKFcTExBASEkJTUxPx8fF07NgRd3d3amtrOXPmDO+99x6hoaFcd911TJ482fHv96qqKpqamjh16hQffPABRqOR++67j/79++Pq6oqfn5/TuWZkZPDZZ5/xxRdf8NxzzzFp0iTc3Nycypw9e5bk5GQqKiqYN2+eU8+dhoYGdu/ezUsvvURISAhLly5l4sSJTjPwlpWVkZycTFBQED4+Pmi1WmpqakhKSuKll16ie/fuLF68mAkTJmAymWhsbHTMwgtQWlrKkiVLGDZsGHPnzmXEiBGtxie3WCzk5OTIGHdCCHG5LndyCkVRqK+vZ+3atRw+fJjOnTtz55138uyzz1JVVcX06dO57rrrWv1h/j2Du5Zqa2tZs2YNmzZtYsWKFcyZM4e1a9eyY8cOwsLCWLNmDZ6enk6zpZpMJt59913Wr1/PsGHD+L//+z/8/Px4++232bNnD+PHj+evf/2rU+vBpKQkNm3axLp169i3bx+9evUiNTW11eQUAIWFhXzxxRfs3r2bW265hSlTppCamsqtt96Kn58fDzzwAJMmTWoVkDVP/ND8xOs/PTkFQGVlJWvWrOGrr77inXfeITIystWX/y9pnlV2+sxZXPvEewR07Ytac+ngT/z51Njppa/ErqjItPhip3ULWdE2qFDwUpsYYighwdSBWrsLivxYbbPU2Omhq0KtUkg3+0ndasNUKHiozQwxlHDaHEi1TepWW6bGTjddNXqVjVSzv9StNkyFgqvawlB9CSkWfyptrn9Y3fJz17Piqp64G7RUV1eTlJTEgQMHAPjoo49wd3dnxIgRRERE0L17d4YOHcrhw4f56aefCAkJwcXFhcbGRjIzM6moqKB///6sWLECb29vVCoV+fn57Nixg6+++oq+ffsSGhpKQ0MDGRkZqFQq7r//fsewPc3dZ11dXTEYDNTX1zt6rNxwww1MmDCB4OBgx7Hv2LGDzMxMcnJyOHz4MCaTiQkTJhASEkKvXr2cfjfZbDYOHDjAM888Q4cOHXjkkUdatWQDiIuL48svvyQzM5NPPvnEaXy5iooKHnvsMbKyshgyZAizZ88mOjraaYy89PR0Nm/ejFqtxs3NDY1Gg9Fo5Ny5c2RkZHDttdcyZcoUunTp4tjmYkVFRTKrrAR3Qojf28XB3dSpU7nxxhud1qtUKsd4BceOHXOM6Xb33XczaNAgjhw54njtnnvuISoqyqkV2L8b3CmKQnV1tWPGVYPBgFarxW63U19fzzvvvMOXX37J8uXLiYmJIT4+nrVr15KZmckzzzzD4MGD8fb2Rq1WYzKZKC4u5v7776empobFixfzl7/8BZvNxrfffstbb71F7969eeihh/Dz80OtVjtalW3evJm8vDw+/vhjunTpQkpKyiWDO7PZTEFBAQsWLGDatGksXrwYg8HAe++9x6ZNm7jllluYN28eISEh6PV6VCoVZrOZ6upqTCYTYWFh6HQ6nn32WU6ePMno0aO5++67na5J8/W9OJD8JSaTCZPJhEqlQq/Xo1arsVqt5Ofn8/777xMbG8vbb7/teLp3uZqDu5iYGPbu3UtUVFS7+dL9X2S1Wjl9+jRqtZr+/fv/ywMZiz+O3W6nsrKSuLg4Ro0a5fh7JNomq9VKUlISNpuNyMhIqVttmN1up6amhri4OKKjowkMDJS61YZZrVZSU1Npampi8ODBUrfaMLvdTl1dHXFxcQwePJigoKA/pW4VFBTw9ddfs2bNmparcHNzY/z48dx8882kpKTwxRdfkJ+fj9FoxNvbmx49ejBu3DhiYmIcvx248FukqqqK9evXs2/fPgoLC/Hw8GDgwIEsXbqU7t27Ox58V1RUsHLlSpKSkqipqcHNzY3evXtz7bXXEh0d3WqShkceeYR9+/ZRV1fn9DrApEmTnM7DZDKxd+9ennvuOW6++WamTp1Kx44dnbYBOHLkCDt27CA7O5t33nkHHx8fuHAepaWl/OUvf6FHjx706dOHPn36EBUV5VS3srOz+eKLL4iLi6O4uBibzYa3tzddu3ZlxowZjBkz5hfHxi4rK+OOO+5gyJAhzJgx45LhogR3QgjxL2oO7jIyMpgwYYJjEopmarXaETAtW7YMo9HI/PnzWbx4MRqNBpvNxuuvv873339PREQEr7/+utM4Cf9ucGc2m1m3bh1FRUWEhYUxcOBAOnToQF1dHbt372b79u3Y7XbWrl1LREQEdrudjRs3smbNGsxmM/feey/Dhw/HxcWFtLQ0Rzffv/zlLyxZsoRu3bo5wsEHHniApKQkJk6cyLXXXou7uztZWVls2bKFxMREli1bxoIFC/D19f3Z4I4L1/SRRx7h3LlzzJo1i8WLF1NUVMSyZcvIzc3liiuuYN68efTs2ROtVktmZia7du2ioqKCN998E09PT1avXk18fDzR0dHccsstTtdErVaj0+latSa8FLvdTkpKCqmpqRgMBrp37467uzvnz59n8+bNHDp0iPDwcD799FMMBsO/9I8sCe7aFwnu2g8J7toXCe7aDwnu2hcJ7tqPthLcKYrimByiJZVKhUajQafTYbfbsVgsjokXVCoVarUajUbj1G20maIoWCwWx7h1XHiA3jxsTXN5RVEwmUxOQ8uo1Wq0Wu0lx5EzmUxO+7yYVqtt9e/q5nPT6XSXPE4utMyzWq3Y7XZcXFycyiiKQlNTE4qikJWVRUNDQ6vgzm63Y7VaWx3XL53HxZrfo/laXupzIMGdEEL8i5qDu2+//ZbGxsZWT1C8vLzo1q0bkZGRvPfeeyxZsoR58+YRFhbmKJOdnc2HH37IoUOHuPXWW4mJiXHMdvrvBndWq5XY2Fj27dtHWloaNTU1mEwmDAYDLi4udO/enXHjxjFt2jTHQK9FRUUcO3aMnTt3UlhYiNFoxG63YzAY8Pf3Z/z48YwbN46IiAjHNjabjePHj/PDDz8QHx9PQ0MDZrMZvV5PSEgIUVFRzJ07l8DAQLRa7S8Gd1arlX379vHqq68SHh7OQw89RHBwMKdOnWL37t2cOnWK8vJyTCYT7u7ueHt7ExYWxvDhwx0DxD777LNs3ryZ2traVk/TPD09GTRoEH/9619brWvJbreTkZHB5s2bOX78OHV1ddhsNlxcXPD19WXgwIFMnDiR4cOHX/KL9ZdIcNe+SHDXfkhw175IcNd+SHDXvkhw1360leBOXB6r1Up6ejp1dXWtgrs/ggR3QgjxL7JarRw5coSMjAxqamparsbFxYWAgAA6depEZmYmw4YNo0ePHk5/4C0WC6dPnyY9PZ0ePXowYMAARyBmNBrJzs7mxIkTjB49mh49ely091+nKAolJSVkZ2dTUFBATU0NTU1N6PV6fHx8CA8Pp3v37gQEBDi2sdvtVFdXk5KSwtmzZ6mtrcVms+Hm5kZwcDADBgwgMDCw1ReE0WgkNzeX9PR0KisrMZvNuLm5ERISQo8ePYiIiHCUraioID09neTkZObNm+fU9F1RFMrLyzl06BAuLi4MHz4cPz8/zGYz2dnZZGdnU1xcTENDA3q9Hi8vL0JDQ+nWrRudOnWCC9PRJycnU11d7dhvMxcXFzp16sSECRPw9PRsudpJc2vCpKQk8vLyHMGdq6srHTp0oFu3bkRERPxLXWSbSXDXvkhw135IcNe+SHDXfkhw175IcNd+SHDXvkhw99tJcCeEEKJdkeCufZHgrv2Q4K59keCu/ZDgrn2R4K79kOCufZHg7re73OBOPv1CiP8KiqJQVlZGTk4O6enpl1yys7MpKSnBarW23Px/XnNLury8vFbXrXnJzMykoKAAi8XScnMhhBBCCCGEEP8BEtwJIf4rmM1m3n33XRYsWMCYMWMuuVx99dW8+OKLVFZWttz8f57VauWrr77ipptuanXdmpepU6fy17/+leLi4pabCyGEEEIIIYT4D5CuskKI/wo2m42UlBTOnTtHfX19y9UAuLq60qlTJ/r27esYM0/8k91uJycnh5ycnEuOgweg0+nw9/dn6NChuLu7t1z9b5Ousu2LdJVtP6SrbPsiXWXbD+kq275IV9n2Q7rKti/SVfa3k66yQoj/KRqNhh49ejB69GiuuuqqSy7jxo2jT58+7eYP+R9JrVYTFhbGiBEjWl235uXKK69k6NChv2niCSGEEEIIIYQQ/zoJ7oQQ/zVcXFzw8vLCx8fnkouXlxeurq6oVKqWmwrAYDDg6enZ6ro1L97e3ri7u8sTTyGEEEIIIYT4g8ivLyGEEEIIIYQQQggh2iAJ7oQQQgghhBBCCCGEaIMkuBNCCCGEEEIIIYQQog2S4E4IIYQQQgghhBBCiDZIgjshhBBCCCGEEEIIIdogCe6EEEIIIYQQQgghhGiDJLgTQgghhBBCCCGEEKINkuBOCCGEEEIIIYQQQog2SKUoitLyRSGEEOKPZjabiY2NJSYmhr179xIVFYXBYGhZTLQRVquV06dPo1ar6d+/P1qttmUR0UbY7XYqKyuJi4tj1KhR+Pn5oVbLs9vLZTabKS4u5sCBA+Tm5lJXV4derycsLIypU6cSHByMXq/n6NGjbNy4seXmDmPGjGH48OGEhoZitVqpqqriwIEDZGZmUlNTg0ajISAggOHDh2M2m/Hw8KBHjx6kp6eza9cuKioqWu4SgCFDhjBv3jzc3NzYvXs38fHxlJaWtiyGq6sr3bt356abbkKj0bRc7VBZWUlycjJHjx6lsrISlUpFaGgoQ4YMITo62vHZsVgslJSUEBsbS1FREZWVlXh5eREdHc2VV17p9BmzWq2Ul5fz008/kZubS0VFBWq1mgkTJhAVFYWXl9dFR9B+2O12ampqiIuLIzo6msDAQKlbbZjVaiU1NZWmpiYGDx4s31ttmN1up66ujri4OAYPHkxQUJDUrTbMarWSnp5OXV0dUVFRf3jdslqtZGdnM27cONasWUNMTEy7+Q0xYsSIli9dknz6hRBCCCGEuASr1UpWVhZbt25lz549JCcnc/bsWXJzc8nOzqaqqgqr1QpAQ0MDhYWFTktWVhaxsbG8/vrrpKWl0dTUBEBNTQ1bt25l+/btnDhxgrNnz5KZmcnevXvZvHkzKSkpWK1W7HY7DQ0NlJaWttr3rl27+Pzzzzl69CjNz+Hr6uooKytzKnf+/Hl27drFpk2bOHHihKPspdTU1HDs2DE2bNjA8ePHyc7OJisri4MHD/Lll1+SlpZGY2MjXBTc7d+/n/j4eL799lu2bt3KiRMnsNvtTvu1Wq2UlZVx7Ngxjh07xg8//MBnn31GQkICRqPRqawQQgghnEmLOyHE70pRFEpLS6mtrcVsNrdcjV6vx9PTEz8/P86dO4erqys+Pj64ubk5ypjNZiorK2loaCAwMJCioiIsFovTflpSqVT4+vri6+uLi4tLy9WtNDY2UltbS319PRaLBUVR0Gg0GAwGx/E1UxQFi8VCdXU19fX1mM1mFEVBq9Xi6urqeM/mFgzN18BsNuPp6YmPj89F7/zPHzu1tbWUlpYSHh6Oi4sLZrOZ6upqysvLHeXUajU6nQ5XV1f8/PwwGAxOTxubn0bW1dXR0NCA1WpFo9Gg0+lwc3PD09MTd3d3AMrKyqiurr7kPdFqtXh5eREYGHjZT8ia37exsRGz2YxKpSI4OBhvb++WRS+btLhrX6TFXfshLe5+u9LSUrZs2cJHH33E5MmTueqqqwgLC8NqtVJbW0tQUBAdO3ZEr9fT1NREfX290/bZ2dls27aNt956iw0bNjBu3Djc3d1JTk5m9uzZDBgwgPnz5zN8+HDq6urYuXMnH330ESNHjmTp0qWMHj3aEd7ZbDa48B1jt9t59NFHKSwsZMaMGdxzzz1wITw0mUyOslz4e7169WoyMzO55ZZbWLhw4c+2uDtx4gSffvope/fu5dFHH2Xw4MGYTCZ2797Njh07mDBhArfddhthYWE0NDSQm5vLN998Q+fOndm/fz9nz55l3LhxrFixwulvQlNTE9nZ2Rw5cgQXFxfS0tLYvn07N954I4sWLSI4ONjpONoLaXHXvkiLu/ZDWty1L9Li7reTFndCiD+FyWTi9ddfJyYmhqioqFbLrFmzeOmll8jPz2fRokU888wzJCYmOu3j3LlzvPTSSyxevJjY2FimT5/eaj8tlxEjRvDCCy+QlZXltK+fk5KSwptvvsmCBQsYO3YsY8eOZdasWdx33318/vnnTmVtNhtnz57lzTffZMmSJUyYMIExY8Ywe/ZsHnvsMRISEpx+rJnNZt544w0eeeQRtm/f7rQvgJKSEjZt2sTo0aNJTk7GYrGQk5PDm2++6Tif6OhoxowZw9y5c3n88cdJSUlxtNTgwg+3xsZGdu3axSOPPMKsWbMYOXIkkyZN4vrrr+eVV14hISHB0bJi3bp1zJ49u9V1i4qKYurUqbz44otOoeGv2b9/P08//TTXXXcdo0aNYty4cezZs6dlMSGEaNeOHDlCQkICffv25YknnmDs2LFERETQs2dPhg4dSlhYGHq9HgAXFxf8/f2dlvr6elJSUhgyZAjh4eF4eHg4Hk6dO3eOyZMnO/bZv39/7rrrLnx9famqqqKmpgaVSoXBYMDHx8exT19fX9RqNWlpaXTs2JHBgwc7jtfNzc2prP//Y+++w6I497+Pv3fpTRAVREERwYodC2LBYOxi7z0aNc1YYxJTTNH0k9hi7LFr7F1jsAYrNlCKjaLSey9bnj9+Mo+LmhjPOYY9+b6ua/9w556ZZd3ZnfnM977vSpW4f/8+8fHxVKlSBX9//z+8+L1x4wZJSUkEBAQwYMAA6tatS+PGjenRowcdO3Zk48aNSjdca2tr6tevz/Tp0xk0aBB169Z96o0zS0tL6tevz5gxYxg6dCiNGzfGzMysbDMhhBBCPMHTf7mFEOI56PV6NBoNbm5uTJo0iV9++cXgsWTJEsaOHYuzszOjRo0iOjqaw4cPk5KSAg9Dr+3bt3Pz5k06depE27Zt+emnn5T1ly1bxiuvvIKjoyNTp05Vnt+0aROvvPIKNWrUKPuSDGi1Wq5fv85PP/3EtWvX6NevH4sXL+bHH39kxowZNGvWzKAqTavVEhQUxMcff8yRI0fo3LkzX331FYsXL+aVV14hKyuLOXPmsGPHDhITE5X1NBoNJSUlBlUPpfR6PVqtlsLCQiVYK62gsLa25ocffmDLli1KsBgVFcU333yjBJxarZaMjAw+/PBDfvrpJ0pKSpg4cSJLly7l+++/Z/jw4WRnZ7Nt2zby8vLQ6XRoNBqqV6/O6NGjH/s/WbZsGePGjXusMvCPlJSUUKVKFTp27EiXLl0wMzN74t8qhBDG7NatWyQlJWFtbc3nn3/O0KFDGTZsGJ988gmnT58u2xyVSqU8CgoKlC61vXr1Uiq5zczMcHBwwNXVlWvXrhEdHU1JSQlZWVkcPHgQrVaLk5MTFStWfOJ2c3JyOHLkCLm5udSvX58GDRo88goM26pUKn7//Xd0Oh0NGjTAyckJlUpl0P5Rpd1zS6vI1Wo1arUac3NzTE1NSUxMJCEhQeneqlarMTU1Vdr+kb/SVgghhBD/n3SVFUL8RxUUFDB37lzu3LnDyy+/zKhRowyWq1Qq5cQ9JiaG77//nqSkJHr06MHw4cMJCgpi5cqVVKlShVdeeYWWLVsaBFxJSUns37+fBQsW8Omnn9K3b19l26amppiamv7hBUFxcTFbtmxh27ZteHl5MWHCBFxcXFCpVOTm5ipVZ02bNgUgNDSUn3/+mVOnTjFw4EC6dOmCq6srpqampKenc+3aNb777juqVavGiBEj6NevH0VFRcp70K1bN1555RWD13Dv3j127drFe++9x4kTJ2jSpAm3b99m8+bNrFy5kiNHjlC7dm2Ki4uJiopi1apVnDhxgs8++4yBAweSnp7O/v37WbhwIS1btqRHjx40btyYihUrolKpyMjI4M6dO+Tn59OlSxcsLS2ZP38+ly9fpm3btrz22msGr0elUildbP/ogu5RpWM75ebmcu7cOVauXMm8efMYMmRI2abPrLSrbM9evRk3fw1VazdAbSIVGeWVGh1u+hT0qLivqoxO7gWWWyr0WFNIHf0Dbqmqk4clep7tWP8ne7W9Bwu/nMu2bdtwc3OjQYMGODo6UlxcTHJyMiqVismTJ+Pt7Y2trW3Z1QkLC+Pnn3/m2LFjrF27Fi8vL6ysrABITU1l69at/P7775iYmODg4IBGo+H+/fvUqVOHOnXq0Lx5c5o3b/5Yl6PY2Fhmz55NRkYGkyZNom/fvk/83dNqteTl5TFmzBgsLCwYOnSowW/mk+zfv59t27aRlpbG119/jbu7O1qtlpMnT7J06VIOHz7MmjVr6NGjB5UrVzZYd+HChZw4cYLWrVs/1lW2rB07djB//nyGDx8uXWXFCyNdZY2HdJU1LtJV9vk9a1dZCe6EEP9RpcHd3bt36dmzJ2PHji3bxMC+ffvYsWMHOTk5TJo0iZ9//hmNRkNgYCCDBw9WuiCVSkxMZM+ePXz77bd8+eWXDBgwwGD5nykqKmLx4sUEBQXRvn173nrrrSdecJVatWoVW7duxcLCgqVLl+Ls7GzQvaegoIBPPvmEo0eP0qVLF9577z0sLCyeO7grDenq1KmD5uGg6D/99BMbN27kiy++YOTIkdy6dYtZs2aRnJysdJMtvRgspdVq0Wq1SpA5b948rl69Svv27ZkyZYpB239HUlISe/fu5bvvvuOTTz555uCutMLw0QHMi4uLOXnyJL369KXGyC8wdfZEr3qxP/zi2Zmp9QyqpUOjh10xakp0EgSVV2qVHndbPW801LEkXE1MjgqdXv6//sz213xZ/c3HrFu3jjp16jBjxgy8vb0pLCzk6NGjHDhwgPbt2/Paa6/h6upadnU2b97Mjh07MDMzY82aNVhYWCg3R7Kysjh+/DibNm0iIyMDS0tLZSxCf39/vLy88Pb2fiy4Kyws5PLly4wYMYJBgwYxYsQImjRp8she/7+8vDyuXr3K1KlT6dy5MxMmTKB27dplmxm4desWu3fv5uDBg7Rt25aaNWui1+u5e/cuZ8+e5ezZsyxdupRevXpRtWpVg3UXLVqkBHfTp0//wwu3nTt38sUXXzBs2DCGDRtm9MHd2bNn8fHxoXLlyhIulGMajUaZJKZp06Z/+BkVfy+dTkdubi5nzpyhadOmODk5ybFVjmm1WqKiosjNzX3sd+tFKA3u/P39Wbx4sQR3QgjxZ0qDu/DwcHx9fR+7u186/k5pt8zc3FzWrVvH6tWrqVSpEuHh4UydOpUhQ4Y88ULo3w3uSkpK2LVrF2vXrqVKlSoMHz5cmSDCysoKGxsbrKyslIurmTNnEhwcTKdOnZg/f37ZzaHRaDh27Biff/45rq6ufPjhh3h4eDx3cLds2TLWrl1LzZo1KSgoICwsjCVLlpCQkMDXX3/NgAEDOH/+PP369aNXr168+eabtGzZ0mD7TzJv3jzOnTtHo0aNGDlypMEyc3NzqlSpgq2t7VMHLH+a5w3ucnNzSU5OVrpI8/D/5vLly0ybMZMWE+Zj5eIJ6r/2esSLY6qGztX0aPVwPEGFxnASSVGOqFXgYq1niIeeX+6qiM9XoZOzvz/19cAmrPlhPvv378ff35/vv/9e+Y68fPkyGzduJDQ0lEWLFlGvXj2DdYuLi/nmm28ICQmhe/fuTJgwQbno1Gq13L59mw8//BAHBwf8/f1p1KgR+fn5HD9+nMOHD9OiRQsGDhxIq1atDL6XExMTOXLkCHPmzGHBggW89NJLBl1qH5WcnMyqVav47bffGD9+PEOGDHmm7/jw8HC2bdvG4cOHKSoqwsLCAk9PT9zc3Fi5ciU//PADXbp0eazibvny5fz++++0aNGCN9988w/3tW/fPr7//nsGDBjAwIEDcXZ2LtvEKOj1enJzcwkNDaVBgwbY29tLuFCOabVaYmJiKC4upk6dOn/4GRV/L71eT35+PqGhodSpU0cZ21OUT1qtlri4OPLz86lXr94LP7Y0Gg3R0dH07t2bJUuWSHAnhBB/pjS427lzJwkJCY99abZs2ZIxY8YwbNgw5bkrV66wdu1ali1bRp8+fZg+fTotW7Z8YrfNfze40+v15OXlsWDBAjZv3sy9e/eoVq0aDRs2pGXLlnTs2JEWLVooVXXjxo0jPDyckSNHKrP2PUqn0xEZGcnMmTMxMTFhxowZ+Pr6Pldwt2HDBr788ksqVKiAWq2mpKSEoqIiVCoVAwcOZOrUqTRs2JDffvuNQYMGMXXqVMaOHUv9+vUNtv8k8+bNY/369dy7d++xwcNr167NrFmz6NKly1+eFfZ5g7sLFy6wcuVK1q1bpzyn1+uVLtGffj4PDw8PTF7wHTvx15SelsnohuWfCjBRgVYPcuL3bMzUajZu3MC1a9do1qwZQ4cOVS4c7927x+nTp/ntt9/44IMP8PDwMFg3OjqarVu3otVqGT16NK6urspvWkZGBiEhISxfvpz333+fBg0aYG5urlQif/vtt1haWtKuXTt8fHwMthsREcGhQ4eIjY1l6tSpuLu7P/G3EuD+/ft89dVXeHh40KVLFxo2bFi2yRPpH45Vq9FoyMnJwczMjPz8fK5evcrKlSt5//33ady48WO/7/v27SMsLIw6derQr1+/P7xwO3PmDNu2baNDhw507NjRYCZ3Y6TT6ZQxBUX5VnqeIf9XxkGOLePxdx5bWq2WhIQE3n//fZYvXy7BnRBC/JnS4O7SpUvUq1cPf39/g+WVKlXCw8ODmjVrwsMf5D179vCvf/2LK1eu0LBhQz7//HMCAgKeeGft3w3ueLjP+Ph4ZdDwu3fvkpiYyO3btzExMaFjx47MmjULc3Nzxo0bR0RExB8Gd1FRUcyYMQO1Ws2MGTNo27btcwV3mzZt4scff+STTz7BycmJBw8ecOXKFUJDQ/n6669p06YNZmZmHD16lMGDBzNt2jTGjBnzzMHdiRMnqFGjBt27dzdYZmdnR/369XFxcfnLs/w9b3CXlZXF/fv3efDggfKcRqPh2rVrfPDRx/hOmo+NS21QS3BXXpmqoaOLHq0Ofk+SirvyTK0CZys9/dz17I5RkVggFXfPYm5gQ4IP7eTIkSO4uLjw1VdfKWHU1atX2bJlC1euXGHBggWPVdwtW7aM48eP06hRI+X3pNSDBw84fPgwH3/8MVu2bKF169YG372vvvoq+fn59OrVi8GDByv7LCkpYffu3fz444/07NmTESNGPLWLaVpaGqdOnWL69OnMnTuXrl27Pta19c/oH06kpFKpuHr1KuvXrycsLIzvv/8eb2/vx36jV6xYwZkzZ2jevDmvvfbaH3aVKh2rtn///vTv39/oK+7Cw8OpU6eOVNyVc6VVQcXFxXh6ev5huCz+XqUVd+Hh4dSuXRsHBwc5tsoxrVbL/fv3KSgowMvL64UfWxqNhpiYGPr27SsVd0II8SxKg7tbt27RuXNnRowYYbDcxMQEc3Nz5SImLCyMDRs2EBwcTIcOHTh48CADBgxg0KBBj10I8R8K7koVFRWRlZVFcnIyaWlpREVF8euvv5Kens68efNo2rQps2fP5sKFC3Tv3p2PP/647CbQarWcOXOGjz/+mMqVK/Pee+/RoEEDvvjiC8LCwujatSsTJ040WCc6Oprt27fz6aefcvr0aRo1akRUVJQyOcX+/fvx8PAgOzubq1evsnHjRtq1a0fPnj2pUaMGJ0+epH///gwbNozJkyfTrFkzg+0/ybx587h06RJt2rRh0qRJBsvUajWWlpaYmpr+5btkzxvclV4Qlh3j7tSpU/Tq05eaI7/ARMa4K9fM1XoGPhzjbneMmmIZ467cMlHpqfnIGHexOSq0Msbdn9o+2ZfcuBts2rSJq1ev8uGHH1K/fn1ljLvdu3fj4+PDG2+8gZubGzy8mVNcXMz48eMpLi6mX79+DB8+3GC7GRkZnDx5kvHjxzNp0iR69uyJh4cHRUVFhIaGMn/+fFxcXBgxYgR9+/ZVArDbt2+zdu1a9u7dy48//kiTJk2eOkZraGgoGzZsYNeuXaxYsYI2bdo8Vm19+/Ztbty4QX5+vhIQFhUVkZSURFJSEm5ubuh0OqKjozly5Mj/jUHaqxcjRoygWrVq8DBMTE5ORq/Xs2bNGs6dO0fTpk2ZOHEi5ubm2NvbY21trVQTpqWlUVxczKFDh1iyZAl9+vShT58+VKtWDRsbG+zs7AxeY3knY9wZFxnjzng8OsZdkyZNcHJyeuFhkHh2Go2GmzdvkpOTo4xx91evKf4dMsadEEL8Rc86OYVerycnJ4eVK1dy9uxZ3N3dee211/jiiy9IS0ujW7duDBs27LGT+P9kcFdWdnY2ixYtYsuWLcyYMYN+/fqxatUq9u7di6urK4sWLaJChQoGJw5FRUX89NNPbNq0idatWzNnzhwqVqzI0qVLOXr0KP7+/kyfPt3gRP769ets3ryZNWvWcOzYMerWrUtERMRjk1MAJCQksGPHDg4dOsT48ePp2rUrkZGRvPrqqzg4ODBr1iw6d+78WKWc7uHEDyYmJqhUqnI3OcWTlM4q26NXb4bOXUGVWjKrbHmmRoeXaRo6VNzROMqssuWYCj126kKamiVxrcSZbJ3MKvss3u7shbUun8OHD7NlyxaqVq1KrVq10Gg0xMbGUlBQwJtvvmkQoBUUFHDr1i3Gjx+Pn58fEyZMwNvb22C7JSUl3L59m88//5z8/Hzc3d2pXr06xcXF3Lx5k9TUVLy9venWrRvt2rVTwoU9e/awdetWcnJy2LhxI7a2tk8MibRaLQcPHmTBggVUrVqVuXPn4unpWbYZQUFB7Nq1i/T0dNauXYuZmRl5eXlcuHCBX3/9lUqVKqHRaEhMTCQpKQkHBwemT5+Om5ubEgKWjqOn0Wg4d+4c0dHRuLq64ufnR4UKFXjppZdo0qQJWq2W3Nxctm3bRkJCAuHh4Zw6dYpGjRrRuHFjatasSdOmTfHz8yv7Msu10uBOZpU1DhqZVdZo6GRWWaOikVlln5sEd0KIv8WjwV23bt0YM2ZM2SaoVCp0Oh3nz5/nm2++wdHRUbn4OX/+PF999RUODg688cYbtGrVyuCOzb8b3On1etLT09FoNJiZmSmVZqUnCMuWLWPnzp1Mnz6d3r17c+nSJVatWkVUVBSffPIJLVq0ULrCFBYWkpCQwPTp08nJyWHEiBFMmjQJrVbLoUOH+PHHH6lTpw6zZs2iUqVKqNVqZebUbdu2ERcXx88//0zNmjUJDw9/YnBXXFzMgwcPGDJkCF27dmXEiBFYWVmxYsUKNm/ezNixYxk4cCDVq1dXZiwsKioiIyODwsJC3N3dMTMzY/78+Vy5coV27drx5ptvln1bUKlUf+lOplarRaPRkJSUxP79+/nhhx/48MMPGTRoECqVCjMzs798glUa3AUGBhIUFISPj4/R/Oj+E2k0GkJDQ1Gr1Xh7e7/wkzTx7HQPZysNDg7Gz88PR0fHv3x8/pMlJiYSHBzMpk2biI+Px9ramiZNmtCjRw8CAgIMfqMyMzMJCgpi7dq1DB48mIEDBz5W6cbD2WHv3r3L1q1buXLlCqmpqZiamuLm5kZgYCAVKlTAycmJJk2aKMfW2rVrCQ4OpkGDBrz11ltP/c4uKipi7969rFmzhrFjxxIQEEClSpXKNuP06dMcOHCAjIwMlixZgqmpKfn5+Zw6dYpVq1YRFxeHTqejevXqdOjQgV69euHl5WXw9966dYuhQ4dSXFxssG2AypUrM3XqVPr06UNJSQkpKSlMmzaN8PDwsk2pUaMG/fr1Y8KECWUXlWsS3BkXCe6MhwR3xkWCu+cnwZ0Q4m9RGtzdvHkTf39/hg4darBcpVJhbm6OSqViwoQJFBYWMnjwYEaMGIFarUan07Fo0SIOHTpErVq1WLRokVI1xn8guCsuLmblypUkJCTg5uamlN/n5uZy+PBh9uzZg0qlYuXKldSqVQu9Xs/mzZtZuHAhBQUFvP3227Rp0wYrKyvCw8NZv349Z86c4Y033mDkyJHKOllZWcyYMYPQ0FACAgIYMmQItra23Lp1i23btnH16lUmT57M4MGDqVix4lODOx5e4L377rvExsbSq1cvRo8eTWJiIhMmTODu3bu0bt2aQYMGUadOHUxNTbl16xaHDh0iLS2NpUuXYmtry5dffklISAg+Pj6PXRiV/p/Y2dk99UKwrLS0NNLT07l//z4nTpxg7dq1vP7663Tt2hUrKyuqV6+OlZXVXzrJkuDOuEhwZzwkuPv3lHbz1Gq16PV6VA8HSjcxMXnsfXy0rYmJyR9+pz46ZMCj29XpdISHh6PT6QyCu9K2KpXqT483rVarvAa1Wm0QtpXSPazM1uv1BlXbOp0OjUZD6SWCSqVCrVYb/BaX0uv1TwzteOSGUOl7oNfrKSkpUbb7R22NhQR3xkWCO+MhwZ1xkeDu+UlwJ4T4W5QGdwcOHCA/P/+xu/wVKlTA09OTpk2bsmLFCkaPHs3AgQNxdXVV2ty9e5eff/6ZkydPMmHCBAIDA5XZTv/d4E6j0XDy5EmCgoIIDw8nMzOTwsJCLC0tsba2pk6dOnTq1ImuXbsqX/iJiYlcvHiRffv2cf/+fXJyctDpdFhaWlKlShUCAgLo0KEDtWrVUtbRarVcunSJo0ePcuHCBXJzcykqKsLS0hJXV1datWrFgAEDqFSpEqampn8Y3Gk0Go4fP873339PzZo1eeedd6hevTphYWEcOXKEK1eukJycTEFBAba2tjg4OODu7k6bNm3o378/JiYmzJ8/n61bt5KVlYWTk5OybR7+nzRr1oyZM2c+8+DlO3bsYNeuXVy9epWsrCxSUlKoWrUqDg4OeHp68v7771O/fn2srKzKrvpUEtwZFwnujIcEd8ZFo9Fw/fp1tFqtQXAnyh8J7oyLBHfGQ4I74yLB3fOT4E4I8bfQaDRcuHCBW7dukZ2dXXYxlpaWVKpUiWrVqnH79m1atmxJ7dq1Db7gS0pKuH79Ojdv3sTT05OGDRsqXY3y8/O5e/cuV65cwdfX94nj9vwRvV5PcnIyd+/e5cGDB2RlZVFUVKQMol2zZk1q165tEDiWnphHREQQFxdHdnY2Op0Oa2trnJ2d8fb2pnLlyo/9QOTn5xMTE8PNmzdJT0+npKQEKysrqlWrhqenJ+7u7krb9PR0bt68SXh4OP3798fBwUFZptfrSUtL48yZM1hYWNCqVSsqVqxISUkJd+/e5e7duyQlJZGfn69UzlWvXh0PDw9lAPGQkBAiIiLIzMxUtlvK0tKSatWq0aFDh8fGFHyaGzducOPGDZKSksouolKlSvj7++Pk5PSXfrgluDMuEtwZDwnujIsEd8ZDgjvjIsGd8ZDgzrhIcPf8JLgTQghhVCS4My4S3BkPCe6MiwR3xkOCO+MiwZ3xkODOuEhw9/yeNbiTT78Q4n+CXq8nKSmJW7duKdVgZR9RUVEkJCSg0WjKrv6Pp384acedO3cee99KH5GRkcTGxlJSUlJ2dSGEEEIIIYQQ/wUS3Akh/icUFRWxbNkyBg8eTPv27Z/46NOnD99++y1paWllV//H02g07Ny5k7Fjxz72vpU+unXrxowZM0hMTCy7uhBCCCGEEEKI/wLpKiuE+J+g1WqJjIzk/v375OXllV0Mj4zlVq9ePWXMPPF/dDodMTExREdHk5WVVXYxAGZmZlSsWJHmzZtjbW1ddvG/TbrKGhfpKms8pKuscZGussZDusoaF+kqazykq6xxka6yz0+6ygoh/lFMTEyoXbs2bdu2JSAg4ImPdu3aUbduXaP5In+R1Go1rq6utG7d+rH3rfTRsWNHmjVrJqGnEEIIIYQQQrwgEtwJIf5nWFpaYmdnh729/RMfFSpUwMrKCpVKVXZVAZibm2Nra/vY+/bo+2djYyN3PIUQQgghhBDiBZGrLyGEEEIIIYQQQgghyiEJ7oQQQgghhBBCCCGEKIckuBNCCCGEEEIIIYQQohyS4E4IIYQQQgghhBBCiHJIgjshhBBCCCGEEEIIIcohCe6EEEIIIYQQQgghhCiHJLgTQgghhBBCCCGEEKIckuBOCCGEEEIIIYQQQohySKXX6/VlnxRCCCFetOLiYk6cOEFgYCBBQUH4+PhgYWFRtpkoJzQaDaGhoajVary9vTE1NS3bRJQTOp2O9PR0goOD8fPzw9HRkfj4eM6cOcOpU6do0aIFHTt2xMPDA41GQ2ZmJsePH+fmzZtkZWVhZmaGh4cHnTt3plq1apiZmZXdBTqdjoSEBNavX09SUhIvvfQS7dq1o2LFigCkp6dz9uxZQkNDyczMpKioCFtbWzw8PGjevDmNGzdGrf6/+8n379/n2rVrXL16lYyMDHQ6Hba2ttSuXZsWLVrQsGFDVCpVmVfw/2VlZXHjxg02b97Mk05zX3/9dTw9PTE3NycvL48rV65w5coVEhMTKSwsxMzMjMqVK9O2bVvq1auHo6Ojsu6WLVsICwsjKyvLYJseHh74+fnRunVrg+efh0aj4fr162i1Wpo0aSLHVjmm0+nIysoiODiYli1bUqVKFeVzLMofjUZDREQEhYWFNGvWTI6tckyn05GTk0NwcDDNmjXD2dlZjq1yTKPREBUVRU5ODj4+Pi/82NJoNNy5c4eOHTuyaNEiAgMDjeYawtfXt+xTTySffiGEEEKIf5Dc3FyuXr3K5s2b2bx5M8eOHSMxMRGdTkdqaiq//PIL+/fv5/r168THx3Pnzh0OHTrEvn37iI6OLrs5AJKTk/n999/Zt28fK1eu5Pz58+Tm5irL8/LyiImJ4datWyQkJJCSksLdu3c5cuQI+/btIzw8XGmbmZlJTEwMd+7cITExkeTkZG7evMnRo0f55ZdfuH//PsXFxUr7svLz8wkPD+fHH38kIiKClJQU0tLSlEdJSYnStqioiOjoaO7cucP9+/dJSkoiLi6OM2fOsGnTJi5fvkx+fr7S/uTJkxw6dIgrV64YbDMnJ+cPX5MQQgghxPOSijshxFOlpaWRnp6uXLSoVCrUajVmZmZYWVlhZ2dHhQoVMDExKbsqycnJpKenY2JigqurK5aWlgBkZGSQnp6OlZUVzs7OBndk9Ho9KSkpZGdnY2dnR5UqVZR1srKyKCwsRKvVKq/Bzs4Oe3t7rK2tlW38kaKiIpKSksjOzkar1ZZdjJWVFZUqVaJSpUrodDqio6PJz8/H1taWKlWqYGtra9A+Pz+fe/fuUVRUhKOjI46OjlhbWxusq9PpUKlUqFQqzM3Nsbe3x97eHisrK/R6vXLBV7qPP5KTk0NmZiZ5eXmUlJSgUqmwsLDAzs4OBwcHLC0tyc/PJzExERMTE5ydnZX3nYfvb+lrtrW1pVKlShQXF5OUlERBQYHBvnj4/21vb0+VKlWwtrYmLy+P27dvGyxXq9WYmppiZWVFhQoVsLW1fWI1zrOQijvjIhV3xuPRijtfX19iY2M5cOAAR48epaCggGbNmjF+/HiaNWvGxYsXGTlyJJ06daJfv340bNiQlJQUtmzZQkhICJMnT2bQoEFYWVkp2y8sLOTUqVNs2bIFtVrNnj17mDRpEpMmTcLNzQ0e/ibcvn2bkpISqlevjo2NDbGxsaxevZo7d+7QrVs3Zs6ciUqlIjY2lgcPHqDT6ahWrRqmpqbcuXOHbdu2cfLkST755BMCAgKUar6yEhISOHDgAJMmTWL79u20adPG4HvJ3t4eU1NTVCoVubm5XL58GZVKhaOjI7a2tmRlZXH69GkWLFjAwIEDefXVV6lVqxYAr732Gunp6XTu3Jl+/fop2zQzM8PS0vI/8p0lFXfGQyrujItU3BkPqbgzLlJx9/yk4k4I8W/bvn07o0aNwsfHBx8fH1q1akWnTp0YPHgwH374IQcPHiQnJ+eJXZFWr17NwIEDGT16NJGRkRQVFaHRaNi1axfjxo3j22+/JS0tzWCd4uJi1q1bx8SJE1m2bBmFhYUUFRWxc+dOpkyZQrdu3WjXrh0BAQGMGDGCxYsXc/36dYNt/JGYmBg++OADOnbsqPxNjz6GDh3Krl274OGF6OTJk2nfvj1vv/02Fy9eLLs5wsPDGTBgAL6+vsyfP1+pGCkqKuK1116jffv2+Pj40LJlS9q3b8/gwYNZvnw5t27dgoc/Mr/88gtTp05l/fr1ZbZuSKfTERwczGeffUafPn3w9fWlY8eOjBo1iuXLl3P79m10Oh3h4eG89dZbzJkzR9lPKY1Gw5UrV+jXrx/z5s0jIiKC3377jeHDhz/2Xvj4+NC6dWvee+895T2+evXqY8s7depE//79effddzl8+DBJSUkG+xRClC9FRUXs2LGDuLg4Jk6caHDzJS0tjRs3bhAfH8+4cePo3r07np6etGrVik8++YSioiKuXLlCTEyMwTbv3LnDmTNnSEpKYsqUKVStWtVgOYCTkxO+vr506NCB2rVr4+LiQuvWrZXut5GRkcpvSY0aNfD19cXPz49atWrh5uaGv78/nTt3pkqVKly7ds2gCu6PVKhQAUdHRypXrqw8zMzMlK62tra2tG/fnnbt2tGgQQNq1KhBo0aNeO2116hZsybJyck8ePDAYJtmZmbY2toabNPe3t5oLhKEEEIIYVwkuBNCPJVOp8PJyYlBgwaxZ88eduzYwdKlS3nllVcwMzPjm2++Yfbs2Vy+fBmdTgcPq7pSU1OJiorC2tqa+vXrc/DgQfLy8jA1NcXPz4/u3buzb98+goODlfAuLy+Pa9eusX37dpo2bUrXrl1JT09n1apVbNiwAQ8PD+bOncvPP//Mv/71L4YMGYKjoyOFhYVlXvXTlV4Uent7M2/ePPbs2WPwWLhwIV27dlXaarVabGxsSExMJDg42GBbqamp3Lx5k5SUFKWirnT7pet26NCBefPmsWPHDpYvX46vry+HDh1i7dq13LlzB71ej06nQ6vVKu/fkxQVFbFgwQJ++OEH0tLSmDx5Mhs2bODHH3/kpZde4ty5c3z00UcEBwdTs2ZNunTpQn5+PqtXr6awsFB5XdeuXWPnzp1YWFgwePBgvLy80Ov1ODg40KdPH9auXWvwfuzcuZNZs2ZRp04deOT9mzBhAqtWrWL79u389NNPTJkyBSsrK3788Ufmz5/P2bNnDV6/EKL82LBhA7m5ubRp04ZGjRoZjBWn0+mUbqTm5uZKVZparcbS0hK1Ws39+/e5d++esk52dja7d+8mMTGRyZMnY2Nj89SqiNLvytJ9pqSkcOPGDbKysqhbt67y/KPtSp+Li4sjPDycrKwsmjRp8syV1nPnzqV///4MHTqUuXPncvXq1cdCv7L7ys7O5tixY6SkpODk5ET16tUN2oeHh/Pdd9/Ro0cPhg0bxldffcWVK1cMuuAKIYQQQvynSFdZIcRTLV26lBMnTuDh4cGHH36IXq+nuLiYjIwMoqKiOHLkCL/99htjxoxh4MCB1KpVi5KSEmUcogoVKuDu7s7evXtZvXo17u7uFBYWcunSJb799ltsbW2ZOHEibdq04e7duyxcuJC4uDjGjx9P586diY2N5aOPPsLExIThw4fj6+uLtbW18hoKCwupXLky1apVK/vSnygyMpIvvviCrKws3njjDfz8/AyWl3b7NDU1JS8vj969e6PX69FoNFStWpUVK1ZgZ2eHiYkJly5dYvfu3Zw/f55r164xaNAgxowZQ8uWLcnPz6d37954eHgwaNAg/Pz8KCoqIjIykk8//RQeDo7erVs3li9fzuHDh/H392fmzJkGr4eHY1Fdu3aN999/HycnJ7p164a/vz9VqlShpKSEe/fusXfvXo4cOYK7uzuff/45+fn5bNmyhXPnzjF+/Hi6d+9OQUEBW7Zs4eDBg3Tr1o2RI0dSpUoVduzYwerVq6lbty5TpkzB2dnZYP+l74dareb3338nICCAL774gl69elG9enWKi4vJycnh7t27bNmyhaioKJo3b85nn32mXOg/q9Kusj179Wb056upWrsBapPn63Yr/vtU6HBXpaID4vSV0cu9wHIpsGk1WtRwICEhga1bt3Lq1Cnat29P7969AZg0aRJeXl6MHTuWevXqcezYMcaMGcNHH31E3759qVWrFhkZGRw7dowPP/wQd3d3Jk6cyODBg9Hr9WzYsIELFy7g5eXF4MGDKSwspE+fPvTu3dugq2yp0NBQ9u/fT1JSEllZWeTk5NCwYUMGDRpEo0aNlHZarZbY2FgWL15MSUkJmZmZlJSU4OHhweTJk6latSrm5uYG2y6VlpZGSEgI69ato1atWpiZmZGenk5CQgJ6vZ6pU6fSpEkTg+EPUlJSOHjwIJcvX6agoICkpCSqVq1K//79adeuHTY2NgAsWrSIuLg4zM3NMTc3Jzs7m5s3b1KnTh169epFp06dHnklz0e6yhoP6SprXKSrrPGQrrLGRbrKPr9n7SorwZ0Q4qmWLl3KqVOn8PT05LPPPjNYlp+fT0REBOPHj6devXqMHTuWbt26UVBQwAcffIBOp6Ndu3ZYWFgwc+ZMFi9eTKtWrahQoQKpqakEBQWxYMECevbsia+vL9HR0SxatIjx48cTGBhIzZo1uXz5MlOmTMHLy4tXX32VVq1a/Vs/BKXBXU5ODlOnTqVDhw5lmyhKgzs3NzeKiorIzs5m9uzZtGzZEktLS7Zv387OnTtp1aoVS5cupVu3bowePdoguPPy8mL48OHKfnQ6HRMmTODmzZuMHDmSV1555U+Du7i4ONasWcO6deuYPHkyI0aMeCyoPHv2LKtWrWLPnj1s2LCBVq1acfHiRTZt2kRKSgoffvght2/fJigoCJ1Ox2effYaLiwtmZmZs376dNWvW0LBhQ6ZPn/7ELm6lSoO7b7/9lr59+z52QX7gwAFWrVpFQkICq1atonbt2k/90SytNny00rC4uJiTJ0/Sq09faoz8AlNnT/Sq5///Fv9dZmo9g2rp0OhhV4yaEt3TZ/kUf5/P+nrTv4kz4eHhzJ07lypVqjBy5EjatWvHnTt3mDx5MnXq1GHMmDH4+PgQFRXFRx99hFqtpkGDBri6upKfn09kZCTHjx/H3d2d0aNHM2DAAO7evct3331H7dq16dmzJ/Xr1yc+Pp5+/frRq1cvJk6c+Nj3REhICFu3buXevXukp6ejVqtp06YNI0aMwMvLS2lXehI+b948CgoKyMrKwtLSkhYtWvDqq69SpUqVp46nWVBQQHJyMjExMbi4uGBqakpCQgKnTp3ip59+YvLkyQwYMECpJgZISkpi27ZtBAcHk5eXR2pqKs2bN2fAgAG0bt1aqfC7cuUKOp2OChUqYGpqSnJyMr/88guhoaG0adOGd999Vwn5npdGo+HGjRtotVoaN278b/3uif+u0uDu7Nmz+Pj4ULlyZQkXyjGNRkNkZCSFhYU0bdpUjq1yTKfTkZuby5kzZ2jatClOTk5ybJVjWq2WqKgocnNzad68+Qs/tkrPGfz9/Vm8eLEEd0KIf5Y/Cu54GG6NGTOG1NRUhg8fzvjx40lOTmbw4MH07t2bgQMHkpOTw7vvvkv79u0ZOHAgderUQa/Xk5uby3vvvcf9+/eVLlmFhYV899131KxZE7VaTWRkJF999RUxMTH07duXtm3b4uDggJWVFba2ttjY2Dz1wu1JIiMjmT9/PomJiQwbNowWLVoYLLe3t8fR0RE7OzsluKtbty6Ojo4kJydTuXJlpk2bhpmZGcuXLycoKIivv/6aMWPG0KFDhz8M7nQ6HRkZGUyZMoUHDx4wZswYRowY8afBXVhYGDNnziQ1NZVPP/2Unj17lm1CcnIye/fu5c0332T+/PkMGDAAW1tbgoKCmD17NqNGjeLSpUvY2toyfPhw+vTpo6y7fft2VqxYQbVq1Rg9ejSVKlVSlqlUKpydnXFwcMDc3PxPg7v4+HgWL17Mjh07mDt3Lj169MDe3t6gTamcnBxltshSJSUlXLlyhZnvzMbn1flYu9QG9Yv94RfPzkwFL1XXo9XDiXgVGjmbKJcmdahNq+qWBAcH88YbbzB79mxat26Ng4MDcXFxzJ8/nxo1atCrVy/8/PywsrIiLCyMtWvXEh4eTl5eHvb29vj5+XH58mWqVKlC7969ad++PZs3b+bUqVP07NmTjh07otFoSE1NZcaMGbRv354hQ4bg4eFhMIlEQUEBmZmZFBQUEBcXx+7du0lKSqJTp068+uqrSnfV0grv5ORkCgsLiY6O5rfffuPatWu8+eabtG/fHgcHh0f+0j8XExPD7Nmzsba2ZsyYMfj7+yvLNBoNWVlZZGVlkZaWxoULF9i5cyddunRh8ODByuQUT3Ljxg2++eYbAD755BNq1qxZtslfotVquXv3LjqdDk9PzydOACXKh9LzmbCwMOrXr4+9vb2EC+WYVqslJiaG4uJi6tSpI8dWOaZ/OKFaWFgYXl5eVKxYUY6tckyr1RIXF0dBQQF169Z94ceWRqMhOjqawMBAlixZIsGdEOKf5c+Cu4KCAt577z0uXLhA//79GT9+PL///jtz5szho48+ol+/fsTHx7NlyxZOnjzJ9OnTeemll+DhnbQ7d+4wa9Ysjhw5QtOmTVm8eDENGzZUZkLNy8sjIiKC2bNnc+XKFSwsLKhTpw5NmjShQ4cO+Pn54eLiUuZVPV1kZCSfffYZhw8fprCw8LG7QYGBgYwbN46XXnrJILhr2bIlmZmZrF27ll27dhEfH8/27dvJzc3lhx9+oFOnTrRp0+apwV379u3Jz89n48aNLF26FHd3d9555x1atGjxp8FdSEgIY8aMoUaNGrz77rt07NixbBMKCwsJCgqiX79+TJkyhVdeeYUGDRoQExPDsmXLWLNmDTY2NkyePJlp06YZ/N3bt29XJtYwNzc3GO/KzMyM9957j/79+1OrVq0/De5KSkpYuHAhixcvZsqUKY8FgY86f/48K1as4OeffzZ4Xq/XY2Jiwufz5uHh4YGJiQR35Vnpx0XOJMovtUpFSkoyZ86c4eeff0atVisXP/qH43GWjmPXuXNnJk6ciFqtRq/XU1BQQElJCaamplhbW/Ppp59SoUIF/P39qVatGmvWrOHGjRsUFBQYfHdoNBrUajXVqlXDz8+PoUOHGix/9NQzKiqKY8eOERMTw/z58zExMXlq2xs3bnD06FGys7OZMGHCY2PP/Zn09HT27t1LdHQ03bp1e+LJcun+9Ho9K1asICcnhxYtWvxhF9iioiJWrlxJSkoKQ4cONRiv73mVvo5/dzvixdDr9fJ/ZSTk2DIucmwZj7/z2NJqtSQkJDBnzhyWL18uwZ0Q4p/lrwZ3ffr0YeHChWRmZvL666/j6+tLXl4e4eHhjB8/nilTpjBo0CClCquwsJDvv/+eY8eOUbduXb7++muDcdF0Op1SlXHr1i3u3r1LXFwccXFx3L59m5YtWzJkyBA6d+5c5pU9WWnFXXR0NN27d6dBgwYGy6tVq4a7uztOTk4GwV3fvn3h4bh0P/zwA5cuXSIxMZHWrVszePBg/P39nxjcxcTEYGdnR4UKFSgqKiI3N5f69eszYMAAevfujbm5+V8K7mbPnm1QIVLqacFdUVERMTEx9OrVC19fXyZMmED79u0NflC3b9/O0qVLsbe3JzAw0KCCRa1WU69ePapXr46Njc2fBnfFxcUsXLiQJUuW/Glwl52dTXx8PAkJCcpzJSUlXLt2jXffn0PriVJxV96ZqcHf5f8q7k4lqtA8fX4V8Tea0N4D3xq23L17lwMHDuDp6YmNjQ0qlYrExERWr15N1apVad++PZ06daJhw4bKunq9Xql6iIqKYvr06XTt2pVRo0ZRuXJlIiMjycjIUCZl0Gg0ZGZm8v3339OsWTN69epFw4YN8fT0fOQVGbp06RIbN27k+vXr7N+/32DG17LOnTvHunXrSEhI4OuvvzboWvss4uLilKEcxo0bR0BAQNkmBt59911SUlLo3Lkzw4YNK7tYcevWLb766iuKi4v54IMPDLrgPo/SqiCdTvfwBsaLrVwQz06v15OXl8f169epW7cuDg4OT/38ir9faVVQcXGxVLOWc6W/PTdu3MDT05OKFSvKsVWO6XQ67t27R35+/t9SzarRaIiJiaFPnz5ScSeE+Of5s+AuLy+PiRMncv/+fQYMGEDTpk2ZPHkypqam1KtXjypVqihjVOzbt4+RI0cybtw4gy6qpRNgeHp6Mm/ePIPtl9Lr9eTk5JCWlkZaWhqJiYkcPXqUy5cv07lzZ6ZOnfrULpmPKh3jLjMzk8mTJ9O2bVuD5WZmZkq33UeDu6FDh+Lo6MhHH31EjRo1uHLlCo0aNeLNN9+kRo0aTw3uioqKaNCggXLhZW9vT+3atZUwrLi4+E+Du2vXrjFlyhSKioqYO3cu3bp1K9uE9PR0Dhw4wIQJE5g7d67SPY2Hk1u0atWKLl268Morr9C4cWODdbdv387q1avx8vLizTffxMnJSVmmUqmwsLDAzMwM9SOTUzwtuEtJSWHx4sVs3ryZDz744LEg8FH6h5U+Zce4O3XqFL369KXmyC8wkTHuyjVztZ6BMsZdufdZ34YMbFaN5ORkTp48ScuWLXFwcECtVnPnzh1mzJiBh4cHw4YNo127dvBwAolKlSpha2tLYWEh4eHhbNq0iczMTMaNG0fPnj2xtLQkPz+fkpIS5S57cXExSUlJjBo1SvnOqVWrFlZWVkplnq2tLRUrVsTExITExER2795NcHAwzs7OrFy5ElNTU8LDw8nIyMDJyYmKFSui1Wp58OABBw8e5NChQ7Rr144333wTNzc3YmNjCQkJITc3l549e1K5cmXi4+O5ffs29vb2VK5cGRMTE2WMux9++IFhw4YxbNgwGjVqRFZWFidOnKBWrVpUrlwZU1NTsrKyCA8P59tvv6VevXpK5XRmZibh4eFUqFBBGW8pOTlZGRuvWbNmfPTRR8/0e/RHZIw74yFj3BkXGePOeMgYd8ZFo9Fw8+ZNpUq9bPX8f5uMcSeE+Ef7o+CuqKiIuLg4xowZg7OzM126dMHMzIz3338fHx8fZSBvHoY0SUlJ2NvbM2TIEEaNGqV8mf/000+cPHnyift4Go1Gw+nTp5k7dy6enp588sknuLq6lm32mOeZnKJu3boMGzYMLy8vdu7cyYYNG8jIyGDEiBHMmjULrVb71ODOzc2Nfv364efnh7m5OTY2NgZ3oJ4luLtz5w4//PADR44cYcaMGQwePNhgvCgejoO3fv16li9fzsqVK+nUqZNS6Zafn4+Pjw9du3bllVdeMZi1kYfB3X9qcorg4GCWL1/O9evXWbJkCU2aNMHKysqgzR95dFbZ4Z+uxKlWA9Smzz6GoXix1OjwUKehR8VdnaPMKltO9W9WnZbuFUlPTyc4OBg/Pz8cHR1Rq9XcvHnTYFbZtm3bkpyczKZNm8jPz0elUilhXFRUFP369aN79+7Url277G7g4TEcHx//xFlljxw5wvXr18nNzcXKygoTExMyMzO5c+cONjY2dO3alQEDBqBSqTh48CAhISGoVCqsrKzQ6/Wkp6dz//59ACZMmEDz5s2xs7Pj7NmzrF+/nqSkJL788ku8vLwICwvj0KFDZGVlYWtri4mJCRkZGcTGxpKdnc2UKVNo2bIlFStW5MGDB3z33XfY2dkpr6uwsJC4uDiSk5Pp3bs3PXr0UALBdevWUVBQgL29PSqVipycHMLCwqhWrRo9e/akV69eZd6Vv04js8oajdLgTmaVNQ4amVXWaOhkVlmjopFZZZ+bBHdCiH/b0qVLOXnyJLVr12bu3LnwsJtBYWEhDx484MSJE3z//fcMGjQIDw8PQkNDuXr1Kl988YVBAKTVarl69SqrVq2iRYsWzJkzB1tbW/iT4K6wsJDExESsrKywsrJSxmArLCzk4sWLfPHFF3h6evLRRx8901hHpcFd6YVbaXVJKdXDcZ7UavVjwV2rVq24e/cu06dPp3LlygwZMoTevXuTl5f31OCu7KyyZZUGd6UVJFOnTjVYrlKplDv5c+bMoW3btgwZMkQJRktPavbu3cv69espKipi9erVBiXqzxrc1a9fn6lTp+Ls7KwsU6lUynuiUqmU4O7rr78mMDAQV1dXdDodRUVFZGVlsWbNGn777TdcXV1ZtmwZNjY2f+kkqzS4CwwMJCgoCB8fH6P50f0n0mg0hIaGolar8fb2fuEnaeLZ6XS6JwZ3sbGxfP7559SoUYPAwECaNGlCcnKyMi5pYmIipqamuLu707lzZ3r06PHU7u887O6ekpLC1KlT6dixIwMGDFB+C86dO8fhw4e5dOkSaWlpAFSuXJlmzZoREBCAr6+vMtnQyZMnOXz4MNeuXSMtLQ1zc3OqVKlC06ZNefnll2nTpo1y8+fSpUts376dlJQU5syZQ61atbh16xYHDx4kKCiI9PR0ABwdHWnQoAH9+/enYcOGysyviYmJyg2HxMRENBoN9vb2yoQdrVq1wtnZGY1GQ1paGkuXLuXy5cukp6ej1+upVKkSPj4+dO/encaNG/9HvrMkuDMeEtwZFwnujIcEd8ZFgrvnJ8GdEOLftnTpUo4fP46rqyvvvPMOOp2OzMxMIiMj+fXXX/nll19o1qwZH3zwATExMWzYsAE/Pz+mTJny2MVdTk4Or776Knq9nhkzZtC6dWv4k+Duxo0bfP755zRp0oTGjRtTo0YNzMzMiI2NZcmSJURHRzN06FBmz579TGMplAZ36enpjB8/njZt2hgsNzExwdraGhsbm8eCuw4dOihVH6ampkqQ+J8I7vbt20fDhg0ZM2aMwXIzMzNlptt33nmHoKAg6taty6hRo2jevDl5eXn8+uuv7Ny5k+zsbD799FNeeukl7OzslG08S3C3atUqPDw8mDx5MlWqVFGWqVQqzMzMsLW1NZhV9uOPP6Zbt244OzuTm5tLdHQ0u3bt4ujRo9SrV4+pU6fSpUsXg/08CwnujIsEd8bjacFd6TIeCeoffa70FLF0WenyP1O6/qMXWfqH4+WVPe180rafpy2P7O+vrM8T/l7+pO2zbvd5SXBnPCS4My4S3BkPCe6MiwR3z+9Zgzv59Ash/lB8fDybN2+mR48eBAYGMmHCBJYtW0Z+fj4zZszgq6++wsXFhVu3bpGbm0vHjh2xtrY2uJBRqVTY2NhQt25dioqKCA4OLrubJ6pQoQJNmzYlLCyMf/3rX7z66quMGTOGL7/8EnNzc15//XUGDBjwl37ItVotV65c4Z133qFHjx4GjxEjRrBt27ayqyhUKhUODg7Y2toqlSH/CampqWzevJmRI0caPN5++202btyIhYUF06ZN46233sLOzo6FCxcyaNAgxo8fz6FDh/Dx8eHTTz9V3vu/Ki0tje3btzN8+HCD96Nnz57MnDmTq1evKm1LSkpYunQpo0ePpk+fPowbN47vvvuO7OxsJk+ezHvvvaeEskKI8q+0yvjR0Kn0ORMTE0xMTB5b/mdK13+U6mH1buk2/2jbz9P20f39lfV5wt/7Z22fdbtCCCGEEP8JUnEnhHiqGzduEBkZSXJyshLAmZmZYWNjQ+XKlXFzc8Pd3Z3CwkLCwsJISEigY8eOODo6YvKECrgrV66QmJhI5cqVadmypbKP+Ph47O3tadWqlUH7vLw8YmJiiIuLIyMjg4KCAvR6PVZWVjg5OVGnTh2qVq36zHdUMjMzCQkJITY2luLi4rKLsbGxoVGjRjRr1gyNRsPBgwdxcHDAy8sLFxeXss3hYZC1d+9enJ2dqVOnDk5OTs+8rk6nIzw8nPDwcKXr2KPs7Ozw8PCgbdu26PV64uLiuHv3LvHx8eTl5WHycMKLmjVrUrt2bRwdHctuAo1Gw/bt23Fzc6N+/fqPtbl79y6XLl0iNTXV4HkeXvxWrVqVli1bUr16dRISEti9e7eyXK1WY2pqirW1NZUqVaJWrVq4uLgo3aD/Kqm4My5ScWc8/qjiTpQ/UnFnPKTizrhIxZ3xkIo74yIVd8/vWSvuJLgTQghRLkhwZ1wkuDMeEtwZFwnujIcEd8ZFgjvjIcGdcZHg7vk9a3Ann34hhFHTarVkZmZy7dq1P3zcv38fjUZTdnUhhBBCCCGEEKLckuBOCGHU8vPzCQoKon379n/4+Oqrr5TZBYUQQgghhBBCCGMgwZ0QwqhZWVnRpk0b1q9f/4eP8ePHY29vX3Z1IYQQQgghhBCi3JLgTghh1ExMTHBycsLf3/8PH3Xr1sXc3Lzs6kIIIYQQQgghRLklwZ0QwqiVznRrb2//hw8rKytUKlXZ1YUQQgghhBBCiHJLgjshhBBCCCGEEEIIIcohCe6EEEIIIYQQQgghhCiHJLgTQgghhBBCCCGEEKIckuBOCCGEEEIIIYQQQohySII7IYQQQgghhBBCCCHKIQnuhBBCCCGEEEIIIYQohyS4E0IIIYQQQgghhBCiHJLgTgghhBBCCCGEEEKIckil1+v1ZZ8UQgghXrTi4mJOnDhBYGAgQUFB+Pj4YGFhUbaZKCc0Gg2hoaGo1Wq8vb0xNTUt2+R/3uXLl7l06RIxMTHk5uYCUKVKFVq0aEGTJk2oVq0aABkZGVy4cIGrV6+SnJyMVqvFw8OD9u3bU79+fSwtLctsGfR6PVqtlp9//pmIiAjq1KlD3759cXZ2BiA0NJTTp08TFhZWdlVUKhVmZmbMnDmTGjVqkJuby40bN1i7di02NjYUFRXh6uqKv78/rVq1Krv6Y4qKioiNjeXChQtER0eTmZmJXq/H0dGR1q1b06RJE5ycnJT2V69eJTQ0VGkLULVqVVq1akWjRo2oXLmy0jYsLIyQkBDu3LlDdnY2arWaSpUq4e3tTatWrahevbrS9p9Co9Fw/fp1tFotTZo0+UceW8ZCp9ORlZVFcHAwLVu2pEqVKqjVUhdRXmk0GiIiIigsLKRZs2ZybJVjOp2OnJwcgoODadasGc7OznJslWMajYaoqChycnLw8fF54ceWRqPhzp07dOzYkUWLFhEYGGg01xC+vr5ln3oi+fQLIYQQQjyH+Ph44uLiSEhIICsri8zMTEJDQ9m5cydBQUFkZWVRUlLC4cOH2bt3L1euXCEtLY3U1FROnz7N/v37uXLlCk+6h5qbm8uZM2c4cuQIGzdu5OjRo2RlZSnLtVotRUVF5OXlGTwiIiLYuXMnx48fJycnB4CCggISExOJiori9u3b/Prrrxw8eJDbt28/sseny8/P58qVK4SEhHD79m1SUlJISUkhLCyMzZs3ExwcTHp6utI+JCSEkJAQ7t69S1pamhJc7tixg1OnTlFQUKC0TU5OJjo6mvj4eLKyssjIyOD69evs37+fPXv2UFBQgE6nU9oLIYQQQvzTmMydO3du2SeFEMLYabVa8vLyuHXrFmlpaahUKqytrQ3a6PV6iouLSU1NJT4+ngcPHpCQkEBycjLp6ekUFhaiVqsxNTVFrVaj1+uVC/V79+6RkJBg8EhLS6OkpIQKFSoY7Kes0ruIN2/epKSkBDMzM8zMzAzaJCcnEx8fT15eHnZ2dqSkpBAbG6uEBI8+UlJSKCgooGLFigbb0Gg0ZGRkGFSyWFlZGbQpLi4mLS2NyMhIZXtJSUmkpaWRk5ODmZmZ8vc/ut20tDTlPYuPjyc5OZnMzEyKi4sxNTV97O95FlqtlpiYGDZv3syYMWOoVq3aC79jJ56dTqcjKSkJlUqFk5PTP/JOeG5uLjVr1qRDhw706NGDTp06YWVlxW+//caDBw9o1KgRJiYmfPTRRxQWFtK9e3dGjx6Nv78/6enpnD59mtzcXFq3bo25ubmy3eLiYu7evcuPP/6ItbU1KSkpODk5ERAQQKVKlQCoVKkSTZo04eWXX6Zbt25069aNl156CVNTU27fvk3nzp3x9/enQoUKFBYWKsdsjx49yMnJUaq5GjVq9Mhf9GT5+flcv34dR0dHOnToQO/evWnfvj0ODg5s376doqIi3NzccHV1BeD8+fM4OTnx0ksvERgYSEBAACUlJQQFBZGcnIyPj4/yfVVQUICTkxMdO3YkMDCQ9u3bY2try+XLlzl58iQ9evTAxsYGExOTMq/qf5dOpyM5ORm9Xk/VqlX/kceWsdDr9RQVFXHv3j2qV6+OjY0NKpWqbDNRTuh0OlJTU9FoNLi4uMixVY6VnqPfu3cPFxcXbG1t5dgqx3Q6HWlpaRQXF1OtWrUXfmzpdDoyMjL4+eef6dGjB3Xr1jWaa4hVq1aVfeqJXuw7KoQQL0heXh4XLlygd+/ejBgxgt27d5dtgk6n48GDB6xZs4aJEyfStWtX2rdvz8svv8zIkSP57rvvuHz5Mnl5efCwu9iiRYvo06cPPj4+jz0CAwNZsGBB2d08pqioiLNnz9KjRw8WLFjA3bt3yzZh69atTJkyhfnz51NcXMwvv/zCsGHDHtunj48PnTp14sMPPyy7CTIyMti/fz89evTgjTfeICgoqGwTkpOT2bJli8H2/Pz8CAwMZPr06Vy4cEGp2uHhiVR2djY7duzgrbfeomvXrvj6+tK5c2dGjx7NTz/99MxVPEIYu+bNm9OuXTuaNGlCjRo1qFmzJiNHjqRp06bk5uYSFhbGtWvXiIuLIyAggBEjRuDp6YmnpydTpkyhWrVqhIaGEh4ebrDdpKQkzpw5w7lz5+jTp88TwzVzc3Ps7OyoVKmS8tBqtSQkJJCXl0efPn1wcHAAoGLFijRt2pRevXrRtWtXatas+ZdOaCtVqsS4ceOYNGkSXbp0oW7dutSrV49hw4bh7+9PVlYWkZGRSvvXXnuNyZMnExAQgJeXF+7u7rz++us0b96cpKQkbty4oVQZNmzYkE6dOtGsWTOqV69OrVq16NevH506dSIzM5Pbt29TWFj4yKsRQgghhPhnkeBOCPE/KTU1lSNHjtChQwd0Oh23b99WxlriYdXYr7/+yrvvvsumTZto3rw5H3/8MWvXrmXlypVMmTIFMzMzTp48yZUrVwy27eXlxfTp0zly5IjBY926dbz66qsGbZ/EwsKCBg0aMG3aNIKCgvj9999JTU2Fh1VnZ8+e5eTJkzg7O/PKK68od62cnJx49dVXH9vvjh07mD17dpm9QFpaGocOHSIgIEAZ46qkpKRsM3j4mhYsWMCBAwfYunUrb7/9Nnl5ecybN49z586h1WoBKCkp4bvvvuPAgQPUrl2bb775hh07drB48WIGDhyIk5OTMtaXEP80pcdvdHQ0dnZ21K5dm5KSEvR6PSYmJgZVY6XVrGlpady8eVN5Pi8vj9OnT3P48GE+++wz3N3dn7na7OrVq9y+fRsPDw+aNWv2WJXxf0NBQQEmJiaPVfOWVVRUpFTk2trall2s0Gg0XL58mbCwMCpWrIiXl9cTxwAUQgghhPinkMkphBD/c7RaLefPn2fq1KlMnDiRs2fPYm1tzcCBA+nYsSMAV65cYe3atQQHB9O/f386depE9erVsbW1Ra1Wk5uby/3799HpdFSvXp0aNWpQWFjI3LlzuX37Ni+//DKjRo0y2K9arcbExOSZuokWFhYSFxfHhx9+iKWlJX379qVXr15kZWXx8ccfk5aWxssvv8yQIUMwNzdn+fLlHD58GD8/P95++22DbalUKkxMTAy62hUUFBAcHMwbb7zBJ598wuHDh6lQoQITJ07E29tbaXf//n127tzJu+++y6FDh2jatCkqlYq4uDh27tzJmjVrmDFjBiNGjMDe3p6srCz69OlD7dq16d+/P61atcLa2pqioiLS0tLQ6XRUrFiRqlWrKvt4VqWTU/Ts1ZuRn63CyaMBapM/fy/F30ONjlrqVPSoiNFVQvcPuhfoWtGKNzp5ApCZmcnvv//O4cOHKSkpISUlBQcHBzp16kTXrl1JTk5m9OjRtGrVirFjx9K8eXP0ej1BQUF89913pKamMmbMGKZPnw7A4cOHOXbsGGq1mhkzZlBQUMC7775LcXEx8+fPp06dOmVezf/RaDR89dVXnD59mrZt2/LRRx8py3Q6Henp6QQHB+Pn58e3337LjRs3GDZsGMOHDzfYzrPKz88nPDycWbNm0bx5c0aOHEmzZs3KNlPs37+flStX4uTkxEcffaR0qwVIT0/n2rVr7Nq1S/kusba2xtfXl7Fjx2JhYfHCu938nWRyCuMhk1MYF5mcwnjI5BTGRSaneH7POjmFBHdCiP85KSkpHDlyhM8++4z169cTFRVFSEgIVatW5b333gNgxYoV/PLLL9jY2LB48WKqVq36pz8ypcHd3bt36datG6+88krZJn+JRqNh165dbNmyBTc3N/r3709CQgKLFy+mZ8+eDBgwAC8vL4qLi1m+fDlHjhyhY8eOzJw5s+ymHhMTE8PBgwdZvnw5mzZt4tixY0RGRtKsWTPGjx+vtHs0uDt+/DjNmjXDxMSE+/fv88svv/Ddd98xdepUxowZg5OTExkZGXTq1Il27doxduxYWrZs+VwnUnq9Hp1Op1Ty8TC4O3XqFL369KXGyC8wdfZEr/rj/xPx9zFX6xlYS4dGD7ti1JTo/jljzzRytWfna23hYeh0/PhxZSKFlJQUatasSbdu3ejevTsmJibMnTuXmJgYqlevTr169QC4desWZ86cQaVS0bdvX959913u3LnD2rVryc3NpX///rRr1474+HhmzZpFcXEx8+bNe2pwFxMTw9y5c8nIyGDatGn4+/sry0rHfjlz5gy+vr589913SnA3bNgwg+08i/z8fCIjI1mzZg2xsbEMGTKEnj17Kl1zH1VQUMDNmzdZvHgxBQUFdO3alWHDhhl836alpRESEsKWLVvIzc0lPT2dKlWq0KVLF4YOHYqlpeVzfc8YK41Gw40bN9BqtTRu3PhPf5vE36c0uDt79iw+Pj5Urlz5H/VZNTYajYbIyEgKCwtp2rSpHFvlmE6nUyZpatq06T92LF1jodFouHnzJjk5ObRo0eKFH1ulwZ2/vz+LFy+W4E4IIYzBxYsX2blzJ5GRkSxatIjc3FzWrVvHrVu3WL16NTY2NsyaNYuzZ8/y0ksv8fnnnyvrZmZmkpSUpIxrZ25ujpOTE05OTkpwd/36dWVMu0fZ2NhQuXJlZfD4Z1FQUMBXX33F1atXqVChAsnJyTg5OfHaa68pX+Slwd2+ffto0KDBY5V+VlZWODo64uzsrDx37Ngxtm/fjqmpKe+//z53795l165dZGZmsmTJEszMzFCpVEpwN3v2bJYtW0a9evWUrsXr168nLCyMOXPmMGzYMCpWrEhBQQHDhw9Ho9Hg7++Pv78/tra22NjYYGdnh42NzTNVHGZnZ5OQkEBiYqLyXElJCVevXmX2e+/TauJ8rF1qg/rF/vCLZ2emgk7V9Gj1cDJBheYfdDZRu4ot8/v937hzWq2W3NxcMjMzKSgo4OLFi+zfvx8nJycmTZqEt7c3169fZ9euXQQHB5ORkYFarcbX15eEhAR0Oh0dOnTgjTfeYPPmzfz222+4ubkxYsQI1Go1KSkpLFy4EI1GwxtvvEG9evVwdHR87Djbu3cv69evp2bNmnz44YfY29sry0orF65fv463tzcLFy4kMjKS/v37M2DAAIPt/JmSkhLu3r3Lr7/+ys8//8zkyZPp2rUrNWrUKNuU4uJiZcKZixcv0rdvXwIDA3FycjJop9Vqyc/PJzMzk9zcXK5cucLx48fJyMjgyy+/xM3NzWhOwP8TtFot0dHR6HQ6ateu/cxdpcWLp9fryc3N5fr169SrVw97e3sJF8oxrVZLbGwsxcXFeHl5ybFVjun1emViJE9PTypWrCjHVjmm1Wq5d+8e+fn51KlT528J7qKjo+nTpw9LliyR4E4IIYzB5s2b2bp1K127dmXo0KFUqFCBpUuXsn37dj777DNatGjB66+/TkREBCNHjuStt95S1t27dy/ff/89ISEh6PV6atSoweTJk5kyZYoS3O3YsYN79+49duHcqlUrxo0bx8iRIw2e/zPh4eH8+OOPrFixgooVK7JlyxZatmyJjY0NPBLcrVy5koiICIMusQD16tVj6NChzJgxAx6e7KxcuZJNmzYxY8YMpXvwkiVL2LdvHxs3bqR69eqYmZkpwd3bb7+NtbU1arWakpISiouLUavVdOzYkQ8//FCp3tFqtRw7dowffviB33//HXNzc+rVq0eLFi3o1KkTPj4+VK9e3eD1Pcn58+dZvnw5a9asKbsIU1NT5s2bh4eHByYv+Idf/DWlNXb/tBOJP6st3LNnDxEREXh6ejJw4EDl+ZKSEgoLC5VZrtetW0dMTIwSgq9Zs4Zz584pY16W0ul0AFSoUIEWLVowdOjQx8KvpUuXkpqaSsuWLenWrZvBsrLWr19PbGwsHTp0oEOHDmUX/6H4+HiCgoI4d+4cgYGB+Pr6PnUm7ZiYGI4fP85vv/3GpEmTaNq06VPblhUcHMyePXto1aoVAQEBj82aLYQQQgjBw+uTxMRE5syZw/LlyyW4E0KI8i41NZWlS5dy/Phxli1bRs2aNTEzM+PgwYNs27aNqlWrMn36dN55550nBneJiYncvn1b6W4bGRmpzLBaGtxdvnyZ+vXr07lzZ4N9V6xYkZo1a+Lm5mbw/J8pLCxk48aNrF69mjp16jB37lzc3NyUO4ulwd3u3bupUaMG/fr1M1jfzs4OV1dXPD3/b8ytW7dusWrVKq5evcrGjRuV7mvbt29n69atBAQEMGzYMBwdHZXg7p133mHevHnUqlWL9PR0Ll++zG+//cYXX3xBx44dqVy5MjwMBXNycoiPj+fOnTvcunWLe/fucevWLRITE2nWrBmjR4/Gz8/P4DWWlZOTQ0JCAklJScpzpRV3s2a/S8tXH1bcmUhwV1790yvuvuzfuOzTih9//JEzZ87QuHFj3nnnHeV5nU6nzKYaGRnJ119/jYmJCe+++y516tQhKiqK5ORkCgoKlHUyMzPZsGEDWq2WkSNH4u3tjaenpzIZRHFxMSkpKYwdO5ZGjRoxYsQIWrRooazPw/1mZ2crFXeLFi0iIiJCqbhTqf4sivw/ERERrFq1ivv379OlSxcGDBiAra3tE6tWzp07x86dO7lx4waTJk2iTZs2VKpU6Yltn2T37t0sWbJEmbHaxcWlbJP/WaWVA49W3D3r/5F4sUq785VW3Dk4OEhVUDmm1WqJiYkxqLiTY6t80ul0SsWdl5eXVNyVc1qtlri4OPLz86lbt+4LP7ZKSkqIiYkhMDBQKu6EEMIYnDhxgp9++olTp07x8ssvY2FhgUqlIj4+nujoaKysrFi/fj2LFi3i8uXLdO/e3WAQd41GQ1FREQUFBaxZs4bjx48TEBDAjBkzlODu1q1bBAQEPFZZVzpBRNlKvGexbds21qxZQ8OGDZk5c6ZBt9fS4O7QoUP4+voyZcoUg3XVajVmZmbKD9T27dtZtWoVN27coFu3bsoPZ2xsLDExMdSuXZsff/yRmjVrGoxxt3//fho3bkxJSQkRERFs3rwZZ2dnBg8eTOPGhiFF6cVKeno66enpJCUlsWfPHqKjo/Hx8WHevHkG7cuSMe6Mn5laz6B/+Bh3x44dw8bGBhcXF6ysrCguLub69eusWrWKoqIiRo8ezYABA7h27RomJibY29srXdQ3btyoVL1NnjwZW1tbCgoKKC4uVirseHgz4aOPPqKkpIQPP/yQevXqYWVlpVzApKenc/DgQb799ltGjx7NmDFjHuuur9VqSUpK4siRIzRv3pzly5dz8+ZN+vTpQ58+fTA3N6dChQpYWVmRk5NDSEgIUVFRtG3blsaNG1NYWEhsbCxLlizh/v37NG7cmL59+1KrVi14+N336HfQ2bNn2bx5M3FxcbRs2ZLBgwfj6OiIqamp8j1pbm5OSUkJoaGh5Obm4u7urrwHERER7Nq1i/PnzzN37lzat2//xPHz/lfJGHfGQ8a4My4yxp3xkDHujEvpGHe5ubk0b978hR9bMsadEEIYEb1ez7/+9S+OHDmCRqN5rCtZRkYGERERLFq0iJCQEH7//XeqV6/OggULcHBwMKgEKS4uZtmyZRw5coROnToZBHf/qckpHrVt2zbWrl1LgwYNmDFjxhODu2eZnKK4uJhPP/2UkydPYmdnZ9AtTa/Xk5mZSWRkJOvWrcPHx4eMjIzHJqcwNzcnPT2d33//nQULFjBixAj69OnzWBhQ1pYtW9i0aRNqtZrdu3eXXfynih+ZVXbU56twllllyzU1OtxV/zerbKz+nzarrDWTO3rw3XffkZ6ejpWVFWZmZuh0Ou7fv09qaipNmjRh+PDh1KpVSwnptFotOp2OzMxM7ty5Q8uWLenZsyfNmzcvuwtFfHw8M2fOpPgps8reuXOH9957j8zMTN5880169+792F3ugoICwsPD+eqrr3B1deXcuXOkpKTg7e1Nw4YNqVatGi+99BL16tUjKSmJ9evX8+uvvzJ58mT69+9PamoqO3bs4JtvvsHa2pqWLVtSt25dZfsVK1akSZMmtGrVCoC5c+eydetW1Go1AQEBBjPIOjs706RJE5o2bUphYSHbtm3j6tWrODg4YGZmhlarJSEhgbS0NKpVq8b06dNxcnJ6rhsixkojs8oajdLgTmaVNQ4amVXWaJSOzSqzyhoHjcwq+9wkuBNC/KOUhlLTpk0jNzeXUaNG4e3tbdAmPDyc+fPn07FjR9zc3Dh//jwRERG88847+Pj44OjoqIwfl5uby7Jlyzh9+jRdunQxCO7u3LlDly5dGDt2rMH2eVj99qxdwR71LMHd4cOHad++PdOnTzdYF0ClUqFWq4mLi2PWrFmYmpry+uuvU61aNaWNXq/n2rVrzJo1izfffJO+fftibm7+xOCu9IRp6NCheHp6MnjwYNq1a4dGo+HevXtYWlpiY2ODubk5arWagoIC9uzZw549ezA3N2fLli0Gr+9ZlAZ3gYGBBAUF4ePjYzQ/uv9EGo2G0NBQ1Go13t7eL/wkrTxYuXIlZ8+e5d69exQUFGBtbY2bmxv+/v74+fkpFWlbt24lKCiI27dvo9VqqVy5Mi+99BJdu3ZVurg/TWpqKj/88AMajYbXX3/dYBIIvV7P7du3mTZtGu3atSMwMJAGDRoYrM/D77Nz587x+uuvK11bHw336tWrx6uvvkr79u1JTU1l165dnD59mhEjRtC1a1cSEhJYsWIFp0+fJisry2DbAG5ubvTr10+pQp4xYwaXLl0iPz+/bFPq1atH37596devHxqNht27d/Prr78SFxdHbm4uNjY2uLq60qZNGzp37oyHh0fZTfzPk+DOeEhwZ1wkuDMeEtwZFwnunp8Ed0KIfxSNRsPx48f54osvaNy4MfPmzVMmdyh19+5dfvzxRy5evMjMmTPJysri+++/Jz4+ngkTJtC2bVtlfLq7d++ybNkykpOTGT58ONOmTVOCu6ioKDp06MCQIUMMtq9Wq7G0tHyuLl3PEtwdPHgQHx8fJk+ebLCuSqXC3Nwce3t7Nm7cyIYNG2jbti1z5859rPImMjKSuXPnotVqeeutt/Dw8HhicMfD8SIWLVrE0aNH8ff3Z9q0aaSlpTF79mw8PDxo3bo1rq6uWFlZER4ezsqVK0lJSaFv377Mnj3bYL/PQoI74yLBnfHQ6XSkp6cTHByMn58fjo6OcgFUjklwZzwkuDMuEtwZDwnujIsEd8/vWYM7+fQLIf4naDQagoKCsLS0NBi4/VEODg60b9+ehIQE7t69S4sWLfjqq68YMmQIly5dYu7cuYwaNYrx48ezZMkSnJycePPNNwkMDDTYzq1bt/jXv/5Ft27dDB4DBw7k66+/Nmj7n5ScnMzKlSsf22+PHj1499130Wq1HD9+HDs7O7y8vB4L7XjkPQgPDyc6OtpgEPyyTExM6NatG9bW1ly9epUrV65gY2ND3bp1iYiI4Ouvv2b8+PEMGzaM7777Djs7O8aNG8fw4cPLbkoIIYQQQgghxHOQijshxP8EjUbDuXPnyMvLw93d3WD8pVIlJSWkpqZy4sQJGjRogKenJ1qtljt37nD//n2ysrIoKSlBrVZja2uLs7MztWrVokqVKpibm6PVarl06RLR0dFkZ2eX3TwWFhbUqFEDf3//sov+VHR0NDdv3qRixYo0atTIIHjU6XRERkYSERFBenq6wXo8rPRzcXGha9euBAUFYWJigoeHh9JN71GFhYXcv3+fkJAQmjRpQrVq1bh//z4XLlygZ8+ejw2snZ+fz9mzZ9FoNHh7e+Pk5ERkZCTx8fFkZmZSWFiIXq/HyspKeb9cXV2fq7uwVNwZF6m4Mx5ScWdcpOLOeEjFnXGRijvjIRV3xkUq7p7fs1bcSXAnhBCiXJDgzrhIcGc8JLgzLhLcGQ8J7oyLBHfGQ4I74yLB3fN71uBOPv1CCPEfVFrVFxoayqVLl574uHr1KtHR0WVXFUIIIYQQQgghDEhwJ4QQ/0EZGRns27ePAQMG0KlTpyc+evbsySeffFJ2VSGEEEIIIYQQwoAEd0II8R9kb29PQEAAS5cuZdOmTU98rF69milTppRdVQghhBBCCCGEMCDBnRBC/AeZm5vj4uJC69at6dChwxMfbdu2pX79+mVXFUIIIYQQQgghDEhwJ4QQ/0EqlQozMzPs7OyoUKHCEx92dnYGs8YKIYQQQgghhBBPIsGdEEIIIYQQQgghhBDlkAR3QgghhBBCCCGEEEKUQxLcCSGEEEIIIYQQQghRDklwJ4QQQgghhBBCCCFEOSTBnRBCCCGEEEIIIYQQ5ZAEd0IIIYQQQgghhBBClEMS3AkhhBBCCCGEEEIIUQ5JcCeEEEIIIYQQQgghRDmk0uv1+rJPCiGEEC9acXExJ06cIDAwkKCgIHx8fLCwsCjbTJQTGo2G0NBQ1Go13t7emJqalm1iNKKioggJCeHGjRtkZWUB4ODgQIMGDWjdujWenp5K2+zsbG7evMnx48e5f/8+JSUl2NnZUa9ePUaMGIGZmRl5eXlERUVx4cIFoqOjyc3NxcLCAjc3N5o3b067du0wMTFBpVIBUFBQwJ07dzhx4gSxsbEUFBRgY2NDjRo16NKlC25ublhaWiqvISYmht9//53Q0FByc3OpUKECHTp0oHnz5lStWlVpV0qn05Genk5wcDB+fn4UFhZy9epVLl68SEpKCqamplStWpXmzZvTpk0bHBwc4OHrioiIIDg4mISEBNLT0/H09KRDhw60atWq7G7Q6XQUFhZy/Phxrl27RkJCAlqtFnt7e7p27UqjRo2oVKlS2dVEGRqNhuvXr6PVamnSpIlRH1v/63Q6HVlZWQQHB9OyZUuqVKmCWi11EeWVRqMhIiKCwsJCmjVrJsdWOabT6cjJySE4OJhmzZrh7Owsx1Y5ptFoiIqKIicnBx8fnxd+bGk0Gu7cuUPHjh1ZtGgRgYGBRnMN4evrW/apJ5JPvxBCCCH+0dLT03nw4AGpqakUFhZSWFhIdHQ0v/76K9u3byc9PR2tVkt2djYXLlxg69atXL9+nczMTAoKCsjIyCAxMRGdToderycjI4Pw8HAuXrxIcnIyBQUFpKenExISwi+//MLZs2fJy8uDh4F1bGwsK1euJDg4mMTERAoKCoiPj+fgwYPs3LmT6OhoAOU17Ny5kyNHjnDnzh2ysrK4efMmmzdv5syZM6Snp5f56wzl5eVx7Ngxdu/eTUREBEVFReTm5nL58mX27NnDb7/9prQtLCzk3r17XL58mejoaI4ePcrx48eV1/MovV5Peno6O3bs4NChQ8oJfGFhIWlpaaSnp1NUVFR2NSGEEEII8Sek4k4IYXT0ej0FBQXExcVRVFSEo6Mjbm5uynKtVktmZia3b99GpVJRs2ZNKleujImJiUGbxMREHjx4gEqlom7duhQXF5OamqpU3PwRFxcXatSoUfbpJ9Lr9ZSUlJCSkkJWVhaFhYXodDpMTU2xtLSkYsWK2NvbY2lpiU6nIyoqiry8PLRaLSqVCpVKhbm5ORUrVsTR0RFbW1tl2wUFBSQlJZGUlGSwz1JqtZp69ephY2NDfn4+ycnJpKSkACjbLn0dFSpUoGLFilhZWSmVQADx8fHk5eVha2uLg4MDN2/epLCw8JG9PE6lUuHq6oqjo6NBpdAfkYo74/K/VHF369YtkpKSsLS0xNnZGb1eT1hYGFu2bCEsLIxly5bh7e1NeHg4W7duJSQkhFdeeYWmTZtSoUIFsrOzKSgooHnz5piamhIdHc3ly5d58OABbdq0wdnZmaysLA4dOsTevXupX78+H330ETVr1iQ9PZ3ffvuNUaNGMWPGDHr27En16tWJjo5m2bJlREVF8e677zJ48GDy8/O5fv06b731FvXr16d///54enoSHh7OV199RcuWLRk9evRjd28frbirWrUq33//PYmJiUycOJEOHTpQUFDAnj17OHLkCHZ2dmzfvh21Wk1WVhZhYWGEhobi7u7OsmXLsLKyol+/fgwZMsRgH3l5eVy6dIlp06bRrFkzunTpQtOmTbG0tCQtLQ0rKytcXFywt7c3WE88TirujIdU3BkXqbgzHlJxZ1yk4u75lT1nexr59AshjI5OpyMyMpKpU6cyYMAAFi9ebLA8Ly+Po0eP0qZNG3x9fdm+fTs5OTkGbbKzs1mxYgVt27bF39+fkJAQDh06xPTp02nXrp3yaNu2Lb6+vrRt29bg+UWLFhls748UFxcTHx/P8uXLmTx5Mj179qRz587079+ft99+m23bthEbGwsPK1zefPNNOnXqhJ+fH+3bt6dz584MHTqUBQsWEBoayqP3W2JiYvj222/x9fXFz8/P4DW2a9eOgIAArl27RlFREdevX+fzzz83aBsQEED//v154403WLlyJTdv3qSkpOSRVw8///wz77//PuvXrycuLo6hQ4cq2/fz81Peo0f37+/vz7p163jw4IHBtoQoj7y8vGjXrh0+Pj64ublRo0YNevToQadOndDr9YSHh1NYWMjRo0eJiYlh6NChjBgxggYNGuDm5oa3tzetWrXCzMwMlUqFh4cHAwcO5O2336Z169a4u7vTpEkTunfvTrt27Thx4oTynZSVlUVsbCw6nY5+/frRtm1b3N3dadasGcOHDycvL4+MjAx0Oh2ZmZns2LEDc3NzevfuTZ8+fWjYsCGDBg2iS5cuPHjwgAsXLpT98wzExsaSkZFBvXr1GDJkCK6urnh5efHyyy9Tt25d4uLi0Gg06PV67O3tadeuHa+//jo9evSgatWqTz0Zj42N5dixY2RnZ/Paa6/Rr18/PDw8qF69Ok2aNKFevXoS2gkhhBBCPAcJ7oQQRkej0RAUFISbmxvVqlUjPDyc1NRUtFqtQTuVSoWjoyMRERFEREQYLLt8+TIxMTHKWE4A7dq1Y/78+Rw5ckR59OnTBz8/Pz744AOD5ydOnGiwvafJzc3l999/Z+zYsfz666+0bNmSr776ivXr1/P9998TEBDAmTNnOHbsmMF6AQEBfPvttxw4cICNGzcybNgwLl68yNq1a7l+/bpBW4AGDRqwa9cuDh06ZPA69+7di7e3t3LXydLSknr16rF27VoOHTrE1q1b+fzzz+nQoQO//vor7777LuvWrXtiRZ25uTlubm6sXr1a2f769esZPnw43t7efPrpp8rzBw4cYOjQoVSrVq3sZoQo93Q6HTdu3CAsLAy1Wk2jRo0oLi4mOjqatLQ00tLSGDduHD179mTYsGEsWLCAmzdvlt3MY0pKSigqKsLe3l6pAHZwcKBWrVqo1WpOnTpFdHQ0xcXFJCQkcODAAdzc3KhatSpqtZr8/HxCQ0Px8PDAycnJYNuNGzdGo9Fw//59g+fLcnd3p2LFisTFxXHy5Em0Wi35+flcuXKFpKQkpXry0arbZ5GYmEhERASNGjXil19+Ydy4cfTu3ZsJEyawevVqkpKSDG46CCGEEEKIZyNdZYUQRqW06mT06NG0bt2aoqIibt26xdChQ+ncuTN2dnZkZ2dz8OBBRo0aRZcuXTAzM6NXr15MmDBB2c4333zD2bNnycrK4ty5c+zbt0/pmqnT6ZR2M2fO5P79+wwZMoR+/fopz5uammJmZqb8+2nOnz/P2rVrOXz4MFOnTqVt27a4urpiZWWFVqslJSWF27dv4+zsjI+PD/n5+fTu3RsPDw8GDx6Mn58fGo2G+Ph45syZQ3Z2NuPHj2fo0KEAREREsGTJEi5dusSuXbuwtbU16BIMYGFhgVqt5ty5c2zcuFF5TTVr1lQu2pOTkzl79ixbt26lSpUqTJw4kZdeegmA+fPnc+XKFdq1a8eUKVMoKipSLsDv3bvHmjVrOHXqFDNmzKB79+7Kfs3MzAwG4P8zpV1le/TqzfBPVuJUqwFq0z9/j8XfQ42O2iZp6IBobSV0RngvUKWCtwO8qOZgRV5eHuHh4axevRqNRkNGRgYWFhY0b96c8ePHk5yczJw5czh79iwtWrSgfv362NnZkZycTFJSEs7Ozrz//vtUqlTpiVVpOTk57N69m3Xr1tGkSROmTp2Kq6srJSUlxMTEsGbNGm7evImZmRmWlpYUFBSQlpamVNO5u7sTHh7OsGHD6NixI6NHj8bHx0fZ/rFjx/jmm2+oWbMmixcvNngNj3aVbdasGWfPnuXYsWMkJiZSuXJlSkpKyMzMpFatWvTt25dOnTop6z5q0qRJ5OXl0bt378e6yu7evZvPPvuMvLw8mjZtSq1atbCysiI1NZVr164xfPhwunbtiru7u8F64nHSVdZ4SFdZ4yJdZY2HdJU1LtJV9vk9a1dZCe6EEEYlNzeXsLAwpk2bxhtvvIGTkxNBQUFkZGTw6aef4uLiogR348aN48MPPyQ4OJjGjRszc+ZMHB0dSU1NZc6cOeTk5FCjRg0WL17Mvn37aN26NTY2Ngb7e/vtt7l37x7Dhw9n4MCBBsv+TElJCevWrePHH3/Ezc2Nf/3rX7i7uz924lFcXIxKpcLMzEwJ7ry8vJQLdJ1Ox4MHD5g5cyb37t1j5MiRvP766/BIcHflyhUOHjz4xOCuVGlwd/HiRTZv3kytWrWUZaUDy3/88cdcvXqVl19+mY8//hgeCe7at2/PlClTHtkixMXFsWLFCk6cOMHs2bPp1auXwfKn0ev1aLVag5C0uLiYU6dO0atPX2qO/AITZ0/0qhf7wy+enblaz8BaOjR62BWjpkT3bAFteaJWwa43/GjgUoHc3Fxu3LjB8uXLlckkbGxs8PPzY+zYscTGxvLpp59y4cIF/P39eeutt3BycuL+/fvs2rWLs2fPMmfOHDp06PBYl9CCggJOnTrFvn37lGO5SZMm2NraotFoiIuLY8OGDVy8eBG1Wo2FhQWFhYVkZmYyePBgunfvTu3atblx4wYDBgygd+/ejBgxgqZNmyr7CA4OZv78+bi4uLBkyRKDE1adTkdGRgZnzpyhWbNmXLhwQZncokqVKhQXF5OTk0Pt2rXp168fL7/88hMD98mTJ5Ofn0/Pnj0fC+62bdvG+++/T3p6OtOnT6dz585UrFiRmzdvsnjxYmxtbZk8eTKdO3c2WE88TqPRcOPGDbRaLY0bN37hF0Di2ZUGd2fPnsXHx4fKlSs/9hsvyg+NRkNkZCSFhYU0bdpUjq1yTKfTkZuby5kzZ2jatClOTk5ybJVjGo2GmzdvkpOTo4z3+6TziP+W0uDO39+fxYsXS3AnhBB/t7i4ONavX8/ly5d566238PLy4uDBg/zwww9s3ryZ+vXrU1BQwMGDBxk/fjzr1q3jwIEDmJiYKIO2Hz9+nNWrV1OtWjXq1KnD9OnT/yvBXUZGBgsWLGDjxo1MnTqVYcOG4ejoWLaZgdLgztHRkc6dO9OsWTNKSkq4dOkS69ato0KFCkyePJnBgwfDI8Hd6dOn+eGHH7C2tlZObFQqFRYWFtSpUwcLC4s/DO5K/fjjj2zbtg1nZ2e2bNkC/6XgLisri/j4eOLj45XnNBoNV69e5f0PPqTNxPnYVKuNXi0n1eWVmQo6uujR6eFUogqNEZ5NqFQq5vX1xr2SDTqdjsLCQtLT0ykoKCA8PJygoCBiY2N57733MDMzY+HChcTHxzN69GhGjRqlbGf//v2sWrWKxo0bM3nyZFxcXOCRgDoyMpL169cTHx9PQEAAY8eOVdbNzMzk/PnzfPLJJ3Tv3h0/Pz+qVq3KgwcP2LlzJwkJCbzyyit069aN6OhoXnnlFV566SUGDRpE48aNle2cOXOGRYsW4eLiwpdffom5ubmyrLRy4caNG9ja2rJp0ybi4+N5+eWXadWqFUVFRZw4cYILFy5gb2/PN998g6Wl5WMXSTNnziQ/P58uXbrQt29fg2V79+7lq6++QqPRsGrVKho2bIhKpSItLY09e/awfv16Jk2axJAhQ17oybwx0mq1xMTEoNVqqV279lNvxoi/n06nIy8vjxs3blC3bl3s7e0fO25E+aHVaomNjaWkpITatWtLcFeO6fV68vPzuXHjBrVr16ZixYpybJVjWq2We/fuUVBQgJeX11/qcfOfoNFoiI6Opm/fvixZskSCOyGE+LtdvnyZqVOn0q1bNwYOHIinpyfBwcGMHDmS+fPn07lzZ6ysrDh48CATJkxgw4YN3L9/n4iICNzc3Hj77bf59NNPyc3NpWnTpuj1et5+++3/SnB3584dFi1axG+//cb8+fPp1KkTdnZ2ZZsZKA3uLl++TElJCWq1muLiYkpKSrC1tWXMmDHMnj2b6tWrwyPB3bJlyx577RYWFri7u7N582Y8PDyeKbjbunUra9asQavVcvToUfgvBXcXLlxgxYoVrF271uB5nU6HWq3ms8/n4eHhgYmcVJdr6ofnZDojPpMwLf0jnuDixYscOnSIypUrExAQwL59+8jKyqJv3760aNFCaXf16lWOHj2KqakpI0aMUMaf02g0pKens2zZMvR6Pe3ataNTp04GJ7O3bt3ixIkTREZGMm3aNFxdXZV1MzMz+fTTT/Hx8aFr165otVoWL15MtWrV6Ny5M/Xq1VO2c/78eQ4fPkz16tUNhgV4lF6v5/Dhw1y9ehUvLy+D77Tc3Fx+/fVXfvvtN95++21q1qz52IzQP/74I4WFhbRs2ZL27dsbLAsJCWH37t2oVComT56sfEfl5+cTERHBypUr6d27N127dpUgSvzP0ev1L/QiVfx75P/LeMj/lXH5u/6/tFotiYmJvP/++yxfvlyCOyGE+DtlZ2fz66+/8tZbb7F+/Xpat26NnZ0dERERzJ8/H3t7e8aNG6dU4ZUGd87OzuzevZuoqCgWLlzI8OHD6dWrF/7+/ly/fr1cBnfW1ta0b9+eunXrkpKSwoYNG6hXrx79+/enU6dOyvh6pcHdsWPH+PTTT7GyslLuSKrVaqytrWnRogXW1tblKrjLzc0lKSmJ5ORk5bmSkhIuX77MjFnv0OLV+Vi71AapuCu3TFUQUE2PVg8nEoy34u6bgU3wqGx43Jc6fPgwq1evxtnZmenTp7Ny5Uqlu2rZiruVK1fSpEkTpeKuoKCAsLAwPvvsMypUqMCQIUPw9/fHzs7O4KQ2JCSEzZs3ExoaypIlS6hTpw48PB5Kx7jr3LkzY8aMwczMjMWLF3Pjxg0mTZpEz549le188803XL16lbZt2/LGG28oz/MwEM/OziYsLIyzZ89y7do1fHx8mDZtmtImKyuLdevWsWHDBhYuXIi3t/dj34fTp08nPz+frl27Goz5ycO/Y926dZw9e5Y1a9Y8VnG3bt06Jk2axNChQ/+Wk3pjUlo5oNVq8fT0lKqgcqy0O19YWBj169fHwcFBqoLKsdJq1uLi4r+lKkg8O51OR35+PmFhYXh5eeHo6CjHVjmm1WqJi4sjPz+funXrvvBjq/R3s3fv3lJxJ4QQf7fQ0FDWr1/PwoUL6dq1K5UqVUKtVpOdnU14eDh6vZ558+bRvn17fvvtNyW48/HxYc+ePWzevBl/f38OHz7MrFmzaNOmDUePHv2vBXcpKSksXLiQrVu3MmvWLAYOHEjFihXLNjNQGty5u7szcOBAfH19yc/P59y5c/z66694eXkxZswYKleuDI8EdyEhIWzfvh1bW1uDrrJqtVoJ854luFu2bBlbt26lUqVKbNu2Df5LwZ1er0en0z02xt3Jkyfp1acvNUZ+gamMcVeuman1DDLyMe5UKtj9hh8F8bfIzs6mRo0a2NvbU1xczO3bt9m9eze///47r776Kv369ePgwYPs3bsXU1NTZs6cSdWqVYmLi2P79u2cO3eOjz/+GF9fX0xNTQkODmbLli1ERkYyZswY2rdvbzDLcul4lLdu3WL79u0sWLCAOXPm4O/vT6VKlUhMTOTgwYNs2bKFSZMmMWrUKNRqNWfOnOGTTz6hTZs29O/fH1dXV6Kjo5k/fz61atVi6NChBAQEwMOKwevXr1O1alVatWrFmTNnyMzMZNu2bVhYWDB58mS8vb0pLi7m7NmzStfcjRs34uzsjJmZGbm5uaSnpwPw/vvvU1BQQEBAAL1798bExIQqVapgZmbGgwcPOHToEB988AFvv/02Xbp0wdHRkcjISH744QccHR159dVXlUlvxNPJGHfGQ8a4My4yxp3xkDHujItWqyUqKorc3FxljLsXSca4E0KIckKv17N7925WrFhBbm4uLi4uBrO6ajQazp49y5tvvkmPHj0ICwtTgruOHTty7tw5li1bRlRUFI0bN2batGl4eHiwd+/e/1pwV1RUxKpVq/jpp59o0aIFn3zyCa6uro+deGg0Gng4U+2TJqfQ6/Xk5OQwf/58UlJS6N+/v1Jp85+cnCInJ4fPPvuMc+fO0a5dO7744gv4LwV3T1I6q2zPXr0ZO281zrUboDb5/+N0ifJDBajQUoNU9Ki4R2WjnFVWrYJJHWtz6vAeQkJCsLa2xszMDL1eT1paGikpKVSsWJE333wTd3d3YmNj2bdvH8ePH8fLywsHBwcyMjJIT0/HxcWFd955BwcHB+Li4li3bh3Lli3D3t6enj17UqlSJYO7z+PGjaNq1apkZWVx8eJFvv32WypVqkT16tWxtbVVJstwdXVl5MiRtG3bFr1eT1ZWFl9++SX37t3DwcGBSpUqkZycTEJCAv369aNHjx7KGHvr169n//79eHt789prrxEcHIybmxv79u3j2rVrVKlSBTc3N7RaLdHR0RQVFdG0aVOmTZuGmZkZKpWKixcvsnPnTnhYgVhSUoKnpyfe3t7Y2dkxevRoXFxcKCoqIioqim+++YaSkhKqVq2KnZ0dWVlZREZGMnz4cAICAnBzc1PeA/FkGplV1miUBncyq6xx0MisskajdGxWmVXWOGhkVtnnJsGdEOJ/SnZ2Nj/99BM7d+7k7bffpnHjxlhZWSnLCwoKeP/996latSovv/wyGo3GILhLTU1l//79bN++nXHjxtG1a1csLCz+q8EdQFBQEMuXLyckJISvv/6aFi1a4OjoiLm5uXI3MT4+ngoVKuDh4fHE4K7Uzp07OXDgABYWFnzzzTdYWVkRFRXFkiVLuHz5Mnv37n1icGdiYmJQcXfhwgXWr1+Pu7s7Op2OkpISsrOzCQ0NZeHChZiYmDBx4kQCAwPhbwjuAgMDCQoKwsfHx2h+dP+JNBoNoaGhqNVqvL29X/hJ2n/SwYMHOXr0KHfu3CErKwsrKyuqVq1KixYteOmll2jYsKHS9ubNmxw6dIhjx46Rl5dH5cqVadu2Ld27d8fLywuAsLAw9uzZw8GDBx/Zy/+nUqlYvXo1devWhYffbxcuXODgwYPcvn2bgoICKlSoQO3atRk8eDD16tXD1tZWWT8yMpJ9+/Zx9uxZsrKyqFixIoGBgfj7+1OjRg2l3Z49e5SQcciQIQQHB+Pn50dSUhKnTp3i9OnTJCYmYmFhgaurK+3ataNLly5K8MfDSSe+/PJL5d+lTE1NqVy5Ml9//TWenp7w8Hv4zp07bNmyhdDQUIqKinB1daVDhw706NGDypUrv9CuM8ZKgjvjIcGdcZHgznhIcGdcJLh7fhLcCSH+p1y4cIFly5YRExPDrl27DLqE8rC6bfHixRw/fpyWLVtSt25dg+CutPtbXl4ednZ2mJmZkZKS8l8P7rKysjh27Bhvv/02tra2DBgwAH9/f6pWrUpJSQkXL17kwIEDtG3blnfeeecPg7v4+HgWL17MkSNH+Omnn/D29iYmJoYlS5Zw7tw51q5di42NzWPBXaVKlbC0tOTChQts2LBBmX3S1dWVwsJCEhISCAkJYe3atajVakaNGsUbb7yhBKMS3Ikn+V8K7v7X6XQ60tPTleBOxgoq3yS4Mx4S3BkXCe6MhwR3xkWCu+f3rMGdfPqFEEbh0qVLpKWlKQOml/3xNjU1xdfXF41Gw/379yksLDRYrlarsbCwwMHBQekC9iLY2trSvn171q5dS5cuXbhw4QLvvPMOI0aMYMqUKRw9ehQ/Pz9lTKo/UqVKFRo2bIijoyMrV64kMzNTWRYeHk7//v3p3r07Xbt2VR69e/fmxIkTZGVlAVBYWKiMudWjRw+GDBnC+++/z6lTp+jSpQvz589n5MiRRvNjJ4QQQgghhBD/y6TiTghhFK5fv05SUhIODg60aNGi7GL0ej2ZmZmEhIRgZWWFs7Mz58+fp0OHDlStWhVz88fHSissLOTevXucP3+egIAAqlSp8tgdogsXLpCXl0etWrVwd3c3WPasdDodBQUF3Lp1i/j4eLKzs9FqtZibm+Pg4ECNGjWoVq0adnZ2aDQagoKClK6zzs7OBtuKi4sjKioKExMTWrdurdw9joyMNGhXysTEhHbt2uHi4kJOTg43b97k1q1b8LC7nomJCRYWFtjZ2eHi4kKNGjVwcHAwCDZDQ0NJT0/H2dmZ+vXrP7J1yMvL4+bNmyQmJtKoUSNcXV0Nlv8VUnFnXKTiznhIxZ1xkYo74yEVd8ZFKu6Mh1TcGRepuHt+z1pxJ8GdEEKIckGCO+MiwZ3xkODOuEhwZzwkuDMuEtwZDwnujIsEd8/vWYM7+fQLIcRfVNod98KFC3/4SExMRPNwxlghhBBCCCGEEOKvkuBOCCH+oqysLNauXWswltyTHrt37yY3N7fs6kIIIYQQQgghxDOR4E4IIf4iOzs7Bg8ezKZNm/7w0b1798dmqRVCCCGEEEIIIZ6VBHdCCPEXmZmZUaNGDfz8/P7w4eLi8sLHeBBCCCGEEEII8b9DgjshhPiLVCoVFhYWVKhQ4Q8f5ubmBrOzCiGEEEIIIYQQf4UEd0IIIYQQQgghhBBClEMS3AkhhBBCCCGEEEIIUQ5JcCeEEEIIIYQQQgghRDkkwZ0QQgghhBBCCCGEEOWQBHdCCCGEEEIIIYQQQpRDEtwJIYQQQgghhBBCCFEOSXAnhBBCCCGEEEIIIUQ5JMGdEEIIIYQQQgghhBDlkEqv1+vLPimEEEK8aMXFxZw4cYLAwECCgoLw8fHBwsKibDNRTmg0GkJDQ1Gr1Xh7e2Nqalq2yQuh1+u5ePEiFy9e5O7du+Tm5gLg5OREq1ataN68OS4uLuTn53P8+HFu3LhBQkICBQUF2NjYUL9+fdq1a4enpyfm5uYAXLlyhUOHDhEVFVVmb/+nRo0azJo1CxsbG0xMTAyWxcXFsWvXLm7dukXDhg157bXXDJZnZ2dz4cIFgoODSUxMxNzcHC8vL3r06EH16tX/0mc+OTmZ8+fPs337durVq0evXr1o1KhR2WbodDpiY2P54YcfyMrKwsfHh06dOtGwYUOlTVFRERERERw7doyoqChUKhXu7u74+vri6+urvDfiv0+j0XD9+nW0Wi1NmjT5244t8ed0Oh1ZWVkEBwfTsmVLqlSpglotdRHllUajISIigsLCQpo1aybHVjmm0+nIyckhODiYZs2a4ezsLMdWOabRaIiKiiInJwcfH58XfmxpNBru3LlDx44dWbRoEYGBgX/pfOrv5OvrW/apJ5JPvxBCCCGMWkpKCikpKeTl5cHDMO/27dvs2rWLo0ePkpaWRnp6OmfPnuXWrVvk5eWh1+vJzs7myJEj7N27lxs3bijbU6vVmJmZYW5ubvC4ffs2x48fJyQkBLVajUqlUtbR6/UUFRVx4MABDhw4wNGjRzl9+rSyHCArK4vLly+zYsUK/l97Zx4VxZX+/U83+yIiokKDRhExQVRc4jZqYqTdAohZSDTRxMTEV8OMGRhjXJgwUeMyMMdJjEk0ZIwLZOI7IojG3dGMqDCKkICyCdI0qyAIdGN3V9Xvjx/0sUUd35yoMG99zrn/3Hvr1lNFPfSt733qPrm5uTQ1NVFVVcWpU6f4+uuv0Wq1mEwmi2PuRUtLC9nZ2Xz33XccO3aMkydPUl5efmc3aBUL8/LyOH/+PAcOHODs2bNUVlZa9MnKyiI5OZmTJ0/S0tKCTqfj/PnzJCcnc/bsWYu+MjIyMjIyMjIyjw6rmJiYmDsrZWRkZB4lBoOB6upqfvrpJ+rr67G3t8fe3t6iPS8vj7y8POrr6+nWrZvFS7MkSeaX2KtXr2IwGLCxsaGiooK8vDxKSkooLS29Z9Fqtbi7u2NjY3ObVfenzebs7GwaGhra2QxgNBopKysjJyeHqqoqXF1dsbGxMdstiiJXrlyhvr4epVKJg4MDoihSUFBAUVERDQ0N2NjYWIzb1NSEVquluLiYbt26YW1tTWNjI2VlZWg0GlxdXdutchkMBvLz86mrq8PJyQlra2uampooKCigsbERW1tbSkpKKCgouO+9Kisro6KigsrKShoaGlAoFDg6Olqc6+bNm5SWllJSUkLXrl0trvc/IQgCJSUlJCYm8sYbb6BSqdpdi0zHQRRFqqqqUCgU9OzZ87GuhOt0Ovr06cP48eOZOnUqEyZMwMnJiePHj1NeXk5AQAB2dnaUlpYSGBhIcHAwarWaQYMGcenSJS5duoStrS1jxoxBoVDg5uZGYGAgkydPRq1Wo1armTRpEtevX0ev1zNixAimT59u8Wzr9XpycnLYtWsXJpMJFxcXHB0defHFF8198vPzSUpK4tChQ8ydO5eXX34Zf39/qqqqiI+P5+mnn0alUuHg4GA+5m5IkkR+fr5ZRFSpVNjb2zNq1Ch8fX0t+rZFmBw6dAiNRoPRaMTHx4chQ4bg4+MDrSLgrl27+Oc//4mfnx9Llixh3Lhx1NbWkpmZiVarRa1WY2Vl9cD+LPPLEUWR6upqJEnCw8PjsfqWzP1pE+w1Gg1eXl44OTnJPtKBEUWR69evYzKZ8PT0lH2rAyNJEgaDAY1Gg6enJ87OzrJvdWBEUaS2thaDwYBKpXrkviWKIjdu3GD79u3MmDGDgQMHdpp3iPj4+Dur7sqjvaMyMjIyd6GmpoZ//OMfBAUFERERQWZmprlNFEVqampYvnw5EydOZNGiRVRXVyMIgrmPwWCgtLSU2bNnM3HiRDZs2EBubi7x8fG88MILBAUFERQUxOTJk9kqFjgAABUgSURBVJk4cSKTJk1i8uTJ5vqQkBA0Go15vAehpqaGvXv3olariYiI4MKFC3d2ob6+nq+//ppJkybx0ksvceXKFYxGo7n91q1bLF++nA0bNnD+/HlovZY1a9YQGhpKVFQU6enpt40IBQUFbNmyhddee42ysjIAfv75ZzZt2sTChQupqKiw6C9JEjU1NaxYsYLVq1dTVlaGKIpcvnyZyMhI4uLiKCgoYN26dcycOdN8T5577jkmTJhgca+mTZtGeHg4b775JsuXL+fo0aOIomhxrkuXLvHJJ5/w5ptvUlRU9MDRQzIyvxSFQkFgYCDjxo1j8ODBeHt706dPH8LDwwkICKC5uZny8nJ8fHyIjIzk1VdfZciQIfTt25cRI0bw+uuvY2NjQ2Fhofl5trW1xcXFBTc3N3OxsrLi2rVrKJVKJk6caGGDJElotVr+/Oc/4+vry+jRo1GpVBZ9AAoLCzl//jxhYWE8//zzDBs2jOeee4558+bh6OjIv/71L65du3bnYe0wGo2kpKRQVFREeHg4KpXqngsPDQ0NpKWlcfz4cV555ZW7fspXXl5OdnY2rq6uLFq0iEGDBjF48GBeeeUVBg0axJkzZ6iurrb4/yUjIyMjIyMjI/NokIU7GRmZx05hYSEFBQWEhYWh0Wi4du2aeZ+q23F0dEQURQ4dOmTRXltby+HDh7GzszNHp/Xq1Yu33nqLPXv2cPjwYQ4fPsymTZvw8vLitddeIz4+3ly/b98+vL29bzvTf6aoqIj8/Pz/aDOt4uPNmzfZt28fxcXFdzbfFWtra3JyckhKSsJkMvEwtyP18vJi2bJl7N2713xP4uLisLGx4b333mPXrl0cPnyYAwcOkJiYyPr165EkiWPHjll8XqjRaDh58iRXrlxh1apV9O7du9Osdsn89yBJEoIgkJaWRnFxMV26dGkXhXY7Op0OpVKJvb19O0GrDUmS+PHHH6msrKRv376MGjXKor2kpITjx4+j1WoJDg7mySeftGinNaK0traW6upqRo0ahZOTE7QKj126dGH06NFUVFRQV1d356Ht2LdvHxqNBn9/f5599tk7m81IkkRycjK5ubmEhobi6el5V58sLCykubkZDw8PcxQeQL9+/ejXrx+3bt0iJycHvV5vcZyMjIyMjIyMjMzDR05OISMj81gxGo18++237N+/n7lz57Jjxw6efvppQkNDGTp0KKIoUlFRweLFi8nPz2fw4MEIgsCnn36Kl5cXAD/99BMffvghLi4unDt3jqCgID7++GPc3d0RBMEseqWnp/P222/zyiuvEB4ejp+fH7S+ONvZ2T1wCL7RaGTnzp3s27ePN954gx07djBy5EhCQkIIDAw096upqeHTTz/liy++YOzYsdTW1vLBBx8wbdo07O3t0ev1zJ49G3d3d1566SWmTZtGS0sL7777LhqNhhs3btCtWzeio6MZPXo0Tk5OZGZmkpCQQGpqKvv378fX15ezZ8+SkJBARkYGiYmJ9OvXz2yDJEmUl5cTERGBk5MTH330ET4+Ply4cIFVq1bh6+vL+vXrsbe3RxRF871KS0tjxowZrFu3jpCQELOwqVAo0Ov1xMfHc/78efz8/Fi5ciXW1tZs376dEydO0KtXL1auXImbm9tdRYJ70ZacYkZwCK/GbKNH36dQWMsb4ndMJJRI+FnXIqKg0OSG+BjWAvu4OfJ+0AAAbty4walTp0hNTcVoNFJbW4uHhwdBQUEEBwfj7OxscawgCDQ3N7Ny5Uq0Wi3Tp0/nnXfesejThiRJREZGkp+fz9SpU3nvvffMSSlu3rzJwYMHSUlJISgoiNDQUNLS0ti7dy8Gg4GEhAQAmpub2bp1K1999RVffPEFI0eOpEuXLtCa0CI2NpaCggIWL15MSEiIxfnbaGlpobS0lLVr1+Ln50dISAguLi7ExMTQ2NjIu+++y9SpU839T58+TVJSEs7OzsycOROtVktsbCx+fn7MmTOHyZMnA5CQkEBCQgKDBw9m3bp15uMlSeLbb78lNjaWqKgoQkJCcHd3N7fLPBzk5BSdB1FOTtGpkJNTdB5EOTlFp0JOTvHLkZNTyMjIdAq0Wi0ajQYrKyvGjBnDc889h1artYjkaqNv37489dRT5ObmotFo0Ov1NDU1ce3aNQoKChgxYgQeHh7QKjC17Q/n4OCAg4MDdnZ2KJVKrK2tLert7e0fWLSj1ebS0lKUSiVjxoxh0qRJ97QZoHv37syYMQO9Xs/FixcpKiq6s0s7PD09GTRoEC4uLnz33XfU1tZafJb6a6JUKrG1tbW4J20ZJO+8h/b29nTr1g21Wo2Pjw///ve/OXr0KKdPnyYtLQ1HR0dmzZpFz5497/ujLUkSJpMJg8FgUUwmE6IkcaaghtTscpIzy+TSIYuWA1laNHU6rtU2cyBLe5c+D7+cyqtCFMV2xWAwoNPpaGlpwWg0YjQaLdqNRiOVlZV8//335OXlERAQwNNPP91uHFEUuXXrFlqtlszMTDw8PBg8eDAKhQJRFBEEgfT0dDIzM81+7uLigiRJ5nL7OAaDAYVCYfavtjYAOzs7DAZDO1vbislkorKykp07d2JjY8Pw4cMZMGAAYqvgfvv5DAYDlZWVpKSkYG1tzZgxY+jTp4+F/90+dlsknZWVlUW9JEkolUqsrKzQ6XQIgtDOLrk8nHLn8yOXjl3u5ldy6ZhF9q3OU6TWxWSx9ff2zna5dKzS5luCIDy2v1fbM/PfiBxxJyMj81hJTk7m6NGjdOnShTVr1pCVlUVsbCwDBgxg6dKlODo6miPuXFxcmDp1KnFxcSxatIjp06fT0tJCSkoKiYmJxMTEsHnzZnr37s3q1avNIl4b586dY968ecyePZs5c+YwcOBAi/YHJSUlhSNHjuDk5MQnn3xCVlYWcXFx+Pj4sGzZMnNkT1vE3Q8//MCWLVvYtm0bdXV1zJgxg7lz5yIIwj0j7hQKBf7+/phMJuLj4/nqq68YPXo0RUVFv3rE3caNG9tFI/34448EBQURGxtLWFgYvXv3tmgXWz9Z3r59O83NzXTp0gWTycSUKVOYP3/+PffbaqOhoQGNRmORBdNoNJKdnc2qP37E2IWf4OzZH8nq3uKfzOPFRgETPSUECc5UKjA+htlEf3dnYkIHwW0RdPX19ej1ei5cuEBqairu7u4sWLCAIUOGwG0bGGdkZPDZZ5/h4+PDnDlzGDVqlDmK7nYaGho4f/48q1ev5sUXX2T27Nn06tULWld4Y2Nj+fnnn5kwYYJ577szZ85w+vRpTCYT0dHR5v9FiYmJ7N69m7i4OAICAsx+p9Vq+eqrr7hy5QpvvfUW06ZNu82C/6WlpYVLly6xcOFC5syZw5gxY+jZsyeVlZX87W9/Q6/XExwcTFBQEE5OTly+fJmPP/6Y8ePHExQUBEBOTg6JiYl4e3ujVquZMGECvXv35vvvvyclJQV/f39WrFhhPqckSezZs4ctW7bw9ttvM2PGDLp3736bVTIPg7ZEPaIo4uPjc9fnUqZjIIoizc3N5Obm4ufnR9euXeWooA6MIAiUlpZiMBjo37+/nHCnAyO2Lirl5ubSv39/XF1dZd/qwAiCQFlZGXq9Hl9f30fuWyaTieLiYmbNmsXnn3/+XxlxJwt3MjIyjw1Jkvjoo48oKysjNDSUsLAwBEFg8eLFmEwm3nvvPQIDA83CnaurK3PmzOHIkSPcuHGDd955h/r6evbu3UuPHj2YPn0669atw8vL66EJd5IkERMTg0ajISQkhFmzZiEIAhEREbS0tBAREcGIESPgDuFu27Zt1NfXs2HDBnr37k10dDQ9evS4r3DXtidV24v8/PnzEQSBxMTExy7cAdTV1XHkyBEWLFiAKIqsWrWKefPmPdB+genp6cTHx7Njxw6L+rbVsj+tWYtPPx+s7hO1J/P4sWqdkwmPaSahVCiwtb73RD4pKYnLly/j6+tLeHg4kiSh1+s5d+6cWXx/8803UalUdxVHJEmiqqqKhIQEqqqqmDVrFmPGjDG363Q64uPjOX36tMUEtW21mdZIurfffpthw4aRkZFBSkoKc+fOZejQoWa/q6ysZPfu3RgMBqZNm8awYcPMY7Vx8+ZNsrKy+Otf/2rx8iK1Rq9KkoS1tTXjx48nJCSEy5cvk5qaarFnntgabahUKnFycmLQoEF8+OGHZGRkcPDgQVQqFQsWLDCPbzKZOHr0KPv27WP+/PkWYqPMw6MtaoHW6PFH+fIj8/+O1Bq9pbwt271Mx0T2rc6F7Fudh8ftW21fJSxfvpytW7fKwp2MjIzMr4UoipSXlxMVFYW7uzsrVqzAy8sLSZL44osvyMzMZPDgwURERFgId7/73e+ora1lxYoVLFmyhJqaGn744QdiYmJwcHBg1apVD024a7P5D3/4A926dWPlypV4e3sjSRJffvklFy9eJCAggCVLlsAdwt0333xD7969iY2NJTc3l0mTJvHOO+/cV7gLCwtj5MiR7N69mz179hAVFcUTTzzBvn37OoRwJwgCP//8M9HR0TQ3NxMZGcmUKVP+Y7QdQFNTEzU1NdTU1JjrjEYjFy9e5P3IKIYvWIeDZ39QysJdx0TCWgFqr/+NuDtRrsAkPdpJGsCAns7Evjz0zmozmzdv5uzZswwdOpQPPvgAnU7Ht99+y4kTJ+jZsyfLli2jV69e2Nra3nWSaTKZyMzMZO7cueZou4CAAHO7IAjk5+dTUVFhcXxGRgbnzp3DZDLx+9//noEDB9K9e3cOHz7M1q1bGTFiBAsXLkSlUiFJErm5ucybNw+1Ws3s2bMZOrT9NRmNRurq6syf5Ledr7q6mu+//x69Xo9arWbKlCn06dOH+vp6NBoNLS0tSJJEc3Mz+fn5JCUloVKpeOaZZ5gwYQJDhw6lsLCQtWvXAhAdHW1OUFFUVMSOHTs4duwYu3fvRqVSmT/zlXl4CIJAUVERoiji6+t7320HZB4voijS1NREdnY2/v7+clRQB0cQBIqLizEYDPj5+cm+1YERRRGdTkd2djZ+fn64ubnJvtWBEQSBa9euodPpePLJJx9bxF1wcLAccScjIyPza2IwGEhKSuIvf/kLN2/eZNiwYeYXwsLCQmpraxk5ciRffvkldXV1RERE4OrqyvLly+nSpQtvvPEGXl5etLS0oFQq+fzzz6moqGDp0qUPTbgzGo1mm+vr6xk+fHg7m4cPH87XX3+Nvb09169ftxDu/Pz8OHPmDImJidTW1rJ+/XqioqLw8PC4q3A3a9Yspk6dytWrV4mIiCAwMBA/Pz+uXr1qIdxlZGSQkJDAiRMn2Lt3L/379zfbLIoixcXFvP/++3Tv3p3Vq1ejUql+FeEOID8/nzVr1tDY2MiSJUvum+HydtpWUcXb9u0zGAycPn2a50Nn0uf1dVj39EWShbsOi41S4uV+IiYJkkqUGMVHN0FrY4h3V/7v/xnLsWPHcHZ2RqVS4eDgwK1bt8jOzuabb75BEATmzZvHtGnTiI+P5/jx47i5ufHCCy8wduxY8+TSxsYGBwcHi4mmVqtl//79fPDBB2zbto2goKB2n4rqdDoMBoNF3aFDh9i/fz9Go5GtW7fi6OiIjY0NFy9eZOfOnZw8eZJly5YxfPhwGhoaOHLkCJs3byYuLg61Wk2vXr2oqalh7969uLi4MHr0aPr164fJZKK5udniXBqNhvXr19Pc3Gy+Tjs7O0wmE7du3TL7WX19Penp6Xz22Wf079+fl156icmTJ+Pk5ERTUxMbN24kPT2dsWPH8vrrryOKIqmpqZw6dQpXV1e2bNly38y7Mr8eJpOJnJwcBEFgyJAhsrjQgRFbk1OcPXuWkSNH4u7uLvtIB8ZkMnHlyhVaWloIDAyUfasDI0kSjY2NpKWlERgYSM+ePWXf6sAIgkBeXh5NTU0MHz78kfuWqTU5xbPPPsvmzZtl4U5GRkbm16ItQquoqAgHBwfc3Nws2q9evYqtrS3r16/Hzc2NyMhIXF1diY6Oxtvbm5iYGE6dOoWdnR3Tp09n6dKl5OXlERUV9dCEO51OR2RkJIWFhXe1ubi4GGtrazZu3EhAQACNjY3thLumpiZ27NjB/v37CQ0NJTk5GV9f33sKd2FhYbS0tLBhwwYyMzNxcXHB2dmZkydPmoW7nJwc/v73v7N9+3ZSU1Px9/c3/2AKgsC5c+f405/+hK+vL+vWrcPZ2flXFe7Wrl1LU1MTv/3tbx9YuLsbhtasss8Hh/DWur/h2d8fpZUc3dNRUSDiLVUjoUCr6IH0GPJdeXVzYP64J4iLi+P69evY2dlhZWWFJElUVlbS0NDAsGHDCAsLQ6FQsGjRIvLy8hgwYADjx4+3iA4NCAhArVZb+EJaWhrx8fFkZGSwY8cOAgICHmgympKS0i6rLMD169c5e/Ysn376Kd7e3nTv3h29Xk91dTXOzs4sXbqUAQMGYGNjQ2FhIUuXLqVXr17MmzePcePGWZyjjZKSkntmlW1DFEXq6uo4c+bMXbPKApw4cYLU1FQKCwt56qmnkCSJkpISunbtSnBwMDNnzrQYU+bhYZKzynYa2oQ7Oats58AkZ5XtNIhyVtlOhUnOKvuLkYU7GRmZDovBYKCsrIzw8HCeeeYZgoODeeKJJyz6HDhwgB9++IHf/OY3hISEEB0dbRbu+vbty8mTJ0lMTMTZ2Znw8HDGjRv3UIU7o9GIVqvl5ZdfZsKECYSEhLSz+eDBgxw8eJDx48fz7rvvIklSO+HO3t6e06dPs2vXLrKysrh58yajR4/m1VdfvadwJ4oi2dnZrFmzhqtXr+Lh4UFxcbFZuCsvL2f//v2sWrWKTZs2MX78eNzd3QFobGzku+++IzU1lWeeeYaVK1ciSVKHFu5CQ0M5fvw4I0eO7DQ/uv8/YjKZyM7ORqlUPrCg9TCQJInt27eTnp6OVqtFr9fj4OCAt7c3EydOZOzYsfTo0YMrV64QGxtLWVnZnUMAoFarWbx4sUVE3Y8//siePXvo0aMHCxYswNPT0+KYe3HmzBlOnTqFyWTij3/8o0XbjRs3OHHiBIcPH6asrAw7OzsCAgKYPXs2Pj4+2NvbA1BaWkpsbCzdu3cnNDT0rvve0bo/3jfffINOpyM0NJRRo0bd2cVCuDt48CD9+vVDrVab9+OkNfnFhQsXSE5OJisrC4VCgZ+fH1OmTEGtVsu++AiRhbvOgyzcdS5k4a7zIAt3nQtZuPvlPKhw9z+8gebSXxHtTwAAAABJRU5ErkJggg==)"
      ],
      "metadata": {
        "id": "UD_tsXpM9pjN"
      }
    },
    {
      "cell_type": "code",
      "source": [
        "# 1. EXT_SOURCE combinations\n",
        "df_train['EXT_SOURCE_1_x_2'] = df_train['EXT_SOURCE_1'] * df_train['EXT_SOURCE_2']\n",
        "df_train['EXT_SOURCE_1_x_3'] = df_train['EXT_SOURCE_1'] * df_train['EXT_SOURCE_3']\n",
        "df_train['EXT_SOURCE_2_x_3'] = df_train['EXT_SOURCE_2'] * df_train['EXT_SOURCE_3']\n",
        "\n",
        "df_test['EXT_SOURCE_1_x_2'] = df_test['EXT_SOURCE_1'] * df_test['EXT_SOURCE_2']\n",
        "df_test['EXT_SOURCE_1_x_3'] = df_test['EXT_SOURCE_1'] * df_test['EXT_SOURCE_3']\n",
        "df_test['EXT_SOURCE_2_x_3'] = df_test['EXT_SOURCE_2'] * df_test['EXT_SOURCE_3']\n",
        "\n",
        "# 2. CREDIT to INCOME Ratio\n",
        "df_train['CREDIT_INCOME_RATIO'] = df_train['AMT_CREDIT'] / df_train['AMT_INCOME_TOTAL']\n",
        "df_test['CREDIT_INCOME_RATIO'] = df_test['AMT_CREDIT'] / df_test['AMT_INCOME_TOTAL']\n",
        "\n",
        "# 3. ANNUITY to INCOME Ratio\n",
        "df_train['ANNUITY_INCOME_RATIO'] = df_train['AMT_ANNUITY'] / df_train['AMT_INCOME_TOTAL']\n",
        "df_test['ANNUITY_INCOME_RATIO'] = df_test['AMT_ANNUITY'] / df_test['AMT_INCOME_TOTAL']\n",
        "\n",
        "# 4. GOODS PRICE to CREDIT Ratio\n",
        "df_train['GOODS_CREDIT_RATIO'] = df_train['AMT_GOODS_PRICE'] / df_train['AMT_CREDIT']\n",
        "df_test['GOODS_CREDIT_RATIO'] = df_test['AMT_GOODS_PRICE'] / df_test['AMT_CREDIT']\n",
        "\n",
        "\n"
      ],
      "metadata": {
        "id": "rexyWt0f-CM2"
      },
      "execution_count": 51,
      "outputs": []
    },
    {
      "cell_type": "markdown",
      "metadata": {
        "id": "OfOXfzNlhX7c"
      },
      "source": [
        "# Encoding -  one hot"
      ]
    },
    {
      "cell_type": "code",
      "source": [
        "df_for_merging = df_train.copy()"
      ],
      "metadata": {
        "id": "tjQv_gq8Wk5T"
      },
      "execution_count": 52,
      "outputs": []
    },
    {
      "cell_type": "code",
      "source": [
        "df_train.drop(columns=['SK_ID_CURR'], inplace=True)\n",
        "df_test.drop(columns=['SK_ID_CURR'], inplace=True)"
      ],
      "metadata": {
        "id": "YNy4JvIyW4-P"
      },
      "execution_count": 53,
      "outputs": []
    },
    {
      "cell_type": "markdown",
      "source": [
        "In the next few cells, I will handle encoding, perform resampling, and split the data into separate training, validation, and test sets. I initially assumed the provided test CSV file could be used for evaluation, but upon reviewing the Kaggle documentation, I realized it is intended solely for submission. Therefore, it cannot be used to assess the performance of my model."
      ],
      "metadata": {
        "id": "U7oEklz3wyja"
      }
    },
    {
      "cell_type": "code",
      "execution_count": 54,
      "metadata": {
        "id": "7RyP4grshbzg"
      },
      "outputs": [],
      "source": [
        "#Identify categorical columns (object type)\n",
        "cat_cols = df_train.select_dtypes(include='object').columns.tolist()\n",
        "#Encode the training data\n",
        "df_train_encoded = pd.get_dummies(df_train, columns=cat_cols, drop_first=True)\n",
        "\n",
        "#Encode the test data\n",
        "df_test_encoded = pd.get_dummies(df_test, columns=cat_cols, drop_first=True)\n",
        "\n",
        "#Align test to train columns (fill missing with 0)\n",
        "df_test_encoded = df_test_encoded.reindex(columns=df_train_encoded.columns, fill_value=0)\n"
      ]
    },
    {
      "cell_type": "code",
      "execution_count": 55,
      "metadata": {
        "id": "TyopIHIOiGg1"
      },
      "outputs": [],
      "source": [
        "X_train = df_train_encoded.drop(columns=['TARGET'])\n",
        "y_train = df_train_encoded['TARGET']\n"
      ]
    },
    {
      "cell_type": "code",
      "execution_count": 56,
      "metadata": {
        "id": "VjCkC56riitc"
      },
      "outputs": [],
      "source": [
        "X_test = df_test_encoded\n"
      ]
    },
    {
      "cell_type": "code",
      "execution_count": 57,
      "metadata": {
        "id": "YST-l-elln6o"
      },
      "outputs": [],
      "source": [
        "# Clean column names for both train and test sets\n",
        "X_train.columns = X_train.columns.str.replace('[^A-Za-z0-9_]+', '_', regex=True)\n",
        "X_test.columns = X_test.columns.str.replace('[^A-Za-z0-9_]+', '_', regex=True)\n"
      ]
    },
    {
      "cell_type": "code",
      "execution_count": 58,
      "metadata": {
        "id": "JTpbBOwTvXTA"
      },
      "outputs": [],
      "source": [
        "X_train_split, X_holdout, y_train_split, y_holdout = train_test_split(\n",
        "    X_train, y_train,\n",
        "    test_size=0.2,\n",
        "    stratify=y_train,\n",
        "    random_state=42\n",
        ")"
      ]
    },
    {
      "cell_type": "code",
      "source": [
        "\n",
        "X_train_final, X_valid, y_train_final, y_valid = train_test_split(\n",
        "    X_train_split, y_train_split,\n",
        "    test_size=0.2,  # 20% of 80% = 16% total\n",
        "    stratify=y_train_split,\n",
        "    random_state=42\n",
        ")\n"
      ],
      "metadata": {
        "id": "46KWrVB9X1k-"
      },
      "execution_count": 59,
      "outputs": []
    },
    {
      "cell_type": "code",
      "source": [
        "ros = RandomOverSampler(random_state=42)\n",
        "X_train_resampled, y_train_resampled = ros.fit_resample(X_train_final, y_train_final)\n",
        "\n"
      ],
      "metadata": {
        "id": "pwQUp_EF8Xav"
      },
      "execution_count": 60,
      "outputs": []
    },
    {
      "cell_type": "markdown",
      "metadata": {
        "id": "uJPU9KgrkGm7"
      },
      "source": [
        "# LightGBM Grid Search\n",
        "\n"
      ]
    },
    {
      "cell_type": "code",
      "execution_count": 61,
      "metadata": {
        "id": "5Ny92VpQkF_C",
        "colab": {
          "base_uri": "https://localhost:8080/"
        },
        "outputId": "f0ebcb97-b43e-4f2b-9bf1-5ee400ffd70c"
      },
      "outputs": [
        {
          "output_type": "stream",
          "name": "stdout",
          "text": [
            "[LightGBM] [Info] Number of positive: 119171, number of negative: 119171\n",
            "[LightGBM] [Info] Auto-choosing row-wise multi-threading, the overhead of testing was 0.428232 seconds.\n",
            "You can set `force_row_wise=true` to remove the overhead.\n",
            "And if memory is not enough, you can set `force_col_wise=true`.\n",
            "[LightGBM] [Info] Total Bins 4963\n",
            "[LightGBM] [Info] Number of data points in the train set: 238342, number of used features: 157\n",
            "[LightGBM] [Info] [binary:BoostFromScore]: pavg=0.500000 -> initscore=0.000000\n",
            "[LightGBM] [Info] Number of positive: 119172, number of negative: 119171\n",
            "[LightGBM] [Info] Auto-choosing row-wise multi-threading, the overhead of testing was 0.474542 seconds.\n",
            "You can set `force_row_wise=true` to remove the overhead.\n",
            "And if memory is not enough, you can set `force_col_wise=true`.\n",
            "[LightGBM] [Info] Total Bins 4972\n",
            "[LightGBM] [Info] Number of data points in the train set: 238343, number of used features: 157\n",
            "[LightGBM] [Info] [binary:BoostFromScore]: pavg=0.500002 -> initscore=0.000008\n",
            "[LightGBM] [Info] Start training from score 0.000008\n",
            "[LightGBM] [Info] Number of positive: 119171, number of negative: 119172\n",
            "[LightGBM] [Info] Auto-choosing row-wise multi-threading, the overhead of testing was 0.175035 seconds.\n",
            "You can set `force_row_wise=true` to remove the overhead.\n",
            "And if memory is not enough, you can set `force_col_wise=true`.\n",
            "[LightGBM] [Info] Total Bins 4969\n",
            "[LightGBM] [Info] Number of data points in the train set: 238343, number of used features: 157\n",
            "[LightGBM] [Info] [binary:BoostFromScore]: pavg=0.499998 -> initscore=-0.000008\n",
            "[LightGBM] [Info] Start training from score -0.000008\n",
            "[LightGBM] [Info] Number of positive: 119171, number of negative: 119171\n",
            "[LightGBM] [Info] Auto-choosing row-wise multi-threading, the overhead of testing was 0.244916 seconds.\n",
            "You can set `force_row_wise=true` to remove the overhead.\n",
            "And if memory is not enough, you can set `force_col_wise=true`.\n",
            "[LightGBM] [Info] Total Bins 4963\n",
            "[LightGBM] [Info] Number of data points in the train set: 238342, number of used features: 157\n",
            "[LightGBM] [Info] [binary:BoostFromScore]: pavg=0.500000 -> initscore=0.000000\n",
            "[LightGBM] [Info] Number of positive: 119172, number of negative: 119171\n",
            "[LightGBM] [Info] Auto-choosing row-wise multi-threading, the overhead of testing was 0.165992 seconds.\n",
            "You can set `force_row_wise=true` to remove the overhead.\n",
            "And if memory is not enough, you can set `force_col_wise=true`.\n",
            "[LightGBM] [Info] Total Bins 4972\n",
            "[LightGBM] [Info] Number of data points in the train set: 238343, number of used features: 157\n",
            "[LightGBM] [Info] [binary:BoostFromScore]: pavg=0.500002 -> initscore=0.000008\n",
            "[LightGBM] [Info] Start training from score 0.000008\n",
            "[LightGBM] [Info] Number of positive: 119171, number of negative: 119172\n",
            "[LightGBM] [Info] Auto-choosing row-wise multi-threading, the overhead of testing was 0.181750 seconds.\n",
            "You can set `force_row_wise=true` to remove the overhead.\n",
            "And if memory is not enough, you can set `force_col_wise=true`.\n",
            "[LightGBM] [Info] Total Bins 4969\n",
            "[LightGBM] [Info] Number of data points in the train set: 238343, number of used features: 157\n",
            "[LightGBM] [Info] [binary:BoostFromScore]: pavg=0.499998 -> initscore=-0.000008\n",
            "[LightGBM] [Info] Start training from score -0.000008\n",
            "[LightGBM] [Info] Number of positive: 119171, number of negative: 119171\n",
            "[LightGBM] [Info] Auto-choosing row-wise multi-threading, the overhead of testing was 0.166801 seconds.\n",
            "You can set `force_row_wise=true` to remove the overhead.\n",
            "And if memory is not enough, you can set `force_col_wise=true`.\n",
            "[LightGBM] [Info] Total Bins 4963\n",
            "[LightGBM] [Info] Number of data points in the train set: 238342, number of used features: 157\n",
            "[LightGBM] [Info] [binary:BoostFromScore]: pavg=0.500000 -> initscore=0.000000\n",
            "[LightGBM] [Info] Number of positive: 119172, number of negative: 119171\n",
            "[LightGBM] [Info] Auto-choosing row-wise multi-threading, the overhead of testing was 0.166329 seconds.\n",
            "You can set `force_row_wise=true` to remove the overhead.\n",
            "And if memory is not enough, you can set `force_col_wise=true`.\n",
            "[LightGBM] [Info] Total Bins 4972\n",
            "[LightGBM] [Info] Number of data points in the train set: 238343, number of used features: 157\n",
            "[LightGBM] [Info] [binary:BoostFromScore]: pavg=0.500002 -> initscore=0.000008\n",
            "[LightGBM] [Info] Start training from score 0.000008\n",
            "[LightGBM] [Info] Number of positive: 119171, number of negative: 119172\n",
            "[LightGBM] [Info] Auto-choosing row-wise multi-threading, the overhead of testing was 0.166183 seconds.\n",
            "You can set `force_row_wise=true` to remove the overhead.\n",
            "And if memory is not enough, you can set `force_col_wise=true`.\n",
            "[LightGBM] [Info] Total Bins 4969\n",
            "[LightGBM] [Info] Number of data points in the train set: 238343, number of used features: 157\n",
            "[LightGBM] [Info] [binary:BoostFromScore]: pavg=0.499998 -> initscore=-0.000008\n",
            "[LightGBM] [Info] Start training from score -0.000008\n",
            "[LightGBM] [Info] Number of positive: 119171, number of negative: 119171\n",
            "[LightGBM] [Info] Auto-choosing row-wise multi-threading, the overhead of testing was 0.166156 seconds.\n",
            "You can set `force_row_wise=true` to remove the overhead.\n",
            "And if memory is not enough, you can set `force_col_wise=true`.\n",
            "[LightGBM] [Info] Total Bins 4963\n",
            "[LightGBM] [Info] Number of data points in the train set: 238342, number of used features: 157\n",
            "[LightGBM] [Info] [binary:BoostFromScore]: pavg=0.500000 -> initscore=0.000000\n",
            "[LightGBM] [Info] Number of positive: 119172, number of negative: 119171\n",
            "[LightGBM] [Info] Auto-choosing row-wise multi-threading, the overhead of testing was 0.170723 seconds.\n",
            "You can set `force_row_wise=true` to remove the overhead.\n",
            "And if memory is not enough, you can set `force_col_wise=true`.\n",
            "[LightGBM] [Info] Total Bins 4972\n",
            "[LightGBM] [Info] Number of data points in the train set: 238343, number of used features: 157\n",
            "[LightGBM] [Info] [binary:BoostFromScore]: pavg=0.500002 -> initscore=0.000008\n",
            "[LightGBM] [Info] Start training from score 0.000008\n",
            "[LightGBM] [Info] Number of positive: 119171, number of negative: 119172\n",
            "[LightGBM] [Info] Auto-choosing row-wise multi-threading, the overhead of testing was 0.168717 seconds.\n",
            "You can set `force_row_wise=true` to remove the overhead.\n",
            "And if memory is not enough, you can set `force_col_wise=true`.\n",
            "[LightGBM] [Info] Total Bins 4969\n",
            "[LightGBM] [Info] Number of data points in the train set: 238343, number of used features: 157\n",
            "[LightGBM] [Info] [binary:BoostFromScore]: pavg=0.499998 -> initscore=-0.000008\n",
            "[LightGBM] [Info] Start training from score -0.000008\n",
            "[LightGBM] [Info] Number of positive: 119171, number of negative: 119171\n",
            "[LightGBM] [Info] Auto-choosing row-wise multi-threading, the overhead of testing was 0.168037 seconds.\n",
            "You can set `force_row_wise=true` to remove the overhead.\n",
            "And if memory is not enough, you can set `force_col_wise=true`.\n",
            "[LightGBM] [Info] Total Bins 4963\n",
            "[LightGBM] [Info] Number of data points in the train set: 238342, number of used features: 157\n",
            "[LightGBM] [Info] [binary:BoostFromScore]: pavg=0.500000 -> initscore=0.000000\n",
            "[LightGBM] [Info] Number of positive: 119172, number of negative: 119171\n",
            "[LightGBM] [Info] Auto-choosing row-wise multi-threading, the overhead of testing was 0.177163 seconds.\n",
            "You can set `force_row_wise=true` to remove the overhead.\n",
            "And if memory is not enough, you can set `force_col_wise=true`.\n",
            "[LightGBM] [Info] Total Bins 4972\n",
            "[LightGBM] [Info] Number of data points in the train set: 238343, number of used features: 157\n",
            "[LightGBM] [Info] [binary:BoostFromScore]: pavg=0.500002 -> initscore=0.000008\n",
            "[LightGBM] [Info] Start training from score 0.000008\n",
            "[LightGBM] [Info] Number of positive: 119171, number of negative: 119172\n",
            "[LightGBM] [Info] Auto-choosing row-wise multi-threading, the overhead of testing was 0.178979 seconds.\n",
            "You can set `force_row_wise=true` to remove the overhead.\n",
            "And if memory is not enough, you can set `force_col_wise=true`.\n",
            "[LightGBM] [Info] Total Bins 4969\n",
            "[LightGBM] [Info] Number of data points in the train set: 238343, number of used features: 157\n",
            "[LightGBM] [Info] [binary:BoostFromScore]: pavg=0.499998 -> initscore=-0.000008\n",
            "[LightGBM] [Info] Start training from score -0.000008\n",
            "[LightGBM] [Info] Number of positive: 119171, number of negative: 119171\n",
            "[LightGBM] [Info] Auto-choosing row-wise multi-threading, the overhead of testing was 0.250043 seconds.\n",
            "You can set `force_row_wise=true` to remove the overhead.\n",
            "And if memory is not enough, you can set `force_col_wise=true`.\n",
            "[LightGBM] [Info] Total Bins 4963\n",
            "[LightGBM] [Info] Number of data points in the train set: 238342, number of used features: 157\n",
            "[LightGBM] [Info] [binary:BoostFromScore]: pavg=0.500000 -> initscore=0.000000\n",
            "[LightGBM] [Info] Number of positive: 119172, number of negative: 119171\n",
            "[LightGBM] [Info] Auto-choosing col-wise multi-threading, the overhead of testing was 0.413100 seconds.\n",
            "You can set `force_col_wise=true` to remove the overhead.\n",
            "[LightGBM] [Info] Total Bins 4972\n",
            "[LightGBM] [Info] Number of data points in the train set: 238343, number of used features: 157\n",
            "[LightGBM] [Info] [binary:BoostFromScore]: pavg=0.500002 -> initscore=0.000008\n",
            "[LightGBM] [Info] Start training from score 0.000008\n",
            "[LightGBM] [Info] Number of positive: 119171, number of negative: 119172\n",
            "[LightGBM] [Info] Auto-choosing row-wise multi-threading, the overhead of testing was 0.248905 seconds.\n",
            "You can set `force_row_wise=true` to remove the overhead.\n",
            "And if memory is not enough, you can set `force_col_wise=true`.\n",
            "[LightGBM] [Info] Total Bins 4969\n",
            "[LightGBM] [Info] Number of data points in the train set: 238343, number of used features: 157\n",
            "[LightGBM] [Info] [binary:BoostFromScore]: pavg=0.499998 -> initscore=-0.000008\n",
            "[LightGBM] [Info] Start training from score -0.000008\n",
            "[LightGBM] [Info] Number of positive: 119171, number of negative: 119171\n",
            "[LightGBM] [Info] Auto-choosing row-wise multi-threading, the overhead of testing was 0.281094 seconds.\n",
            "You can set `force_row_wise=true` to remove the overhead.\n",
            "And if memory is not enough, you can set `force_col_wise=true`.\n",
            "[LightGBM] [Info] Total Bins 4963\n",
            "[LightGBM] [Info] Number of data points in the train set: 238342, number of used features: 157\n",
            "[LightGBM] [Info] [binary:BoostFromScore]: pavg=0.500000 -> initscore=0.000000\n",
            "[LightGBM] [Info] Number of positive: 119172, number of negative: 119171\n",
            "[LightGBM] [Info] Auto-choosing row-wise multi-threading, the overhead of testing was 0.166067 seconds.\n",
            "You can set `force_row_wise=true` to remove the overhead.\n",
            "And if memory is not enough, you can set `force_col_wise=true`.\n",
            "[LightGBM] [Info] Total Bins 4972\n",
            "[LightGBM] [Info] Number of data points in the train set: 238343, number of used features: 157\n",
            "[LightGBM] [Info] [binary:BoostFromScore]: pavg=0.500002 -> initscore=0.000008\n",
            "[LightGBM] [Info] Start training from score 0.000008\n",
            "[LightGBM] [Info] Number of positive: 119171, number of negative: 119172\n",
            "[LightGBM] [Info] Auto-choosing row-wise multi-threading, the overhead of testing was 0.169908 seconds.\n",
            "You can set `force_row_wise=true` to remove the overhead.\n",
            "And if memory is not enough, you can set `force_col_wise=true`.\n",
            "[LightGBM] [Info] Total Bins 4969\n",
            "[LightGBM] [Info] Number of data points in the train set: 238343, number of used features: 157\n",
            "[LightGBM] [Info] [binary:BoostFromScore]: pavg=0.499998 -> initscore=-0.000008\n",
            "[LightGBM] [Info] Start training from score -0.000008\n",
            "[LightGBM] [Info] Number of positive: 119171, number of negative: 119171\n",
            "[LightGBM] [Info] Auto-choosing row-wise multi-threading, the overhead of testing was 0.168261 seconds.\n",
            "You can set `force_row_wise=true` to remove the overhead.\n",
            "And if memory is not enough, you can set `force_col_wise=true`.\n",
            "[LightGBM] [Info] Total Bins 4963\n",
            "[LightGBM] [Info] Number of data points in the train set: 238342, number of used features: 157\n",
            "[LightGBM] [Info] [binary:BoostFromScore]: pavg=0.500000 -> initscore=0.000000\n",
            "[LightGBM] [Info] Number of positive: 119172, number of negative: 119171\n",
            "[LightGBM] [Info] Auto-choosing row-wise multi-threading, the overhead of testing was 0.168321 seconds.\n",
            "You can set `force_row_wise=true` to remove the overhead.\n",
            "And if memory is not enough, you can set `force_col_wise=true`.\n",
            "[LightGBM] [Info] Total Bins 4972\n",
            "[LightGBM] [Info] Number of data points in the train set: 238343, number of used features: 157\n",
            "[LightGBM] [Info] [binary:BoostFromScore]: pavg=0.500002 -> initscore=0.000008\n",
            "[LightGBM] [Info] Start training from score 0.000008\n",
            "[LightGBM] [Info] Number of positive: 119171, number of negative: 119172\n",
            "[LightGBM] [Info] Auto-choosing row-wise multi-threading, the overhead of testing was 0.167477 seconds.\n",
            "You can set `force_row_wise=true` to remove the overhead.\n",
            "And if memory is not enough, you can set `force_col_wise=true`.\n",
            "[LightGBM] [Info] Total Bins 4969\n",
            "[LightGBM] [Info] Number of data points in the train set: 238343, number of used features: 157\n",
            "[LightGBM] [Info] [binary:BoostFromScore]: pavg=0.499998 -> initscore=-0.000008\n",
            "[LightGBM] [Info] Start training from score -0.000008\n",
            "[LightGBM] [Info] Number of positive: 178757, number of negative: 178757\n",
            "[LightGBM] [Info] Auto-choosing row-wise multi-threading, the overhead of testing was 0.292186 seconds.\n",
            "You can set `force_row_wise=true` to remove the overhead.\n",
            "And if memory is not enough, you can set `force_col_wise=true`.\n",
            "[LightGBM] [Info] Total Bins 4977\n",
            "[LightGBM] [Info] Number of data points in the train set: 357514, number of used features: 159\n",
            "[LightGBM] [Info] [binary:BoostFromScore]: pavg=0.500000 -> initscore=0.000000\n",
            "[LightGBM] [Info] Number of positive: 119171, number of negative: 119171\n",
            "[LightGBM] [Info] Auto-choosing row-wise multi-threading, the overhead of testing was 0.172345 seconds.\n",
            "You can set `force_row_wise=true` to remove the overhead.\n",
            "And if memory is not enough, you can set `force_col_wise=true`.\n",
            "[LightGBM] [Info] Total Bins 4963\n",
            "[LightGBM] [Info] Number of data points in the train set: 238342, number of used features: 157\n",
            "[LightGBM] [Info] [binary:BoostFromScore]: pavg=0.500000 -> initscore=0.000000\n",
            "[LightGBM] [Info] Number of positive: 119172, number of negative: 119171\n",
            "[LightGBM] [Info] Auto-choosing row-wise multi-threading, the overhead of testing was 0.165148 seconds.\n",
            "You can set `force_row_wise=true` to remove the overhead.\n",
            "And if memory is not enough, you can set `force_col_wise=true`.\n",
            "[LightGBM] [Info] Total Bins 4972\n",
            "[LightGBM] [Info] Number of data points in the train set: 238343, number of used features: 157\n",
            "[LightGBM] [Info] [binary:BoostFromScore]: pavg=0.500002 -> initscore=0.000008\n",
            "[LightGBM] [Info] Start training from score 0.000008\n",
            "[LightGBM] [Info] Number of positive: 119171, number of negative: 119172\n",
            "[LightGBM] [Info] Auto-choosing row-wise multi-threading, the overhead of testing was 0.168184 seconds.\n",
            "You can set `force_row_wise=true` to remove the overhead.\n",
            "And if memory is not enough, you can set `force_col_wise=true`.\n",
            "[LightGBM] [Info] Total Bins 4969\n",
            "[LightGBM] [Info] Number of data points in the train set: 238343, number of used features: 157\n",
            "[LightGBM] [Info] [binary:BoostFromScore]: pavg=0.499998 -> initscore=-0.000008\n",
            "[LightGBM] [Info] Start training from score -0.000008\n",
            "[LightGBM] [Info] Number of positive: 119171, number of negative: 119171\n",
            "[LightGBM] [Info] Auto-choosing row-wise multi-threading, the overhead of testing was 0.171276 seconds.\n",
            "You can set `force_row_wise=true` to remove the overhead.\n",
            "And if memory is not enough, you can set `force_col_wise=true`.\n",
            "[LightGBM] [Info] Total Bins 4963\n",
            "[LightGBM] [Info] Number of data points in the train set: 238342, number of used features: 157\n",
            "[LightGBM] [Info] [binary:BoostFromScore]: pavg=0.500000 -> initscore=0.000000\n",
            "[LightGBM] [Info] Number of positive: 119172, number of negative: 119171\n",
            "[LightGBM] [Info] Auto-choosing row-wise multi-threading, the overhead of testing was 0.171758 seconds.\n",
            "You can set `force_row_wise=true` to remove the overhead.\n",
            "And if memory is not enough, you can set `force_col_wise=true`.\n",
            "[LightGBM] [Info] Total Bins 4972\n",
            "[LightGBM] [Info] Number of data points in the train set: 238343, number of used features: 157\n",
            "[LightGBM] [Info] [binary:BoostFromScore]: pavg=0.500002 -> initscore=0.000008\n",
            "[LightGBM] [Info] Start training from score 0.000008\n",
            "[LightGBM] [Info] Number of positive: 119171, number of negative: 119172\n",
            "[LightGBM] [Info] Auto-choosing row-wise multi-threading, the overhead of testing was 0.192018 seconds.\n",
            "You can set `force_row_wise=true` to remove the overhead.\n",
            "And if memory is not enough, you can set `force_col_wise=true`.\n",
            "[LightGBM] [Info] Total Bins 4969\n",
            "[LightGBM] [Info] Number of data points in the train set: 238343, number of used features: 157\n",
            "[LightGBM] [Info] [binary:BoostFromScore]: pavg=0.499998 -> initscore=-0.000008\n",
            "[LightGBM] [Info] Start training from score -0.000008\n",
            "[LightGBM] [Info] Number of positive: 119171, number of negative: 119171\n",
            "[LightGBM] [Info] Auto-choosing row-wise multi-threading, the overhead of testing was 0.183696 seconds.\n",
            "You can set `force_row_wise=true` to remove the overhead.\n",
            "And if memory is not enough, you can set `force_col_wise=true`.\n",
            "[LightGBM] [Info] Total Bins 4963\n",
            "[LightGBM] [Info] Number of data points in the train set: 238342, number of used features: 157\n",
            "[LightGBM] [Info] [binary:BoostFromScore]: pavg=0.500000 -> initscore=0.000000\n",
            "[LightGBM] [Info] Number of positive: 119172, number of negative: 119171\n",
            "[LightGBM] [Info] Auto-choosing row-wise multi-threading, the overhead of testing was 0.244846 seconds.\n",
            "You can set `force_row_wise=true` to remove the overhead.\n",
            "And if memory is not enough, you can set `force_col_wise=true`.\n",
            "[LightGBM] [Info] Total Bins 4972\n",
            "[LightGBM] [Info] Number of data points in the train set: 238343, number of used features: 157\n",
            "[LightGBM] [Info] [binary:BoostFromScore]: pavg=0.500002 -> initscore=0.000008\n",
            "[LightGBM] [Info] Start training from score 0.000008\n",
            "[LightGBM] [Info] Number of positive: 119171, number of negative: 119172\n",
            "[LightGBM] [Info] Auto-choosing row-wise multi-threading, the overhead of testing was 0.251617 seconds.\n",
            "You can set `force_row_wise=true` to remove the overhead.\n",
            "And if memory is not enough, you can set `force_col_wise=true`.\n",
            "[LightGBM] [Info] Total Bins 4969\n",
            "[LightGBM] [Info] Number of data points in the train set: 238343, number of used features: 157\n",
            "[LightGBM] [Info] [binary:BoostFromScore]: pavg=0.499998 -> initscore=-0.000008\n",
            "[LightGBM] [Info] Start training from score -0.000008\n",
            "Best LGBM Params: {'learning_rate': 0.1, 'n_estimators': 200, 'num_leaves': 50}\n",
            "Best Weighted F1 Score (CV mean): 0.7795215520221332\n",
            "Weighted Precision (CV mean): 0.7806133100764768\n",
            "Weighted Recall (CV mean): 0.7797009374530054\n",
            "Weighted F1-score (CV mean): 0.7795215520221332\n"
          ]
        }
      ],
      "source": [
        "\n",
        "# 2. Define the LGBM model\n",
        "lgb_model = lgb.LGBMClassifier(random_state=42)\n",
        "\n",
        "# 3. Parameter grid for tuning\n",
        "lgb_param_grid = {\n",
        "    'num_leaves': [31, 50],\n",
        "    'learning_rate': [0.1, 0.01],\n",
        "    'n_estimators': [100, 200]\n",
        "}\n",
        "\n",
        "# 4. GridSearchCV with f1_weighted scoring\n",
        "lgb_grid = GridSearchCV(lgb_model, lgb_param_grid, cv=3, scoring='f1_weighted')\n",
        "lgb_grid.fit(X_train_resampled, y_train_resampled)\n",
        "\n",
        "# 5. Get the best model from grid search\n",
        "best_model = lgb_grid.best_estimator_\n",
        "\n",
        "# 6. Evaluate weighted metrics using CV on resampled data\n",
        "precision = cross_val_score(best_model, X_train_resampled, y_train_resampled, cv=3,\n",
        "                            scoring=make_scorer(precision_score, average='weighted')).mean()\n",
        "recall = cross_val_score(best_model, X_train_resampled, y_train_resampled, cv=3,\n",
        "                         scoring=make_scorer(recall_score, average='weighted')).mean()\n",
        "f1 = cross_val_score(best_model, X_train_resampled, y_train_resampled, cv=3,\n",
        "                     scoring=make_scorer(f1_score, average='weighted')).mean()\n",
        "\n",
        "# 7. Print results\n",
        "print(\"Best LGBM Params:\", lgb_grid.best_params_)\n",
        "print(\"Best Weighted F1 Score (CV mean):\", lgb_grid.best_score_)\n",
        "print(\"Weighted Precision (CV mean):\", precision)\n",
        "print(\"Weighted Recall (CV mean):\", recall)\n",
        "print(\"Weighted F1-score (CV mean):\", f1)\n"
      ]
    },
    {
      "cell_type": "markdown",
      "metadata": {
        "id": "tyVdEYPgkWOt"
      },
      "source": [
        "# CatBoost Grid Search"
      ]
    },
    {
      "cell_type": "code",
      "execution_count": 62,
      "metadata": {
        "id": "IMN8RXS0kbFd",
        "colab": {
          "base_uri": "https://localhost:8080/"
        },
        "outputId": "e790c9fc-e8c7-4245-8429-b2acf2fa9ae6"
      },
      "outputs": [
        {
          "output_type": "stream",
          "name": "stdout",
          "text": [
            "Best CatBoost Params: {'depth': 6, 'iterations': 200, 'learning_rate': 0.1}\n",
            "Best Weighted F1 Score (CV mean): 0.7144106271877089\n",
            "Weighted Precision (CV mean): 0.7144240688310339\n",
            "Weighted Recall (CV mean): 0.7144139862283705\n",
            "Weighted F1-score (CV mean): 0.7144106271877089\n"
          ]
        }
      ],
      "source": [
        "\n",
        "# 2. Define the CatBoost model\n",
        "cat_model = CatBoostClassifier(random_state=42, verbose=0)\n",
        "\n",
        "# 3. Hyperparameter grid\n",
        "cat_param_grid = {\n",
        "    'depth': [4, 6],\n",
        "    'learning_rate': [0.1, 0.01],\n",
        "    'iterations': [100, 200]\n",
        "}\n",
        "\n",
        "# 4. GridSearchCV on resampled data\n",
        "cat_grid = GridSearchCV(cat_model, cat_param_grid, cv=3, scoring='f1_weighted')\n",
        "cat_grid.fit(X_train_resampled, y_train_resampled)\n",
        "\n",
        "# 5. Get best estimator\n",
        "best_cat_model = cat_grid.best_estimator_\n",
        "\n",
        "# 6. Cross-validated metrics on resampled training set\n",
        "cat_precision = cross_val_score(best_cat_model, X_train_resampled, y_train_resampled, cv=3,\n",
        "                                scoring=make_scorer(precision_score, average='weighted')).mean()\n",
        "cat_recall = cross_val_score(best_cat_model, X_train_resampled, y_train_resampled, cv=3,\n",
        "                             scoring=make_scorer(recall_score, average='weighted')).mean()\n",
        "cat_f1 = cross_val_score(best_cat_model, X_train_resampled, y_train_resampled, cv=3,\n",
        "                         scoring=make_scorer(f1_score, average='weighted')).mean()\n",
        "\n",
        "# 7. Print results\n",
        "print(\"Best CatBoost Params:\", cat_grid.best_params_)\n",
        "print(\"Best Weighted F1 Score (CV mean):\", cat_grid.best_score_)\n",
        "print(\"Weighted Precision (CV mean):\", cat_precision)\n",
        "print(\"Weighted Recall (CV mean):\", cat_recall)\n",
        "print(\"Weighted F1-score (CV mean):\", cat_f1)\n"
      ]
    },
    {
      "cell_type": "markdown",
      "source": [
        "# Evaluation"
      ],
      "metadata": {
        "id": "Jo9MMpQ7xWrS"
      }
    },
    {
      "cell_type": "markdown",
      "source": [
        "in the following cells, I experimented with different classification thresholds and evaluated the recall for both classes. This analysis is important because, from a business perspective, identifying individuals who are likely to default on their loans (class 1) is typically more critical than those who will repay. Adjusting the threshold allows us to balance the trade-off between catching more defaulters and minimizing false positives."
      ],
      "metadata": {
        "id": "AmoX2QMCxY8M"
      }
    },
    {
      "cell_type": "code",
      "source": [
        "\n",
        "# 1. Predict probabilities for the positive class (class 1)\n",
        "y_valid_proba = best_model.predict_proba(X_valid)[:, 1]\n",
        "\n",
        "# 2. Define thresholds to try\n",
        "thresholds = np.arange(0.1, 0.91, 0.05)\n",
        "\n",
        "# 3. Loop through thresholds and print metrics\n",
        "print(f\"{'Threshold':<10} | {'Recall_0':<9} | {'Recall_1':<9} | {'Macro_F1':<9}\")\n",
        "print(\"-\" * 45)\n",
        "\n",
        "for t in thresholds:\n",
        "    y_pred_thresh = (y_valid_proba >= t).astype(int)\n",
        "    recall_0 = recall_score(y_valid, y_pred_thresh, pos_label=0)\n",
        "    recall_1 = recall_score(y_valid, y_pred_thresh, pos_label=1)\n",
        "    macro_f1 = f1_score(y_valid, y_pred_thresh, average='macro')\n",
        "    print(f\"{t:<10.2f} | {recall_0:<9.3f} | {recall_1:<9.3f} | {macro_f1:<9.3f}\")\n"
      ],
      "metadata": {
        "colab": {
          "base_uri": "https://localhost:8080/"
        },
        "id": "68Pn-OoqfXo4",
        "outputId": "ec83fcc2-fa0f-4408-c3fd-8d74e5b6a7a1"
      },
      "execution_count": 63,
      "outputs": [
        {
          "output_type": "stream",
          "name": "stdout",
          "text": [
            "Threshold  | Recall_0  | Recall_1  | Macro_F1 \n",
            "---------------------------------------------\n",
            "0.10       | 0.110     | 0.981     | 0.180    \n",
            "0.15       | 0.207     | 0.956     | 0.258    \n",
            "0.20       | 0.306     | 0.926     | 0.328    \n",
            "0.25       | 0.399     | 0.888     | 0.385    \n",
            "0.30       | 0.486     | 0.844     | 0.434    \n",
            "0.35       | 0.563     | 0.799     | 0.474    \n",
            "0.40       | 0.634     | 0.748     | 0.509    \n",
            "0.45       | 0.695     | 0.691     | 0.538    \n",
            "0.50       | 0.754     | 0.626     | 0.564    \n",
            "0.55       | 0.805     | 0.560     | 0.585    \n",
            "0.60       | 0.850     | 0.492     | 0.603    \n",
            "0.65       | 0.891     | 0.412     | 0.614    \n",
            "0.70       | 0.927     | 0.323     | 0.616    \n",
            "0.75       | 0.954     | 0.226     | 0.601    \n",
            "0.80       | 0.978     | 0.146     | 0.581    \n",
            "0.85       | 0.993     | 0.066     | 0.536    \n",
            "0.90       | 0.999     | 0.012     | 0.491    \n"
          ]
        }
      ]
    },
    {
      "cell_type": "code",
      "source": [
        "y_holdout_proba = best_model.predict_proba(X_holdout)[:, 1]\n",
        "y_holdout_pred = (y_holdout_proba >= 0.4).astype(int)\n",
        "\n",
        "print(classification_report(y_holdout, y_holdout_pred))\n",
        "print(confusion_matrix(y_holdout, y_holdout_pred))\n"
      ],
      "metadata": {
        "colab": {
          "base_uri": "https://localhost:8080/"
        },
        "id": "uyJnPc0Xs6qr",
        "outputId": "61bd4ba9-4d93-4d01-9e3e-ec3aa199f19a"
      },
      "execution_count": 64,
      "outputs": [
        {
          "output_type": "stream",
          "name": "stdout",
          "text": [
            "              precision    recall  f1-score   support\n",
            "\n",
            "           0       0.96      0.63      0.76     55862\n",
            "           1       0.15      0.73      0.25      4918\n",
            "\n",
            "    accuracy                           0.64     60780\n",
            "   macro avg       0.56      0.68      0.51     60780\n",
            "weighted avg       0.90      0.64      0.72     60780\n",
            "\n",
            "[[35321 20541]\n",
            " [ 1332  3586]]\n"
          ]
        }
      ]
    },
    {
      "cell_type": "code",
      "source": [
        "auc = roc_auc_score(y_holdout, y_holdout_proba)\n",
        "print(\"ROC AUC on Holdout Set:\", round(auc, 4))"
      ],
      "metadata": {
        "colab": {
          "base_uri": "https://localhost:8080/"
        },
        "id": "Tzv9DtYJwX7e",
        "outputId": "bdb24511-68e0-4ef4-d13d-39c75385c35f"
      },
      "execution_count": 65,
      "outputs": [
        {
          "output_type": "stream",
          "name": "stdout",
          "text": [
            "ROC AUC on Holdout Set: 0.7474\n"
          ]
        }
      ]
    },
    {
      "cell_type": "code",
      "source": [
        "\n",
        "lgb.plot_importance(best_model, max_num_features=20, importance_type='gain', figsize=(10,6))\n",
        "plt.title(\"Top 20 Feature Importances\")\n",
        "plt.tight_layout()\n",
        "plt.show()\n"
      ],
      "metadata": {
        "colab": {
          "base_uri": "https://localhost:8080/",
          "height": 607
        },
        "id": "Wp4CUXX7vq5z",
        "outputId": "9e3a7270-74b5-49a3-8e6d-f9e796afcf76"
      },
      "execution_count": 66,
      "outputs": [
        {
          "output_type": "display_data",
          "data": {
            "text/plain": [
              "<Figure size 1000x600 with 1 Axes>"
            ],
            "image/png": "[encoded data removed]"
          },
          "metadata": {}
        }
      ]
    },
    {
      "cell_type": "markdown",
      "source": [
        "Our base model has performed fairly well; however, there is still room for improvement. In the following section, I will process the **bureau.csv** file and merge it with our already processed training data. The goal is to retrain the same model using this enriched dataset with additional features to potentially enhance its performance.\n"
      ],
      "metadata": {
        "id": "HJ7LqzaPxngb"
      }
    },
    {
      "cell_type": "markdown",
      "source": [
        "# ----------------------------------------------------------"
      ],
      "metadata": {
        "id": "JqRlqpvhFHM1"
      }
    },
    {
      "cell_type": "markdown",
      "source": [
        "# Bureau csv file processing"
      ],
      "metadata": {
        "id": "yNED--47E7ah"
      }
    },
    {
      "cell_type": "markdown",
      "source": [
        "# Read file from drive"
      ],
      "metadata": {
        "id": "RFyQfGUNFRUq"
      }
    },
    {
      "cell_type": "code",
      "source": [
        "drive.mount('/content/drive')\n",
        "folder = '/content/drive/MyDrive/aman task/home-credit-default-risk'\n",
        "df_bureau = pd.read_csv(f'{folder}/bureau.csv')\n",
        "print(\"Train shape:\", df_bureau.shape)\n"
      ],
      "metadata": {
        "colab": {
          "base_uri": "https://localhost:8080/"
        },
        "id": "0gFh6zwsFQzr",
        "outputId": "ed53f167-1fe7-4f41-b7ac-30c8151eb813"
      },
      "execution_count": 67,
      "outputs": [
        {
          "output_type": "stream",
          "name": "stdout",
          "text": [
            "Drive already mounted at /content/drive; to attempt to forcibly remount, call drive.mount(\"/content/drive\", force_remount=True).\n",
            "Train shape: (1716428, 17)\n"
          ]
        }
      ]
    },
    {
      "cell_type": "markdown",
      "source": [
        "# EDA"
      ],
      "metadata": {
        "id": "t8J03ik2L74J"
      }
    },
    {
      "cell_type": "code",
      "source": [
        "df_bureau.head()"
      ],
      "metadata": {
        "colab": {
          "base_uri": "https://localhost:8080/",
          "height": 278
        },
        "id": "thdtz2PDHbqE",
        "outputId": "0b480203-2d05-4a8f-d0cc-68f8a1fd35e6"
      },
      "execution_count": 68,
      "outputs": [
        {
          "output_type": "execute_result",
          "data": {
            "text/plain": [
              "   SK_ID_CURR  SK_ID_BUREAU CREDIT_ACTIVE CREDIT_CURRENCY  DAYS_CREDIT  \\\n",
              "0      215354       5714462        Closed      currency 1         -497   \n",
              "1      215354       5714463        Active      currency 1         -208   \n",
              "2      215354       5714464        Active      currency 1         -203   \n",
              "3      215354       5714465        Active      currency 1         -203   \n",
              "4      215354       5714466        Active      currency 1         -629   \n",
              "\n",
              "   CREDIT_DAY_OVERDUE  DAYS_CREDIT_ENDDATE  DAYS_ENDDATE_FACT  \\\n",
              "0                   0               -153.0             -153.0   \n",
              "1                   0               1075.0                NaN   \n",
              "2                   0                528.0                NaN   \n",
              "3                   0                  NaN                NaN   \n",
              "4                   0               1197.0                NaN   \n",
              "\n",
              "   AMT_CREDIT_MAX_OVERDUE  CNT_CREDIT_PROLONG  AMT_CREDIT_SUM  \\\n",
              "0                     NaN                   0         91323.0   \n",
              "1                     NaN                   0        225000.0   \n",
              "2                     NaN                   0        464323.5   \n",
              "3                     NaN                   0         90000.0   \n",
              "4                 77674.5                   0       2700000.0   \n",
              "\n",
              "   AMT_CREDIT_SUM_DEBT  AMT_CREDIT_SUM_LIMIT  AMT_CREDIT_SUM_OVERDUE  \\\n",
              "0                  0.0                   NaN                     0.0   \n",
              "1             171342.0                   NaN                     0.0   \n",
              "2                  NaN                   NaN                     0.0   \n",
              "3                  NaN                   NaN                     0.0   \n",
              "4                  NaN                   NaN                     0.0   \n",
              "\n",
              "       CREDIT_TYPE  DAYS_CREDIT_UPDATE  AMT_ANNUITY  \n",
              "0  Consumer credit                -131          NaN  \n",
              "1      Credit card                 -20          NaN  \n",
              "2  Consumer credit                 -16          NaN  \n",
              "3      Credit card                 -16          NaN  \n",
              "4  Consumer credit                 -21          NaN  "
            ],
            "text/html": [
              "\n",
              "  <div id=\"df-6b8a1853-c7d3-4ae0-9bcd-eccf5dfa844f\" class=\"colab-df-container\">\n",
              "    <div>\n",
              "<style scoped>\n",
              "    .dataframe tbody tr th:only-of-type {\n",
              "        vertical-align: middle;\n",
              "    }\n",
              "\n",
              "    .dataframe tbody tr th {\n",
              "        vertical-align: top;\n",
              "    }\n",
              "\n",
              "    .dataframe thead th {\n",
              "        text-align: right;\n",
              "    }\n",
              "</style>\n",
              "<table border=\"1\" class=\"dataframe\">\n",
              "  <thead>\n",
              "    <tr style=\"text-align: right;\">\n",
              "      <th></th>\n",
              "      <th>SK_ID_CURR</th>\n",
              "      <th>SK_ID_BUREAU</th>\n",
              "      <th>CREDIT_ACTIVE</th>\n",
              "      <th>CREDIT_CURRENCY</th>\n",
              "      <th>DAYS_CREDIT</th>\n",
              "      <th>CREDIT_DAY_OVERDUE</th>\n",
              "      <th>DAYS_CREDIT_ENDDATE</th>\n",
              "      <th>DAYS_ENDDATE_FACT</th>\n",
              "      <th>AMT_CREDIT_MAX_OVERDUE</th>\n",
              "      <th>CNT_CREDIT_PROLONG</th>\n",
              "      <th>AMT_CREDIT_SUM</th>\n",
              "      <th>AMT_CREDIT_SUM_DEBT</th>\n",
              "      <th>AMT_CREDIT_SUM_LIMIT</th>\n",
              "      <th>AMT_CREDIT_SUM_OVERDUE</th>\n",
              "      <th>CREDIT_TYPE</th>\n",
              "      <th>DAYS_CREDIT_UPDATE</th>\n",
              "      <th>AMT_ANNUITY</th>\n",
              "    </tr>\n",
              "  </thead>\n",
              "  <tbody>\n",
              "    <tr>\n",
              "      <th>0</th>\n",
              "      <td>215354</td>\n",
              "      <td>5714462</td>\n",
              "      <td>Closed</td>\n",
              "      <td>currency 1</td>\n",
              "      <td>-497</td>\n",
              "      <td>0</td>\n",
              "      <td>-153.0</td>\n",
              "      <td>-153.0</td>\n",
              "      <td>NaN</td>\n",
              "      <td>0</td>\n",
              "      <td>91323.0</td>\n",
              "      <td>0.0</td>\n",
              "      <td>NaN</td>\n",
              "      <td>0.0</td>\n",
              "      <td>Consumer credit</td>\n",
              "      <td>-131</td>\n",
              "      <td>NaN</td>\n",
              "    </tr>\n",
              "    <tr>\n",
              "      <th>1</th>\n",
              "      <td>215354</td>\n",
              "      <td>5714463</td>\n",
              "      <td>Active</td>\n",
              "      <td>currency 1</td>\n",
              "      <td>-208</td>\n",
              "      <td>0</td>\n",
              "      <td>1075.0</td>\n",
              "      <td>NaN</td>\n",
              "      <td>NaN</td>\n",
              "      <td>0</td>\n",
              "      <td>225000.0</td>\n",
              "      <td>171342.0</td>\n",
              "      <td>NaN</td>\n",
              "      <td>0.0</td>\n",
              "      <td>Credit card</td>\n",
              "      <td>-20</td>\n",
              "      <td>NaN</td>\n",
              "    </tr>\n",
              "    <tr>\n",
              "      <th>2</th>\n",
              "      <td>215354</td>\n",
              "      <td>5714464</td>\n",
              "      <td>Active</td>\n",
              "      <td>currency 1</td>\n",
              "      <td>-203</td>\n",
              "      <td>0</td>\n",
              "      <td>528.0</td>\n",
              "      <td>NaN</td>\n",
              "      <td>NaN</td>\n",
              "      <td>0</td>\n",
              "      <td>464323.5</td>\n",
              "      <td>NaN</td>\n",
              "      <td>NaN</td>\n",
              "      <td>0.0</td>\n",
              "      <td>Consumer credit</td>\n",
              "      <td>-16</td>\n",
              "      <td>NaN</td>\n",
              "    </tr>\n",
              "    <tr>\n",
              "      <th>3</th>\n",
              "      <td>215354</td>\n",
              "      <td>5714465</td>\n",
              "      <td>Active</td>\n",
              "      <td>currency 1</td>\n",
              "      <td>-203</td>\n",
              "      <td>0</td>\n",
              "      <td>NaN</td>\n",
              "      <td>NaN</td>\n",
              "      <td>NaN</td>\n",
              "      <td>0</td>\n",
              "      <td>90000.0</td>\n",
              "      <td>NaN</td>\n",
              "      <td>NaN</td>\n",
              "      <td>0.0</td>\n",
              "      <td>Credit card</td>\n",
              "      <td>-16</td>\n",
              "      <td>NaN</td>\n",
              "    </tr>\n",
              "    <tr>\n",
              "      <th>4</th>\n",
              "      <td>215354</td>\n",
              "      <td>5714466</td>\n",
              "      <td>Active</td>\n",
              "      <td>currency 1</td>\n",
              "      <td>-629</td>\n",
              "      <td>0</td>\n",
              "      <td>1197.0</td>\n",
              "      <td>NaN</td>\n",
              "      <td>77674.5</td>\n",
              "      <td>0</td>\n",
              "      <td>2700000.0</td>\n",
              "      <td>NaN</td>\n",
              "      <td>NaN</td>\n",
              "      <td>0.0</td>\n",
              "      <td>Consumer credit</td>\n",
              "      <td>-21</td>\n",
              "      <td>NaN</td>\n",
              "    </tr>\n",
              "  </tbody>\n",
              "</table>\n",
              "</div>\n",
              "    <div class=\"colab-df-buttons\">\n",
              "      \n",
              "  <div class=\"colab-df-container\">\n",
              "    <button class=\"colab-df-convert\" onclick=\"convertToInteractive('df-6b8a1853-c7d3-4ae0-9bcd-eccf5dfa844f')\"\n",
              "            title=\"Convert this dataframe to an interactive table.\"\n",
              "            style=\"display:none;\">\n",
              "      \n",
              "  <svg xmlns=\"http://www.w3.org/2000/svg\" height=\"24px\" viewBox=\"0 -960 960 960\">\n",
              "    <path d=\"M120-120v-720h720v720H120Zm60-500h600v-160H180v160Zm220 220h160v-160H400v160Zm0 220h160v-160H400v160ZM180-400h160v-160H180v160Zm440 0h160v-160H620v160ZM180-180h160v-160H180v160Zm440 0h160v-160H620v160Z\"/>\n",
              "  </svg>\n",
              "    </button>\n",
              "    \n",
              "  <style>\n",
              "    .colab-df-container {\n",
              "      display:flex;\n",
              "      gap: 12px;\n",
              "    }\n",
              "\n",
              "    .colab-df-convert {\n",
              "      background-color: #E8F0FE;\n",
              "      border: none;\n",
              "      border-radius: 50%;\n",
              "      cursor: pointer;\n",
              "      display: none;\n",
              "      fill: #1967D2;\n",
              "      height: 32px;\n",
              "      padding: 0 0 0 0;\n",
              "      width: 32px;\n",
              "    }\n",
              "\n",
              "    .colab-df-convert:hover {\n",
              "      background-color: #E2EBFA;\n",
              "      box-shadow: 0px 1px 2px rgba(60, 64, 67, 0.3), 0px 1px 3px 1px rgba(60, 64, 67, 0.15);\n",
              "      fill: #174EA6;\n",
              "    }\n",
              "\n",
              "    .colab-df-buttons div {\n",
              "      margin-bottom: 4px;\n",
              "    }\n",
              "\n",
              "    [theme=dark] .colab-df-convert {\n",
              "      background-color: #3B4455;\n",
              "      fill: #D2E3FC;\n",
              "    }\n",
              "\n",
              "    [theme=dark] .colab-df-convert:hover {\n",
              "      background-color: #434B5C;\n",
              "      box-shadow: 0px 1px 3px 1px rgba(0, 0, 0, 0.15);\n",
              "      filter: drop-shadow(0px 1px 2px rgba(0, 0, 0, 0.3));\n",
              "      fill: #FFFFFF;\n",
              "    }\n",
              "  </style>\n",
              "\n",
              "    <script>\n",
              "      const buttonEl =\n",
              "        document.querySelector('#df-6b8a1853-c7d3-4ae0-9bcd-eccf5dfa844f button.colab-df-convert');\n",
              "      buttonEl.style.display =\n",
              "        google.colab.kernel.accessAllowed ? 'block' : 'none';\n",
              "\n",
              "      async function convertToInteractive(key) {\n",
              "        const element = document.querySelector('#df-6b8a1853-c7d3-4ae0-9bcd-eccf5dfa844f');\n",
              "        const dataTable =\n",
              "          await google.colab.kernel.invokeFunction('convertToInteractive',\n",
              "                                                    [key], {});\n",
              "        if (!dataTable) return;\n",
              "\n",
              "        const docLinkHtml = 'Like what you see? Visit the ' +\n",
              "          '<a target=\"_blank\" href=https://colab.research.google.com/notebooks/data_table.ipynb>data table notebook</a>'\n",
              "          + ' to learn more about interactive tables.';\n",
              "        element.innerHTML = '';\n",
              "        dataTable['output_type'] = 'display_data';\n",
              "        await google.colab.output.renderOutput(dataTable, element);\n",
              "        const docLink = document.createElement('div');\n",
              "        docLink.innerHTML = docLinkHtml;\n",
              "        element.appendChild(docLink);\n",
              "      }\n",
              "    </script>\n",
              "  </div>\n",
              "  \n",
              "    </div>\n",
              "  </div>\n",
              "  "
            ],
            "application/vnd.google.colaboratory.intrinsic+json": {
              "type": "dataframe",
              "variable_name": "df_bureau"
            }
          },
          "metadata": {},
          "execution_count": 68
        }
      ]
    },
    {
      "cell_type": "code",
      "source": [
        "df_bureau.info()\n",
        "\n",
        "# Missing value % per column\n",
        "missing_percentage = df_bureau.isnull().mean() * 100\n",
        "missing_percentage = missing_percentage[missing_percentage > 0].sort_values(ascending=False)\n",
        "print(\"Columns with missing values:\\n\", missing_percentage)\n"
      ],
      "metadata": {
        "colab": {
          "base_uri": "https://localhost:8080/"
        },
        "id": "9Ug1JlRsH9ve",
        "outputId": "d41c01a8-b83b-4816-ad1e-dfeca9f2b52c"
      },
      "execution_count": 69,
      "outputs": [
        {
          "output_type": "stream",
          "name": "stdout",
          "text": [
            "<class 'pandas.core.frame.DataFrame'>\n",
            "RangeIndex: 1716428 entries, 0 to 1716427\n",
            "Data columns (total 17 columns):\n",
            " #   Column                  Dtype  \n",
            "---  ------                  -----  \n",
            " 0   SK_ID_CURR              int64  \n",
            " 1   SK_ID_BUREAU            int64  \n",
            " 2   CREDIT_ACTIVE           object \n",
            " 3   CREDIT_CURRENCY         object \n",
            " 4   DAYS_CREDIT             int64  \n",
            " 5   CREDIT_DAY_OVERDUE      int64  \n",
            " 6   DAYS_CREDIT_ENDDATE     float64\n",
            " 7   DAYS_ENDDATE_FACT       float64\n",
            " 8   AMT_CREDIT_MAX_OVERDUE  float64\n",
            " 9   CNT_CREDIT_PROLONG      int64  \n",
            " 10  AMT_CREDIT_SUM          float64\n",
            " 11  AMT_CREDIT_SUM_DEBT     float64\n",
            " 12  AMT_CREDIT_SUM_LIMIT    float64\n",
            " 13  AMT_CREDIT_SUM_OVERDUE  float64\n",
            " 14  CREDIT_TYPE             object \n",
            " 15  DAYS_CREDIT_UPDATE      int64  \n",
            " 16  AMT_ANNUITY             float64\n",
            "dtypes: float64(8), int64(6), object(3)\n",
            "memory usage: 222.6+ MB\n",
            "Columns with missing values:\n",
            " AMT_ANNUITY               71.473490\n",
            "AMT_CREDIT_MAX_OVERDUE    65.513264\n",
            "DAYS_ENDDATE_FACT         36.916958\n",
            "AMT_CREDIT_SUM_LIMIT      34.477415\n",
            "AMT_CREDIT_SUM_DEBT       15.011932\n",
            "DAYS_CREDIT_ENDDATE        6.149573\n",
            "AMT_CREDIT_SUM             0.000757\n",
            "dtype: float64\n"
          ]
        }
      ]
    },
    {
      "cell_type": "code",
      "source": [
        "print(\"CREDIT_ACTIVE:\\n\", df_bureau['CREDIT_ACTIVE'].value_counts())\n",
        "\n",
        "print(\"\\nCREDIT_CURRENCY:\\n\", df_bureau['CREDIT_CURRENCY'].value_counts())\n",
        "\n",
        "print(\"\\nCREDIT_TYPE:\\n\", df_bureau['CREDIT_TYPE'].value_counts())\n"
      ],
      "metadata": {
        "colab": {
          "base_uri": "https://localhost:8080/"
        },
        "id": "K1XnMfIVIFvH",
        "outputId": "846bfe4c-4f0c-41a3-9263-cb1975d1bc9f"
      },
      "execution_count": 70,
      "outputs": [
        {
          "output_type": "stream",
          "name": "stdout",
          "text": [
            "CREDIT_ACTIVE:\n",
            " CREDIT_ACTIVE\n",
            "Closed      1079273\n",
            "Active       630607\n",
            "Sold           6527\n",
            "Bad debt         21\n",
            "Name: count, dtype: int64\n",
            "\n",
            "CREDIT_CURRENCY:\n",
            " CREDIT_CURRENCY\n",
            "currency 1    1715020\n",
            "currency 2       1224\n",
            "currency 3        174\n",
            "currency 4         10\n",
            "Name: count, dtype: int64\n",
            "\n",
            "CREDIT_TYPE:\n",
            " CREDIT_TYPE\n",
            "Consumer credit                                 1251615\n",
            "Credit card                                      402195\n",
            "Car loan                                          27690\n",
            "Mortgage                                          18391\n",
            "Microloan                                         12413\n",
            "Loan for business development                      1975\n",
            "Another type of loan                               1017\n",
            "Unknown type of loan                                555\n",
            "Loan for working capital replenishment              469\n",
            "Cash loan (non-earmarked)                            56\n",
            "Real estate loan                                     27\n",
            "Loan for the purchase of equipment                   19\n",
            "Loan for purchase of shares (margin lending)          4\n",
            "Mobile operator loan                                  1\n",
            "Interbank credit                                      1\n",
            "Name: count, dtype: int64\n"
          ]
        }
      ]
    },
    {
      "cell_type": "markdown",
      "source": [
        "- Mostly \"Closed\" and \"Active\" (99.9%)\n",
        "- \"Sold\" and \"Bad debt\" are very rare → group them as \"Other\"\n",
        "- CREDIT_CURRENCY  is 99% currency 1 so no added value i will drop this column\n"
      ],
      "metadata": {
        "id": "FHR2F3QFMHaG"
      }
    },
    {
      "cell_type": "code",
      "source": [
        "# Drop the 3 unnecessary columns\n",
        "cols_to_drop = ['AMT_ANNUITY', 'AMT_CREDIT_MAX_OVERDUE', 'CREDIT_CURRENCY','DAYS_CREDIT_ENDDATE']\n",
        "df_bureau.drop(columns=cols_to_drop, inplace=True)"
      ],
      "metadata": {
        "id": "_TnrcQoJMI0_"
      },
      "execution_count": 71,
      "outputs": []
    },
    {
      "cell_type": "code",
      "source": [
        "# Group rare values under 'Other'\n",
        "df_bureau['CREDIT_ACTIVE_CLEAN'] = df_bureau['CREDIT_ACTIVE'].replace({\n",
        "    'Sold': 'Other',\n",
        "    'Bad debt': 'Other'\n",
        "})\n",
        "df_bureau.drop(columns=['CREDIT_ACTIVE'], inplace=True)"
      ],
      "metadata": {
        "id": "wLP-TAiCM-B6"
      },
      "execution_count": 72,
      "outputs": []
    },
    {
      "cell_type": "markdown",
      "source": [
        "Now lets investiaget columns that didnt have alot of missing value but had some ."
      ],
      "metadata": {
        "id": "ItCORE-aNCmX"
      }
    },
    {
      "cell_type": "code",
      "source": [
        "df_bureau['DAYS_ENDDATE_FACT'].describe()\n"
      ],
      "metadata": {
        "colab": {
          "base_uri": "https://localhost:8080/",
          "height": 335
        },
        "id": "sBpjQuF8NH5k",
        "outputId": "acc9ed7b-9b67-4479-e958-cf25450bafb9"
      },
      "execution_count": 73,
      "outputs": [
        {
          "output_type": "execute_result",
          "data": {
            "text/plain": [
              "count    1.082775e+06\n",
              "mean    -1.017437e+03\n",
              "std      7.140106e+02\n",
              "min     -4.202300e+04\n",
              "25%     -1.489000e+03\n",
              "50%     -8.970000e+02\n",
              "75%     -4.250000e+02\n",
              "max      0.000000e+00\n",
              "Name: DAYS_ENDDATE_FACT, dtype: float64"
            ],
            "text/html": [
              "<div>\n",
              "<style scoped>\n",
              "    .dataframe tbody tr th:only-of-type {\n",
              "        vertical-align: middle;\n",
              "    }\n",
              "\n",
              "    .dataframe tbody tr th {\n",
              "        vertical-align: top;\n",
              "    }\n",
              "\n",
              "    .dataframe thead th {\n",
              "        text-align: right;\n",
              "    }\n",
              "</style>\n",
              "<table border=\"1\" class=\"dataframe\">\n",
              "  <thead>\n",
              "    <tr style=\"text-align: right;\">\n",
              "      <th></th>\n",
              "      <th>DAYS_ENDDATE_FACT</th>\n",
              "    </tr>\n",
              "  </thead>\n",
              "  <tbody>\n",
              "    <tr>\n",
              "      <th>count</th>\n",
              "      <td>1.082775e+06</td>\n",
              "    </tr>\n",
              "    <tr>\n",
              "      <th>mean</th>\n",
              "      <td>-1.017437e+03</td>\n",
              "    </tr>\n",
              "    <tr>\n",
              "      <th>std</th>\n",
              "      <td>7.140106e+02</td>\n",
              "    </tr>\n",
              "    <tr>\n",
              "      <th>min</th>\n",
              "      <td>-4.202300e+04</td>\n",
              "    </tr>\n",
              "    <tr>\n",
              "      <th>25%</th>\n",
              "      <td>-1.489000e+03</td>\n",
              "    </tr>\n",
              "    <tr>\n",
              "      <th>50%</th>\n",
              "      <td>-8.970000e+02</td>\n",
              "    </tr>\n",
              "    <tr>\n",
              "      <th>75%</th>\n",
              "      <td>-4.250000e+02</td>\n",
              "    </tr>\n",
              "    <tr>\n",
              "      <th>max</th>\n",
              "      <td>0.000000e+00</td>\n",
              "    </tr>\n",
              "  </tbody>\n",
              "</table>\n",
              "</div><br><label><b>dtype:</b> float64</label>"
            ]
          },
          "metadata": {},
          "execution_count": 73
        }
      ]
    },
    {
      "cell_type": "code",
      "source": [
        "df_bureau['DAYS_ENDDATE_FACT'].dropna().hist(bins=100)\n",
        "plt.title('DAYS_ENDDATE_FACT Distribution (Non-Null)')\n",
        "plt.xlabel('Days')\n",
        "plt.ylabel('Frequency')\n",
        "plt.show()"
      ],
      "metadata": {
        "colab": {
          "base_uri": "https://localhost:8080/",
          "height": 472
        },
        "id": "iYt6u0JjNYil",
        "outputId": "6b6cb08e-8b35-468b-fdc4-72eb2be824cc"
      },
      "execution_count": 74,
      "outputs": [
        {
          "output_type": "display_data",
          "data": {
            "text/plain": [
              "<Figure size 640x480 with 1 Axes>"
            ],
            "image/png": "[encoded data removed]"
          },
          "metadata": {}
        }
      ]
    },
    {
      "cell_type": "markdown",
      "source": [
        "What Is CREDIT_ACTIVE When This Is Missing?\n",
        "\n"
      ],
      "metadata": {
        "id": "Sl_MAM4yNhYi"
      }
    },
    {
      "cell_type": "code",
      "source": [
        "df_bureau[df_bureau['DAYS_ENDDATE_FACT'].isna()]['CREDIT_ACTIVE_CLEAN'].value_counts()\n"
      ],
      "metadata": {
        "colab": {
          "base_uri": "https://localhost:8080/",
          "height": 209
        },
        "id": "o19CCYHSNfUL",
        "outputId": "6db7738e-e53b-49f9-d463-3d4a67a08be6"
      },
      "execution_count": 75,
      "outputs": [
        {
          "output_type": "execute_result",
          "data": {
            "text/plain": [
              "CREDIT_ACTIVE_CLEAN\n",
              "Active    628638\n",
              "Other       4890\n",
              "Closed       125\n",
              "Name: count, dtype: int64"
            ],
            "text/html": [
              "<div>\n",
              "<style scoped>\n",
              "    .dataframe tbody tr th:only-of-type {\n",
              "        vertical-align: middle;\n",
              "    }\n",
              "\n",
              "    .dataframe tbody tr th {\n",
              "        vertical-align: top;\n",
              "    }\n",
              "\n",
              "    .dataframe thead th {\n",
              "        text-align: right;\n",
              "    }\n",
              "</style>\n",
              "<table border=\"1\" class=\"dataframe\">\n",
              "  <thead>\n",
              "    <tr style=\"text-align: right;\">\n",
              "      <th></th>\n",
              "      <th>count</th>\n",
              "    </tr>\n",
              "    <tr>\n",
              "      <th>CREDIT_ACTIVE_CLEAN</th>\n",
              "      <th></th>\n",
              "    </tr>\n",
              "  </thead>\n",
              "  <tbody>\n",
              "    <tr>\n",
              "      <th>Active</th>\n",
              "      <td>628638</td>\n",
              "    </tr>\n",
              "    <tr>\n",
              "      <th>Other</th>\n",
              "      <td>4890</td>\n",
              "    </tr>\n",
              "    <tr>\n",
              "      <th>Closed</th>\n",
              "      <td>125</td>\n",
              "    </tr>\n",
              "  </tbody>\n",
              "</table>\n",
              "</div><br><label><b>dtype:</b> int64</label>"
            ]
          },
          "metadata": {},
          "execution_count": 75
        }
      ]
    },
    {
      "cell_type": "markdown",
      "source": [
        "since most nan values corresponds to active credit  , leaving it as NaN and adding a binary flag for active credit is best approach"
      ],
      "metadata": {
        "id": "jDZN7zT4Oocg"
      }
    },
    {
      "cell_type": "code",
      "source": [
        "# Create binary column: 1 if still active (missing end date), else 0\n",
        "df_bureau['IS_STILL_ACTIVE_FACT'] = df_bureau['DAYS_ENDDATE_FACT'].isna().astype(int)\n"
      ],
      "metadata": {
        "id": "15R2dESNOw1E"
      },
      "execution_count": 76,
      "outputs": []
    },
    {
      "cell_type": "markdown",
      "source": [
        "lets investigate AMT_CREDIT_SUM_LIMIT\n",
        "\n",
        "What this column means:\n",
        "Credit limit for revolving loans like credit cards.\n",
        "It's the maximum amount the client can borrow on those accounts.\n",
        "\n",
        "Only applicable to credit card loans\n",
        "\n",
        "Missing values likely mean:\n",
        "- This is not a credit card\n",
        "- Or the limit wasn't reported"
      ],
      "metadata": {
        "id": "mLe9p9FCPRoq"
      }
    },
    {
      "cell_type": "code",
      "source": [
        "df_bureau['AMT_CREDIT_SUM_LIMIT'].describe()\n"
      ],
      "metadata": {
        "colab": {
          "base_uri": "https://localhost:8080/",
          "height": 335
        },
        "id": "_HcoBX0CPV0f",
        "outputId": "f22c1ad2-3dd0-4552-cf67-38bc29d9d5a8"
      },
      "execution_count": 77,
      "outputs": [
        {
          "output_type": "execute_result",
          "data": {
            "text/plain": [
              "count    1.124648e+06\n",
              "mean     6.229515e+03\n",
              "std      4.503203e+04\n",
              "min     -5.864061e+05\n",
              "25%      0.000000e+00\n",
              "50%      0.000000e+00\n",
              "75%      0.000000e+00\n",
              "max      4.705600e+06\n",
              "Name: AMT_CREDIT_SUM_LIMIT, dtype: float64"
            ],
            "text/html": [
              "<div>\n",
              "<style scoped>\n",
              "    .dataframe tbody tr th:only-of-type {\n",
              "        vertical-align: middle;\n",
              "    }\n",
              "\n",
              "    .dataframe tbody tr th {\n",
              "        vertical-align: top;\n",
              "    }\n",
              "\n",
              "    .dataframe thead th {\n",
              "        text-align: right;\n",
              "    }\n",
              "</style>\n",
              "<table border=\"1\" class=\"dataframe\">\n",
              "  <thead>\n",
              "    <tr style=\"text-align: right;\">\n",
              "      <th></th>\n",
              "      <th>AMT_CREDIT_SUM_LIMIT</th>\n",
              "    </tr>\n",
              "  </thead>\n",
              "  <tbody>\n",
              "    <tr>\n",
              "      <th>count</th>\n",
              "      <td>1.124648e+06</td>\n",
              "    </tr>\n",
              "    <tr>\n",
              "      <th>mean</th>\n",
              "      <td>6.229515e+03</td>\n",
              "    </tr>\n",
              "    <tr>\n",
              "      <th>std</th>\n",
              "      <td>4.503203e+04</td>\n",
              "    </tr>\n",
              "    <tr>\n",
              "      <th>min</th>\n",
              "      <td>-5.864061e+05</td>\n",
              "    </tr>\n",
              "    <tr>\n",
              "      <th>25%</th>\n",
              "      <td>0.000000e+00</td>\n",
              "    </tr>\n",
              "    <tr>\n",
              "      <th>50%</th>\n",
              "      <td>0.000000e+00</td>\n",
              "    </tr>\n",
              "    <tr>\n",
              "      <th>75%</th>\n",
              "      <td>0.000000e+00</td>\n",
              "    </tr>\n",
              "    <tr>\n",
              "      <th>max</th>\n",
              "      <td>4.705600e+06</td>\n",
              "    </tr>\n",
              "  </tbody>\n",
              "</table>\n",
              "</div><br><label><b>dtype:</b> float64</label>"
            ]
          },
          "metadata": {},
          "execution_count": 77
        }
      ]
    },
    {
      "cell_type": "code",
      "source": [
        "df_bureau['AMT_CREDIT_SUM_LIMIT'].dropna().hist(bins=50)\n",
        "plt.title('AMT_CREDIT_SUM_LIMIT Distribution')\n",
        "plt.xlabel('Credit Limit')\n",
        "plt.ylabel('Frequency')\n",
        "plt.show()\n",
        "\n"
      ],
      "metadata": {
        "colab": {
          "base_uri": "https://localhost:8080/",
          "height": 472
        },
        "id": "URAGXjNwPigS",
        "outputId": "3f000497-091d-457c-fd7f-4f1a6e17cd18"
      },
      "execution_count": 78,
      "outputs": [
        {
          "output_type": "display_data",
          "data": {
            "text/plain": [
              "<Figure size 640x480 with 1 Axes>"
            ],
            "image/png": "[encoded data removed]"
          },
          "metadata": {}
        }
      ]
    },
    {
      "cell_type": "code",
      "source": [
        "# Credit types where limit is missing\n",
        "df_bureau[df_bureau['AMT_CREDIT_SUM_LIMIT'].isna()]['CREDIT_TYPE'].value_counts()\n"
      ],
      "metadata": {
        "colab": {
          "base_uri": "https://localhost:8080/",
          "height": 491
        },
        "id": "Lc4nrjvJPsj5",
        "outputId": "cd195284-b595-4f0d-fb50-d3c3c9a64833"
      },
      "execution_count": 79,
      "outputs": [
        {
          "output_type": "execute_result",
          "data": {
            "text/plain": [
              "CREDIT_TYPE\n",
              "Consumer credit                                 439919\n",
              "Credit card                                     117613\n",
              "Car loan                                         16527\n",
              "Microloan                                        10201\n",
              "Mortgage                                          5130\n",
              "Loan for business development                     1803\n",
              "Loan for working capital replenishment             452\n",
              "Another type of loan                                89\n",
              "Real estate loan                                    24\n",
              "Loan for the purchase of equipment                  17\n",
              "Loan for purchase of shares (margin lending)         4\n",
              "Interbank credit                                     1\n",
              "Name: count, dtype: int64"
            ],
            "text/html": [
              "<div>\n",
              "<style scoped>\n",
              "    .dataframe tbody tr th:only-of-type {\n",
              "        vertical-align: middle;\n",
              "    }\n",
              "\n",
              "    .dataframe tbody tr th {\n",
              "        vertical-align: top;\n",
              "    }\n",
              "\n",
              "    .dataframe thead th {\n",
              "        text-align: right;\n",
              "    }\n",
              "</style>\n",
              "<table border=\"1\" class=\"dataframe\">\n",
              "  <thead>\n",
              "    <tr style=\"text-align: right;\">\n",
              "      <th></th>\n",
              "      <th>count</th>\n",
              "    </tr>\n",
              "    <tr>\n",
              "      <th>CREDIT_TYPE</th>\n",
              "      <th></th>\n",
              "    </tr>\n",
              "  </thead>\n",
              "  <tbody>\n",
              "    <tr>\n",
              "      <th>Consumer credit</th>\n",
              "      <td>439919</td>\n",
              "    </tr>\n",
              "    <tr>\n",
              "      <th>Credit card</th>\n",
              "      <td>117613</td>\n",
              "    </tr>\n",
              "    <tr>\n",
              "      <th>Car loan</th>\n",
              "      <td>16527</td>\n",
              "    </tr>\n",
              "    <tr>\n",
              "      <th>Microloan</th>\n",
              "      <td>10201</td>\n",
              "    </tr>\n",
              "    <tr>\n",
              "      <th>Mortgage</th>\n",
              "      <td>5130</td>\n",
              "    </tr>\n",
              "    <tr>\n",
              "      <th>Loan for business development</th>\n",
              "      <td>1803</td>\n",
              "    </tr>\n",
              "    <tr>\n",
              "      <th>Loan for working capital replenishment</th>\n",
              "      <td>452</td>\n",
              "    </tr>\n",
              "    <tr>\n",
              "      <th>Another type of loan</th>\n",
              "      <td>89</td>\n",
              "    </tr>\n",
              "    <tr>\n",
              "      <th>Real estate loan</th>\n",
              "      <td>24</td>\n",
              "    </tr>\n",
              "    <tr>\n",
              "      <th>Loan for the purchase of equipment</th>\n",
              "      <td>17</td>\n",
              "    </tr>\n",
              "    <tr>\n",
              "      <th>Loan for purchase of shares (margin lending)</th>\n",
              "      <td>4</td>\n",
              "    </tr>\n",
              "    <tr>\n",
              "      <th>Interbank credit</th>\n",
              "      <td>1</td>\n",
              "    </tr>\n",
              "  </tbody>\n",
              "</table>\n",
              "</div><br><label><b>dtype:</b> int64</label>"
            ]
          },
          "metadata": {},
          "execution_count": 79
        }
      ]
    },
    {
      "cell_type": "code",
      "source": [
        "\n",
        "# Credit types where limit is NOT missing\n",
        "df_bureau[df_bureau['AMT_CREDIT_SUM_LIMIT'].notna()]['CREDIT_TYPE'].value_counts()\n"
      ],
      "metadata": {
        "colab": {
          "base_uri": "https://localhost:8080/",
          "height": 523
        },
        "id": "sDFnBJ-DP2EC",
        "outputId": "d3940c16-e578-482e-b648-8c142eaca8b2"
      },
      "execution_count": 80,
      "outputs": [
        {
          "output_type": "execute_result",
          "data": {
            "text/plain": [
              "CREDIT_TYPE\n",
              "Consumer credit                           811696\n",
              "Credit card                               284582\n",
              "Mortgage                                   13261\n",
              "Car loan                                   11163\n",
              "Microloan                                   2212\n",
              "Another type of loan                         928\n",
              "Unknown type of loan                         555\n",
              "Loan for business development                172\n",
              "Cash loan (non-earmarked)                     56\n",
              "Loan for working capital replenishment        17\n",
              "Real estate loan                               3\n",
              "Loan for the purchase of equipment             2\n",
              "Mobile operator loan                           1\n",
              "Name: count, dtype: int64"
            ],
            "text/html": [
              "<div>\n",
              "<style scoped>\n",
              "    .dataframe tbody tr th:only-of-type {\n",
              "        vertical-align: middle;\n",
              "    }\n",
              "\n",
              "    .dataframe tbody tr th {\n",
              "        vertical-align: top;\n",
              "    }\n",
              "\n",
              "    .dataframe thead th {\n",
              "        text-align: right;\n",
              "    }\n",
              "</style>\n",
              "<table border=\"1\" class=\"dataframe\">\n",
              "  <thead>\n",
              "    <tr style=\"text-align: right;\">\n",
              "      <th></th>\n",
              "      <th>count</th>\n",
              "    </tr>\n",
              "    <tr>\n",
              "      <th>CREDIT_TYPE</th>\n",
              "      <th></th>\n",
              "    </tr>\n",
              "  </thead>\n",
              "  <tbody>\n",
              "    <tr>\n",
              "      <th>Consumer credit</th>\n",
              "      <td>811696</td>\n",
              "    </tr>\n",
              "    <tr>\n",
              "      <th>Credit card</th>\n",
              "      <td>284582</td>\n",
              "    </tr>\n",
              "    <tr>\n",
              "      <th>Mortgage</th>\n",
              "      <td>13261</td>\n",
              "    </tr>\n",
              "    <tr>\n",
              "      <th>Car loan</th>\n",
              "      <td>11163</td>\n",
              "    </tr>\n",
              "    <tr>\n",
              "      <th>Microloan</th>\n",
              "      <td>2212</td>\n",
              "    </tr>\n",
              "    <tr>\n",
              "      <th>Another type of loan</th>\n",
              "      <td>928</td>\n",
              "    </tr>\n",
              "    <tr>\n",
              "      <th>Unknown type of loan</th>\n",
              "      <td>555</td>\n",
              "    </tr>\n",
              "    <tr>\n",
              "      <th>Loan for business development</th>\n",
              "      <td>172</td>\n",
              "    </tr>\n",
              "    <tr>\n",
              "      <th>Cash loan (non-earmarked)</th>\n",
              "      <td>56</td>\n",
              "    </tr>\n",
              "    <tr>\n",
              "      <th>Loan for working capital replenishment</th>\n",
              "      <td>17</td>\n",
              "    </tr>\n",
              "    <tr>\n",
              "      <th>Real estate loan</th>\n",
              "      <td>3</td>\n",
              "    </tr>\n",
              "    <tr>\n",
              "      <th>Loan for the purchase of equipment</th>\n",
              "      <td>2</td>\n",
              "    </tr>\n",
              "    <tr>\n",
              "      <th>Mobile operator loan</th>\n",
              "      <td>1</td>\n",
              "    </tr>\n",
              "  </tbody>\n",
              "</table>\n",
              "</div><br><label><b>dtype:</b> int64</label>"
            ]
          },
          "metadata": {},
          "execution_count": 80
        }
      ]
    },
    {
      "cell_type": "markdown",
      "source": [
        "Missing Pattern:\n",
        "Missing for many Credit card and non-credit card types\n",
        "\n",
        "Present for many non-credit-card loans too (e.g., Consumer credit, Mortgage)\n",
        "\n",
        "This means: missing values do not exclusively mean “not a credit card”\n",
        "\n",
        "So we can't fully rely on CREDIT_TYPE == \"Credit card\" to explain missingness.\n",
        "\n",
        "hence final suggested is ------> Either the loan type doesn't have a limit or the limit wasn't reported. In either case, it likely means:\n",
        "“No known available limit for this loan”\n",
        "\n",
        "\n",
        "\n"
      ],
      "metadata": {
        "id": "t9GwpKNqQNSq"
      }
    },
    {
      "cell_type": "code",
      "source": [
        "# Create binary column to indicate missing credit limit\n",
        "df_bureau['IS_LIMIT_KNOWN'] = df_bureau['AMT_CREDIT_SUM_LIMIT'].notna().astype(int)\n"
      ],
      "metadata": {
        "id": "J8tz54jbQPmb"
      },
      "execution_count": 81,
      "outputs": []
    },
    {
      "cell_type": "markdown",
      "source": [
        "Next we ar moving to AMT_CREDIT_SUM_DEBT\n",
        "initial insights-->\n",
        "Missing values may mean:\n",
        "\n",
        "The credit is fully paid off\n",
        "\n",
        "Or, no debt was reported"
      ],
      "metadata": {
        "id": "OPlZTbW1QoX3"
      }
    },
    {
      "cell_type": "code",
      "source": [
        "df_bureau['AMT_CREDIT_SUM_DEBT'].describe()\n"
      ],
      "metadata": {
        "colab": {
          "base_uri": "https://localhost:8080/",
          "height": 335
        },
        "id": "EIzLLSKJQrR1",
        "outputId": "58b9fa60-56bf-4c79-9301-51d3cbaceaf5"
      },
      "execution_count": 82,
      "outputs": [
        {
          "output_type": "execute_result",
          "data": {
            "text/plain": [
              "count    1.458759e+06\n",
              "mean     1.370851e+05\n",
              "std      6.774011e+05\n",
              "min     -4.705600e+06\n",
              "25%      0.000000e+00\n",
              "50%      0.000000e+00\n",
              "75%      4.015350e+04\n",
              "max      1.701000e+08\n",
              "Name: AMT_CREDIT_SUM_DEBT, dtype: float64"
            ],
            "text/html": [
              "<div>\n",
              "<style scoped>\n",
              "    .dataframe tbody tr th:only-of-type {\n",
              "        vertical-align: middle;\n",
              "    }\n",
              "\n",
              "    .dataframe tbody tr th {\n",
              "        vertical-align: top;\n",
              "    }\n",
              "\n",
              "    .dataframe thead th {\n",
              "        text-align: right;\n",
              "    }\n",
              "</style>\n",
              "<table border=\"1\" class=\"dataframe\">\n",
              "  <thead>\n",
              "    <tr style=\"text-align: right;\">\n",
              "      <th></th>\n",
              "      <th>AMT_CREDIT_SUM_DEBT</th>\n",
              "    </tr>\n",
              "  </thead>\n",
              "  <tbody>\n",
              "    <tr>\n",
              "      <th>count</th>\n",
              "      <td>1.458759e+06</td>\n",
              "    </tr>\n",
              "    <tr>\n",
              "      <th>mean</th>\n",
              "      <td>1.370851e+05</td>\n",
              "    </tr>\n",
              "    <tr>\n",
              "      <th>std</th>\n",
              "      <td>6.774011e+05</td>\n",
              "    </tr>\n",
              "    <tr>\n",
              "      <th>min</th>\n",
              "      <td>-4.705600e+06</td>\n",
              "    </tr>\n",
              "    <tr>\n",
              "      <th>25%</th>\n",
              "      <td>0.000000e+00</td>\n",
              "    </tr>\n",
              "    <tr>\n",
              "      <th>50%</th>\n",
              "      <td>0.000000e+00</td>\n",
              "    </tr>\n",
              "    <tr>\n",
              "      <th>75%</th>\n",
              "      <td>4.015350e+04</td>\n",
              "    </tr>\n",
              "    <tr>\n",
              "      <th>max</th>\n",
              "      <td>1.701000e+08</td>\n",
              "    </tr>\n",
              "  </tbody>\n",
              "</table>\n",
              "</div><br><label><b>dtype:</b> float64</label>"
            ]
          },
          "metadata": {},
          "execution_count": 82
        }
      ]
    },
    {
      "cell_type": "code",
      "source": [
        "df_bureau['AMT_CREDIT_SUM_DEBT'].dropna().hist(bins=100)\n",
        "plt.title('AMT_CREDIT_SUM_DEBT Distribution (Non-Null)')\n",
        "plt.xlabel('Debt')\n",
        "plt.ylabel('Frequency')\n",
        "plt.show()\n"
      ],
      "metadata": {
        "colab": {
          "base_uri": "https://localhost:8080/",
          "height": 472
        },
        "id": "5dCvgI_SQ2d7",
        "outputId": "e3f31850-50d3-4fdf-b476-d1412ff3f729"
      },
      "execution_count": 83,
      "outputs": [
        {
          "output_type": "display_data",
          "data": {
            "text/plain": [
              "<Figure size 640x480 with 1 Axes>"
            ],
            "image/png": "[encoded data removed]"
          },
          "metadata": {}
        }
      ]
    },
    {
      "cell_type": "code",
      "source": [
        "# Credit types where debt is missing\n",
        "df_bureau[df_bureau['AMT_CREDIT_SUM_DEBT'].isna()]['CREDIT_TYPE'].value_counts()"
      ],
      "metadata": {
        "colab": {
          "base_uri": "https://localhost:8080/",
          "height": 460
        },
        "id": "z8KFy7iPQ7ZW",
        "outputId": "558ff69a-149a-4cdb-845a-3f08ed9e9c08"
      },
      "execution_count": 84,
      "outputs": [
        {
          "output_type": "execute_result",
          "data": {
            "text/plain": [
              "CREDIT_TYPE\n",
              "Consumer credit                                 200073\n",
              "Credit card                                      46105\n",
              "Car loan                                          5930\n",
              "Mortgage                                          3297\n",
              "Microloan                                         1728\n",
              "Loan for business development                      369\n",
              "Loan for working capital replenishment             117\n",
              "Another type of loan                                32\n",
              "Real estate loan                                    12\n",
              "Loan for the purchase of equipment                   4\n",
              "Loan for purchase of shares (margin lending)         2\n",
              "Name: count, dtype: int64"
            ],
            "text/html": [
              "<div>\n",
              "<style scoped>\n",
              "    .dataframe tbody tr th:only-of-type {\n",
              "        vertical-align: middle;\n",
              "    }\n",
              "\n",
              "    .dataframe tbody tr th {\n",
              "        vertical-align: top;\n",
              "    }\n",
              "\n",
              "    .dataframe thead th {\n",
              "        text-align: right;\n",
              "    }\n",
              "</style>\n",
              "<table border=\"1\" class=\"dataframe\">\n",
              "  <thead>\n",
              "    <tr style=\"text-align: right;\">\n",
              "      <th></th>\n",
              "      <th>count</th>\n",
              "    </tr>\n",
              "    <tr>\n",
              "      <th>CREDIT_TYPE</th>\n",
              "      <th></th>\n",
              "    </tr>\n",
              "  </thead>\n",
              "  <tbody>\n",
              "    <tr>\n",
              "      <th>Consumer credit</th>\n",
              "      <td>200073</td>\n",
              "    </tr>\n",
              "    <tr>\n",
              "      <th>Credit card</th>\n",
              "      <td>46105</td>\n",
              "    </tr>\n",
              "    <tr>\n",
              "      <th>Car loan</th>\n",
              "      <td>5930</td>\n",
              "    </tr>\n",
              "    <tr>\n",
              "      <th>Mortgage</th>\n",
              "      <td>3297</td>\n",
              "    </tr>\n",
              "    <tr>\n",
              "      <th>Microloan</th>\n",
              "      <td>1728</td>\n",
              "    </tr>\n",
              "    <tr>\n",
              "      <th>Loan for business development</th>\n",
              "      <td>369</td>\n",
              "    </tr>\n",
              "    <tr>\n",
              "      <th>Loan for working capital replenishment</th>\n",
              "      <td>117</td>\n",
              "    </tr>\n",
              "    <tr>\n",
              "      <th>Another type of loan</th>\n",
              "      <td>32</td>\n",
              "    </tr>\n",
              "    <tr>\n",
              "      <th>Real estate loan</th>\n",
              "      <td>12</td>\n",
              "    </tr>\n",
              "    <tr>\n",
              "      <th>Loan for the purchase of equipment</th>\n",
              "      <td>4</td>\n",
              "    </tr>\n",
              "    <tr>\n",
              "      <th>Loan for purchase of shares (margin lending)</th>\n",
              "      <td>2</td>\n",
              "    </tr>\n",
              "  </tbody>\n",
              "</table>\n",
              "</div><br><label><b>dtype:</b> int64</label>"
            ]
          },
          "metadata": {},
          "execution_count": 84
        }
      ]
    },
    {
      "cell_type": "code",
      "source": [
        "df_bureau[df_bureau['AMT_CREDIT_SUM_DEBT'].notna()]['CREDIT_TYPE'].value_counts()"
      ],
      "metadata": {
        "colab": {
          "base_uri": "https://localhost:8080/",
          "height": 585
        },
        "id": "GVCqc_T3Q8kG",
        "outputId": "03c75678-6a47-44c5-9aaa-a9fca3733e2d"
      },
      "execution_count": 85,
      "outputs": [
        {
          "output_type": "execute_result",
          "data": {
            "text/plain": [
              "CREDIT_TYPE\n",
              "Consumer credit                                 1051542\n",
              "Credit card                                      356090\n",
              "Car loan                                          21760\n",
              "Mortgage                                          15094\n",
              "Microloan                                         10685\n",
              "Loan for business development                      1606\n",
              "Another type of loan                                985\n",
              "Unknown type of loan                                555\n",
              "Loan for working capital replenishment              352\n",
              "Cash loan (non-earmarked)                            56\n",
              "Real estate loan                                     15\n",
              "Loan for the purchase of equipment                   15\n",
              "Loan for purchase of shares (margin lending)          2\n",
              "Mobile operator loan                                  1\n",
              "Interbank credit                                      1\n",
              "Name: count, dtype: int64"
            ],
            "text/html": [
              "<div>\n",
              "<style scoped>\n",
              "    .dataframe tbody tr th:only-of-type {\n",
              "        vertical-align: middle;\n",
              "    }\n",
              "\n",
              "    .dataframe tbody tr th {\n",
              "        vertical-align: top;\n",
              "    }\n",
              "\n",
              "    .dataframe thead th {\n",
              "        text-align: right;\n",
              "    }\n",
              "</style>\n",
              "<table border=\"1\" class=\"dataframe\">\n",
              "  <thead>\n",
              "    <tr style=\"text-align: right;\">\n",
              "      <th></th>\n",
              "      <th>count</th>\n",
              "    </tr>\n",
              "    <tr>\n",
              "      <th>CREDIT_TYPE</th>\n",
              "      <th></th>\n",
              "    </tr>\n",
              "  </thead>\n",
              "  <tbody>\n",
              "    <tr>\n",
              "      <th>Consumer credit</th>\n",
              "      <td>1051542</td>\n",
              "    </tr>\n",
              "    <tr>\n",
              "      <th>Credit card</th>\n",
              "      <td>356090</td>\n",
              "    </tr>\n",
              "    <tr>\n",
              "      <th>Car loan</th>\n",
              "      <td>21760</td>\n",
              "    </tr>\n",
              "    <tr>\n",
              "      <th>Mortgage</th>\n",
              "      <td>15094</td>\n",
              "    </tr>\n",
              "    <tr>\n",
              "      <th>Microloan</th>\n",
              "      <td>10685</td>\n",
              "    </tr>\n",
              "    <tr>\n",
              "      <th>Loan for business development</th>\n",
              "      <td>1606</td>\n",
              "    </tr>\n",
              "    <tr>\n",
              "      <th>Another type of loan</th>\n",
              "      <td>985</td>\n",
              "    </tr>\n",
              "    <tr>\n",
              "      <th>Unknown type of loan</th>\n",
              "      <td>555</td>\n",
              "    </tr>\n",
              "    <tr>\n",
              "      <th>Loan for working capital replenishment</th>\n",
              "      <td>352</td>\n",
              "    </tr>\n",
              "    <tr>\n",
              "      <th>Cash loan (non-earmarked)</th>\n",
              "      <td>56</td>\n",
              "    </tr>\n",
              "    <tr>\n",
              "      <th>Real estate loan</th>\n",
              "      <td>15</td>\n",
              "    </tr>\n",
              "    <tr>\n",
              "      <th>Loan for the purchase of equipment</th>\n",
              "      <td>15</td>\n",
              "    </tr>\n",
              "    <tr>\n",
              "      <th>Loan for purchase of shares (margin lending)</th>\n",
              "      <td>2</td>\n",
              "    </tr>\n",
              "    <tr>\n",
              "      <th>Mobile operator loan</th>\n",
              "      <td>1</td>\n",
              "    </tr>\n",
              "    <tr>\n",
              "      <th>Interbank credit</th>\n",
              "      <td>1</td>\n",
              "    </tr>\n",
              "  </tbody>\n",
              "</table>\n",
              "</div><br><label><b>dtype:</b> int64</label>"
            ]
          },
          "metadata": {},
          "execution_count": 85
        }
      ]
    },
    {
      "cell_type": "code",
      "source": [
        "# Create binary flag — was debt reported?\n",
        "df_bureau['IS_DEBT_REPORTED'] = df_bureau['AMT_CREDIT_SUM_DEBT'].notna().astype(int)\n",
        "\n",
        "#Fill missing debt values with 0 (safe default for \"not reported\")\n",
        "df_bureau['AMT_CREDIT_SUM_DEBT'].fillna(0, inplace=True)\n",
        "\n",
        "# Replace negative debt values with 0 (invalid cases)\n",
        "df_bureau.loc[df_bureau['AMT_CREDIT_SUM_DEBT'] < 0, 'AMT_CREDIT_SUM_DEBT'] = 0\n"
      ],
      "metadata": {
        "colab": {
          "base_uri": "https://localhost:8080/"
        },
        "id": "v2cWvrXbR1H9",
        "outputId": "db111be9-d3af-4c09-acc4-63745d1fa87b"
      },
      "execution_count": 86,
      "outputs": [
        {
          "output_type": "stream",
          "name": "stderr",
          "text": [
            "/tmp/ipython-input-86-3145143308.py:5: FutureWarning: A value is trying to be set on a copy of a DataFrame or Series through chained assignment using an inplace method.\n",
            "The behavior will change in pandas 3.0. This inplace method will never work because the intermediate object on which we are setting values always behaves as a copy.\n",
            "\n",
            "For example, when doing 'df[col].method(value, inplace=True)', try using 'df.method({col: value}, inplace=True)' or df[col] = df[col].method(value) instead, to perform the operation inplace on the original object.\n",
            "\n",
            "\n",
            "  df_bureau['AMT_CREDIT_SUM_DEBT'].fillna(0, inplace=True)\n"
          ]
        }
      ]
    },
    {
      "cell_type": "markdown",
      "source": [
        "last column to handle is  AMT_CREDIT_SUM  with just 13 rows missing , just impute with median."
      ],
      "metadata": {
        "id": "vPFnLh16Tnpl"
      }
    },
    {
      "cell_type": "code",
      "source": [
        "median_credit_sum = df_bureau['AMT_CREDIT_SUM'].median()\n",
        "df_bureau['AMT_CREDIT_SUM'].fillna(median_credit_sum, inplace=True)\n"
      ],
      "metadata": {
        "colab": {
          "base_uri": "https://localhost:8080/"
        },
        "id": "BrzDJ2SXTt2F",
        "outputId": "17ca1913-39be-4fe6-a9d3-0def56f054b1"
      },
      "execution_count": 87,
      "outputs": [
        {
          "output_type": "stream",
          "name": "stderr",
          "text": [
            "/tmp/ipython-input-87-3796021819.py:2: FutureWarning: A value is trying to be set on a copy of a DataFrame or Series through chained assignment using an inplace method.\n",
            "The behavior will change in pandas 3.0. This inplace method will never work because the intermediate object on which we are setting values always behaves as a copy.\n",
            "\n",
            "For example, when doing 'df[col].method(value, inplace=True)', try using 'df.method({col: value}, inplace=True)' or df[col] = df[col].method(value) instead, to perform the operation inplace on the original object.\n",
            "\n",
            "\n",
            "  df_bureau['AMT_CREDIT_SUM'].fillna(median_credit_sum, inplace=True)\n"
          ]
        }
      ]
    },
    {
      "cell_type": "markdown",
      "source": [
        "# AGG"
      ],
      "metadata": {
        "id": "oXrqQJbsUc8T"
      }
    },
    {
      "cell_type": "markdown",
      "source": [
        "Group by SK_ID_CURR and aggregate key numeric columns\n"
      ],
      "metadata": {
        "id": "9fLLtPyOUj3e"
      }
    },
    {
      "cell_type": "code",
      "source": [
        "num_cols = [\n",
        "    'AMT_CREDIT_SUM',\n",
        "    'AMT_CREDIT_SUM_DEBT',\n",
        "    'AMT_CREDIT_SUM_LIMIT',\n",
        "    'AMT_CREDIT_SUM_OVERDUE',\n",
        "    'CNT_CREDIT_PROLONG',\n",
        "    'CREDIT_DAY_OVERDUE',\n",
        "    'DAYS_CREDIT',\n",
        "    'DAYS_CREDIT_UPDATE',\n",
        "    'DAYS_ENDDATE_FACT',\n",
        "    'IS_STILL_ACTIVE_FACT',\n",
        "    'IS_DEBT_REPORTED',\n",
        "    'IS_LIMIT_KNOWN'\n",
        "]\n",
        "\n",
        "# Aggregate using mean, sum, and max\n",
        "bureau_agg = df_bureau.groupby('SK_ID_CURR')[num_cols].agg(['mean', 'sum', 'max'])\n",
        "\n",
        "bureau_agg.columns = ['BUREAU_' + '_'.join(col).upper() for col in bureau_agg.columns]\n",
        "bureau_agg.reset_index(inplace=True)\n"
      ],
      "metadata": {
        "id": "iwiRCPeqUeM8"
      },
      "execution_count": 88,
      "outputs": []
    },
    {
      "cell_type": "markdown",
      "source": [
        "Categorical Count Aggregations"
      ],
      "metadata": {
        "id": "q09LqdWsUsP_"
      }
    },
    {
      "cell_type": "markdown",
      "source": [
        " Count of CREDIT_ACTIVE_CLEAN (Active, Closed, Other)\n"
      ],
      "metadata": {
        "id": "LFw5VvPhUvJO"
      }
    },
    {
      "cell_type": "code",
      "source": [
        "# Count how many times each credit status appears per client\n",
        "active_status = df_bureau.groupby(['SK_ID_CURR', 'CREDIT_ACTIVE_CLEAN']).size().unstack(fill_value=0)\n",
        "\n",
        "# Rename columns\n",
        "active_status.columns = [f'BUREAU_STATUS_{col.upper()}' for col in active_status.columns]\n",
        "active_status.reset_index(inplace=True)\n"
      ],
      "metadata": {
        "id": "PvmSV57cUss9"
      },
      "execution_count": 89,
      "outputs": []
    },
    {
      "cell_type": "markdown",
      "source": [
        " Count of CREDIT_TYPE_CLEAN (e.g., Credit card, Mortgage, etc.)\n"
      ],
      "metadata": {
        "id": "5Ov0hFMMU1s2"
      }
    },
    {
      "cell_type": "code",
      "source": [
        "# Count number of each credit type per client\n",
        "credit_type = df_bureau.groupby(['SK_ID_CURR', 'CREDIT_TYPE']).size().unstack(fill_value=0)\n",
        "\n",
        "# Rename columns for consistency\n",
        "credit_type.columns = [f'BUREAU_CREDIT_TYPE_{col.replace(\" \", \"_\").replace(\"-\", \"_\").upper()}' for col in credit_type.columns]\n",
        "\n",
        "# Reset index to merge later\n",
        "credit_type.reset_index(inplace=True)\n"
      ],
      "metadata": {
        "id": "1dJxccoQVsGz"
      },
      "execution_count": 90,
      "outputs": []
    },
    {
      "cell_type": "markdown",
      "source": [
        " Combine All Aggregated Features\n",
        "\n"
      ],
      "metadata": {
        "id": "5zdWEkyUVGV5"
      }
    },
    {
      "cell_type": "code",
      "source": [
        "# Merge all aggregation results into one dataframe\n",
        "bureau_final = bureau_agg.merge(active_status, on='SK_ID_CURR', how='left')\n",
        "bureau_final = bureau_final.merge(credit_type, on='SK_ID_CURR', how='left')\n"
      ],
      "metadata": {
        "id": "Km8Kl1ciVHem"
      },
      "execution_count": 91,
      "outputs": []
    },
    {
      "cell_type": "markdown",
      "source": [
        "# -----------------------------------------------------"
      ],
      "metadata": {
        "id": "JYWZwG-SrMHZ"
      }
    },
    {
      "cell_type": "markdown",
      "source": [
        "# merging Both dataset"
      ],
      "metadata": {
        "id": "0Icsq5JgVxO2"
      }
    },
    {
      "cell_type": "code",
      "source": [
        "df_final = df_for_merging.merge(bureau_final, how='left', on='SK_ID_CURR')\n"
      ],
      "metadata": {
        "id": "rENEi975W-jG"
      },
      "execution_count": 92,
      "outputs": []
    },
    {
      "cell_type": "code",
      "source": [
        "df_final.drop(columns=['SK_ID_CURR'], inplace=True)\n"
      ],
      "metadata": {
        "id": "FhcH8FN_ZBIl"
      },
      "execution_count": 93,
      "outputs": []
    },
    {
      "cell_type": "markdown",
      "source": [
        "# Encoding - one hot"
      ],
      "metadata": {
        "id": "I8tREcGAXrEM"
      }
    },
    {
      "cell_type": "code",
      "source": [
        "#Identify categorical columns (object type)\n",
        "cat_cols = df_final.select_dtypes(include='object').columns.tolist()\n",
        "#Encode the training data\n",
        "df_train_encoded = pd.get_dummies(df_final, columns=cat_cols, drop_first=True)\n"
      ],
      "metadata": {
        "id": "KPz_4v8OXtfa"
      },
      "execution_count": 94,
      "outputs": []
    },
    {
      "cell_type": "code",
      "source": [
        "X_train = df_train_encoded.drop(columns=['TARGET'])\n",
        "y_train = df_train_encoded['TARGET']"
      ],
      "metadata": {
        "id": "YnAIvBJDYBFX"
      },
      "execution_count": 95,
      "outputs": []
    },
    {
      "cell_type": "code",
      "source": [
        "# Clean column name\n",
        "X_train.columns = X_train.columns.str.replace('[^A-Za-z0-9_]+', '_', regex=True)"
      ],
      "metadata": {
        "id": "SzwWcvkvYJO6"
      },
      "execution_count": 96,
      "outputs": []
    },
    {
      "cell_type": "code",
      "source": [
        "\n",
        "X_train_split, X_holdout, y_train_split, y_holdout = train_test_split(\n",
        "    X_train, y_train,\n",
        "    test_size=0.2,\n",
        "    stratify=y_train,\n",
        "    random_state=42\n",
        ")\n"
      ],
      "metadata": {
        "id": "tx5mHSxWYLT7"
      },
      "execution_count": 97,
      "outputs": []
    },
    {
      "cell_type": "code",
      "source": [
        "X_train_final, X_valid, y_train_final, y_valid = train_test_split(\n",
        "    X_train_split, y_train_split,\n",
        "    test_size=0.2,  # 20% of 80% = 16% total\n",
        "    stratify=y_train_split,\n",
        "    random_state=42\n",
        ")\n"
      ],
      "metadata": {
        "id": "J030ocB_YMyo"
      },
      "execution_count": 98,
      "outputs": []
    },
    {
      "cell_type": "code",
      "source": [
        "ros = RandomOverSampler(random_state=42)\n",
        "X_train_resampled, y_train_resampled = ros.fit_resample(X_train_final, y_train_final)"
      ],
      "metadata": {
        "id": "he5sph2AYOxw"
      },
      "execution_count": 99,
      "outputs": []
    },
    {
      "cell_type": "markdown",
      "source": [
        "# LGBM"
      ],
      "metadata": {
        "id": "goW7VFugYTYU"
      }
    },
    {
      "cell_type": "code",
      "source": [
        "\n",
        "# 2. Define the LGBM model\n",
        "lgb_model = lgb.LGBMClassifier(random_state=42)\n",
        "\n",
        "# 3. Parameter grid for tuning\n",
        "lgb_param_grid = {\n",
        "    'num_leaves': [31, 50],\n",
        "    'learning_rate': [0.1, 0.01],\n",
        "    'n_estimators': [100, 200]\n",
        "}\n",
        "\n",
        "# 4. GridSearchCV with f1_weighted scoring\n",
        "lgb_grid = GridSearchCV(lgb_model, lgb_param_grid, cv=3, scoring='f1_weighted')\n",
        "lgb_grid.fit(X_train_resampled, y_train_resampled)\n",
        "\n",
        "# 5. Get the best model from grid search\n",
        "best_model = lgb_grid.best_estimator_\n",
        "\n",
        "# 6. Evaluate weighted metrics using CV on resampled data\n",
        "precision = cross_val_score(best_model, X_train_resampled, y_train_resampled, cv=3,\n",
        "                            scoring=make_scorer(precision_score, average='weighted')).mean()\n",
        "recall = cross_val_score(best_model, X_train_resampled, y_train_resampled, cv=3,\n",
        "                         scoring=make_scorer(recall_score, average='weighted')).mean()\n",
        "f1 = cross_val_score(best_model, X_train_resampled, y_train_resampled, cv=3,\n",
        "                     scoring=make_scorer(f1_score, average='weighted')).mean()\n",
        "\n",
        "# 7. Print results\n",
        "print(\"Best LGBM Params:\", lgb_grid.best_params_)\n",
        "print(\"Best Weighted F1 Score (CV mean):\", lgb_grid.best_score_)\n",
        "print(\"Weighted Precision (CV mean):\", precision)\n",
        "print(\"Weighted Recall (CV mean):\", recall)\n",
        "print(\"Weighted F1-score (CV mean):\", f1)\n"
      ],
      "metadata": {
        "colab": {
          "base_uri": "https://localhost:8080/"
        },
        "id": "zYqR1r-ZYSnN",
        "outputId": "f0b8e25e-bfe8-4f11-92a1-ad23f7e3121b"
      },
      "execution_count": 100,
      "outputs": [
        {
          "output_type": "stream",
          "name": "stdout",
          "text": [
            "[LightGBM] [Info] Number of positive: 119171, number of negative: 119171\n",
            "[LightGBM] [Info] Auto-choosing row-wise multi-threading, the overhead of testing was 0.258499 seconds.\n",
            "You can set `force_row_wise=true` to remove the overhead.\n",
            "And if memory is not enough, you can set `force_col_wise=true`.\n",
            "[LightGBM] [Info] Total Bins 11919\n",
            "[LightGBM] [Info] Number of data points in the train set: 238342, number of used features: 211\n",
            "[LightGBM] [Info] [binary:BoostFromScore]: pavg=0.500000 -> initscore=0.000000\n",
            "[LightGBM] [Info] Number of positive: 119172, number of negative: 119171\n",
            "[LightGBM] [Info] Auto-choosing row-wise multi-threading, the overhead of testing was 0.259087 seconds.\n",
            "You can set `force_row_wise=true` to remove the overhead.\n",
            "And if memory is not enough, you can set `force_col_wise=true`.\n",
            "[LightGBM] [Info] Total Bins 11925\n",
            "[LightGBM] [Info] Number of data points in the train set: 238343, number of used features: 211\n",
            "[LightGBM] [Info] [binary:BoostFromScore]: pavg=0.500002 -> initscore=0.000008\n",
            "[LightGBM] [Info] Start training from score 0.000008\n",
            "[LightGBM] [Info] Number of positive: 119171, number of negative: 119172\n",
            "[LightGBM] [Info] Auto-choosing row-wise multi-threading, the overhead of testing was 0.387574 seconds.\n",
            "You can set `force_row_wise=true` to remove the overhead.\n",
            "And if memory is not enough, you can set `force_col_wise=true`.\n",
            "[LightGBM] [Info] Total Bins 11922\n",
            "[LightGBM] [Info] Number of data points in the train set: 238343, number of used features: 211\n",
            "[LightGBM] [Info] [binary:BoostFromScore]: pavg=0.499998 -> initscore=-0.000008\n",
            "[LightGBM] [Info] Start training from score -0.000008\n",
            "[LightGBM] [Info] Number of positive: 119171, number of negative: 119171\n",
            "[LightGBM] [Info] Auto-choosing row-wise multi-threading, the overhead of testing was 0.261065 seconds.\n",
            "You can set `force_row_wise=true` to remove the overhead.\n",
            "And if memory is not enough, you can set `force_col_wise=true`.\n",
            "[LightGBM] [Info] Total Bins 11919\n",
            "[LightGBM] [Info] Number of data points in the train set: 238342, number of used features: 211\n",
            "[LightGBM] [Info] [binary:BoostFromScore]: pavg=0.500000 -> initscore=0.000000\n",
            "[LightGBM] [Info] Number of positive: 119172, number of negative: 119171\n",
            "[LightGBM] [Info] Auto-choosing row-wise multi-threading, the overhead of testing was 0.275898 seconds.\n",
            "You can set `force_row_wise=true` to remove the overhead.\n",
            "And if memory is not enough, you can set `force_col_wise=true`.\n",
            "[LightGBM] [Info] Total Bins 11925\n",
            "[LightGBM] [Info] Number of data points in the train set: 238343, number of used features: 211\n",
            "[LightGBM] [Info] [binary:BoostFromScore]: pavg=0.500002 -> initscore=0.000008\n",
            "[LightGBM] [Info] Start training from score 0.000008\n",
            "[LightGBM] [Info] Number of positive: 119171, number of negative: 119172\n",
            "[LightGBM] [Info] Auto-choosing col-wise multi-threading, the overhead of testing was 0.485377 seconds.\n",
            "You can set `force_col_wise=true` to remove the overhead.\n",
            "[LightGBM] [Info] Total Bins 11922\n",
            "[LightGBM] [Info] Number of data points in the train set: 238343, number of used features: 211\n",
            "[LightGBM] [Info] [binary:BoostFromScore]: pavg=0.499998 -> initscore=-0.000008\n",
            "[LightGBM] [Info] Start training from score -0.000008\n",
            "[LightGBM] [Info] Number of positive: 119171, number of negative: 119171\n",
            "[LightGBM] [Info] Auto-choosing row-wise multi-threading, the overhead of testing was 0.388182 seconds.\n",
            "You can set `force_row_wise=true` to remove the overhead.\n",
            "And if memory is not enough, you can set `force_col_wise=true`.\n",
            "[LightGBM] [Info] Total Bins 11919\n",
            "[LightGBM] [Info] Number of data points in the train set: 238342, number of used features: 211\n",
            "[LightGBM] [Info] [binary:BoostFromScore]: pavg=0.500000 -> initscore=0.000000\n",
            "[LightGBM] [Info] Number of positive: 119172, number of negative: 119171\n",
            "[LightGBM] [Info] Auto-choosing row-wise multi-threading, the overhead of testing was 0.261616 seconds.\n",
            "You can set `force_row_wise=true` to remove the overhead.\n",
            "And if memory is not enough, you can set `force_col_wise=true`.\n",
            "[LightGBM] [Info] Total Bins 11925\n",
            "[LightGBM] [Info] Number of data points in the train set: 238343, number of used features: 211\n",
            "[LightGBM] [Info] [binary:BoostFromScore]: pavg=0.500002 -> initscore=0.000008\n",
            "[LightGBM] [Info] Start training from score 0.000008\n",
            "[LightGBM] [Info] Number of positive: 119171, number of negative: 119172\n",
            "[LightGBM] [Info] Auto-choosing row-wise multi-threading, the overhead of testing was 0.259621 seconds.\n",
            "You can set `force_row_wise=true` to remove the overhead.\n",
            "And if memory is not enough, you can set `force_col_wise=true`.\n",
            "[LightGBM] [Info] Total Bins 11922\n",
            "[LightGBM] [Info] Number of data points in the train set: 238343, number of used features: 211\n",
            "[LightGBM] [Info] [binary:BoostFromScore]: pavg=0.499998 -> initscore=-0.000008\n",
            "[LightGBM] [Info] Start training from score -0.000008\n",
            "[LightGBM] [Info] Number of positive: 119171, number of negative: 119171\n",
            "[LightGBM] [Info] Auto-choosing row-wise multi-threading, the overhead of testing was 0.391773 seconds.\n",
            "You can set `force_row_wise=true` to remove the overhead.\n",
            "And if memory is not enough, you can set `force_col_wise=true`.\n",
            "[LightGBM] [Info] Total Bins 11919\n",
            "[LightGBM] [Info] Number of data points in the train set: 238342, number of used features: 211\n",
            "[LightGBM] [Info] [binary:BoostFromScore]: pavg=0.500000 -> initscore=0.000000\n",
            "[LightGBM] [Info] Number of positive: 119172, number of negative: 119171\n",
            "[LightGBM] [Info] Auto-choosing row-wise multi-threading, the overhead of testing was 0.260541 seconds.\n",
            "You can set `force_row_wise=true` to remove the overhead.\n",
            "And if memory is not enough, you can set `force_col_wise=true`.\n",
            "[LightGBM] [Info] Total Bins 11925\n",
            "[LightGBM] [Info] Number of data points in the train set: 238343, number of used features: 211\n",
            "[LightGBM] [Info] [binary:BoostFromScore]: pavg=0.500002 -> initscore=0.000008\n",
            "[LightGBM] [Info] Start training from score 0.000008\n",
            "[LightGBM] [Info] Number of positive: 119171, number of negative: 119172\n",
            "[LightGBM] [Info] Auto-choosing row-wise multi-threading, the overhead of testing was 0.264762 seconds.\n",
            "You can set `force_row_wise=true` to remove the overhead.\n",
            "And if memory is not enough, you can set `force_col_wise=true`.\n",
            "[LightGBM] [Info] Total Bins 11922\n",
            "[LightGBM] [Info] Number of data points in the train set: 238343, number of used features: 211\n",
            "[LightGBM] [Info] [binary:BoostFromScore]: pavg=0.499998 -> initscore=-0.000008\n",
            "[LightGBM] [Info] Start training from score -0.000008\n",
            "[LightGBM] [Info] Number of positive: 119171, number of negative: 119171\n",
            "[LightGBM] [Info] Auto-choosing row-wise multi-threading, the overhead of testing was 0.270980 seconds.\n",
            "You can set `force_row_wise=true` to remove the overhead.\n",
            "And if memory is not enough, you can set `force_col_wise=true`.\n",
            "[LightGBM] [Info] Total Bins 11919\n",
            "[LightGBM] [Info] Number of data points in the train set: 238342, number of used features: 211\n",
            "[LightGBM] [Info] [binary:BoostFromScore]: pavg=0.500000 -> initscore=0.000000\n",
            "[LightGBM] [Info] Number of positive: 119172, number of negative: 119171\n",
            "[LightGBM] [Info] Auto-choosing row-wise multi-threading, the overhead of testing was 0.261365 seconds.\n",
            "You can set `force_row_wise=true` to remove the overhead.\n",
            "And if memory is not enough, you can set `force_col_wise=true`.\n",
            "[LightGBM] [Info] Total Bins 11925\n",
            "[LightGBM] [Info] Number of data points in the train set: 238343, number of used features: 211\n",
            "[LightGBM] [Info] [binary:BoostFromScore]: pavg=0.500002 -> initscore=0.000008\n",
            "[LightGBM] [Info] Start training from score 0.000008\n",
            "[LightGBM] [Info] Number of positive: 119171, number of negative: 119172\n",
            "[LightGBM] [Info] Auto-choosing row-wise multi-threading, the overhead of testing was 0.361658 seconds.\n",
            "You can set `force_row_wise=true` to remove the overhead.\n",
            "And if memory is not enough, you can set `force_col_wise=true`.\n",
            "[LightGBM] [Info] Total Bins 11922\n",
            "[LightGBM] [Info] Number of data points in the train set: 238343, number of used features: 211\n",
            "[LightGBM] [Info] [binary:BoostFromScore]: pavg=0.499998 -> initscore=-0.000008\n",
            "[LightGBM] [Info] Start training from score -0.000008\n",
            "[LightGBM] [Info] Number of positive: 119171, number of negative: 119171\n",
            "[LightGBM] [Info] Auto-choosing row-wise multi-threading, the overhead of testing was 0.260674 seconds.\n",
            "You can set `force_row_wise=true` to remove the overhead.\n",
            "And if memory is not enough, you can set `force_col_wise=true`.\n",
            "[LightGBM] [Info] Total Bins 11919\n",
            "[LightGBM] [Info] Number of data points in the train set: 238342, number of used features: 211\n",
            "[LightGBM] [Info] [binary:BoostFromScore]: pavg=0.500000 -> initscore=0.000000\n",
            "[LightGBM] [Info] Number of positive: 119172, number of negative: 119171\n",
            "[LightGBM] [Info] Auto-choosing row-wise multi-threading, the overhead of testing was 0.400011 seconds.\n",
            "You can set `force_row_wise=true` to remove the overhead.\n",
            "And if memory is not enough, you can set `force_col_wise=true`.\n",
            "[LightGBM] [Info] Total Bins 11925\n",
            "[LightGBM] [Info] Number of data points in the train set: 238343, number of used features: 211\n",
            "[LightGBM] [Info] [binary:BoostFromScore]: pavg=0.500002 -> initscore=0.000008\n",
            "[LightGBM] [Info] Start training from score 0.000008\n",
            "[LightGBM] [Info] Number of positive: 119171, number of negative: 119172\n",
            "[LightGBM] [Info] Auto-choosing row-wise multi-threading, the overhead of testing was 0.273929 seconds.\n",
            "You can set `force_row_wise=true` to remove the overhead.\n",
            "And if memory is not enough, you can set `force_col_wise=true`.\n",
            "[LightGBM] [Info] Total Bins 11922\n",
            "[LightGBM] [Info] Number of data points in the train set: 238343, number of used features: 211\n",
            "[LightGBM] [Info] [binary:BoostFromScore]: pavg=0.499998 -> initscore=-0.000008\n",
            "[LightGBM] [Info] Start training from score -0.000008\n",
            "[LightGBM] [Info] Number of positive: 119171, number of negative: 119171\n",
            "[LightGBM] [Info] Auto-choosing row-wise multi-threading, the overhead of testing was 0.361636 seconds.\n",
            "You can set `force_row_wise=true` to remove the overhead.\n",
            "And if memory is not enough, you can set `force_col_wise=true`.\n",
            "[LightGBM] [Info] Total Bins 11919\n",
            "[LightGBM] [Info] Number of data points in the train set: 238342, number of used features: 211\n",
            "[LightGBM] [Info] [binary:BoostFromScore]: pavg=0.500000 -> initscore=0.000000\n",
            "[LightGBM] [Info] Number of positive: 119172, number of negative: 119171\n",
            "[LightGBM] [Info] Auto-choosing row-wise multi-threading, the overhead of testing was 0.261779 seconds.\n",
            "You can set `force_row_wise=true` to remove the overhead.\n",
            "And if memory is not enough, you can set `force_col_wise=true`.\n",
            "[LightGBM] [Info] Total Bins 11925\n",
            "[LightGBM] [Info] Number of data points in the train set: 238343, number of used features: 211\n",
            "[LightGBM] [Info] [binary:BoostFromScore]: pavg=0.500002 -> initscore=0.000008\n",
            "[LightGBM] [Info] Start training from score 0.000008\n",
            "[LightGBM] [Info] Number of positive: 119171, number of negative: 119172\n",
            "[LightGBM] [Info] Auto-choosing row-wise multi-threading, the overhead of testing was 0.270475 seconds.\n",
            "You can set `force_row_wise=true` to remove the overhead.\n",
            "And if memory is not enough, you can set `force_col_wise=true`.\n",
            "[LightGBM] [Info] Total Bins 11922\n",
            "[LightGBM] [Info] Number of data points in the train set: 238343, number of used features: 211\n",
            "[LightGBM] [Info] [binary:BoostFromScore]: pavg=0.499998 -> initscore=-0.000008\n",
            "[LightGBM] [Info] Start training from score -0.000008\n",
            "[LightGBM] [Info] Number of positive: 119171, number of negative: 119171\n",
            "[LightGBM] [Info] Auto-choosing row-wise multi-threading, the overhead of testing was 0.258303 seconds.\n",
            "You can set `force_row_wise=true` to remove the overhead.\n",
            "And if memory is not enough, you can set `force_col_wise=true`.\n",
            "[LightGBM] [Info] Total Bins 11919\n",
            "[LightGBM] [Info] Number of data points in the train set: 238342, number of used features: 211\n",
            "[LightGBM] [Info] [binary:BoostFromScore]: pavg=0.500000 -> initscore=0.000000\n",
            "[LightGBM] [Info] Number of positive: 119172, number of negative: 119171\n",
            "[LightGBM] [Info] Auto-choosing row-wise multi-threading, the overhead of testing was 0.291756 seconds.\n",
            "You can set `force_row_wise=true` to remove the overhead.\n",
            "And if memory is not enough, you can set `force_col_wise=true`.\n",
            "[LightGBM] [Info] Total Bins 11925\n",
            "[LightGBM] [Info] Number of data points in the train set: 238343, number of used features: 211\n",
            "[LightGBM] [Info] [binary:BoostFromScore]: pavg=0.500002 -> initscore=0.000008\n",
            "[LightGBM] [Info] Start training from score 0.000008\n",
            "[LightGBM] [Info] Number of positive: 119171, number of negative: 119172\n",
            "[LightGBM] [Info] Auto-choosing row-wise multi-threading, the overhead of testing was 0.261424 seconds.\n",
            "You can set `force_row_wise=true` to remove the overhead.\n",
            "And if memory is not enough, you can set `force_col_wise=true`.\n",
            "[LightGBM] [Info] Total Bins 11922\n",
            "[LightGBM] [Info] Number of data points in the train set: 238343, number of used features: 211\n",
            "[LightGBM] [Info] [binary:BoostFromScore]: pavg=0.499998 -> initscore=-0.000008\n",
            "[LightGBM] [Info] Start training from score -0.000008\n",
            "[LightGBM] [Info] Number of positive: 178757, number of negative: 178757\n",
            "[LightGBM] [Info] Auto-choosing row-wise multi-threading, the overhead of testing was 0.530974 seconds.\n",
            "You can set `force_row_wise=true` to remove the overhead.\n",
            "And if memory is not enough, you can set `force_col_wise=true`.\n",
            "[LightGBM] [Info] Total Bins 11929\n",
            "[LightGBM] [Info] Number of data points in the train set: 357514, number of used features: 213\n",
            "[LightGBM] [Info] [binary:BoostFromScore]: pavg=0.500000 -> initscore=0.000000\n",
            "[LightGBM] [Info] Number of positive: 119171, number of negative: 119171\n",
            "[LightGBM] [Info] Auto-choosing row-wise multi-threading, the overhead of testing was 0.348765 seconds.\n",
            "You can set `force_row_wise=true` to remove the overhead.\n",
            "And if memory is not enough, you can set `force_col_wise=true`.\n",
            "[LightGBM] [Info] Total Bins 11919\n",
            "[LightGBM] [Info] Number of data points in the train set: 238342, number of used features: 211\n",
            "[LightGBM] [Info] [binary:BoostFromScore]: pavg=0.500000 -> initscore=0.000000\n",
            "[LightGBM] [Info] Number of positive: 119172, number of negative: 119171\n",
            "[LightGBM] [Info] Auto-choosing row-wise multi-threading, the overhead of testing was 0.390370 seconds.\n",
            "You can set `force_row_wise=true` to remove the overhead.\n",
            "And if memory is not enough, you can set `force_col_wise=true`.\n",
            "[LightGBM] [Info] Total Bins 11925\n",
            "[LightGBM] [Info] Number of data points in the train set: 238343, number of used features: 211\n",
            "[LightGBM] [Info] [binary:BoostFromScore]: pavg=0.500002 -> initscore=0.000008\n",
            "[LightGBM] [Info] Start training from score 0.000008\n",
            "[LightGBM] [Info] Number of positive: 119171, number of negative: 119172\n",
            "[LightGBM] [Info] Auto-choosing row-wise multi-threading, the overhead of testing was 0.263361 seconds.\n",
            "You can set `force_row_wise=true` to remove the overhead.\n",
            "And if memory is not enough, you can set `force_col_wise=true`.\n",
            "[LightGBM] [Info] Total Bins 11922\n",
            "[LightGBM] [Info] Number of data points in the train set: 238343, number of used features: 211\n",
            "[LightGBM] [Info] [binary:BoostFromScore]: pavg=0.499998 -> initscore=-0.000008\n",
            "[LightGBM] [Info] Start training from score -0.000008\n",
            "[LightGBM] [Info] Number of positive: 119171, number of negative: 119171\n",
            "[LightGBM] [Info] Auto-choosing row-wise multi-threading, the overhead of testing was 0.263221 seconds.\n",
            "You can set `force_row_wise=true` to remove the overhead.\n",
            "And if memory is not enough, you can set `force_col_wise=true`.\n",
            "[LightGBM] [Info] Total Bins 11919\n",
            "[LightGBM] [Info] Number of data points in the train set: 238342, number of used features: 211\n",
            "[LightGBM] [Info] [binary:BoostFromScore]: pavg=0.500000 -> initscore=0.000000\n",
            "[LightGBM] [Info] Number of positive: 119172, number of negative: 119171\n",
            "[LightGBM] [Info] Auto-choosing row-wise multi-threading, the overhead of testing was 0.264151 seconds.\n",
            "You can set `force_row_wise=true` to remove the overhead.\n",
            "And if memory is not enough, you can set `force_col_wise=true`.\n",
            "[LightGBM] [Info] Total Bins 11925\n",
            "[LightGBM] [Info] Number of data points in the train set: 238343, number of used features: 211\n",
            "[LightGBM] [Info] [binary:BoostFromScore]: pavg=0.500002 -> initscore=0.000008\n",
            "[LightGBM] [Info] Start training from score 0.000008\n",
            "[LightGBM] [Info] Number of positive: 119171, number of negative: 119172\n",
            "[LightGBM] [Info] Auto-choosing row-wise multi-threading, the overhead of testing was 0.275533 seconds.\n",
            "You can set `force_row_wise=true` to remove the overhead.\n",
            "And if memory is not enough, you can set `force_col_wise=true`.\n",
            "[LightGBM] [Info] Total Bins 11922\n",
            "[LightGBM] [Info] Number of data points in the train set: 238343, number of used features: 211\n",
            "[LightGBM] [Info] [binary:BoostFromScore]: pavg=0.499998 -> initscore=-0.000008\n",
            "[LightGBM] [Info] Start training from score -0.000008\n",
            "[LightGBM] [Info] Number of positive: 119171, number of negative: 119171\n",
            "[LightGBM] [Info] Auto-choosing row-wise multi-threading, the overhead of testing was 0.401073 seconds.\n",
            "You can set `force_row_wise=true` to remove the overhead.\n",
            "And if memory is not enough, you can set `force_col_wise=true`.\n",
            "[LightGBM] [Info] Total Bins 11919\n",
            "[LightGBM] [Info] Number of data points in the train set: 238342, number of used features: 211\n",
            "[LightGBM] [Info] [binary:BoostFromScore]: pavg=0.500000 -> initscore=0.000000\n",
            "[LightGBM] [Info] Number of positive: 119172, number of negative: 119171\n",
            "[LightGBM] [Info] Auto-choosing row-wise multi-threading, the overhead of testing was 0.261586 seconds.\n",
            "You can set `force_row_wise=true` to remove the overhead.\n",
            "And if memory is not enough, you can set `force_col_wise=true`.\n",
            "[LightGBM] [Info] Total Bins 11925\n",
            "[LightGBM] [Info] Number of data points in the train set: 238343, number of used features: 211\n",
            "[LightGBM] [Info] [binary:BoostFromScore]: pavg=0.500002 -> initscore=0.000008\n",
            "[LightGBM] [Info] Start training from score 0.000008\n",
            "[LightGBM] [Info] Number of positive: 119171, number of negative: 119172\n",
            "[LightGBM] [Info] Auto-choosing row-wise multi-threading, the overhead of testing was 0.265033 seconds.\n",
            "You can set `force_row_wise=true` to remove the overhead.\n",
            "And if memory is not enough, you can set `force_col_wise=true`.\n",
            "[LightGBM] [Info] Total Bins 11922\n",
            "[LightGBM] [Info] Number of data points in the train set: 238343, number of used features: 211\n",
            "[LightGBM] [Info] [binary:BoostFromScore]: pavg=0.499998 -> initscore=-0.000008\n",
            "[LightGBM] [Info] Start training from score -0.000008\n",
            "Best LGBM Params: {'learning_rate': 0.1, 'n_estimators': 200, 'num_leaves': 50}\n",
            "Best Weighted F1 Score (CV mean): 0.7944022384627983\n",
            "Weighted Precision (CV mean): 0.7958575189741524\n",
            "Weighted Recall (CV mean): 0.7946178352648042\n",
            "Weighted F1-score (CV mean): 0.7944022384627983\n"
          ]
        }
      ]
    },
    {
      "cell_type": "markdown",
      "source": [
        "# CatBoost"
      ],
      "metadata": {
        "id": "ta01mZRBYXTH"
      }
    },
    {
      "cell_type": "code",
      "source": [
        "\n",
        "# 2. Define the CatBoost model\n",
        "cat_model = CatBoostClassifier(random_state=42, verbose=0)\n",
        "\n",
        "# 3. Hyperparameter grid\n",
        "cat_param_grid = {\n",
        "    'depth': [4, 6],\n",
        "    'learning_rate': [0.1, 0.01],\n",
        "    'iterations': [100, 200]\n",
        "}\n",
        "\n",
        "# 4. GridSearchCV on resampled data\n",
        "cat_grid = GridSearchCV(cat_model, cat_param_grid, cv=3, scoring='f1_weighted')\n",
        "cat_grid.fit(X_train_resampled, y_train_resampled)\n",
        "\n",
        "# 5. Get best estimator\n",
        "best_cat_model = cat_grid.best_estimator_\n",
        "\n",
        "# 6. Cross-validated metrics on resampled training set\n",
        "cat_precision = cross_val_score(best_cat_model, X_train_resampled, y_train_resampled, cv=3,\n",
        "                                scoring=make_scorer(precision_score, average='weighted')).mean()\n",
        "cat_recall = cross_val_score(best_cat_model, X_train_resampled, y_train_resampled, cv=3,\n",
        "                             scoring=make_scorer(recall_score, average='weighted')).mean()\n",
        "cat_f1 = cross_val_score(best_cat_model, X_train_resampled, y_train_resampled, cv=3,\n",
        "                         scoring=make_scorer(f1_score, average='weighted')).mean()\n",
        "\n",
        "# 7. Print results\n",
        "print(\"Best CatBoost Params:\", cat_grid.best_params_)\n",
        "print(\"Best Weighted F1 Score (CV mean):\", cat_grid.best_score_)\n",
        "print(\"Weighted Precision (CV mean):\", cat_precision)\n",
        "print(\"Weighted Recall (CV mean):\", cat_recall)\n",
        "print(\"Weighted F1-score (CV mean):\", cat_f1)\n"
      ],
      "metadata": {
        "colab": {
          "base_uri": "https://localhost:8080/"
        },
        "id": "P5LRqr_lYWnd",
        "outputId": "1f1eeb60-fc1a-479c-d2c4-faa0ba5c3a30"
      },
      "execution_count": 101,
      "outputs": [
        {
          "output_type": "stream",
          "name": "stdout",
          "text": [
            "Best CatBoost Params: {'depth': 6, 'iterations': 200, 'learning_rate': 0.1}\n",
            "Best Weighted F1 Score (CV mean): 0.7220533485037143\n",
            "Weighted Precision (CV mean): 0.722074698990883\n",
            "Weighted Recall (CV mean): 0.7220584437059747\n",
            "Weighted F1-score (CV mean): 0.7220533485037143\n"
          ]
        }
      ]
    },
    {
      "cell_type": "markdown",
      "source": [
        "# Evaluation"
      ],
      "metadata": {
        "id": "ToLnWKrEYl9w"
      }
    },
    {
      "cell_type": "code",
      "source": [
        "\n",
        "# 1. Predict probabilities for the positive class (class 1)\n",
        "y_valid_proba = best_model.predict_proba(X_valid)[:, 1]\n",
        "\n",
        "# 2. Define thresholds to try\n",
        "thresholds = np.arange(0.1, 0.91, 0.05)\n",
        "\n",
        "# 3. Loop through thresholds and print metrics\n",
        "print(f\"{'Threshold':<10} | {'Recall_0':<9} | {'Recall_1':<9} | {'Macro_F1':<9}\")\n",
        "print(\"-\" * 45)\n",
        "\n",
        "for t in thresholds:\n",
        "    y_pred_thresh = (y_valid_proba >= t).astype(int)\n",
        "    recall_0 = recall_score(y_valid, y_pred_thresh, pos_label=0)\n",
        "    recall_1 = recall_score(y_valid, y_pred_thresh, pos_label=1)\n",
        "    macro_f1 = f1_score(y_valid, y_pred_thresh, average='macro')\n",
        "    print(f\"{t:<10.2f} | {recall_0:<9.3f} | {recall_1:<9.3f} | {macro_f1:<9.3f}\")\n"
      ],
      "metadata": {
        "colab": {
          "base_uri": "https://localhost:8080/"
        },
        "id": "DUCgm8BdYdso",
        "outputId": "026eaa2d-0941-410e-b183-3f248cb272b9"
      },
      "execution_count": 102,
      "outputs": [
        {
          "output_type": "stream",
          "name": "stdout",
          "text": [
            "Threshold  | Recall_0  | Recall_1  | Macro_F1 \n",
            "---------------------------------------------\n",
            "0.10       | 0.121     | 0.978     | 0.190    \n",
            "0.15       | 0.226     | 0.954     | 0.272    \n",
            "0.20       | 0.329     | 0.919     | 0.342    \n",
            "0.25       | 0.423     | 0.879     | 0.399    \n",
            "0.30       | 0.507     | 0.829     | 0.445    \n",
            "0.35       | 0.584     | 0.786     | 0.485    \n",
            "0.40       | 0.650     | 0.737     | 0.518    \n",
            "0.45       | 0.710     | 0.684     | 0.546    \n",
            "0.50       | 0.764     | 0.612     | 0.568    \n",
            "0.55       | 0.814     | 0.548     | 0.589    \n",
            "0.60       | 0.857     | 0.477     | 0.604    \n",
            "0.65       | 0.895     | 0.400     | 0.614    \n",
            "0.70       | 0.930     | 0.324     | 0.620    \n",
            "0.75       | 0.958     | 0.237     | 0.611    \n",
            "0.80       | 0.979     | 0.147     | 0.583    \n",
            "0.85       | 0.994     | 0.064     | 0.535    \n",
            "0.90       | 0.999     | 0.011     | 0.490    \n"
          ]
        }
      ]
    },
    {
      "cell_type": "code",
      "source": [
        "y_holdout_proba = best_model.predict_proba(X_holdout)[:, 1]\n",
        "y_holdout_pred = (y_holdout_proba >= 0.4).astype(int)\n",
        "\n",
        "print(classification_report(y_holdout, y_holdout_pred))\n",
        "print(confusion_matrix(y_holdout, y_holdout_pred))\n"
      ],
      "metadata": {
        "colab": {
          "base_uri": "https://localhost:8080/"
        },
        "id": "VcEHeS2uYeXU",
        "outputId": "b3a80c50-2b66-40ea-802e-63d58710047f"
      },
      "execution_count": 103,
      "outputs": [
        {
          "output_type": "stream",
          "name": "stdout",
          "text": [
            "              precision    recall  f1-score   support\n",
            "\n",
            "           0       0.96      0.65      0.78     55862\n",
            "           1       0.15      0.72      0.25      4918\n",
            "\n",
            "    accuracy                           0.66     60780\n",
            "   macro avg       0.56      0.68      0.51     60780\n",
            "weighted avg       0.90      0.66      0.73     60780\n",
            "\n",
            "[[36326 19536]\n",
            " [ 1382  3536]]\n"
          ]
        }
      ]
    },
    {
      "cell_type": "code",
      "source": [
        "auc = roc_auc_score(y_holdout, y_holdout_proba)\n",
        "print(\"ROC AUC on Holdout Set:\", round(auc, 4))"
      ],
      "metadata": {
        "colab": {
          "base_uri": "https://localhost:8080/"
        },
        "id": "TZY2CKtgYiaB",
        "outputId": "2feaa5ec-f9b6-4320-f339-253fe0a72220"
      },
      "execution_count": 104,
      "outputs": [
        {
          "output_type": "stream",
          "name": "stdout",
          "text": [
            "ROC AUC on Holdout Set: 0.7512\n"
          ]
        }
      ]
    },
    {
      "cell_type": "markdown",
      "source": [
        "Good sign that our new fetaures did some differnce , however there is still big room of improvement by adding ALL the other csv file and we can reach auc of 0.8+"
      ],
      "metadata": {
        "id": "oyvBUEeiq-Oa"
      }
    },
    {
      "cell_type": "code",
      "source": [
        "\n",
        "lgb.plot_importance(best_model, max_num_features=20, importance_type='gain', figsize=(10,6))\n",
        "plt.title(\"Top 20 Feature Importances\")\n",
        "plt.tight_layout()\n",
        "plt.show()\n"
      ],
      "metadata": {
        "colab": {
          "base_uri": "https://localhost:8080/",
          "height": 607
        },
        "id": "Aanl5gJRYk3d",
        "outputId": "cc71fb36-2d51-4a05-8847-28f98a05b079"
      },
      "execution_count": 105,
      "outputs": [
        {
          "output_type": "display_data",
          "data": {
            "text/plain": [
              "<Figure size 1000x600 with 1 Axes>"
            ],
            "image/png": "[encoded data removed]"
          },
          "metadata": {}
        }
      ]
    }
  ],
  "metadata": {
    "accelerator": "GPU",
    "colab": {
      "gpuType": "T4",
      "provenance": [],
      "authorship_tag": "ABX9TyMffNFBq0UDxqzFF65YvCON",
      "include_colab_link": true
    },
    "kernelspec": {
      "display_name": "Python 3",
      "name": "python3"
    },
    "language_info": {
      "name": "python"
    }
  },
  "nbformat": 4,
  "nbformat_minor": 0
}